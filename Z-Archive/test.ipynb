{
 "cells": [
  {
   "cell_type": "markdown",
   "metadata": {
    "id": "ocW7_dE9WQ2M"
   },
   "source": [
    "# this is a  test code, mostly useless\n"
   ]
  },
  {
   "cell_type": "code",
   "execution_count": null,
   "metadata": {
    "colab": {
     "base_uri": "https://localhost:8080/"
    },
    "executionInfo": {
     "elapsed": 12,
     "status": "ok",
     "timestamp": 1740022026541,
     "user": {
      "displayName": "dinesh kumar",
      "userId": "06351982520738498057"
     },
     "user_tz": 360
    },
    "id": "mVLdKod7WGYt",
    "outputId": "6589447b-c001-4e4d-b694-e274bfc42171"
   },
   "outputs": [
    {
     "name": "stdout",
     "output_type": "stream",
     "text": [
      "price 1 900\n",
      "price 2 890\n"
     ]
    }
   ],
   "source": [
    "# two number varibales\n",
    "price = 900\n",
    "price2 = 890\n",
    "\n",
    "print ('price 1', price)\n",
    "print ('price 2', price2)\n"
   ]
  },
  {
   "cell_type": "code",
   "execution_count": null,
   "metadata": {
    "id": "-MAsy0qTW4Gi",
    "outputId": "0696a99e-be42-4833-a4cd-aa7976d2e4f1"
   },
   "outputs": [
    {
     "name": "stdout",
     "output_type": "stream",
     "text": [
      "brand 1 Apple price 1 900\n",
      "brand 2 Samsung price 2 890\n"
     ]
    }
   ],
   "source": [
    "#example string\n",
    "\n",
    "brand = 'Apple'\n",
    "brand2 = 'Samsung'\n",
    "\n",
    "print ('brand 1', brand, 'price 1', price)\n",
    "print ('brand 2', brand2, 'price 2', price2)\n"
   ]
  },
  {
   "cell_type": "code",
   "execution_count": null,
   "metadata": {
    "id": "OziGKlUVkKNg",
    "outputId": "df6adcd2-84f7-40d5-b63b-c8d421ad3dd8"
   },
   "outputs": [
    {
     "name": "stdout",
     "output_type": "stream",
     "text": [
      "brand 1 Apple price  900 ram  8\n",
      "brand 2 Samsung price  890 ram  4\n"
     ]
    }
   ],
   "source": [
    "ram = 8\n",
    "ram2 = 4\n",
    "\n",
    "print ('brand 1', brand, 'price ', price, 'ram ', ram)\n",
    "print ('brand 2', brand2, 'price ', price2, 'ram ', ram2)"
   ]
  },
  {
   "cell_type": "code",
   "execution_count": 7,
   "metadata": {
    "colab": {
     "base_uri": "https://localhost:8080/",
     "height": 210
    },
    "executionInfo": {
     "elapsed": 120,
     "status": "error",
     "timestamp": 1740024890429,
     "user": {
      "displayName": "dinesh kumar",
      "userId": "06351982520738498057"
     },
     "user_tz": 360
    },
    "id": "X22YrNg7kKNg",
    "outputId": "737dc636-43ba-46e3-8cab-7103dbc49054"
   },
   "outputs": [
    {
     "ename": "NameError",
     "evalue": "name 'price' is not defined",
     "output_type": "error",
     "traceback": [
      "\u001b[0;31m---------------------------------------------------------------------------\u001b[0m",
      "\u001b[0;31mNameError\u001b[0m                                 Traceback (most recent call last)",
      "\u001b[0;32m<ipython-input-7-f2e58de4adb8>\u001b[0m in \u001b[0;36m<cell line: 0>\u001b[0;34m()\u001b[0m\n\u001b[1;32m      3\u001b[0m \u001b[0mis_samsung\u001b[0m \u001b[0;34m=\u001b[0m \u001b[0;32mFalse\u001b[0m\u001b[0;34m\u001b[0m\u001b[0;34m\u001b[0m\u001b[0m\n\u001b[1;32m      4\u001b[0m \u001b[0;34m\u001b[0m\u001b[0m\n\u001b[0;32m----> 5\u001b[0;31m \u001b[0mprint\u001b[0m\u001b[0;34m(\u001b[0m\u001b[0;34m'brand cost is'\u001b[0m\u001b[0;34m,\u001b[0m \u001b[0;34m(\u001b[0m\u001b[0;34m(\u001b[0m\u001b[0;34m(\u001b[0m\u001b[0mprice\u001b[0m \u001b[0;34m*\u001b[0m \u001b[0;36m1.52325\u001b[0m\u001b[0;34m)\u001b[0m\u001b[0;34m-\u001b[0m\u001b[0;36m100\u001b[0m\u001b[0;34m)\u001b[0m\u001b[0;34m/\u001b[0m\u001b[0;36m3\u001b[0m\u001b[0;34m)\u001b[0m\u001b[0;34m)\u001b[0m\u001b[0;34m\u001b[0m\u001b[0;34m\u001b[0m\u001b[0m\n\u001b[0m\u001b[1;32m      6\u001b[0m \u001b[0mdiscount\u001b[0m \u001b[0;34m=\u001b[0m \u001b[0mprice\u001b[0m \u001b[0;34m*\u001b[0m \u001b[0;36m0.01\u001b[0m\u001b[0;34m\u001b[0m\u001b[0;34m\u001b[0m\u001b[0m\n\u001b[1;32m      7\u001b[0m \u001b[0mprint\u001b[0m\u001b[0;34m(\u001b[0m\u001b[0;34m'discount'\u001b[0m\u001b[0;34m,\u001b[0m \u001b[0mdiscount\u001b[0m\u001b[0;34m)\u001b[0m\u001b[0;34m\u001b[0m\u001b[0;34m\u001b[0m\u001b[0m\n",
      "\u001b[0;31mNameError\u001b[0m: name 'price' is not defined"
     ]
    }
   ],
   "source": [
    "#exmample for boolean\n",
    "is_apple = True\n",
    "is_samsung = False\n",
    "\n",
    "print('brand cost is', (((price * 1.52325)-100)/3))\n",
    "discount = price * 0.01\n",
    "print('discount', discount)\n",
    "print (type(discount))\n",
    "discount1 = (((price * 1.52325)-100)/3)\n",
    "print('discount1', discount1)\n",
    "print(type(discount1))\n",
    "myint = int('test')\n",
    "print(type(myint))\n",
    "print(myint)"
   ]
  },
  {
   "cell_type": "markdown",
   "metadata": {
    "id": "-w6ou3pTkKNg"
   },
   "source": [
    "# Data structures\n"
   ]
  },
  {
   "cell_type": "code",
   "execution_count": null,
   "metadata": {},
   "outputs": [
    {
     "name": "stdout",
     "output_type": "stream",
     "text": [
      "['Apple', 'Samsung', 'Huawei', 'Xiaomi']\n",
      "<class 'list'>\n",
      "<class 'str'>\n",
      "brand list  4\n",
      "min price  700\n",
      "max price  900\n",
      "price list added a  new  price  [900, 890, 800, 700, 1000]\n",
      "price list removed a price  [900, 890, 700, 1000]\n",
      "price list inserted a price  [900, 890, 1200, 700, 1000]\n",
      "price list removed a price  [900, 890, 700, 1000]\n",
      "price list sorted  [700, 890, 900, 1000]\n",
      "price list reversed  [1000, 900, 890, 700]\n",
      "2\n",
      "2\n",
      "count []\n",
      "tuple (10, 20, 30, 40, 50)\n",
      "type <class 'tuple'>\n",
      "tuple 10\n",
      "tuple 20\n",
      "tuple (30, 40)\n"
     ]
    }
   ],
   "source": [
    "brand_list = ['Apple', 'Samsung', 'Huawei', 'Xiaomi']\n",
    "print(brand_list)\n",
    "print (type(brand_list))\n",
    "print (type(brand_list[0])) \n",
    "\n",
    "price_list = [900, 890, 800, 700]\n",
    "ram_list = [8, 4, 6, 8]\n",
    "storage_list = [256, 128, 256, 128]\n",
    "\n",
    "len(brand_list)\n",
    "print('brand list ', len(brand_list))\n",
    "min(price_list)\n",
    "print('min price ', min(price_list))\n",
    "max(price_list)\n",
    "print('max price ', max(price_list))         \n",
    "\n",
    "price_list.append(1000)\n",
    "print('price list added a  new  price ', price_list)\n",
    "price_list.pop(-3)\n",
    "print('price list removed a price ', price_list)\n",
    "price_list.insert(2, 1200) \n",
    "print('price list inserted a price ', price_list)\n",
    "price_list.remove(1200)\n",
    "print('price list removed a price ', price_list)\n",
    "price_list.sort()\n",
    "print('price list sorted ', price_list)\n",
    "price_list.reverse()\n",
    "print('price list reversed ', price_list)\n",
    "print(len(price_list[2:4]))\n",
    "\n",
    "X= [10,\"Range\", \"Great\", -54, 11, 12]\n",
    "print(len(X[2:4]))\n",
    "\n",
    "print ('count',X[-1:-2])\n",
    "\n",
    "#print(X[-2:-1])\n",
    "tupe_1 = (10, 20, 30, 40, 50)\n",
    "print('tuple', tupe_1)\n",
    "print('type', type(tupe_1)) \n",
    "print('tuple', tupe_1[0])\n",
    "print('tuple', tupe_1[1])\n",
    "print('tuple', tupe_1[2:-1])\n",
    "\n"
   ]
  },
  {
   "cell_type": "code",
   "execution_count": 8,
   "metadata": {},
   "outputs": [
    {
     "name": "stdout",
     "output_type": "stream",
     "text": [
      "nested list tesla apple False\n"
     ]
    }
   ],
   "source": [
    "ns_list = [10, 20, 30, 40, 50,['tesla', 'apple', 'samsung'],['orange', 'banana', 'apple']]\n",
    "\n",
    "print('nested list', ns_list[-2][0], ns_list[-1][-1], ns_list[1]== 10)"
   ]
  },
  {
   "cell_type": "code",
   "execution_count": 20,
   "metadata": {},
   "outputs": [
    {
     "name": "stdout",
     "output_type": "stream",
     "text": [
      "tesla car rating  5 is greater than average rating 3\n",
      "bmw car rating  4 is greater than average rating 3\n",
      "audi car rating  3 is greater than average rating less than 3\n",
      "toyota car rating  3 is greater than average rating less than 3\n",
      "honda car rating  2 is greater than average rating less than 3\n",
      "ford car rating  2 is greater than average rating less than 3\n",
      "chevy car rating  1 is greater than average rating less than 3\n",
      "nissan car rating  1 is greater than average rating less than 3\n",
      "subaru car rating  1 is greater than average rating less than 3\n",
      "kia car rating  1 is greater than average rating less than 3\n"
     ]
    }
   ],
   "source": [
    "car_names_lst = ['tesla', 'bmw', 'audi', 'toyota', 'honda', 'ford', 'chevy', 'nissan', 'subaru', 'kia']\n",
    "car_ratings_lst = [5, 4, 3, 3, 2, 2, 1, 1, 1, 1]\n",
    "\n",
    "\n",
    "for i in car_names_lst:\n",
    "    # print ('car index', i)\n",
    "    # print ('car index', car_names_lst.index(i))\n",
    "    # print ('car rating', car_ratings_lst[car_names_lst.index(i)])\n",
    "    if car_ratings_lst[car_names_lst.index(i)] > 3:\n",
    "        print(i, 'car rating ',car_ratings_lst[car_names_lst.index(i)], 'is greater than average rating', 3 )\n",
    "    if car_ratings_lst[car_names_lst.index(i)] <= 3:\n",
    "        print(i, 'car rating ',car_ratings_lst[car_names_lst.index(i)], 'is greater than average rating less than', 3 )\n",
    "\n"
   ]
  },
  {
   "cell_type": "code",
   "execution_count": 26,
   "metadata": {},
   "outputs": [
    {
     "name": "stdout",
     "output_type": "stream",
     "text": [
      "dict_keys(['brand', 'model', 'year', 'price', 'rating'])\n",
      "dict_items([('brand', ['tesla', 'bmw', 'audi', 'toyota', 'honda', 'ford', 'chevy', 'nissan', 'subaru', 'kia']), ('model', ['model s', 'model 3', 'model x', 'model y', 'roadster', 'cybertruck', 'semi', 'atv']), ('year', [2021, 2021, 2021, 2021, 2021, 2021, 2021, 2021]), ('price', [100000, 50000, 80000, 60000, 200000, 40000, 200000, 40000]), ('rating', [5, 4, 3, 3, 2, 2, 1, 1])])\n",
      "toyota\n",
      "model y\n",
      "2021\n",
      "tesla1\n",
      "bmw1\n",
      "a is less than 5\n"
     ]
    }
   ],
   "source": [
    "car_names_lst = ['tesla', 'bmw', 'audi', 'toyota', 'honda', 'ford', 'chevy', 'nissan', 'subaru', 'kia']\n",
    "car_model_lst = ['model s', 'model 3', 'model x', 'model y', 'roadster', 'cybertruck', 'semi', 'atv']\n",
    "car_years_lst = [2021, 2021, 2021, 2021, 2021, 2021, 2021, 2021]    \n",
    "car_prices_lst = [100000, 50000, 80000, 60000, 200000, 40000, 200000, 40000]\n",
    "car_ratings_lst = [5, 4, 3, 3, 2, 2, 1, 1]\n",
    "car_data = {\n",
    "    'brand': car_names_lst,\n",
    "    'model': car_model_lst,\n",
    "    'year': car_years_lst,\n",
    "    'price': car_prices_lst,\n",
    "    'rating': car_ratings_lst\n",
    "}\n",
    "print (car_data.keys())      \n",
    "print(car_data.items())\n",
    "print(car_data['brand'][3])\n",
    "print(car_data['model'][3])\n",
    "print(car_data['year'][3])\n",
    "#car_data.pop('brand')\n",
    "car_data.keys()\n",
    "car_names_lst = ['tesla1', 'bmw1', 'audi1', 'toyota1']\n",
    "car_data.update({'brand': car_names_lst})\n",
    "print(car_data['brand'][0])\n",
    "print(car_data['brand'][1])\n",
    "# print(car_data['year'][3])\n",
    "\n",
    "a = 3\n",
    "if a > 5:\n",
    "    print('a is greater than 5')\n",
    "elif a == 5:\n",
    "    print('a is equal to 5')\n",
    "elif a < 5:\n",
    "    print('a is less than 5')\n",
    "\n"
   ]
  },
  {
   "cell_type": "code",
   "execution_count": null,
   "metadata": {},
   "outputs": [],
   "source": [
    "#print(list(range(-100,-70,5)))\n",
    "\n",
    "for i in range(1,5) :\n",
    "    print (i*2)"
   ]
  },
  {
   "cell_type": "code",
   "execution_count": 46,
   "metadata": {},
   "outputs": [
    {
     "name": "stdout",
     "output_type": "stream",
     "text": [
      "['a', 'd', 'v', 's', 1, 2, 3, 4]\n",
      "[3, 4]\n",
      "[-97, -96]\n"
     ]
    }
   ],
   "source": [
    "# a= 0 \n",
    "# b= 1 \n",
    "# while (a+b) < 100:\n",
    "#     print(a)\n",
    "#     print(\"this is b\", b)\n",
    "#     a += 1\n",
    "#     b = b*a*a\n",
    "\n",
    "a_lst = ['a','d','v','s']\n",
    "b_lst = [1,2,3,4]\n",
    "for i in b_lst:\n",
    "     a_lst.append(i)\n",
    "print(a_lst)    \n",
    "    \n",
    "c_lst = [x  for x in b_lst if x > 2]\n",
    "print(c_lst)\n",
    "\n",
    "d_lst = [x if x == 1 else x-100 for x in b_lst if x > 2]\n",
    "print(d_lst)\n",
    "\n"
   ]
  },
  {
   "cell_type": "code",
   "execution_count": 48,
   "metadata": {},
   "outputs": [
    {
     "name": "stdout",
     "output_type": "stream",
     "text": [
      "['Week0', 'Week1', 'Week2', 'Week3', 'Week4']\n"
     ]
    }
   ],
   "source": [
    "week_list = [ \"Week\" + str(i) for i in range(5)] \n",
    "print(week_list)"
   ]
  },
  {
   "cell_type": "code",
   "execution_count": null,
   "metadata": {},
   "outputs": [
    {
     "ename": "SyntaxError",
     "evalue": "invalid syntax (3345344535.py, line 9)",
     "output_type": "error",
     "traceback": [
      "\u001b[1;36m  Cell \u001b[1;32mIn[61], line 9\u001b[1;36m\u001b[0m\n\u001b[1;33m    c1 = lambda e,f : return e+f\u001b[0m\n\u001b[1;37m                      ^\u001b[0m\n\u001b[1;31mSyntaxError\u001b[0m\u001b[1;31m:\u001b[0m invalid syntax\n"
     ]
    }
   ],
   "source": [
    "def add_numbers(a,b):\n",
    "    return a+b\n",
    "\n",
    "print(add_numbers(3,400.0))\n",
    "\n",
    "c = add_numbers(3,400.3)\n",
    "print (c)   \n",
    "\n",
    "c1 = lambda e,f : e+f \n",
    "print (c1(3,4))\n",
    "\n",
    "# for i in range(1,10):\n",
    "#     for j in range(1,5):\n",
    "#         print(i,j, add_numbers(i,add_numbers(j,i)))\n",
    "    \n",
    "\n"
   ]
  },
  {
   "cell_type": "code",
   "execution_count": 69,
   "metadata": {},
   "outputs": [
    {
     "name": "stdout",
     "output_type": "stream",
     "text": [
      "3  is in the list\n"
     ]
    }
   ],
   "source": [
    "#5%2 > 1 or 8/2 !=2 \n",
    "\n",
    "l = [1,12,3,4,4,['The','list','of','lists'],[1,2,3,4,5,6,7,8,9,10],4]\n",
    "l1= l \n",
    "l.append(1010)\n",
    "l.insert(1, 12)\n",
    "l.remove(4)\n",
    "l\n",
    "\n",
    "n= 3\n",
    "if n in l  and n in l1:\n",
    "    print(n ,' is in the list')\n",
    "else:\n",
    "    print(n,' is not in the list')\n"
   ]
  },
  {
   "cell_type": "code",
   "execution_count": null,
   "metadata": {},
   "outputs": [],
   "source": [
    "a = 0\n",
    "b = 1\n",
    "print(a,b)\n",
    "nextfib = a + b\n",
    "print(nextfib)\n",
    "a = b \n",
    "b= nextfib \n",
    "nextfib = a + b\n",
    "print(nextfib)\n",
    "a = b \n",
    "b= nextfib \n",
    "nextfib = a + b\n",
    "print(nextfib)\n",
    "\n"
   ]
  },
  {
   "cell_type": "code",
   "execution_count": null,
   "metadata": {},
   "outputs": [],
   "source": [
    "a = float(input('Enter a number: '))\n",
    "b = float(input('Enter a number: '))\n",
    "\n",
    "c= (a *a ) + (b * b)\n",
    "print(c*c)\n",
    "\n",
    "#print(\"hypotenuse squared = \", c)\n",
    "\n",
    "d = \"50\"\n",
    "f = int(d)\n",
    "\n"
   ]
  }
 ],
 "metadata": {
  "colab": {
   "provenance": []
  },
  "kernelspec": {
   "display_name": "base",
   "language": "python",
   "name": "python3"
  },
  "language_info": {
   "codemirror_mode": {
    "name": "ipython",
    "version": 3
   },
   "file_extension": ".py",
   "mimetype": "text/x-python",
   "name": "python",
   "nbconvert_exporter": "python",
   "pygments_lexer": "ipython3",
   "version": "3.12.7"
  }
 },
 "nbformat": 4,
 "nbformat_minor": 0
}
