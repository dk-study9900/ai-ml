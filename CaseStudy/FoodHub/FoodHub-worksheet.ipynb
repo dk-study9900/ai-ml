{
 "cells": [
  {
   "cell_type": "markdown",
   "id": "17e260ee",
   "metadata": {},
   "source": [
    "### Context\n",
    "\n",
    "The number of restaurants in New York is increasing day by day. Lots of students and busy professionals rely on those restaurants due to their hectic lifestyles. Online food delivery service is a great option for them. It provides them with good food from their favorite restaurants. A food aggregator company FoodHub offers access to multiple restaurants through a single smartphone app.\n",
    "\n",
    "The app allows the restaurants to receive a direct online order from a customer. The app assigns a delivery person from the company to pick up the order after it is confirmed by the restaurant. The delivery person then uses the map to reach the restaurant and waits for the food package. Once the food package is handed over to the delivery person, he/she confirms the pick-up in the app and travels to the customer's location to deliver the food. The delivery person confirms the drop-off in the app after delivering the food package to the customer. The customer can rate the order in the app. The food aggregator earns money by collecting a fixed margin of the delivery order from the restaurants.\n",
    "\n",
    "### Objective\n",
    "\n",
    "The food aggregator company has stored the data of the different orders made by the registered customers in their online portal. They want to analyze the data to get a fair idea about the demand of different restaurants which will help them in enhancing their customer experience. Suppose you are hired as a Data Scientist in this company and the Data Science team has shared some of the key questions that need to be answered. Perform the data analysis to find answers to these questions that will help the company to improve the business.\n",
    "\n",
    "### Data Description\n",
    "\n",
    "The data contains the different data related to a food order. The detailed data dictionary is given below.\n",
    "\n",
    "### Data Dictionary\n",
    "\n",
    "* order_id: Unique ID of the order\n",
    "* customer_id: ID of the customer who ordered the food\n",
    "* restaurant_name: Name of the restaurant\n",
    "* cuisine_type: Cuisine ordered by the customer\n",
    "* cost_of_the_order: Cost of the order\n",
    "* day_of_the_week: Indicates whether the order is placed on a weekday or weekend (The weekday is from Monday to Friday and the weekend is Saturday and Sunday)\n",
    "* rating: Rating given by the customer out of 5\n",
    "* food_preparation_time: Time (in minutes) taken by the restaurant to prepare the food. This is calculated by taking the difference between the timestamps of the restaurant's order confirmation and the delivery person's pick-up confirmation.\n",
    "* delivery_time: Time (in minutes) taken by the delivery person to deliver the food package. This is calculated by taking the difference between the timestamps of the delivery person's pick-up confirmation and drop-off information"
   ]
  },
  {
   "cell_type": "code",
   "execution_count": 49,
   "id": "0e41a198",
   "metadata": {},
   "outputs": [
    {
     "name": "stdout",
     "output_type": "stream",
     "text": [
      "<class 'pandas.core.frame.DataFrame'>\n",
      "RangeIndex: 1898 entries, 0 to 1897\n",
      "Data columns (total 9 columns):\n",
      " #   Column                 Non-Null Count  Dtype  \n",
      "---  ------                 --------------  -----  \n",
      " 0   order_id               1898 non-null   int64  \n",
      " 1   customer_id            1898 non-null   int64  \n",
      " 2   restaurant_name        1898 non-null   object \n",
      " 3   cuisine_type           1898 non-null   object \n",
      " 4   cost_of_the_order      1898 non-null   float64\n",
      " 5   day_of_the_week        1898 non-null   object \n",
      " 6   rating                 1898 non-null   object \n",
      " 7   food_preparation_time  1898 non-null   int64  \n",
      " 8   delivery_time          1898 non-null   int64  \n",
      "dtypes: float64(1), int64(4), object(4)\n",
      "memory usage: 133.6+ KB\n"
     ]
    }
   ],
   "source": [
    "import pandas as pd\n",
    "import numpy as np\n",
    "import seaborn as sns\n",
    "import matplotlib.pyplot as plt\n",
    "fh_original = pd.read_csv(\"foodhub_order.csv\")\n",
    "#print(f\"{fh_original.head(5)})\")\n",
    "fh_original.info()"
   ]
  },
  {
   "cell_type": "code",
   "execution_count": null,
   "id": "a2c8ab9c",
   "metadata": {},
   "outputs": [],
   "source": [
    "# Get the total number of rows in the dataframe\n",
    "\n",
    "# print(f\"Total rows in the dataframe: {fh_original.shape[0]}\")\n",
    "# print('-----------------------------------------------------------------------------')\n",
    "# print(f\"Total columns in the dataframe: {fh_original.shape[1]}\")\n",
    "# print('-----------------------------------------------------------------------------')\n",
    "# # Get the datatype of the 'order_id' column\n",
    "# print(f\"Datatype of 'order_id': {fh_original['order_id'].dtype}\")\n",
    "# print('-----------------------------------------------------------------------------')\n",
    "count_null = 0 \n",
    "count_na = 0\n",
    "column_null_value_dict = {}  # Initialize the dictionary to store missing values count\n",
    "column_na_value_dict = {}  # Initialize the dictionary to store missing values count\n",
    "\n",
    "# Loop through each column in the dataframe and check for null and NA values\n",
    "for column in fh_original.columns:\n",
    "    #print(f\"Column name: {column} and datatype:  {fh_original[column].dtype}\") \n",
    "    if fh_original[column].isnull().sum() == 0:\n",
    "        count_null += 1\n",
    "        missing_values_count = fh_original[column].isnull().sum()\n",
    "        column_null_value_dict[column] = int(missing_values_count)\n",
    "    missing_values_count = 0\n",
    "    if fh_original[column].isna().sum() == 0:\n",
    "        count_na += 1\n",
    "        missing_values_count = fh_original[column].isna().sum()\n",
    "        column_na_value_dict[column] = int(missing_values_count)\n",
    "\n",
    "\n",
    "#loop through the dictionary and print the values        \n",
    "print('----------NUll and NaN values are considered missing values ------------------')\n",
    "print('----------These are the NULL values in the data------------------------------')      \n",
    "if column_null_value_dict.items() == 0:\n",
    "    print('There are no null values in the data')\n",
    "else:\n",
    "    for column, missing_values_count in column_null_value_dict.items():\n",
    "        print(f\"{column} has these: {missing_values_count} null values\")\n",
    "print('----------These are the NaN values in the data------------------------------')      \n",
    "if column_na_value_dict.items() == 0:\n",
    "    print('There are no NaN values in the data')\n",
    "else:\n",
    "    for column, missing_values_count in column_na_value_dict.items():\n",
    "        print(f\"{column} has these: {missing_values_count} NaN values\")\n",
    "print('-----------------------------------------------------------------------------')  \n",
    "\n",
    "\n",
    "#fh_original['order_id'].isnull().sum() # no null values in order_id\n",
    "\n",
    "# # Display the first 5 rows of the dataframe\n",
    "# fh_original.head(5)\n",
    "\n",
    "# # Check for null values\n",
    "# fh_original.isnull().sum() # no null\n",
    "\n",
    "# # Check for NA values\n",
    "# fh_original.isna().sum() # no na\n"
   ]
  },
  {
   "cell_type": "markdown",
   "id": "01e5e2e4",
   "metadata": {},
   "source": [
    "Question 4\n",
    "### meet the requiremewnts\n",
    "stastictical time taken ( min ,max , average ) to prepare food\n",
    "\n",
    "### additonal learning\n",
    "# does cost of order have relation with food prep time?\n",
    "# which cusine takes fastest ? \n",
    "# which expensice cusine takes fastest ?\n",
    "#time taken ( min ,max , average ) to prepare food by cusine type\n",
    "#time taken ( min ,max , average ) to prepare food by restaurant\n",
    "#time taken ( min ,max , average ) to prepare food by weekday or weekend\n"
   ]
  },
  {
   "cell_type": "code",
   "execution_count": 56,
   "id": "8eccc6b1",
   "metadata": {},
   "outputs": [
    {
     "name": "stdout",
     "output_type": "stream",
     "text": [
      "258.2505564088984\n",
      "4.63248077592887\n",
      "Food preparation average time in seconds is  258.25\n",
      "Food preparation minimum time in seconds is  4.63\n",
      "Food preparation maximum time in seconds is  1898.0\n"
     ]
    }
   ],
   "source": [
    "# #time taken to prepare food \n",
    "fh_original.head(20)\n",
    "\n",
    "#fh_original[fh_original.order_id == 0] # check the food preparation time for order_id 1\n",
    "\n",
    "print(fh_original['food_preparation_time'].describe(include='food_preparation_time').mean())\n",
    "print(fh_original['food_preparation_time'].describe(include='food_preparation_time').min())\n",
    "#print(fh_original.describe(include='food_preparation_time').max())\n",
    "\n",
    "\n",
    "print(f\"Food preparation average time in seconds is  {round(fh_original['food_preparation_time'].describe().T.mean(),2)}\")\n",
    "print(f\"Food preparation minimum time in seconds is  {round(fh_original.food_preparation_time.describe().T.min(),2)}\")\n",
    "print(f\"Food preparation maximum time in seconds is  {round(fh_original.food_preparation_time.describe().max(),2)}\")\n",
    "\n",
    "\n",
    "\n",
    "# # count    1898.000000\n",
    "# # mean       27.371970\n",
    "# # std         4.632481\n",
    "# # min        20.000000\n",
    "# # 25%        23.000000\n",
    "# # 50%        27.000000\n",
    "# # 75%        31.000000\n",
    "# # max        35.000000\n",
    "\n",
    "\n"
   ]
  }
 ],
 "metadata": {
  "kernelspec": {
   "display_name": "base",
   "language": "python",
   "name": "python3"
  },
  "language_info": {
   "codemirror_mode": {
    "name": "ipython",
    "version": 3
   },
   "file_extension": ".py",
   "mimetype": "text/x-python",
   "name": "python",
   "nbconvert_exporter": "python",
   "pygments_lexer": "ipython3",
   "version": "3.12.7"
  }
 },
 "nbformat": 4,
 "nbformat_minor": 5
}
