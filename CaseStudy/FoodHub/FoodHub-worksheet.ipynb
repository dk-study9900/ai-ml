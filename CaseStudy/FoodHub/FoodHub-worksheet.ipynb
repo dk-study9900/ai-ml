{
 "cells": [
  {
   "cell_type": "markdown",
   "id": "17e260ee",
   "metadata": {},
   "source": [
    "### Context\n",
    "\n",
    "The number of restaurants in New York is increasing day by day. Lots of students and busy professionals rely on those restaurants due to their hectic lifestyles. Online food delivery service is a great option for them. It provides them with good food from their favorite restaurants. A food aggregator company FoodHub offers access to multiple restaurants through a single smartphone app.\n",
    "\n",
    "The app allows the restaurants to receive a direct online order from a customer. The app assigns a delivery person from the company to pick up the order after it is confirmed by the restaurant. The delivery person then uses the map to reach the restaurant and waits for the food package. Once the food package is handed over to the delivery person, he/she confirms the pick-up in the app and travels to the customer's location to deliver the food. The delivery person confirms the drop-off in the app after delivering the food package to the customer. The customer can rate the order in the app. The food aggregator earns money by collecting a fixed margin of the delivery order from the restaurants.\n",
    "\n",
    "### Objective\n",
    "\n",
    "The food aggregator company has stored the data of the different orders made by the registered customers in their online portal. They want to analyze the data to get a fair idea about the demand of different restaurants which will help them in enhancing their customer experience. Suppose you are hired as a Data Scientist in this company and the Data Science team has shared some of the key questions that need to be answered. Perform the data analysis to find answers to these questions that will help the company to improve the business.\n",
    "\n",
    "### Data Description\n",
    "\n",
    "The data contains the different data related to a food order. The detailed data dictionary is given below.\n",
    "\n",
    "### Data Dictionary\n",
    "\n",
    "* order_id: Unique ID of the order\n",
    "* customer_id: ID of the customer who ordered the food\n",
    "* restaurant_name: Name of the restaurant\n",
    "* cuisine_type: Cuisine ordered by the customer\n",
    "* cost_of_the_order: Cost of the order\n",
    "* day_of_the_week: Indicates whether the order is placed on a weekday or weekend (The weekday is from Monday to Friday and the weekend is Saturday and Sunday)\n",
    "* rating: Rating given by the customer out of 5\n",
    "* food_preparation_time: Time (in minutes) taken by the restaurant to prepare the food. This is calculated by taking the difference between the timestamps of the restaurant's order confirmation and the delivery person's pick-up confirmation.\n",
    "* delivery_time: Time (in minutes) taken by the delivery person to deliver the food package. This is calculated by taking the difference between the timestamps of the delivery person's pick-up confirmation and drop-off information"
   ]
  },
  {
   "cell_type": "code",
   "execution_count": 1,
   "id": "0e41a198",
   "metadata": {},
   "outputs": [
    {
     "name": "stdout",
     "output_type": "stream",
     "text": [
      "<class 'pandas.core.frame.DataFrame'>\n",
      "RangeIndex: 1898 entries, 0 to 1897\n",
      "Data columns (total 9 columns):\n",
      " #   Column                 Non-Null Count  Dtype  \n",
      "---  ------                 --------------  -----  \n",
      " 0   order_id               1898 non-null   int64  \n",
      " 1   customer_id            1898 non-null   int64  \n",
      " 2   restaurant_name        1898 non-null   object \n",
      " 3   cuisine_type           1898 non-null   object \n",
      " 4   cost_of_the_order      1898 non-null   float64\n",
      " 5   day_of_the_week        1898 non-null   object \n",
      " 6   rating                 1898 non-null   object \n",
      " 7   food_preparation_time  1898 non-null   int64  \n",
      " 8   delivery_time          1898 non-null   int64  \n",
      "dtypes: float64(1), int64(4), object(4)\n",
      "memory usage: 133.6+ KB\n"
     ]
    }
   ],
   "source": [
    "import pandas as pd\n",
    "import numpy as np\n",
    "import seaborn as sns\n",
    "import matplotlib.pyplot as plt\n",
    "fh_original = pd.read_csv(\"foodhub_order.csv\")\n",
    "#print(f\"{fh_original.head(5)})\")\n",
    "fh_original.info()"
   ]
  },
  {
   "cell_type": "code",
   "execution_count": null,
   "id": "a2c8ab9c",
   "metadata": {},
   "outputs": [],
   "source": [
    "# Get the total number of rows in the dataframe\n",
    "\n",
    "# print(f\"Total rows in the dataframe: {fh_original.shape[0]}\")\n",
    "# print('-----------------------------------------------------------------------------')\n",
    "# print(f\"Total columns in the dataframe: {fh_original.shape[1]}\")\n",
    "# print('-----------------------------------------------------------------------------')\n",
    "# # Get the datatype of the 'order_id' column\n",
    "# print(f\"Datatype of 'order_id': {fh_original['order_id'].dtype}\")\n",
    "# print('-----------------------------------------------------------------------------')\n",
    "count_null = 0 \n",
    "count_na = 0\n",
    "column_null_value_dict = {}  # Initialize the dictionary to store missing values count\n",
    "column_na_value_dict = {}  # Initialize the dictionary to store missing values count\n",
    "\n",
    "# Loop through each column in the dataframe and check for null and NA values\n",
    "for column in fh_original.columns:\n",
    "    #print(f\"Column name: {column} and datatype:  {fh_original[column].dtype}\") \n",
    "    if fh_original[column].isnull().sum() == 0:\n",
    "        count_null += 1\n",
    "        missing_values_count = fh_original[column].isnull().sum()\n",
    "        column_null_value_dict[column] = int(missing_values_count)\n",
    "    missing_values_count = 0\n",
    "    if fh_original[column].isna().sum() == 0:\n",
    "        count_na += 1\n",
    "        missing_values_count = fh_original[column].isna().sum()\n",
    "        column_na_value_dict[column] = int(missing_values_count)\n",
    "\n",
    "\n",
    "#loop through the dictionary and print the values        \n",
    "print('----------NUll and NaN values are considered missing values ------------------')\n",
    "print('----------These are the NULL values in the data------------------------------')      \n",
    "if column_null_value_dict.items() == 0:\n",
    "    print('There are no null values in the data')\n",
    "else:\n",
    "    for column, missing_values_count in column_null_value_dict.items():\n",
    "        print(f\"{column} has these: {missing_values_count} null values\")\n",
    "print('----------These are the NaN values in the data------------------------------')      \n",
    "if column_na_value_dict.items() == 0:\n",
    "    print('There are no NaN values in the data')\n",
    "else:\n",
    "    for column, missing_values_count in column_na_value_dict.items():\n",
    "        print(f\"{column} has these: {missing_values_count} NaN values\")\n",
    "print('-----------------------------------------------------------------------------')  \n",
    "\n",
    "\n",
    "#fh_original['order_id'].isnull().sum() # no null values in order_id\n",
    "\n",
    "# # Display the first 5 rows of the dataframe\n",
    "# fh_original.head(5)\n",
    "\n",
    "# # Check for null values\n",
    "# fh_original.isnull().sum() # no null\n",
    "\n",
    "# # Check for NA values\n",
    "# fh_original.isna().sum() # no na\n"
   ]
  },
  {
   "cell_type": "markdown",
   "id": "01e5e2e4",
   "metadata": {},
   "source": [
    "Question 4\n",
    "### meet the requiremewnts\n",
    "stastictical time taken ( min ,max , average ) to prepare food\n",
    "\n",
    "### additonal learning\n",
    "# does cost of order have relation with food prep time?\n",
    "# which cusine takes fastest ? \n",
    "# which expensice cusine takes fastest ?\n",
    "#time taken ( min ,max , average ) to prepare food by cusine type\n",
    "#time taken ( min ,max , average ) to prepare food by restaurant\n",
    "#time taken ( min ,max , average ) to prepare food by weekday or weekend\n"
   ]
  },
  {
   "cell_type": "code",
   "execution_count": 68,
   "id": "8eccc6b1",
   "metadata": {},
   "outputs": [
    {
     "name": "stdout",
     "output_type": "stream",
     "text": [
      "258.2505564088984\n",
      "4.63248077592887\n",
      "Food preparation average time in seconds is  258.25\n",
      "Food preparation minimum time in seconds is  4.63\n",
      "Food preparation maximum time in seconds is  1898.0\n"
     ]
    }
   ],
   "source": [
    "# #time taken to prepare food \n",
    "fh_original.head(20)\n",
    "\n",
    "#fh_original[fh_original.order_id == 0] # check the food preparation time for order_id 1\n",
    "\n",
    "print(fh_original['food_preparation_time'].describe(include='food_preparation_time').mean())\n",
    "print(fh_original['food_preparation_time'].describe(include='food_preparation_time').min())\n",
    "#print(fh_original.describe(include='food_preparation_time').max())\n",
    "\n",
    "\n",
    "print(f\"Food preparation average time in seconds is  {round(fh_original['food_preparation_time'].describe().T.mean(),2)}\")\n",
    "print(f\"Food preparation minimum time in seconds is  {round(fh_original.food_preparation_time.describe().T.min(),2)}\")\n",
    "print(f\"Food preparation maximum time in seconds is  {round(fh_original.food_preparation_time.describe().max(),2)}\")\n",
    "\n",
    "\n",
    "\n",
    "# # count    1898.000000\n",
    "# # mean       27.371970\n",
    "# # std         4.632481\n",
    "# # min        20.000000\n",
    "# # 25%        23.000000\n",
    "# # 50%        27.000000\n",
    "# # 75%        31.000000\n",
    "# # max        35.000000\n",
    "\n",
    "\n"
   ]
  },
  {
   "cell_type": "markdown",
   "id": "07644695",
   "metadata": {},
   "source": [
    "### **Question 5:** How many orders are not rated? [1 mark]"
   ]
  },
  {
   "cell_type": "code",
   "execution_count": 69,
   "id": "aa585ff0",
   "metadata": {},
   "outputs": [
    {
     "name": "stdout",
     "output_type": "stream",
     "text": [
      "736 orders were not rated.\n"
     ]
    }
   ],
   "source": [
    "#filter column rating for 'Not given' values and count the number of occurrences\n",
    "#returns a series with the count of 'Not given' ratings\n",
    "\n",
    "not_given = fh_original['rating'][fh_original['rating'] == 'Not given'].value_counts() # check the rating values\n",
    "print(f\"{not_given.values[0]} orders were not rated.\")\n",
    "\n",
    "\n",
    "# print (type(not_given)) # check the type of not_given\n",
    "# print(not_given.index[0])\n",
    "# print(not_given.values[0]) # check the value of not_given\n",
    "# print(fh_original.index[10])\n",
    "# print(fh_original.values[10])\n",
    "\n",
    "\n",
    "#print(f\"Not given rating count is {not_given}\")\n",
    "\n",
    "# fh_original[fh_original['rating']== 'Not given'].value_counts() # check the rating values\n",
    "\n",
    "# fh_original[fh_original['rating']== 'Not given']\n",
    "# print(fh_original[fh_original['rating'] == 'Not given'])\n"
   ]
  },
  {
   "cell_type": "markdown",
   "id": "ecf4fbe6",
   "metadata": {},
   "source": [
    "### **Question 6:** Explore all the variables and provide observations on their distributions. (Generally, histograms, boxplots, countplots, etc. are used for univariate exploration.) [9 marks]\n",
    "\n",
    "solution ----\n",
    "\n",
    "use this data points to provide observations \n",
    "\n",
    "## Data points\n",
    "Key metrics\n",
    "    mean \n",
    "    - histogram \n",
    "    median\n",
    "    - box plot\n",
    "    mode \n",
    "     - ?\n",
    "    outliers\n",
    "    - box plot or histogrm \n",
    "normal distribution \n",
    "    - histrogram, bell shape curve\n",
    "skewed distribution\n",
    "    - histogram ,  left sweked or right skewed\n",
    "\n",
    "\n",
    "## observation\n",
    "1.  mean = median  - suggests uniform distribution, supporting evidence dist plot or histogram \n",
    "2.  mean > median  - suggest data is right skewed , supporting evidence dist plot or histogram\n",
    "3.  mean < median  - suggest data is left skewed , supporting evidence dist plot or histogram\n",
    "4.  ouliers - box plot \n",
    "5.  mode - TBD \n"
   ]
  },
  {
   "cell_type": "code",
   "execution_count": 11,
   "id": "f5ea1b97",
   "metadata": {},
   "outputs": [
    {
     "name": "stdout",
     "output_type": "stream",
     "text": [
      "Boxplot for column name: order_id \n",
      "-----------------------------------------------------------------------------\n",
      "Boxplot for column name: customer_id \n",
      "-----------------------------------------------------------------------------\n",
      "Boxplot for column name: cost_of_the_order \n",
      "-----------------------------------------------------------------------------\n",
      "Boxplot for column name: food_preparation_time \n",
      "-----------------------------------------------------------------------------\n",
      "Boxplot for column name: delivery_time \n",
      "-----------------------------------------------------------------------------\n"
     ]
    },
    {
     "data": {
      "image/png": "[encoded data removed]",
      "text/plain": [
       "<Figure size 640x480 with 1 Axes>"
      ]
     },
     "metadata": {},
     "output_type": "display_data"
    }
   ],
   "source": [
    "# distributions for numerial columns,distribution is measured with mean, median, mode \n",
    "#charts --> histograms,histogram with density cure, boxplots,bar graph, line   and scatterplots\n",
    "\n",
    "# calculate the mean, median, and mode for all numerical columns in the dataframe\n",
    "\n",
    "# Loop through all numerical columns and calculate mean, median, and mode\n",
    "#fh_original.select_dtypes(include=['number']).columns\n",
    "\n",
    "#plt.figure(figsize=(10, 5))\n",
    "# numerical_columns = fh_original.select_dtypes(include=[np.number]).columns.tolist()\n",
    "# print(f\"Numerical columns in the dataframe: {numerical_columns}\")\n",
    "# print ('-----------------------------------------------------------------------------')\n",
    "# for column in fh_original.select_dtypes(include=['number']).columns:\n",
    "#     mean_value = round(fh_original[column].mean(), 2)\n",
    "#     median_value = fh_original[column].median()\n",
    "#     mode_value = fh_original[column].mode()[0]\n",
    "#     match mean_value:\n",
    "#         case _ if mean_value > median_value:\n",
    "#             print(f\"{column} : Mean {mean_value} is greater than median {median_value}, the data is positively skewed\")\n",
    "#             print('Graphical Representation of the Data')\n",
    "            \n",
    "#             plt.title(f\"{column}  Distribution \")\n",
    "#             #sns.displot(x=fh_original[column], bins=20, kde=True)\n",
    "#             sns.histplot(x=fh_original[column], bins=20, kde=True)\n",
    "#             plt.axvline(mean_value, color='r', linestyle='--', label=f'Mean: {mean_value}')\n",
    "#             plt.axvline(median_value, color='g', linestyle='-', label=f'Median: {median_value}')\n",
    "#             plt.legend()\n",
    "#             plt.show()            \n",
    "            \n",
    "            \n",
    "#         case _ if mean_value < median_value:\n",
    "#             print(f\"{column} : Mean {mean_value} is less than median {median_value}, the data is negatively skewed\")\n",
    "#             print('Graphical Representation of the Data')\n",
    "#             #sns.boxplot(x = fh_original['food_preparation_time'])\n",
    "#             plt.title(f\"{column}  Distribution \")\n",
    "#             #sns.displot(x=fh_original[column], bins=20, kde=True)\n",
    "#             sns.histplot(x=fh_original[column], bins=20, kde=True)\n",
    "#             plt.axvline(mean_value, color='r', linestyle='--', label=f'Mean: {mean_value}')\n",
    "#             plt.axvline(median_value, color='g', linestyle='-', label=f'Median: {median_value}')\n",
    "#             plt.legend()\n",
    "#             plt.show()            \n",
    "            \n",
    "\n",
    "\n",
    "#         case _:\n",
    "#             print(f\"{column} : Mean {mean_value} is equal to median {median_value}, the data is uniformly distributed\")\n",
    "#             print('Graphical Representation of the Data')\n",
    "#             #sns.boxplot(x = fh_original['food_preparation_time'])\n",
    "#             plt.title(f\"{column}  Distribution \")\n",
    "#             #sns.displot(x=fh_original[column], bins=20, kde=True)\n",
    "#             sns.histplot(x=fh_original[column], bins=20, kde=True)\n",
    "#             plt.axvline(mean_value, color='r', linestyle='--', label=f'Mean: {mean_value}')\n",
    "#             plt.axvline(median_value, color='g', linestyle='-', label=f'Median: {median_value}')\n",
    "#             plt.legend()\n",
    "#             plt.show()            \n",
    "\n",
    "# for column in fh_original.select_dtypes(include=['number']).columns:\n",
    "#     print(f\"Boxplot for column name: {column} \") \n",
    "#     if fh_original[column].sum() > 0:\n",
    "#         plt.title(f\"{column}  Outliers \")\n",
    "#         sns.boxplot(x = fh_original[column])\n",
    "#         print('-----------------------------------------------------------------------------')\n",
    "    \n",
    "\n",
    "\n",
    "# for column in fh_original.select_dtypes(include=['object']).columns:\n",
    "#     print(f\"Column name: {column} and datatype:  {fh_original[column].dtype}\") \n",
    "#     #print(f\"Unique values in {column}: {fh_original[column].unique()}\")\n",
    "#     #print(f\"Number of unique values in {column}: {fh_original[column].nunique()}\")\n",
    "#     print('-----------------------------------------------------------------------------')\n",
    "#     #print(fh_original[column].value_counts()) # check the rating values\n",
    "#     #print(fh_original[column].value_counts(normalize=True)) # check the rating values\n",
    "#     #print(fh_original[column].value_counts(normalize=True).plot(kind='bar')) # check the rating values\n",
    "\n",
    "\n"
   ]
  },
  {
   "cell_type": "markdown",
   "id": "61d8f522",
   "metadata": {},
   "source": [
    "### **Question 7**: Which are the top 5 restaurants in terms of the number of orders received? [1 mark]"
   ]
  },
  {
   "cell_type": "code",
   "execution_count": 6,
   "id": "7b09adcf",
   "metadata": {},
   "outputs": [
    {
     "name": "stdout",
     "output_type": "stream",
     "text": [
      "------------------Top 5 Restaurants---------------------\n",
      "The top 5 restaurants with the most orders are:\n",
      "1. Shake Shack has 219 orders\n",
      "2. The Meatball Shop has 132 orders\n",
      "3. Blue Ribbon Sushi has 119 orders\n",
      "4. Blue Ribbon Fried Chicken has 96 orders\n",
      "5. Parm has 68 orders\n"
     ]
    }
   ],
   "source": [
    "\n",
    "top_restraunts = fh_original.groupby('restaurant_name')['order_id'].count().sort_values(ascending=False).head(5)\n",
    "print('------------------Top 5 Restaurants---------------------')\n",
    "print('The top 5 restaurants with the most orders are:')\n",
    "seq = 0\n",
    "for restaurant, count in top_restraunts.items():\n",
    "    seq += 1\n",
    "    print(f\"{seq}. {restaurant} has {count} orders\")\n",
    "\n"
   ]
  },
  {
   "cell_type": "markdown",
   "id": "47e9bff4",
   "metadata": {},
   "source": [
    "### **Question 8**: Which is the most popular cuisine on weekends? [1 mark]"
   ]
  },
  {
   "cell_type": "code",
   "execution_count": 7,
   "id": "d44f1fbc",
   "metadata": {},
   "outputs": [
    {
     "name": "stdout",
     "output_type": "stream",
     "text": [
      "------------------Most popular Cuisine on Weekends---------------------\n",
      "\n",
      "The most popular cuisine on weekends is: American with 415 orders\n"
     ]
    }
   ],
   "source": [
    "cusine_weekend = fh_original[fh_original['day_of_the_week'] == 'Weekend'].groupby('cuisine_type')['order_id'].count().sort_values(ascending=False).head(1)\n",
    "print('------------------Most popular Cuisine on Weekends---------------------\\n')\n",
    "print(f\"The most popular cuisine on weekends is: {cusine_weekend.index[0]} with {cusine_weekend.values[0]} orders\")\n"
   ]
  },
  {
   "cell_type": "markdown",
   "id": "59318c44",
   "metadata": {},
   "source": [
    "### **Question 9**: What percentage of the orders cost more than 20 dollars? [2 marks]"
   ]
  },
  {
   "cell_type": "code",
   "execution_count": 8,
   "id": "09032696",
   "metadata": {},
   "outputs": [
    {
     "name": "stdout",
     "output_type": "stream",
     "text": [
      "------------------Percentage of Orders with Cost Greater than $20---------------------\n",
      "\n",
      "29.24% of orders cost more than $20\n"
     ]
    }
   ],
   "source": [
    "#(fh_original.order_id[fh_original['cost_of_the_order'] > 20].count()/fh_original.order_id.count())*100\n",
    "print('------------------Percentage of Orders with Cost Greater than $20---------------------\\n')\n",
    "print(f\"{round((fh_original.order_id[fh_original['cost_of_the_order'] > 20].count()/fh_original.order_id.count())*100,2)}% of orders cost more than $20\")   \n"
   ]
  },
  {
   "cell_type": "markdown",
   "id": "b3157864",
   "metadata": {},
   "source": [
    "### **Question 10**: What is the mean order delivery time? [1 mark]"
   ]
  },
  {
   "cell_type": "code",
   "execution_count": 9,
   "id": "66df0e79",
   "metadata": {},
   "outputs": [
    {
     "name": "stdout",
     "output_type": "stream",
     "text": [
      "------------------Average Delivery Time---------------------\n",
      "\n",
      "The average delivery(or mean) time is 24.16 minutes\n"
     ]
    }
   ],
   "source": [
    "#fh_original.delivery_time.mean() # check the mean of delivery time\n",
    "print('------------------Average Delivery Time---------------------\\n')\n",
    "print(f\"The average delivery(or mean) time is {round(fh_original.delivery_time.mean(),2)} minutes\")  "
   ]
  },
  {
   "cell_type": "markdown",
   "id": "df13c955",
   "metadata": {},
   "source": [
    "### **Question 11:** The company has decided to give 20% discount vouchers to the top 3 most frequent customers. Find the IDs of these customers and the number of orders they placed. [1 mark]"
   ]
  },
  {
   "cell_type": "code",
   "execution_count": 10,
   "id": "77cddfb6",
   "metadata": {},
   "outputs": [
    {
     "name": "stdout",
     "output_type": "stream",
     "text": [
      "------------------Top 3 Customers---------------------\n",
      "\n",
      "1. Customer 52832 has 13 orders\n",
      "2. Customer 47440 has 10 orders\n",
      "3. Customer 83287 has 9 orders\n"
     ]
    }
   ],
   "source": [
    "fh_original.groupby('customer_id')['order_id'].count().sort_values(ascending=False).head(3)\n",
    "print('------------------Top 3 Customers---------------------\\n')\n",
    "seq=0\n",
    "for customer, count in fh_original.groupby('customer_id')['order_id'].count().sort_values(ascending=False).head(3).items():\n",
    "    seq += 1\n",
    "    print(f\"{seq}. Customer {customer} has {count} orders\")\n",
    "\n"
   ]
  }
 ],
 "metadata": {
  "kernelspec": {
   "display_name": "base",
   "language": "python",
   "name": "python3"
  },
  "language_info": {
   "codemirror_mode": {
    "name": "ipython",
    "version": 3
   },
   "file_extension": ".py",
   "mimetype": "text/x-python",
   "name": "python",
   "nbconvert_exporter": "python",
   "pygments_lexer": "ipython3",
   "version": "3.12.7"
  }
 },
 "nbformat": 4,
 "nbformat_minor": 5
}
