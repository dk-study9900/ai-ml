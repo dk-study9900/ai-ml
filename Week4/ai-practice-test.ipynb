{
 "cells": [
  {
   "cell_type": "code",
   "execution_count": null,
   "id": "8d59dd50",
   "metadata": {},
   "outputs": [],
   "source": [
    "import re\n",
    "import pandas as pd"
   ]
  },
  {
   "cell_type": "markdown",
   "id": "ea7f2241",
   "metadata": {},
   "source": [
    "Question1"
   ]
  },
  {
   "cell_type": "code",
   "execution_count": null,
   "id": "3c3dcf1f",
   "metadata": {},
   "outputs": [
    {
     "name": "stdout",
     "output_type": "stream",
     "text": [
      "A I  M L\n"
     ]
    }
   ],
   "source": [
    "string = 'Artificial Intelligence and Machine Learning'\n",
    "pattern= re.compile(r'[a-z]')\n",
    "cleaded_string = pattern.sub(' ', string)\n",
    "print(cleaded_string)  # Output: 'AI and ML'\n"
   ]
  },
  {
   "cell_type": "markdown",
   "id": "daa751c7",
   "metadata": {},
   "source": [
    "Question2"
   ]
  },
  {
   "cell_type": "code",
   "execution_count": null,
   "id": "d2dcfc92",
   "metadata": {},
   "outputs": [],
   "source": [
    "df = pd.read_csv('data.csv')\n",
    "string = df['review'][0]\n",
    "pattern = re.compile(r'[a-z]')\n",
    "cleaned_string = pattern.sub(' ',string)\n",
    "print(cleaned_string)\n",
    "\n"
   ]
  },
  {
   "cell_type": "markdown",
   "id": "124665d3",
   "metadata": {},
   "source": [
    "question3"
   ]
  },
  {
   "cell_type": "code",
   "execution_count": null,
   "id": "71c78e39",
   "metadata": {},
   "outputs": [],
   "source": [
    "string = 'Emp 1230'\n",
    "pattern = re.compile(r'[A-Z]')\n",
    "cleaned_string = pattern.sub(' ', string)\n",
    "print(cleaned_string)  \n",
    "\n"
   ]
  },
  {
   "cell_type": "markdown",
   "id": "fa85a564",
   "metadata": {},
   "source": [
    "question4 \n"
   ]
  },
  {
   "cell_type": "code",
   "execution_count": null,
   "id": "a990dd60",
   "metadata": {},
   "outputs": [],
   "source": [
    "df = pd.read_csv('data.csv')\n",
    "string = df['review'][2]\n",
    "pattern = re.compile(r'[A-Z]')\n",
    "cleaned_string = pattern.sub(' ',string)\n",
    "print(cleaned_string)"
   ]
  },
  {
   "cell_type": "markdown",
   "id": "f357eacd",
   "metadata": {},
   "source": [
    "section2 \n",
    "Q1 \n"
   ]
  },
  {
   "cell_type": "code",
   "execution_count": null,
   "id": "c5820c25",
   "metadata": {},
   "outputs": [
    {
     "name": "stdout",
     "output_type": "stream",
     "text": [
      "The number of letters in the word \"apple\" is 5\n"
     ]
    }
   ],
   "source": [
    "string = 'The number of letters in the word \"apple\" is 5'\n",
    "pattern = re.compile(r'[0-9]')\n",
    "cleaned_string = pattern.sub(' ', string)\n",
    "print(cleaned_string)  \n"
   ]
  },
  {
   "cell_type": "markdown",
   "id": "2bce4f31",
   "metadata": {},
   "source": [
    "section2\n",
    "Q2"
   ]
  },
  {
   "cell_type": "code",
   "execution_count": null,
   "id": "1a144de0",
   "metadata": {},
   "outputs": [],
   "source": [
    "df = pd.read_csv('data.csv')\n",
    "string = df['review'][2835]\n",
    "pattern = re.compile(r'[0-9]')\n",
    "cleaned_string = pattern.sub(' ',string)\n",
    "print(cleaned_string)"
   ]
  },
  {
   "cell_type": "markdown",
   "id": "c338cc76",
   "metadata": {},
   "source": [
    "section3 \n",
    "Q1"
   ]
  },
  {
   "cell_type": "code",
   "execution_count": 6,
   "id": "a59d3d5e",
   "metadata": {},
   "outputs": [
    {
     "name": "stdout",
     "output_type": "stream",
     "text": [
      "    1230           23092017\n"
     ]
    }
   ],
   "source": [
    "string = 'Emp 1230 Join_Date 23092017'\n",
    "cleaned_string = re.sub(r'[^0-9]', ' ', string)\n",
    "print(cleaned_string)  \n"
   ]
  },
  {
   "cell_type": "markdown",
   "id": "8ffc5ff0",
   "metadata": {},
   "source": [
    "section3 \n",
    "Q2"
   ]
  },
  {
   "cell_type": "code",
   "execution_count": null,
   "id": "15e7db6a",
   "metadata": {},
   "outputs": [],
   "source": [
    "df = pd.read_csv('data.csv')\n",
    "string = df['review'][11]\n",
    "pattern = re.compile(r'[^0-9]')\n",
    "cleaned_string = pattern.sub(' ',string)\n",
    "print(cleaned_string)"
   ]
  },
  {
   "cell_type": "markdown",
   "id": "2f6f2979",
   "metadata": {},
   "source": [
    "section3 \n",
    "Q3"
   ]
  },
  {
   "cell_type": "code",
   "execution_count": null,
   "id": "5a7ea43a",
   "metadata": {},
   "outputs": [
    {
     "name": "stdout",
     "output_type": "stream",
     "text": [
      "ai claude com\n"
     ]
    }
   ],
   "source": [
    "string = 'ai@claude.com'\n",
    "pattern = r'[^a-zA-Z]'\n",
    "cleaned_string = re.sub(pattern,' ',string)\n",
    "print(cleaned_string)  "
   ]
  },
  {
   "cell_type": "markdown",
   "id": "1e54d1de",
   "metadata": {},
   "source": [
    "section3 \n",
    "Q4"
   ]
  },
  {
   "cell_type": "code",
   "execution_count": null,
   "id": "653d969b",
   "metadata": {},
   "outputs": [],
   "source": [
    "df = pd.read_csv('data.csv')\n",
    "string = df['review'][13]\n",
    "pattern = (r'[^a-zA-Z]')\n",
    "cleaned_string = re.sub(pattern,' ',string) \n",
    "print(cleaned_string)"
   ]
  },
  {
   "cell_type": "markdown",
   "id": "55af6e7d",
   "metadata": {},
   "source": [
    "section 4 \n",
    "Q1"
   ]
  },
  {
   "cell_type": "code",
   "execution_count": 8,
   "id": "a74ad4d0",
   "metadata": {},
   "outputs": [
    {
     "name": "stdout",
     "output_type": "stream",
     "text": [
      " i@ l u . om\n"
     ]
    }
   ],
   "source": [
    "string = 'ai@claude.com'\n",
    "pattern = r'[a-fA-F0-9]+'\n",
    "cleaned_string = re.sub(pattern,' ',string)\n",
    "print(cleaned_string)  "
   ]
  },
  {
   "cell_type": "markdown",
   "id": "d65c1aaa",
   "metadata": {},
   "source": [
    "section4 \n",
    "Q2  "
   ]
  },
  {
   "cell_type": "code",
   "execution_count": null,
   "id": "efc7977f",
   "metadata": {},
   "outputs": [],
   "source": [
    "df = pd.read_csv('data.csv')\n",
    "string = df['review'][13]\n",
    "pattern = r'[a-fA-F0-9]+'\n",
    "cleaned_string = re.sub(pattern,' ',string) \n",
    "print(cleaned_string)"
   ]
  }
 ],
 "metadata": {
  "kernelspec": {
   "display_name": "base",
   "language": "python",
   "name": "python3"
  },
  "language_info": {
   "codemirror_mode": {
    "name": "ipython",
    "version": 3
   },
   "file_extension": ".py",
   "mimetype": "text/x-python",
   "name": "python",
   "nbconvert_exporter": "python",
   "pygments_lexer": "ipython3",
   "version": "3.12.7"
  }
 },
 "nbformat": 4,
 "nbformat_minor": 5
}
