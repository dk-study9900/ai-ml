{
 "cells": [
  {
   "cell_type": "code",
   "execution_count": 1,
   "metadata": {},
   "outputs": [
    {
     "data": {
      "text/html": [
       "<div>\n",
       "<style scoped>\n",
       "    .dataframe tbody tr th:only-of-type {\n",
       "        vertical-align: middle;\n",
       "    }\n",
       "\n",
       "    .dataframe tbody tr th {\n",
       "        vertical-align: top;\n",
       "    }\n",
       "\n",
       "    .dataframe thead th {\n",
       "        text-align: right;\n",
       "    }\n",
       "</style>\n",
       "<table border=\"1\" class=\"dataframe\">\n",
       "  <thead>\n",
       "    <tr style=\"text-align: right;\">\n",
       "      <th></th>\n",
       "      <th>company</th>\n",
       "      <th>revenue</th>\n",
       "      <th>profit</th>\n",
       "    </tr>\n",
       "  </thead>\n",
       "  <tbody>\n",
       "    <tr>\n",
       "      <th>2</th>\n",
       "      <td>company3</td>\n",
       "      <td>3</td>\n",
       "      <td>30</td>\n",
       "    </tr>\n",
       "    <tr>\n",
       "      <th>3</th>\n",
       "      <td>company4</td>\n",
       "      <td>4</td>\n",
       "      <td>40</td>\n",
       "    </tr>\n",
       "  </tbody>\n",
       "</table>\n",
       "</div>"
      ],
      "text/plain": [
       "    company  revenue  profit\n",
       "2  company3        3      30\n",
       "3  company4        4      40"
      ]
     },
     "execution_count": 1,
     "metadata": {},
     "output_type": "execute_result"
    }
   ],
   "source": [
    "import numpy as np\n",
    "import pandas as pd\n",
    "\n",
    "\n",
    "company = ['tesla', 'ford', 'gm', 'toyota']\n",
    "revenue = [100, 200, 300,400]\n",
    "profit = [10, 20, 30,40,50]\n",
    "\n",
    "c_series = pd.Series(revenue, index=company)\n",
    "\n",
    "c_series[:2 ]\n",
    "#c_series['toyota']\n",
    "\n",
    "\n",
    "df_1 = pd.DataFrame({'company': [\"company1\", \"company2\", \"company3\", \"company4\"],\n",
    "                    'revenue': [1, 2, 3, 4],\n",
    "                    'profit': [10, 20, 30, 40]})\n",
    "\n",
    "df_1['profit'] \n",
    "#df_1.loc[[2, 3], ['profit']]\n",
    "df_1.loc[df_1['profit'] > 20, 'profit']\n",
    "df_1.loc[df_1['profit'] > 20]\n",
    "\n",
    "# df_2 = pd.DataFrame({'company': [\"company1\", \"company3\", \"company4\"],\n",
    "#                     'revenue': [1,  3, 4],\n",
    "#                     'loss': [10,  30, 40],\n",
    "#                     'profit': [10, 30, 40]})                    \n",
    "\n",
    "# pd.concat([df_1, df_2], axis=0, ignore_index=True)\n",
    "# #pd.merge(df_1, df_2, on='company', how='inner')\n",
    "# #pd.merge(df_1, df_2, on='company', how='outer')\n",
    "\n",
    "# stock_d = pd.read_csv('D:\\\\0-AI-ML\\\\ai-ml\\\\week2\\\\classMaterial\\\\StockData.csv', header=0)\n",
    "\n",
    "# #print(stock_d['price'].value_counts(normalize=True))\n",
    "# #print(stock_d['price'].value_counts(normalize=False))\n",
    "# #stock_d['price'].mean()\n",
    "\n",
    "# stock_d['date'].astype('datetime64[ns]')\n",
    "# #stock_d['date'].dt.year\n",
    "\n",
    "# # import datetime as d \n",
    "# # d = d.date(2023, 10, 1)\n",
    "# # print(d)\n",
    "\n"
   ]
  }
 ],
 "metadata": {
  "kernelspec": {
   "display_name": "base",
   "language": "python",
   "name": "python3"
  },
  "language_info": {
   "codemirror_mode": {
    "name": "ipython",
    "version": 3
   },
   "file_extension": ".py",
   "mimetype": "text/x-python",
   "name": "python",
   "nbconvert_exporter": "python",
   "pygments_lexer": "ipython3",
   "version": "3.12.7"
  }
 },
 "nbformat": 4,
 "nbformat_minor": 2
}
