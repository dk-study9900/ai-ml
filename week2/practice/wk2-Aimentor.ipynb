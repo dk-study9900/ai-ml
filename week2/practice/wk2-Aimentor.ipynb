{
 "cells": [
  {
   "cell_type": "code",
   "execution_count": 20,
   "metadata": {},
   "outputs": [
    {
     "name": "stdout",
     "output_type": "stream",
     "text": [
      "true\n"
     ]
    },
    {
     "name": "stderr",
     "output_type": "stream",
     "text": [
      "C:\\Users\\deepa\\AppData\\Local\\Temp\\ipykernel_22100\\2317709490.py:29: FutureWarning: Setting an item of incompatible dtype is deprecated and will raise an error in a future version of pandas. Value 'true' has dtype incompatible with float64, please explicitly cast to a compatible dtype first.\n",
      "  t[(t['num_pages'] > 4)] = 'true'\n",
      "C:\\Users\\deepa\\AppData\\Local\\Temp\\ipykernel_22100\\2317709490.py:29: FutureWarning: Setting an item of incompatible dtype is deprecated and will raise an error in a future version of pandas. Value 'true' has dtype incompatible with int64, please explicitly cast to a compatible dtype first.\n",
      "  t[(t['num_pages'] > 4)] = 'true'\n",
      "C:\\Users\\deepa\\AppData\\Local\\Temp\\ipykernel_22100\\2317709490.py:29: FutureWarning: Setting an item of incompatible dtype is deprecated and will raise an error in a future version of pandas. Value 'true' has dtype incompatible with float64, please explicitly cast to a compatible dtype first.\n",
      "  t[(t['num_pages'] > 4)] = 'true'\n",
      "C:\\Users\\deepa\\AppData\\Local\\Temp\\ipykernel_22100\\2317709490.py:29: FutureWarning: Setting an item of incompatible dtype is deprecated and will raise an error in a future version of pandas. Value 'true' has dtype incompatible with int64, please explicitly cast to a compatible dtype first.\n",
      "  t[(t['num_pages'] > 4)] = 'true'\n",
      "C:\\Users\\deepa\\AppData\\Local\\Temp\\ipykernel_22100\\2317709490.py:29: FutureWarning: Setting an item of incompatible dtype is deprecated and will raise an error in a future version of pandas. Value 'true' has dtype incompatible with int64, please explicitly cast to a compatible dtype first.\n",
      "  t[(t['num_pages'] > 4)] = 'true'\n",
      "C:\\Users\\deepa\\AppData\\Local\\Temp\\ipykernel_22100\\2317709490.py:29: FutureWarning: Setting an item of incompatible dtype is deprecated and will raise an error in a future version of pandas. Value 'true' has dtype incompatible with int64, please explicitly cast to a compatible dtype first.\n",
      "  t[(t['num_pages'] > 4)] = 'true'\n"
     ]
    }
   ],
   "source": [
    "import pandas as pd\n",
    "\n",
    "#1 \n",
    "# bucket = [3.14,'pi',2.718]\n",
    "# series= pd.Series(bucket)\n",
    "\n",
    "\n",
    "#2\n",
    "# items ={'col1':[1,2,3],'col2':[3,4,5]}\n",
    "# df_from_dict = pd.DataFrame(data=items)\n",
    "\n",
    "# print (df_from_dict)\n",
    "\n",
    "#3 and 4 \n",
    "# df= pd.read_csv('data.csv', sep=';')\n",
    "# print(df.head())\n",
    "\n",
    "########################\n",
    "\n",
    "#1\n",
    "# df= pd.read_csv('data.csv')\n",
    "# value= df.iloc[3,4]\n",
    "\n",
    "\n",
    "#2\n",
    "\n",
    "t = pd.read_csv('books.csv')\n",
    "t\n",
    "t[(t['num_pages'] > 4)] = 'true'\n",
    "#x = t[(t['num_pages'] > 4)] = 'true'\n",
    "result = x  # Directly assign the filtered DataFrame to result\n",
    "print(result)\n",
    "\n",
    "\n",
    "\n",
    "\n"
   ]
  }
 ],
 "metadata": {
  "kernelspec": {
   "display_name": "base",
   "language": "python",
   "name": "python3"
  },
  "language_info": {
   "codemirror_mode": {
    "name": "ipython",
    "version": 3
   },
   "file_extension": ".py",
   "mimetype": "text/x-python",
   "name": "python",
   "nbconvert_exporter": "python",
   "pygments_lexer": "ipython3",
   "version": "3.12.7"
  }
 },
 "nbformat": 4,
 "nbformat_minor": 2
}
