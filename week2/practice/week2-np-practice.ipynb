{
 "cells": [
  {
   "cell_type": "code",
   "execution_count": null,
   "metadata": {},
   "outputs": [
    {
     "name": "stdout",
     "output_type": "stream",
     "text": [
      "[[1786 1880 3017]\n",
      " [2725 2933 4712]\n",
      " [3862 4220 6785]]\n"
     ]
    }
   ],
   "source": [
    "import numpy as np\n",
    "\n",
    "\n",
    "# np.array([1, 2, 3, 4, 5, 6, 7, 8, 9])\n",
    "\n",
    "# a1= np.linspace(0, 20, 6)\n",
    "# print(a1)\n",
    "# a2= np.arange(0, 20)\n",
    "# a2[2:7]\n",
    "# a2[a2<10]\n",
    "\n",
    "#print(a2[2:7])\n",
    "\n",
    "# m1 = np.matrix([[1,4,9,121,144,169],\n",
    "#                 [16,25,36,196,225,256],\n",
    "#                 [49,64,81,289,324,361]])\n",
    "\n",
    "# np.save('m1.npy', m1)\n",
    "# m1 = np.load('m1.npy')\n",
    "\n",
    "# # Calculate the average of the matrix m1\n",
    "# average_m1 = np.mean(m1)\n",
    "# print(\"Average of m1:\", average_m1)\n",
    "# np.cos([0,1,3,4,5])\n",
    "\n",
    "# b1=np.array([1,2,3,5,8])\n",
    "# b2=np.array([0,3,4,2,1]) \n",
    "# c1 = b1 + b2\n",
    "# print(c1)   \n",
    "# c2 = c1*b1\n",
    "# print(c2[2])   \n",
    "\n",
    "# l1=[1,2,3,4,5]\n",
    "# l2=[6,7,8,9,10]\n",
    "# c2= l1+l2\n",
    "# print(c2)\n",
    "# d1 = np.array([[9,8,7], [6,5,4], [3,2,1]])\n",
    "# # print(d1)\n",
    "# np.save('d1.npy',d1)\n",
    "\n",
    "# d1 = np.load('d1.npy')\n",
    "# d1[1]=5\n",
    "# print(d1)\n",
    "#np.ones([2,2])\n",
    "#np.load('d1.npy')\n",
    "\n",
    "\n",
    "# n1= np.matrix([[121,144,169],[196,225,256],[289,324,361]])\n",
    "# n2= np.matrix([[1,4,9],[1,5,4],[9,4,8]])\n",
    "\n",
    "# n3 = n1*n2\n",
    "# print(n3)\n",
    "\n"
   ]
  }
 ],
 "metadata": {
  "kernelspec": {
   "display_name": "base",
   "language": "python",
   "name": "python3"
  },
  "language_info": {
   "codemirror_mode": {
    "name": "ipython",
    "version": 3
   },
   "file_extension": ".py",
   "mimetype": "text/x-python",
   "name": "python",
   "nbconvert_exporter": "python",
   "pygments_lexer": "ipython3",
   "version": "3.12.7"
  }
 },
 "nbformat": 4,
 "nbformat_minor": 2
}
