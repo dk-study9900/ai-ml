{
 "cells": [
  {
   "cell_type": "code",
   "execution_count": 65,
   "metadata": {},
   "outputs": [
    {
     "data": {
      "text/plain": [
       "language_code\n",
       "spa    84\n",
       "Name: language_code, dtype: int64"
      ]
     },
     "execution_count": 65,
     "metadata": {},
     "output_type": "execute_result"
    }
   ],
   "source": [
    "import pandas as pd\n",
    "import numpy as np  \n",
    "\n",
    "a = pd.read_csv('books.csv')\n",
    "#a.shape\n",
    "#a.describe()\n",
    "#a.info()\n",
    "# count = (a['average_rating'] > 4).sum()\n",
    "# print (count) \n",
    "# a.loc[(a['average_rating'] > 4.5) & (a['average_rating'] < 10)]\n",
    "\n",
    "#6\n",
    "#a[(a['average_rating'] > 4.5) & (a['average_rating'] < 10)]\n",
    "\n",
    "#7\n",
    "# a.groupby(['language_code'])['average_rating'].mean()\n",
    "#a[a['language_code'] == 'eng'].groupby(['language_code'])['average_rating'].mean()\n",
    "\n",
    "#8\n",
    "#a.iloc[0:5, 0:4]\n",
    "\n",
    "#9\n",
    "# a.loc[[1,4], ['language_code','num_pages','ratings_count']]\n",
    "\n",
    "#10\n",
    "# print(a['num_pages'].mean()) # corre cvalue \n",
    "# print(a['num_pages'].median())\n",
    "# print(a['num_pages'].max())\n",
    "# print(a['num_pages'].mode()) \n",
    "\n",
    "#11\n",
    "# a[a['year'] == 2010].groupby(['year'])['year'].count()\n",
    "\n",
    "#12\n",
    "# a[(a['publisher'] == 'DAW') & (a['average_rating'] > 4) ]\n",
    "\n",
    "#13\n",
    "#a[(a['num_pages'] > 500) & (a['year'] > 2010)].groupby(['language_code'])['language_code'].count()\n",
    "\n",
    "#14\n",
    "#a[(a['author'] == 'Agatha Christie')].groupby(['author'])['author'].count()\n",
    "\n",
    "#15\n",
    "a[(a['language_code'] == 'spa') & (a['year'] > 2000)].groupby(['language_code'])['language_code'].count()\n",
    "\n"
   ]
  }
 ],
 "metadata": {
  "kernelspec": {
   "display_name": "base",
   "language": "python",
   "name": "python3"
  },
  "language_info": {
   "codemirror_mode": {
    "name": "ipython",
    "version": 3
   },
   "file_extension": ".py",
   "mimetype": "text/x-python",
   "name": "python",
   "nbconvert_exporter": "python",
   "pygments_lexer": "ipython3",
   "version": "3.12.7"
  }
 },
 "nbformat": 4,
 "nbformat_minor": 2
}
