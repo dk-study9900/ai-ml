{
 "cells": [
  {
   "cell_type": "code",
   "execution_count": null,
   "metadata": {},
   "outputs": [
    {
     "name": "stdout",
     "output_type": "stream",
     "text": [
      "[10 13 16 19]\n",
      "[10. 15. 20.]\n"
     ]
    },
    {
     "data": {
      "text/plain": [
       "array([[0., 0., 0.],\n",
       "       [0., 0., 0.]])"
      ]
     },
     "execution_count": 45,
     "metadata": {},
     "output_type": "execute_result"
    }
   ],
   "source": [
    "import numpy as np\n",
    "\n",
    "ar= [\"absolute\", 'absolute_import', 'all']\n",
    "ar1=[ 'any', 'append', 'apply_along_axis', 'apply_over_axes', 'arange', 'array', 'array2string', 'array_equal']\n",
    "n_ar = np.array([ar,ar,ar])\n",
    "\n",
    "x = np.arange(10,20,3)\n",
    "\n",
    "print (x)\n",
    "x=  np.linspace(10,20,3)\n",
    "print (x)\n",
    "\n",
    "x= np.zeros((2,3))\n",
    "\n",
    "# np.ones((3,4)) \n",
    "# #np.empty((2,3)) \n",
    "# np.full((2,2),4)\n",
    "# np.eye(3,3)\n",
    "\n",
    "print (x) \n",
    "\n"
   ]
  },
  {
   "cell_type": "code",
   "execution_count": 51,
   "metadata": {},
   "outputs": [
    {
     "name": "stdout",
     "output_type": "stream",
     "text": [
      "[0 1 2 3 4 5 6 7 8 9]\n",
      "[[0 1 2]\n",
      " [3 4 5]]\n",
      "this is Y None\n"
     ]
    }
   ],
   "source": [
    "x= np.arange(0,10)\n",
    "print (x)\n",
    "y = x.resize((2,3))\n",
    "print (x)\n",
    "print (\"this is Y\",y)\n"
   ]
  },
  {
   "cell_type": "code",
   "execution_count": null,
   "metadata": {},
   "outputs": [],
   "source": []
  }
 ],
 "metadata": {
  "kernelspec": {
   "display_name": "base",
   "language": "python",
   "name": "python3"
  },
  "language_info": {
   "codemirror_mode": {
    "name": "ipython",
    "version": 3
   },
   "file_extension": ".py",
   "mimetype": "text/x-python",
   "name": "python",
   "nbconvert_exporter": "python",
   "pygments_lexer": "ipython3",
   "version": "3.12.7"
  }
 },
 "nbformat": 4,
 "nbformat_minor": 2
}
