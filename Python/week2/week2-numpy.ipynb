{
 "cells": [
  {
   "cell_type": "code",
   "execution_count": null,
   "metadata": {},
   "outputs": [
    {
     "ename": "UFuncTypeError",
     "evalue": "ufunc 'add' did not contain a loop with signature matching types (dtype('<U15'), dtype('<U15')) -> None",
     "output_type": "error",
     "traceback": [
      "\u001b[1;31m---------------------------------------------------------------------------\u001b[0m",
      "\u001b[1;31mUFuncTypeError\u001b[0m                            Traceback (most recent call last)",
      "Cell \u001b[1;32mIn[4], line 8\u001b[0m\n\u001b[0;32m      5\u001b[0m ar1\u001b[38;5;241m=\u001b[39m[ \u001b[38;5;124m'\u001b[39m\u001b[38;5;124many\u001b[39m\u001b[38;5;124m'\u001b[39m, \u001b[38;5;124m'\u001b[39m\u001b[38;5;124mappend\u001b[39m\u001b[38;5;124m'\u001b[39m, \u001b[38;5;124m'\u001b[39m\u001b[38;5;124mapply_along_axis\u001b[39m\u001b[38;5;124m'\u001b[39m, \u001b[38;5;124m'\u001b[39m\u001b[38;5;124mapply_over_axes\u001b[39m\u001b[38;5;124m'\u001b[39m, \u001b[38;5;124m'\u001b[39m\u001b[38;5;124marange\u001b[39m\u001b[38;5;124m'\u001b[39m, \u001b[38;5;124m'\u001b[39m\u001b[38;5;124marray\u001b[39m\u001b[38;5;124m'\u001b[39m, \u001b[38;5;124m'\u001b[39m\u001b[38;5;124marray2string\u001b[39m\u001b[38;5;124m'\u001b[39m, \u001b[38;5;124m'\u001b[39m\u001b[38;5;124marray_equal\u001b[39m\u001b[38;5;124m'\u001b[39m]\n\u001b[0;32m      6\u001b[0m n_ar \u001b[38;5;241m=\u001b[39m np\u001b[38;5;241m.\u001b[39marray([ar,ar,ar])\n\u001b[1;32m----> 8\u001b[0m \u001b[38;5;28mprint\u001b[39m (n_ar\u001b[38;5;241m+\u001b[39m n_ar)\n\u001b[0;32m     10\u001b[0m x \u001b[38;5;241m=\u001b[39m np\u001b[38;5;241m.\u001b[39marange(\u001b[38;5;241m10\u001b[39m,\u001b[38;5;241m20\u001b[39m,\u001b[38;5;241m3\u001b[39m)\n\u001b[0;32m     12\u001b[0m \u001b[38;5;28mprint\u001b[39m (x)\n",
      "\u001b[1;31mUFuncTypeError\u001b[0m: ufunc 'add' did not contain a loop with signature matching types (dtype('<U15'), dtype('<U15')) -> None"
     ]
    }
   ],
   "source": [
    "import numpy as np\n",
    "import pandas as pd\n",
    "\n",
    "ar= [\"absolute\", 'absolute_import', 'all']\n",
    "ar1=[ 'any', 'append', 'apply_along_axis', 'apply_over_axes', 'arange', 'array', 'array2string', 'array_equal']\n",
    "n_ar = np.array([ar,ar,ar])\n",
    "\n",
    "\n",
    "x = np.arange(10,20,3)\n",
    "\n",
    "print (x)\n",
    "x=  np.linspace(10,20,5)\n",
    "print (\"linspace\",x)\n",
    "\n",
    "x= np.zeros((2,3))\n",
    "\n",
    "# np.ones((3,4)) \n",
    "# #np.empty((2,3)) \n",
    "# np.full((2,2),4)\n",
    "# np.eye(3,3)\n",
    "\n",
    "print (x) \n",
    "\n"
   ]
  },
  {
   "cell_type": "code",
   "execution_count": 5,
   "metadata": {},
   "outputs": [
    {
     "name": "stdout",
     "output_type": "stream",
     "text": [
      "[[0.67227856 0.4880784  0.82549517]\n",
      " [0.03144639 0.80804996 0.56561742]]\n",
      "[[-0.06903086  0.75518049]]\n",
      "[[0.77777 0.88888]]\n",
      "[-2.36783759 -1.43500814 -0.85579558 -0.8164661  -2.13970379 -1.19193417\n",
      " -0.97467528]\n",
      "[-2.36783759 -1.43500814 -0.85579558 -0.8164661  -2.13970379 -1.19193417\n",
      " -0.97467528]\n",
      "[0.88888    0.88281715 0.59095329 0.92595278 2.20731059 1.76347792\n",
      " 1.08622556]\n"
     ]
    }
   ],
   "source": [
    "# x= np.arange(1,5).reshape(2,2)\n",
    "# x1 = np.eye(2)\n",
    "\n",
    "np.random.seed(99)  # Set the seed for reproducibility\n",
    "z = np.random.rand(2,3)\n",
    "print(z)\n",
    "\n",
    "z2 = np.random.randn(7,7)\n",
    "print (z2[0:1,1:3])\n",
    "\n",
    "z2[0:1,1:3]= [.77777,.88888]\n",
    "print (z2[0:1,1:3])\n",
    "z2\n",
    "print(z2.min(axis=1))\n",
    "print(np.min(z2, axis=1))\n",
    "print(np.max(z2, axis=1))\n",
    "\n",
    "\n"
   ]
  },
  {
   "cell_type": "code",
   "execution_count": 28,
   "metadata": {},
   "outputs": [
    {
     "name": "stdout",
     "output_type": "stream",
     "text": [
      "[[1 0 3]\n",
      " [4 0 6]\n",
      " [7 8 9]]\n"
     ]
    }
   ],
   "source": [
    "#m = np.array([[1,2,3],[4,5,6],[7,8,9]])\n",
    "m = np.arange(1,10).reshape(3,3)\n",
    "m[0:2,1:2] = 0\n",
    "print (m)"
   ]
  },
  {
   "cell_type": "code",
   "execution_count": 22,
   "metadata": {},
   "outputs": [
    {
     "name": "stdout",
     "output_type": "stream",
     "text": [
      "[ 1  2  3  4  5  6  7  8  9 10 11 12 13 14]\n"
     ]
    },
    {
     "data": {
      "text/plain": [
       "array([ 1.,  2.,  3.,  4.,  5.,  6.,  7.,  8.,  9., 10., 11., 12., 13.,\n",
       "       14.])"
      ]
     },
     "execution_count": 22,
     "metadata": {},
     "output_type": "execute_result"
    }
   ],
   "source": [
    "m1 = np.arange(1,15)\n",
    "#np.save(r'D:\\0-AI-ML\\ai-ml\\week2\\m1.npy', m1)  # Save the array to a file\n",
    "np.save('D:\\\\0-AI-ML\\\\ai-ml\\\\week2\\\\m1.npy', m1)  # Save the array to a file\n",
    "np.savetxt('D:\\\\0-AI-ML\\\\ai-ml\\\\week2\\\\m1.txt', m1)  # Save the array to a text file\n",
    "np.savez('D:\\\\0-AI-ML\\\\ai-ml\\\\week2\\\\m12.npy', m1)  # Save the array to a file\n",
    "m5 = np.load('D:\\\\0-AI-ML\\\\ai-ml\\\\week2\\\\m1.npy')  # Load the array from the file\n",
    "print(m5)\n",
    "m6 = np.loadtxt('D:\\\\0-AI-ML\\\\ai-ml\\\\week2\\\\m1.txt')  # Load the array from the text file\n",
    "m6"
   ]
  },
  {
   "cell_type": "code",
   "execution_count": null,
   "metadata": {},
   "outputs": [
    {
     "data": {
      "text/plain": [
       "array([[3, 3, 3, 3, 3],\n",
       "       [3, 3, 3, 3, 3],\n",
       "       [3, 3, 3, 3, 3]])"
      ]
     },
     "execution_count": 9,
     "metadata": {},
     "output_type": "execute_result"
    }
   ],
   "source": [
    "n1 = np.full((3,5),3)\n",
    "n2 = np.copy(n1)\n",
    "\n"
   ]
  }
 ],
 "metadata": {
  "kernelspec": {
   "display_name": "base",
   "language": "python",
   "name": "python3"
  },
  "language_info": {
   "codemirror_mode": {
    "name": "ipython",
    "version": 3
   },
   "file_extension": ".py",
   "mimetype": "text/x-python",
   "name": "python",
   "nbconvert_exporter": "python",
   "pygments_lexer": "ipython3",
   "version": "3.12.7"
  }
 },
 "nbformat": 4,
 "nbformat_minor": 2
}
