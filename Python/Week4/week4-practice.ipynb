{
 "cells": [
  {
   "cell_type": "code",
   "execution_count": 1,
   "id": "f835f0b7",
   "metadata": {},
   "outputs": [
    {
     "name": "stdout",
     "output_type": "stream",
     "text": [
      "Requirement already satisfied: scikit-learn in d:\\pythonengine\\anaconda\\lib\\site-packages (1.5.1)\n",
      "Requirement already satisfied: numpy>=1.19.5 in d:\\pythonengine\\anaconda\\lib\\site-packages (from scikit-learn) (1.26.4)\n",
      "Requirement already satisfied: scipy>=1.6.0 in d:\\pythonengine\\anaconda\\lib\\site-packages (from scikit-learn) (1.13.1)\n",
      "Requirement already satisfied: joblib>=1.2.0 in d:\\pythonengine\\anaconda\\lib\\site-packages (from scikit-learn) (1.4.2)\n",
      "Requirement already satisfied: threadpoolctl>=3.1.0 in d:\\pythonengine\\anaconda\\lib\\site-packages (from scikit-learn) (3.5.0)\n",
      "Note: you may need to restart the kernel to use updated packages.\n"
     ]
    }
   ],
   "source": [
    "%pip install scikit-learn\n",
    "\n",
    "import nltk as nl\n",
    "import sklearn as sk\n",
    "import pandas as pd\n",
    "import numpy as np\n",
    "import matplotlib.pyplot as plt\n",
    "import seaborn as sns\n",
    "#from sklearn.feature_extraction.text import CountVectorizer\n",
    "#from sklearn.feature_extraction.text import TfidfVectorizer\n",
    "\n",
    "rv = pd.read_csv('movie_reviews.csv')\n",
    "rv_copy= rv.copy()\n",
    "pd.set_option('max_colwidth', None)\n",
    "\n"
   ]
  },
  {
   "cell_type": "code",
   "execution_count": 26,
   "id": "c45819dc",
   "metadata": {},
   "outputs": [],
   "source": [
    "#rv.head(10)\n",
    "#rv.info()\n",
    "#rv.review.isnull().sum()\n",
    "#rv['review'].isnull().sum()\n",
    "rv.review.duplicated().sum()\n",
    "rv = rv.drop_duplicates(subset=['review'])\n",
    "rv.review.duplicated().sum()\n",
    "rv = rv.reset_index(drop=True)"
   ]
  },
  {
   "cell_type": "markdown",
   "id": "32e048c0",
   "metadata": {},
   "source": [
    "### remove special character "
   ]
  },
  {
   "cell_type": "code",
   "execution_count": null,
   "id": "7205e8fe",
   "metadata": {},
   "outputs": [],
   "source": [
    "sp_char = [',', '!', '@', '#', '$', '%', '^', '&', '*', '(', ')', '-', '_', '=', '+', '{', '}', '[', ']', ':', ';', '\"', \"'\", '<', '>', ',', '.', '?', '/', '|', '\\\\']\n",
    "\n",
    "for i in sp_char:\n",
    "    rv['review'] = rv['review'].str.replace(i, '')\n",
    "\n",
    "rv['review'] = rv['review'].str.replace('\\n', '')\n",
    "rv['review'] = rv['review'].str.replace('\\r', '')   \n",
    "#rv['review'] = rv['review'].str.lower()\n",
    "\n",
    "\n",
    "\n",
    "\n"
   ]
  },
  {
   "cell_type": "markdown",
   "id": "b67e12ea",
   "metadata": {},
   "source": [
    "## regular expression"
   ]
  },
  {
   "cell_type": "code",
   "execution_count": 80,
   "id": "41793470",
   "metadata": {},
   "outputs": [
    {
     "name": "stdout",
     "output_type": "stream",
     "text": [
      "ooooooojooooooonoooooooooooooojenoooooooooooooonoooooooooooooojnooooooojnooooooooooooooooooooojwnooooooonwr\n"
     ]
    },
    {
     "data": {
      "text/plain": [
       "1733"
      ]
     },
     "execution_count": 80,
     "metadata": {},
     "output_type": "execute_result"
    }
   ],
   "source": [
    "import re\n",
    "\n",
    "tst = 'ljknfljenflnfljnljngfljwnlnwr'\n",
    "#tst1= re.sub(r'[l,f,g]','ooooooo' , tst)\n",
    "tst1= re.sub(r'[lfgk]','ooooooo' , tst)\n",
    "#tst1= ''.join(re.sub(r'[l,f,g]','ooooooo' , tst))\n",
    "print(tst1)\n",
    "len(rv['review'][1])\n",
    "\n",
    "\n"
   ]
  },
  {
   "cell_type": "markdown",
   "id": "644f155d",
   "metadata": {},
   "source": [
    "## NLTK  & STOP words"
   ]
  },
  {
   "cell_type": "code",
   "execution_count": 2,
   "id": "c2559306",
   "metadata": {},
   "outputs": [
    {
     "name": "stderr",
     "output_type": "stream",
     "text": [
      "[nltk_data] Downloading package punkt to D:\\0-AI-ML\\ai-ml\\week4...\n",
      "[nltk_data]   Package punkt is already up-to-date!\n",
      "[nltk_data] Downloading package stopwords to D:\\0-AI-ML\\ai-ml\\week4...\n",
      "[nltk_data]   Package stopwords is already up-to-date!\n",
      "[nltk_data] Downloading package wordnet to D:\\0-AI-ML\\ai-ml\\week4...\n",
      "[nltk_data]   Package wordnet is already up-to-date!\n",
      "[nltk_data] Downloading package omw-1.4 to D:\\0-AI-ML\\ai-ml\\week4...\n",
      "[nltk_data]   Package omw-1.4 is already up-to-date!\n"
     ]
    },
    {
     "data": {
      "text/plain": [
       "True"
      ]
     },
     "execution_count": 2,
     "metadata": {},
     "output_type": "execute_result"
    }
   ],
   "source": [
    "import nltk as nl\n",
    "from nltk.corpus import stopwords as sw\n",
    "from nltk.stem import PorterStemmer \n",
    "from nltk.tokenize import word_tokenize as wt\n",
    "ps = PorterStemmer()\n",
    "\n",
    "nl.download('punkt',download_dir='D:\\\\0-AI-ML\\\\ai-ml\\\\week4')\n",
    "nl.download('stopwords',download_dir='D:\\\\0-AI-ML\\\\ai-ml\\\\week4')    \n",
    "nl.download('wordnet',download_dir='D:\\\\0-AI-ML\\\\ai-ml\\\\week4')\n",
    "nl.download('omw-1.4',download_dir='D:\\\\0-AI-ML\\\\ai-ml\\\\week4')"
   ]
  },
  {
   "cell_type": "code",
   "execution_count": null,
   "id": "9f731105",
   "metadata": {},
   "outputs": [
    {
     "data": {
      "text/plain": [
       "'run'"
      ]
     },
     "execution_count": 3,
     "metadata": {},
     "output_type": "execute_result"
    }
   ],
   "source": [
    "sw.words('english')[10:100]\n",
    "\n",
    "# rv.new_review = ''.join([rv.review[0][i] for i in range(len(rv.review[0])) if rv.review[0][i] not in sw.words('english')])\n",
    "# rv.head(10)\n",
    "# rv.new_review \n",
    "\n",
    "# new_str = 'Azure App Service is an HTTP-based service for hosting web applications, REST APIs, and mobile back ends. You can develop in your favorite language, be it .NET, .NET Core, Java, Node.js, Python, or PHP. Applications run and scale with ease on both Windows and Linux-based environments.'\n",
    "\n",
    "#sp_pattern = re.compile(r'[!@#$%^&*()_+{}\":;\\'<>?,./|\\\\]')\n",
    "\n",
    "# new_str = re.sub(sp_pattern, '', new_str)\n",
    "# print(new_str)\n",
    "\n",
    "\n",
    "# new_str_words = new_str.split(' ')\n",
    "# new_str_words\n",
    "\n",
    "# new_str_words_clean = ''.join([new_str_words[i] for i in range(len(new_str_words)) if new_str_words[i] not in sw.words('english')])\n",
    "# new_str_words_clean\n",
    "\n",
    "# def remove_stopwords(text):\n",
    "#     text_words = text.split(' ')\n",
    "#     text_words_clean = [text_words[i] for i in range(len(text_words)) if text_words[i] not in sw.words('english')]\n",
    "#     return ' '.join(text_words_clean)   \n",
    "\n",
    "\n",
    "# rv['review'] = rv['review'].apply(remove_stopwords)\n",
    "\n",
    "# st= \"running\"\n",
    "# st1 = ps.stem(st)\n",
    "# st1\n",
    "\n"
   ]
  },
  {
   "cell_type": "markdown",
   "id": "d8d65754",
   "metadata": {},
   "source": [
    "## Stemming\n",
    "\n"
   ]
  },
  {
   "cell_type": "code",
   "execution_count": 6,
   "id": "2fbeade5",
   "metadata": {},
   "outputs": [
    {
     "data": {
      "text/plain": [
       "'run'"
      ]
     },
     "execution_count": 6,
     "metadata": {},
     "output_type": "execute_result"
    }
   ],
   "source": [
    "st1 = 'Running'\n",
    "st2 = ps.stem(st1)\n",
    "st2.lower()\n",
    "\n",
    "# def stem_words(text):\n",
    "#     text_words = text.split(' ')\n",
    "#     text_words_stemmed = ' '.join([ps.stem(text_words[i]) for i in range(len(text_words))])\n",
    "#     #return ' '.join(text_words_stemmed) \n",
    "#     return text_words_stemmed\n",
    "\n",
    "\n",
    "# rv['review'] = rv['review'].apply(stem_words)\n",
    "# rv.head(1)\n"
   ]
  },
  {
   "cell_type": "markdown",
   "id": "22dad830",
   "metadata": {},
   "source": [
    "# vectorization"
   ]
  },
  {
   "cell_type": "code",
   "execution_count": 100,
   "id": "25332b12",
   "metadata": {},
   "outputs": [],
   "source": [
    "from sklearn.feature_extraction.text import CountVectorizer"
   ]
  },
  {
   "cell_type": "code",
   "execution_count": null,
   "id": "094c1e79",
   "metadata": {},
   "outputs": [],
   "source": [
    "\n",
    "\n",
    "#rv.drop(columns=['review_stemmed'], inplace=True)\n",
    "rv.head(10)\n",
    "\n",
    "rv_list = rv.review.tolist()\n",
    "rv_bow = CountVectorizer()\n",
    "\n",
    "rv_doc_matrix = rv_bow.fit_transform(rv_list)\n",
    "rv_doc_matrix.shape\n",
    "\n",
    "rv_doc_matrix.toarray()\n",
    "rv_bow.get_feature_names_out()[0:20]\n",
    "rv_bow_df = pd.DataFrame(rv_doc_matrix.toarray(), columns=rv_bow.get_feature_names_out())\n",
    "rv_bow_df.head(10)"
   ]
  },
  {
   "cell_type": "code",
   "execution_count": null,
   "id": "4985314e",
   "metadata": {},
   "outputs": [],
   "source": [
    "#rv_bow_df.head(10)\n"
   ]
  }
 ],
 "metadata": {
  "kernelspec": {
   "display_name": "base",
   "language": "python",
   "name": "python3"
  },
  "language_info": {
   "codemirror_mode": {
    "name": "ipython",
    "version": 3
   },
   "file_extension": ".py",
   "mimetype": "text/x-python",
   "name": "python",
   "nbconvert_exporter": "python",
   "pygments_lexer": "ipython3",
   "version": "3.12.7"
  }
 },
 "nbformat": 4,
 "nbformat_minor": 5
}
