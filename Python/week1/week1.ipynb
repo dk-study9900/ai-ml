{
 "cells": [
  {
   "cell_type": "code",
   "execution_count": 7,
   "metadata": {
    "colab": {
     "base_uri": "https://localhost:8080/"
    },
    "executionInfo": {
     "elapsed": 5148,
     "status": "ok",
     "timestamp": 1743133124572,
     "user": {
      "displayName": "dinesh kumar",
      "userId": "06351982520738498057"
     },
     "user_tz": 300
    },
    "id": "iHm-2AnVz2fp",
    "outputId": "296baf0e-2ad2-4f80-bf12-52ca06d9faa4"
   },
   "outputs": [
    {
     "name": "stdout",
     "output_type": "stream",
     "text": [
      "dineshrocxks\n",
      "dineshrocxks\n",
      "d\n",
      "i\n",
      "n\n",
      "e\n",
      "s\n",
      "h\n",
      "r\n",
      "o\n",
      "c\n",
      "x\n",
      "k\n",
      "s\n"
     ]
    }
   ],
   "source": [
    "\n",
    "b = input()\n",
    "#b =[1,2,3,4,5,6,7,8,9,10]\n",
    "\n",
    "print(b)\n",
    "\n",
    "for i in b:\n",
    "  print(i) # 2 4 6 8 10\n",
    "  continue\n",
    "\n",
    "# for i in c:\n",
    "#     print(i) # 2 4 6 8 10\n",
    "\n"
   ]
  },
  {
   "cell_type": "code",
   "execution_count": null,
   "metadata": {},
   "outputs": [
    {
     "name": "stdout",
     "output_type": "stream",
     "text": [
      "Audi\n",
      "2020\n"
     ]
    }
   ],
   "source": [
    "dict = {\n",
    "    \"brand\": \"Audi\",\n",
    "    \"Model\": \"Q2\",\n",
    "    \"Year\": 1980\n",
    "}\n",
    "\n",
    "print(dict[\"brand\"])\n",
    "dict[\"Year\"] = 2020\n",
    "aprint(dict[\"Year\"])"
   ]
  },
  {
   "cell_type": "code",
   "execution_count": 47,
   "metadata": {},
   "outputs": [
    {
     "name": "stdout",
     "output_type": "stream",
     "text": [
      "5050\n"
     ]
    }
   ],
   "source": [
    "n= 0 \n",
    "for i in range (1,101):\n",
    "    n = n+i\n",
    "    #print(\"{} ^ {} =\" .format(n,i),n**i)\n",
    "    #print(\"{} ^ {} = {}\" .format(n,i,n**i))\n",
    "print(n)\n",
    "    "
   ]
  },
  {
   "cell_type": "markdown",
   "metadata": {
    "id": "r1MtJedgz2fs"
   },
   "source": []
  },
  {
   "cell_type": "code",
   "execution_count": 14,
   "metadata": {},
   "outputs": [
    {
     "data": {
      "text/plain": [
       "'B'"
      ]
     },
     "execution_count": 14,
     "metadata": {},
     "output_type": "execute_result"
    }
   ],
   "source": [
    "a= [2,4,6,8]\n",
    "\n",
    "a[-2]\n",
    "\n",
    "my_dict = {'1': 'a', '2':'B' , '3':['c','d','e']} \n",
    "#my_dict['3'][2] # 'd'\n",
    "#my_dict['3'][1] # 'd'\n",
    "my_dict['2'] # 'c'\n"
   ]
  },
  {
   "cell_type": "code",
   "execution_count": 3,
   "metadata": {},
   "outputs": [
    {
     "name": "stdout",
     "output_type": "stream",
     "text": [
      "68.0\n"
     ]
    }
   ],
   "source": [
    "def mths(a,b,*args,**kwargs):\n",
    " return 1.8 * a + 32\n",
    " \n",
    "\n",
    "print(mths(20,2))\n",
    "\n",
    "\n"
   ]
  },
  {
   "cell_type": "code",
   "execution_count": 24,
   "metadata": {},
   "outputs": [
    {
     "data": {
      "text/plain": [
       "['great', 51, True, 46, 'Hi', 'great', 51, True, 46, 'Hi']"
      ]
     },
     "execution_count": 24,
     "metadata": {},
     "output_type": "execute_result"
    }
   ],
   "source": [
    "my_list = [\"great\",51,True,46,\"Hi\"]\n",
    "\n",
    "#my_list[2:4]\n",
    "my_list[2:-1] # [51, True]\n",
    "\n",
    "my_list*2"
   ]
  }
 ],
 "metadata": {
  "colab": {
   "provenance": []
  },
  "kernelspec": {
   "display_name": "base",
   "language": "python",
   "name": "python3"
  },
  "language_info": {
   "codemirror_mode": {
    "name": "ipython",
    "version": 3
   },
   "file_extension": ".py",
   "mimetype": "text/x-python",
   "name": "python",
   "nbconvert_exporter": "python",
   "pygments_lexer": "ipython3",
   "version": "3.12.7"
  }
 },
 "nbformat": 4,
 "nbformat_minor": 0
}
