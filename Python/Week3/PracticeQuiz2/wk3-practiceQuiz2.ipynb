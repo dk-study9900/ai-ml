{
 "cells": [
  {
   "cell_type": "code",
   "execution_count": null,
   "id": "4eb46944",
   "metadata": {},
   "outputs": [
    {
     "name": "stdout",
     "output_type": "stream",
     "text": [
      "<class 'pandas.core.frame.DataFrame'>\n",
      "RangeIndex: 891 entries, 0 to 890\n",
      "Data columns (total 12 columns):\n",
      " #   Column       Non-Null Count  Dtype  \n",
      "---  ------       --------------  -----  \n",
      " 0   PassengerId  891 non-null    int64  \n",
      " 1   Survived     891 non-null    int64  \n",
      " 2   Pclass       891 non-null    int64  \n",
      " 3   Name         891 non-null    object \n",
      " 4   Sex          891 non-null    object \n",
      " 5   Age          714 non-null    float64\n",
      " 6   SibSp        891 non-null    int64  \n",
      " 7   Parch        891 non-null    int64  \n",
      " 8   Ticket       891 non-null    object \n",
      " 9   Fare         891 non-null    float64\n",
      " 10  Cabin        204 non-null    object \n",
      " 11  Embarked     889 non-null    object \n",
      "dtypes: float64(2), int64(5), object(5)\n",
      "memory usage: 83.7+ KB\n"
     ]
    }
   ],
   "source": [
    "import pandas   as pd\n",
    "import numpy    as np\n",
    "import matplotlib.pyplot as plt\n",
    "import seaborn as sns\n",
    "\n",
    "q2 = pd.read_csv('titanicdataset.csv')\n",
    "q2.head()\n",
    "q2.info()\n",
    "\n"
   ]
  },
  {
   "cell_type": "code",
   "execution_count": null,
   "id": "c9b99168",
   "metadata": {},
   "outputs": [
    {
     "data": {
      "text/plain": [
       "PassengerId      0\n",
       "Survived         0\n",
       "Pclass           0\n",
       "Name             0\n",
       "Sex              0\n",
       "Age            177\n",
       "SibSp            0\n",
       "Parch            0\n",
       "Ticket           0\n",
       "Fare             0\n",
       "Cabin          687\n",
       "Embarked         2\n",
       "dtype: int64"
      ]
     },
     "execution_count": 26,
     "metadata": {},
     "output_type": "execute_result"
    }
   ],
   "source": [
    "q2.Fare.min()\n",
    "q2.Fare.max()#512.3292\n",
    "# q2.Fare.mean() #32.204207968574636\n",
    "# q2.Fare.median() #14.4542\n",
    "#sns.boxplot(y='Fare', data=q2, palette='Set3')\n",
    "q2.isnull().sum()\n",
    "#sns.scatterplot(y='Sex', x='Age', hue='Survived', data=q2, alpha=0.5, color='blue')\n",
    "#sns.histplot(x='Parch', data=q2, bins=30, kde=True, color='blue')\n",
    "#sns.countplot(x='Pclass', data=q2, hue='Survived', palette='Set2')\n",
    "#q2[q2['Survived'] == 1].groupby('Pclass').size()\n",
    "#sns.countplot(x='Embarked', data=q2, hue='Survived', palette='Set2')\n",
    "#sns.boxplot(x='Sex', y='Fare', data=q2, hue='Sex', legend=False, palette='Set3')\n",
    "q2_1 = q2['Age'].fillna(value=q2.groupby(['Age'])['Fare'].transform('mean'))\n"
   ]
  }
 ],
 "metadata": {
  "kernelspec": {
   "display_name": "base",
   "language": "python",
   "name": "python3"
  },
  "language_info": {
   "codemirror_mode": {
    "name": "ipython",
    "version": 3
   },
   "file_extension": ".py",
   "mimetype": "text/x-python",
   "name": "python",
   "nbconvert_exporter": "python",
   "pygments_lexer": "ipython3",
   "version": "3.12.7"
  }
 },
 "nbformat": 4,
 "nbformat_minor": 5
}
