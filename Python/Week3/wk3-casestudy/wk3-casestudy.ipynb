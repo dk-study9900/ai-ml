{
 "cells": [
  {
   "cell_type": "markdown",
   "id": "dc671abb",
   "metadata": {},
   "source": [
    "#Uber case stude\n",
    "\n",
    "Objective\n",
    "Uber Technologies, Inc. is an American multinational transportation network company based in San Francisco and has operations in over 785 metropolitan areas with over 110 million users worldwide. As a newly hired Data Scientist in Uber's New York Office, you have been given the task of extracting actionable insights from data that will help in the growth of the business.\n",
    "\n",
    " \n",
    "\n",
    "Key Questions\n",
    "What are the different variables that influence the number of pickups?\n",
    "Which factor affects the number of pickups the most? What could be the possible reasons for that?\n",
    "What are your recommendations to Uber management to capitalize on fluctuating demand?\n",
    " \n",
    "Guidelines\n",
    "Perform univariate analysis on the data to better understand the variables at your disposal\n",
    "Perform bivariate analysis to better understand the correlation between different variables\n",
    "Create visualizations to explore data and extract the insights\n",
    "Create a presentation for Uber Management, detailing all the insights along with supporting data.\n",
    "\n",
    "### **Data Description:**\n",
    "The data contains the details for the Uber rides across various boroughs (subdivisions) of New York City at an hourly level and attributes associated with weather conditions at that time.\n",
    "\n",
    "* pickup_dt: Date and time of the pick-up\n",
    "* borough: NYC's borough\n",
    "* pickups: Number of pickups for the period (hourly)\n",
    "* spd: Wind speed in miles/hour\n",
    "* vsb: Visibility in miles to the nearest tenth\n",
    "* temp: Temperature in Fahrenheit\n",
    "* dewp: Dew point in Fahrenheit\n",
    "* slp: Sea level pressure\n",
    "* pcp01: 1-hour liquid precipitation\n",
    "* pcp06: 6-hour liquid precipitation\n",
    "* pcp24: 24-hour liquid precipitation\n",
    "* sd: Snow depth in inches\n",
    "* hday: Being a holiday (Y) or not (N)\n"
   ]
  },
  {
   "cell_type": "code",
   "execution_count": null,
   "id": "66ca812a",
   "metadata": {},
   "outputs": [],
   "source": [
    "import pandas as pd\n",
    "import numpy as np\n",
    "import seaborn as sns\n",
    "import matplotlib.pyplot as plt\n",
    "\n",
    "ub_or = pd.read_csv('Uber_Data.csv')\n",
    "\n"
   ]
  },
  {
   "cell_type": "code",
   "execution_count": 11,
   "id": "dc9b6f47",
   "metadata": {},
   "outputs": [
    {
     "name": "stdout",
     "output_type": "stream",
     "text": [
      "<class 'pandas.core.frame.DataFrame'>\n",
      "RangeIndex: 29101 entries, 0 to 29100\n",
      "Data columns (total 13 columns):\n",
      " #   Column     Non-Null Count  Dtype         \n",
      "---  ------     --------------  -----         \n",
      " 0   pickup_dt  29101 non-null  datetime64[ns]\n",
      " 1   borough    26058 non-null  object        \n",
      " 2   pickups    29101 non-null  int64         \n",
      " 3   spd        29101 non-null  float64       \n",
      " 4   vsb        29101 non-null  float64       \n",
      " 5   temp       28742 non-null  float64       \n",
      " 6   dewp       29101 non-null  float64       \n",
      " 7   slp        29101 non-null  float64       \n",
      " 8   pcp01      29101 non-null  float64       \n",
      " 9   pcp06      29101 non-null  float64       \n",
      " 10  pcp24      29101 non-null  float64       \n",
      " 11  sd         29101 non-null  float64       \n",
      " 12  hday       29101 non-null  object        \n",
      "dtypes: datetime64[ns](1), float64(9), int64(1), object(2)\n",
      "memory usage: 2.9+ MB\n"
     ]
    }
   ],
   "source": [
    "# ub_or.shape\n",
    "# ub_or.head(5)  # Display the first 5 rows of the dataset\n",
    "ub_or.info()\n",
    "  # Get information about the dataset, including data types and non-null counts\n",
    "#ub_or.describe().T  # Get summary statistics of the dataset"
   ]
  },
  {
   "cell_type": "markdown",
   "id": "cf864229",
   "metadata": {},
   "source": [
    "### Question 1\n",
    "What are the different variables that influence the number of pickups?"
   ]
  },
  {
   "cell_type": "code",
   "execution_count": 17,
   "id": "8bfbbfdb",
   "metadata": {},
   "outputs": [
    {
     "data": {
      "text/plain": [
       "0        False\n",
       "1         True\n",
       "2        False\n",
       "3        False\n",
       "4        False\n",
       "         ...  \n",
       "29096    False\n",
       "29097    False\n",
       "29098    False\n",
       "29099    False\n",
       "29100    False\n",
       "Name: temp, Length: 29101, dtype: bool"
      ]
     },
     "execution_count": 17,
     "metadata": {},
     "output_type": "execute_result"
    }
   ],
   "source": [
    "# Convert pickup_dt string to datetime with dayfirst=True to handle DD-MM-YYYY format\n",
    "#ub_or['pickup_dt'] = pd.to_datetime(ub_or['pickup_dt'], dayfirst=True)\n",
    "\n",
    "# review null values\n",
    "#ub_or.isnull().sum()  # Check for null values in each column\n",
    "# replace burrough null values woth \"burr-1\"\n",
    "#ub_or['borough'].fillna('burr-1', inplace=True)\n",
    "#ub_or.fillna({'borough': 'burr-1'}, inplace=True)  # Replace null values in 'borough' with 'burr-1'\n",
    "\n",
    "# replace temp null values with  ??\n",
    "\n",
    "ub_or['temp'].isnull()\n",
    "\n",
    "\n",
    "\n",
    "\n",
    "# categorical columns borough and hday\n",
    "\n",
    "# ub_num_cols = ub_or.select_dtypes(include=['float64', 'int64'])\n",
    "# sns.heatmap(ub_num_cols.corr(), annot=True, cmap='coolwarm', fmt='.2f')\n",
    "# plt.title('Correlation Heatmap')"
   ]
  }
 ],
 "metadata": {
  "kernelspec": {
   "display_name": "base",
   "language": "python",
   "name": "python3"
  },
  "language_info": {
   "codemirror_mode": {
    "name": "ipython",
    "version": 3
   },
   "file_extension": ".py",
   "mimetype": "text/x-python",
   "name": "python",
   "nbconvert_exporter": "python",
   "pygments_lexer": "ipython3",
   "version": "3.12.7"
  }
 },
 "nbformat": 4,
 "nbformat_minor": 5
}
