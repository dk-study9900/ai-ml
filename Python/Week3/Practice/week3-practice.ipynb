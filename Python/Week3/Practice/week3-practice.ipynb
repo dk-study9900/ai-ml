{
 "cells": [
  {
   "cell_type": "markdown",
   "id": "8d588821",
   "metadata": {},
   "source": [
    "#Exploratrory Data Analysis\n",
    "\n",
    "#Data charecterestics or sanity checks\n",
    "1. Number of rows , data types\n",
    "2. Duplicates\n",
    "3. Nulls or missing data \n",
    "4. identify categories\n",
    "    type : [t,h,]\n",
    "5. misalligned data types\n",
    "6. data distribution: mdeian, outliers, "
   ]
  },
  {
   "cell_type": "code",
   "execution_count": 1,
   "id": "e9e4fa0f",
   "metadata": {},
   "outputs": [],
   "source": [
    "import numpy as np\n",
    "import matplotlib.pyplot as plt\n",
    "import matplotlib.cm as cm\n",
    "import matplotlib.colors as mcolors\n",
    "import pandas as pd\n",
    "import seaborn as sns\n",
    "\n",
    "\n",
    "df_original  = pd.read_csv('D:\\\\0-AI-ML\\\\ai-ml\\\\Week3\\\\Lectur\\\\melbourne_housing.csv')\n",
    "#print(\"Category column Type and unique values\",df_original['Type'].unique())\n",
    "#print(\"Category column Suburb and unique values\",df_original['Suburb'].unique())\n",
    "#print(\"Category column Regionname and unique values\",df_original['Regionname'].unique())\n",
    "#print(\"Category column Postcode and unique values\",df_original['Postcode'].unique())\n",
    "# total_rows = len(df_original)\n",
    "# print(\"Total rows in df_original:\", total_rows)\n",
    "# print(\"75% of rows \",round(total_rows * 0.75),\" in df_original is used for training and 25% for testing:\" )\n",
    "# total_columns = len(df_original.columns)\n",
    "# print(\"Total columns in df_original:\", total_columns)\n",
    "\n",
    "\n",
    "#find duplicates and drop them \n",
    "#df_original.duplicated().sum()\n",
    "#df_original.drop_duplicates(inplace=True)  # drop the duplicates \n",
    "\n"
   ]
  },
  {
   "cell_type": "code",
   "execution_count": 12,
   "id": "49c6bf18",
   "metadata": {},
   "outputs": [
    {
     "name": "stdout",
     "output_type": "stream",
     "text": [
      "<class 'pandas.core.frame.DataFrame'>\n",
      "RangeIndex: 27114 entries, 0 to 27113\n",
      "Data columns (total 16 columns):\n",
      " #   Column         Non-Null Count  Dtype  \n",
      "---  ------         --------------  -----  \n",
      " 0   Suburb         27114 non-null  object \n",
      " 1   Rooms          27114 non-null  int64  \n",
      " 2   Type           27114 non-null  object \n",
      " 3   SellerG        27114 non-null  object \n",
      " 4   Date           27114 non-null  object \n",
      " 5   Distance       27113 non-null  float64\n",
      " 6   Postcode       27113 non-null  float64\n",
      " 7   Bedroom        20678 non-null  float64\n",
      " 8   Bathroom       20672 non-null  float64\n",
      " 9   Car            20297 non-null  float64\n",
      " 10  Landsize       17873 non-null  float64\n",
      " 11  BuildingArea   10534 non-null  float64\n",
      " 12  YearBuilt      11985 non-null  float64\n",
      " 13  Regionname     27114 non-null  object \n",
      " 14  Propertycount  27114 non-null  int64  \n",
      " 15  Price          27114 non-null  int64  \n",
      "dtypes: float64(8), int64(3), object(5)\n",
      "memory usage: 3.3+ MB\n"
     ]
    }
   ],
   "source": [
    "#find null value\n",
    "#df_original.isnull().sum()\n",
    "df_original.info()\n"
   ]
  },
  {
   "cell_type": "code",
   "execution_count": 16,
   "id": "8fd626c3",
   "metadata": {},
   "outputs": [
    {
     "data": {
      "text/plain": [
       "<seaborn.axisgrid.FacetGrid at 0x1491b5b1070>"
      ]
     },
     "execution_count": 16,
     "metadata": {},
     "output_type": "execute_result"
    },
    {
     "data": {
      "image/png": "[encoded data removed]",
      "text/plain": [
       "<Figure size 500x500 with 1 Axes>"
      ]
     },
     "metadata": {},
     "output_type": "display_data"
    }
   ],
   "source": [
    "# #univariate analysis\n",
    "\n",
    "# #fix null distance\n",
    "# # Filter rows where the 'Distance' column has null values\n",
    "# #df_original[df_original['Distance'].isnull()]\n",
    "# #df_original[df_original['Suburb'] == 'Fawkner Lot']\n",
    "# #ther's one recod for suburb Fawkner Lot with null value in distance column , this qualifies for removal\n",
    "# #df_original.drop(df_original[df_original['Suburb'] == 'Fawkner Lot'].index, inplace=True)\n",
    "# #df_original[df_original['Postcode'].isnull()]  # null postal code got removed with suburb Fawkner record\n",
    "\n",
    "# # fix null bedroom\n",
    "# # Filter rows where the 'Bedroom' column has null values\n",
    "# #df_original[df_original['Bedroom'].isnull()].shape[0] # Count of rows with null values in 'Bedroom' column is 6424\n",
    "# #df_original.head(30) # check the first 10 rows of the dataframe\n",
    "# #filter \n",
    "\n",
    "# # Ensure 'BuildingArea' is numeric, coercing invalid values to NaN\n",
    "# df_original['BuildingArea'] = pd.to_numeric(df_original['BuildingArea'], errors='coerce')\n",
    "\n",
    "# # Filter rows where 'BuildingArea' is less than 400\n",
    "# filtered_df = df_original[(df_original['BuildingArea'] < 600) & (df_original['BuildingArea'] > 100)]\n",
    "# filtered_df.shape[0] # Count of rows with 'BuildingArea' less than 400 is 1239\n",
    "\n",
    "# # Plot the boxplot\n",
    "# #sns.boxplot(y='Bedroom', x='BuildingArea', data=filtered_df, showfliers=False)\n",
    "#sns.histplot(data=filtered_df, x='BuildingArea', bins=30, kde=True)\n",
    "#sns.histplot(data=df_original, x='Price', bins=50, kde=True)\n",
    "sns.displot(data=df_original, x='BuildingArea', bins=30, kde=True, color='blue', alpha=0.5)\n",
    "\n",
    "# plt.title('Distribution of Building Area')  \n",
    "\n"
   ]
  }
 ],
 "metadata": {
  "kernelspec": {
   "display_name": "base",
   "language": "python",
   "name": "python3"
  },
  "language_info": {
   "codemirror_mode": {
    "name": "ipython",
    "version": 3
   },
   "file_extension": ".py",
   "mimetype": "text/x-python",
   "name": "python",
   "nbconvert_exporter": "python",
   "pygments_lexer": "ipython3",
   "version": "3.12.7"
  }
 },
 "nbformat": 4,
 "nbformat_minor": 5
}
