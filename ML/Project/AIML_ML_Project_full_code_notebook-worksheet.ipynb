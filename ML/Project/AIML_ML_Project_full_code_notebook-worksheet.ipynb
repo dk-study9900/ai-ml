{
  "cells": [
    {
      "cell_type": "markdown",
      "metadata": {
        "id": "dHp26RRERvXx"
      },
      "source": [
        "## Problem Statement"
      ]
    },
    {
      "cell_type": "markdown",
      "metadata": {
        "id": "m5MpauhvxIh6"
      },
      "source": [
        "### Context\n",
        "\n",
        "AllLife Bank is a US bank that has a growing customer base. The majority of these customers are liability customers (depositors) with varying sizes of deposits. The number of customers who are also borrowers (asset customers) is quite small, and the bank is interested in expanding this base rapidly to bring in more loan business and in the process, earn more through the interest on loans. In particular, the management wants to explore ways of converting its liability customers to personal loan customers (while retaining them as depositors).\n",
        "\n",
        "A campaign that the bank ran last year for liability customers showed a healthy conversion rate of over 9% success. This has encouraged the retail marketing department to devise campaigns with better target marketing to increase the success ratio.\n",
        "\n",
        "You as a Data scientist at AllLife bank have to build a model that will help the marketing department to identify the potential customers who have a higher probability of purchasing the loan."
      ]
    },
    {
      "cell_type": "markdown",
      "metadata": {
        "id": "s4T59mPjxMmc"
      },
      "source": [
        "### Objective\n",
        "\n",
        "To predict whether a liability customer will buy personal loans, to understand which customer attributes are most significant in driving purchases, and identify which segment of customers to target more."
      ]
    },
    {
      "cell_type": "markdown",
      "metadata": {
        "id": "FN8fKs4_xPLS"
      },
      "source": [
        "### Data Dictionary\n",
        "* `ID`: Customer ID\n",
        "* `Age`: Customer’s age in completed years\n",
        "* `Experience`: #years of professional experience\n",
        "* `Income`: Annual income of the customer (in thousand dollars)\n",
        "* `ZIP Code`: Home Address ZIP code.\n",
        "* `Family`: the Family size of the customer\n",
        "* `CCAvg`: Average spending on credit cards per month (in thousand dollars)\n",
        "* `Education`: Education Level. 1: Undergrad; 2: Graduate;3: Advanced/Professional\n",
        "* `Mortgage`: Value of house mortgage if any. (in thousand dollars)\n",
        "* `Personal_Loan`: Did this customer accept the personal loan offered in the last campaign? (0: No, 1: Yes)\n",
        "* `Securities_Account`: Does the customer have securities account with the bank? (0: No, 1: Yes)\n",
        "* `CD_Account`: Does the customer have a certificate of deposit (CD) account with the bank? (0: No, 1: Yes)\n",
        "* `Online`: Do customers use internet banking facilities? (0: No, 1: Yes)\n",
        "* `CreditCard`: Does the customer use a credit card issued by any other Bank (excluding All life Bank)? (0: No, 1: Yes)"
      ]
    },
    {
      "cell_type": "markdown",
      "metadata": {
        "id": "CP-77n_lxyBt"
      },
      "source": [
        "## Importing necessary libraries"
      ]
    },
    {
      "cell_type": "code",
      "execution_count": null,
      "metadata": {
        "id": "ryFwv2fwXqBw"
      },
      "outputs": [],
      "source": [
        "# Installing the libraries with the specified version.\n",
        "#!pip install numpy==1.25.2 pandas==1.5.3 matplotlib==3.7.1 seaborn==0.13.1 scikit-learn==1.2.2 sklearn-pandas==2.2.0 -q --user\n",
        "\n",
        "# The solution was developed using a local installation of Anaconda using these libraries and versions:\n",
        "#base python 3.12.7\n",
        "#numpy 1.26.4\n",
        "#pandas 2.2.3\n",
        "#matplotlib 3.9.2\n",
        "#seaborn 0.13.2\n",
        "#scikit-learn 1.5.1\n",
        "# sklearn-pandas  # NOT used\n",
        "\n",
        "\n",
        "\n",
        "\n"
      ]
    },
    {
      "cell_type": "markdown",
      "metadata": {
        "id": "Id5iPySmwVCi"
      },
      "source": [
        "**Note**:\n",
        "\n",
        "1. After running the above cell, kindly restart the notebook kernel (for Jupyter Notebook) or runtime (for Google Colab), write the relevant code for the project from the next cell, and run all cells sequentially from the next cell.\n",
        "\n",
        "2. On executing the above line of code, you might see a warning regarding package dependencies. This error message can be ignored as the above code ensures that all necessary libraries and their dependencies are maintained to successfully execute the code in this notebook."
      ]
    },
    {
      "cell_type": "code",
      "execution_count": 1,
      "metadata": {
        "id": "O36RnISpw679"
      },
      "outputs": [],
      "source": [
        "import numpy as np\n",
        "import pandas as pd\n",
        "import matplotlib.pyplot as plt\n",
        "import seaborn as sns\n",
        "from sklearn.model_selection import train_test_split\n",
        "from sklearn.tree import DecisionTreeClassifier as DecisionTree\n",
        "from sklearn import tree as sktree\n",
        "from sklearn.metrics import accuracy_score, confusion_matrix, classification_report,f1_score,recall_score, precision_score\n",
        "from sklearn.preprocessing import LabelEncoder\n",
        "\n",
        "import warnings\n",
        "warnings.filterwarnings(\"ignore\")   \n",
        "\n"
      ]
    },
    {
      "cell_type": "markdown",
      "metadata": {
        "id": "D0cilOy9yeK7"
      },
      "source": [
        "## Loading the dataset"
      ]
    },
    {
      "cell_type": "code",
      "execution_count": 2,
      "metadata": {
        "id": "veW9EM12yd5M"
      },
      "outputs": [],
      "source": [
        "pd_original= pd.read_csv(\"loan_modelling.csv\")"
      ]
    },
    {
      "cell_type": "markdown",
      "metadata": {
        "id": "vUbDMkrLQb8U"
      },
      "source": [
        "## Data Overview"
      ]
    },
    {
      "cell_type": "markdown",
      "metadata": {
        "id": "yPQbY4cIQaK4"
      },
      "source": [
        "* Observations\n",
        "* Sanity checks"
      ]
    },
    {
      "cell_type": "code",
      "execution_count": null,
      "metadata": {
        "id": "EKrLdS4fZmpk"
      },
      "outputs": [],
      "source": [
        "# Display the first few rows of the dataset\n",
        "pd_original.head(20)\n",
        "# Display the last few rows of the dataset\n",
        "pd_original.tail(20)\n",
        "# Display the shape of the dataset , 5000 # rows and 14 columns\n",
        "print(pd_original.shape)\n",
        "# Display the columns and datatypes of the dataset, #14 are a mix of integer and float\n",
        "pd_original.info()\n",
        "# Display basic statistics of the dataset\n",
        "pd_original.describe(include='all')  # include='all' to get stats for categorical columns as well\n",
        "# Check for missing values\n",
        "print(pd_original.isnull().sum())\n",
        "#check for duplicate rows\n",
        "duplicate_rows = pd_original.duplicated().sum()\n",
        "print(f\"Number of duplicate rows: {duplicate_rows}\")\n",
        "\n",
        "null_count= 0 \n",
        "na_count = 0\n",
        "for col in pd_original.columns:\n",
        "    if pd_original[col].isnull().sum() > 0:\n",
        "        null_count += 1\n",
        "        print(f\"Column '{col}' has null values.\")\n",
        "    if pd_original[col].isna().sum() > 0:\n",
        "        na_count += 1\n",
        "        print(f\"Column '{col}' has NaN values.\")    \n",
        "print(f\"Total columns with null values: {null_count}\")\n",
        "print(f\"Total columns with NaN values: {na_count}\")\n",
        "\n",
        "\n",
        "# Check if the 'ID' column is unique for each row and is not needed for analysis\n",
        "if pd_original['ID'].nunique() == len(pd_original):\n",
        "    pd_clean = pd_original.drop(['ID'], axis=1)  # Drop the 'ID' column if it is unique for each row\n",
        "      \n",
        "\n"
      ]
    },
    {
      "cell_type": "markdown",
      "metadata": {
        "id": "9KgxRHBOy6fn"
      },
      "source": [
        "## Exploratory Data Analysis."
      ]
    },
    {
      "cell_type": "markdown",
      "metadata": {
        "id": "5w7PtDMazCRh"
      },
      "source": [
        "- EDA is an important part of any project involving data.\n",
        "- It is important to investigate and understand the data better before building a model with it.\n",
        "- A few questions have been mentioned below which will help you approach the analysis in the right manner and generate insights from the data.\n",
        "- A thorough analysis of the data, in addition to the questions mentioned below, should be done."
      ]
    },
    {
      "cell_type": "markdown",
      "metadata": {
        "id": "CjVNBJWozGSA"
      },
      "source": [
        "**Questions**:\n",
        "\n",
        "1. What is the distribution of mortgage attribute? Are there any noticeable patterns or outliers in the distribution?\n",
        "2. How many customers have credit cards?\n",
        "3. What are the attributes that have a strong correlation with the target attribute (personal loan)?\n",
        "4. How does a customer's interest in purchasing a loan vary with their age?\n",
        "5. How does a customer's interest in purchasing a loan vary with their education?"
      ]
    },
    {
      "cell_type": "code",
      "execution_count": null,
      "metadata": {
        "id": "KY7_qg7Cymt2"
      },
      "outputs": [
        {
          "data": {
            "image/png": "[encoded data removed]",
            "text/plain": [
              "<Figure size 1200x800 with 2 Axes>"
            ]
          },
          "metadata": {},
          "output_type": "display_data"
        }
      ],
      "source": [
        "# box plot distribution of features and target variable Personal Loan\n",
        "\n",
        "def eda_plots(df, target_col):\n",
        "    \"\"\"\n",
        "    Generate box plots for each feature in the DataFrame against the target variable.\n",
        "    \n",
        "    Parameters:\n",
        "    df (DataFrame): The DataFrame containing the data.\n",
        "    target_col (str): The name of the target column.\n",
        "    \"\"\"\n",
        "    figsize = (12, 8)  # Set the figure size for the plots\n",
        "    bins = 30  # Number of bins for the histogram\n",
        "    f2, (ax_box2, ax_hist2) = plt.subplots(\n",
        "        nrows=2,  # Number of rows of the subplot grid= 2\n",
        "        sharex=True,  # x-axis will be shared among all subplots\n",
        "        gridspec_kw={\"height_ratios\": (0.25, 0.75)},\n",
        "        figsize=figsize,\n",
        "    )\n",
        "\n",
        "    #box plot\n",
        "    sns.boxplot(x=target_col, data=df, ax=ax_box2,showmeans=True, meanline=True, meanprops={\"color\": \"red\", \"linestyle\": \"--\"})\n",
        "    ax_box2.set_title(f'Box Plot of {target_col}', fontsize=16)\n",
        "    ax_box2.set_ylabel(target_col, fontsize=14) \n",
        "    ax_box2.set_xlabel('')  # No x-label for the box plot\n",
        "\n",
        "    # histogram \n",
        "    sns.histplot(df[target_col], kde=True, ax=ax_hist2, color='blue', bins=bins)\n",
        "    ax_hist2.set_title(f'Histogram of {target_col}', fontsize=16)\n",
        "    ax_hist2.set_xlabel(target_col, fontsize=14)\n",
        "    ax_hist2.set_ylabel('Frequency', fontsize=14)\n",
        "    \n",
        "    # for feature in features:\n",
        "    #     plt.figure(figsize=(10, 6))\n",
        "    #     sns.boxplot(x=target_col, y=feature, data=df)\n",
        "    #     plt.title(f'Box Plot of {feature} vs {target_col}')\n",
        "    #     plt.show()\n",
        "\n",
        "eda_plots(pd_clean, 'Age')\n",
        "#sns.boxplot(x=\"Personal_Loan\", y='Age', data=pd_clean, showmeans=True, meanline=True, meanprops={\"color\": \"red\", \"linestyle\": \"--\"})\n",
        "\n"
      ]
    },
    {
      "cell_type": "markdown",
      "metadata": {
        "id": "ZCM6avoA39FB"
      },
      "source": [
        "## Data Preprocessing"
      ]
    },
    {
      "cell_type": "markdown",
      "metadata": {
        "id": "GxmVZXfCfNnc"
      },
      "source": [
        "* Missing value treatment\n",
        "* Feature engineering (if needed)\n",
        "* Outlier detection and treatment (if needed)\n",
        "* Preparing data for modeling\n",
        "* Any other preprocessing steps (if needed)"
      ]
    },
    {
      "cell_type": "code",
      "execution_count": null,
      "metadata": {
        "id": "q6D5tdDiymfd"
      },
      "outputs": [],
      "source": []
    },
    {
      "cell_type": "markdown",
      "metadata": {
        "id": "f4lwYN5bYmHp"
      },
      "source": [
        "## Model Building"
      ]
    },
    {
      "cell_type": "markdown",
      "metadata": {
        "id": "I8KXyX2cYnxg"
      },
      "source": [
        "### Model Evaluation Criterion"
      ]
    },
    {
      "cell_type": "markdown",
      "metadata": {
        "id": "s9-hADbhYrdc"
      },
      "source": [
        "*\n"
      ]
    },
    {
      "cell_type": "markdown",
      "metadata": {
        "id": "n0zOSq9mieSG"
      },
      "source": [
        "### Model Building"
      ]
    },
    {
      "cell_type": "code",
      "execution_count": null,
      "metadata": {
        "id": "N5-9mneBiVE8"
      },
      "outputs": [],
      "source": []
    },
    {
      "cell_type": "markdown",
      "metadata": {
        "id": "tOOFfQIWh3_G"
      },
      "source": [
        "## Model Performance Improvement"
      ]
    },
    {
      "cell_type": "code",
      "execution_count": null,
      "metadata": {
        "id": "D4H3HH5zh4dG"
      },
      "outputs": [],
      "source": []
    },
    {
      "cell_type": "markdown",
      "metadata": {
        "id": "36XMQ7JKjFyx"
      },
      "source": [
        "## Model Performance Comparison and Final Model Selection"
      ]
    },
    {
      "cell_type": "code",
      "execution_count": null,
      "metadata": {
        "id": "jvq640U7kWZF"
      },
      "outputs": [],
      "source": []
    },
    {
      "cell_type": "markdown",
      "metadata": {
        "id": "vb-iuMZQkcDL"
      },
      "source": [
        "## Actionable Insights and Business Recommendations\n"
      ]
    },
    {
      "cell_type": "markdown",
      "metadata": {
        "id": "H_-eZCetiDXK"
      },
      "source": [
        "* What recommedations would you suggest to the bank?"
      ]
    },
    {
      "cell_type": "markdown",
      "metadata": {
        "id": "vX7N2zFwS1nV"
      },
      "source": [
        "___"
      ]
    }
  ],
  "metadata": {
    "colab": {
      "collapsed_sections": [
        "dHp26RRERvXx",
        "CP-77n_lxyBt",
        "D0cilOy9yeK7",
        "vUbDMkrLQb8U",
        "9KgxRHBOy6fn",
        "ZCM6avoA39FB",
        "f4lwYN5bYmHp",
        "I8KXyX2cYnxg",
        "n0zOSq9mieSG",
        "tOOFfQIWh3_G",
        "36XMQ7JKjFyx",
        "vb-iuMZQkcDL"
      ],
      "provenance": []
    },
    "kernelspec": {
      "display_name": "base",
      "language": "python",
      "name": "python3"
    },
    "language_info": {
      "codemirror_mode": {
        "name": "ipython",
        "version": 3
      },
      "file_extension": ".py",
      "mimetype": "text/x-python",
      "name": "python",
      "nbconvert_exporter": "python",
      "pygments_lexer": "ipython3",
      "version": "3.12.7"
    }
  },
  "nbformat": 4,
  "nbformat_minor": 0
}
