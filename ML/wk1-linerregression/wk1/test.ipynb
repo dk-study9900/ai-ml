{
 "cells": [
  {
   "cell_type": "code",
   "execution_count": 1,
   "id": "3fa96cb0",
   "metadata": {},
   "outputs": [],
   "source": [
    "import pandas as pd\n",
    "from sklearn.model_selection import train_test_split\n",
    "from sklearn.linear_model import LinearRegression\n",
    "from sklearn.metrics import r2_score\n",
    "\n"
   ]
  },
  {
   "cell_type": "code",
   "execution_count": 2,
   "id": "a5837cc2",
   "metadata": {},
   "outputs": [],
   "source": [
    "df= pd.read_csv('sales.csv')\n"
   ]
  },
  {
   "cell_type": "code",
   "execution_count": 12,
   "id": "b77801be",
   "metadata": {},
   "outputs": [
    {
     "name": "stdout",
     "output_type": "stream",
     "text": [
      "R-squared: 0.39\n"
     ]
    },
    {
     "data": {
      "text/plain": [
       "616.1165959"
      ]
     },
     "execution_count": 12,
     "metadata": {},
     "output_type": "execute_result"
    }
   ],
   "source": [
    "#sales is y \n",
    "#Advertising Expenditure is x\n",
    "# df.head()\n",
    "# df.info()\n",
    "\n",
    "sales = df[['Sales']]\n",
    "advertising_expenditure = df[['Advertising Expenditure']]\n",
    "\n",
    "sales.head()\n",
    "advertising_expenditure.head() \n",
    "X_train, X_test, y_train, y_test = train_test_split(advertising_expenditure, sales, test_size=0.2, random_state=42)\n",
    "linerregression = LinearRegression()\n",
    "model = linerregression.fit(X_train, y_train)\n",
    "y_pred = model.predict(X_test)\n",
    "r_squared = r2_score(y_test, y_pred)\n",
    "print(f\"R-squared: {r_squared:.2f}\")\n",
    "\n",
    "\n",
    "# Perform one-hot encoding on the 'Region' column\n",
    "df_encoded = pd.get_dummies(df, columns=['Region'], drop_first=True)\n",
    "df_encoded.head()\n",
    "df_encoded['Advertising Expenditure'].median()\n",
    "\n",
    "\n"
   ]
  }
 ],
 "metadata": {
  "kernelspec": {
   "display_name": "base",
   "language": "python",
   "name": "python3"
  },
  "language_info": {
   "codemirror_mode": {
    "name": "ipython",
    "version": 3
   },
   "file_extension": ".py",
   "mimetype": "text/x-python",
   "name": "python",
   "nbconvert_exporter": "python",
   "pygments_lexer": "ipython3",
   "version": "3.12.7"
  }
 },
 "nbformat": 4,
 "nbformat_minor": 5
}
