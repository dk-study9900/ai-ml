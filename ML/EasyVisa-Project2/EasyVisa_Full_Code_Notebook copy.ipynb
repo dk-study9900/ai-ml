{
 "cells": [
  {
   "cell_type": "markdown",
   "id": "yZvo8CHcetWN",
   "metadata": {
    "id": "yZvo8CHcetWN"
   },
   "source": [
    "## Problem Statement"
   ]
  },
  {
   "cell_type": "markdown",
   "id": "empty-shanghai",
   "metadata": {
    "id": "empty-shanghai"
   },
   "source": [
    "### Business Context"
   ]
  },
  {
   "cell_type": "markdown",
   "id": "wJmgAFK8_aCN",
   "metadata": {
    "id": "wJmgAFK8_aCN"
   },
   "source": [
    "Business communities in the United States are facing high demand for human resources, but one of the constant challenges is identifying and attracting the right talent, which is perhaps the most important element in remaining competitive. Companies in the United States look for hard-working, talented, and qualified individuals both locally as well as abroad.\n",
    "\n",
    "The Immigration and Nationality Act (INA) of the US permits foreign workers to come to the United States to work on either a temporary or permanent basis. The act also protects US workers against adverse impacts on their wages or working conditions by ensuring US employers' compliance with statutory requirements when they hire foreign workers to fill workforce shortages. The immigration programs are administered by the Office of Foreign Labor Certification (OFLC).\n",
    "\n",
    "OFLC processes job certification applications for employers seeking to bring foreign workers into the United States and grants certifications in those cases where employers can demonstrate that there are not sufficient US workers available to perform the work at wages that meet or exceed the wage paid for the occupation in the area of intended employment."
   ]
  },
  {
   "cell_type": "markdown",
   "id": "3CWyKzKYAfEp",
   "metadata": {
    "id": "3CWyKzKYAfEp"
   },
   "source": [
    "### Objective"
   ]
  },
  {
   "cell_type": "markdown",
   "id": "cdq4cea5Akh8",
   "metadata": {
    "id": "cdq4cea5Akh8"
   },
   "source": [
    "In FY 2016, the OFLC processed 775,979 employer applications for 1,699,957 positions for temporary and permanent labor certifications. This was a nine percent increase in the overall number of processed applications from the previous year. The process of reviewing every case is becoming a tedious task as the number of applicants is increasing every year.\n",
    "\n",
    "The increasing number of applicants every year calls for a Machine Learning based solution that can help in **shortlisting the candidates having higher chances of VISA approval**. OFLC has hired the firm EasyVisa for data-driven solutions. You as a data  scientist at EasyVisa have to analyze the data provided and, with the help of a classification model:\n",
    "\n",
    "* Facilitate the process of visa approvals.\n",
    "* Recommend a suitable profile for the applicants for whom the visa should be certified or denied based on the drivers that significantly influence the case status."
   ]
  },
  {
   "cell_type": "markdown",
   "id": "LpNqj6EzAhxy",
   "metadata": {
    "id": "LpNqj6EzAhxy"
   },
   "source": [
    "### Data Description"
   ]
  },
  {
   "cell_type": "markdown",
   "id": "uae5fMIyAnd-",
   "metadata": {
    "id": "uae5fMIyAnd-"
   },
   "source": [
    "The data contains the different attributes of employee and the employer. The detailed data dictionary is given below.\n",
    "\n",
    "* case_id: ID of each visa application\n",
    "* continent: Information of continent the employee\n",
    "* education_of_employee: Information of education of the employee\n",
    "* has_job_experience: Does the employee has any job experience? Y= Yes; N = No\n",
    "* requires_job_training: Does the employee require any job training? Y = Yes; N = No\n",
    "* no_of_employees: Number of employees in the employer's company\n",
    "* yr_of_estab: Year in which the employer's company was established\n",
    "* region_of_employment: Information of foreign worker's intended region of employment in the US.\n",
    "* prevailing_wage:  Average wage paid to similarly employed workers in a specific occupation in the area of intended employment. The purpose of the prevailing wage is to ensure that the foreign worker is not underpaid compared to other workers offering the same or similar service in the same area of employment.\n",
    "* unit_of_wage: Unit of prevailing wage. Values include Hourly, Weekly, Monthly, and Yearly.\n",
    "* full_time_position: Is the position of work full-time? Y = Full Time Position; N = Part Time Position\n",
    "* case_status:  Flag indicating if the Visa was certified or denied"
   ]
  },
  {
   "cell_type": "markdown",
   "id": "Lm7obbsV_RUT",
   "metadata": {
    "id": "Lm7obbsV_RUT"
   },
   "source": [
    "## Installing and Importing the necessary libraries"
   ]
  },
  {
   "cell_type": "code",
   "execution_count": 1,
   "id": "6IOeGuQTMQXd",
   "metadata": {
    "id": "6IOeGuQTMQXd"
   },
   "outputs": [],
   "source": [
    "# Installing the libraries with the specified version.\n",
    "#!pip install numpy==1.25.2 pandas==1.5.3 scikit-learn==1.5.2 matplotlib==3.7.1 seaborn==0.13.1 xgboost==2.0.3 -q --user\n",
    "\n",
    "# Library to suppress warnings or deprecation notes\n",
    "import warnings\n",
    "warnings.filterwarnings('ignore')\n",
    "\n",
    "# Libraries to help with reading and manipulating data\n",
    "import numpy as np\n",
    "import pandas as pd\n",
    "\n",
    "# Libraries to help with data visualization\n",
    "import matplotlib.pyplot as plt\n",
    "%matplotlib inline\n",
    "import seaborn as sns\n",
    "\n",
    "# Libraries to split data, impute missing values\n",
    "from sklearn.model_selection import train_test_split\n",
    "from sklearn.impute import SimpleImputer\n",
    "\n",
    "# Libraries to import decision tree classifier and different ensemble classifiers\n",
    "from sklearn.ensemble import BaggingClassifier\n",
    "from sklearn.ensemble import RandomForestClassifier\n",
    "from sklearn.ensemble import AdaBoostClassifier, GradientBoostingClassifier\n",
    "from xgboost import XGBClassifier\n",
    "from sklearn.ensemble import StackingClassifier\n",
    "from sklearn.tree import DecisionTreeClassifier\n",
    "\n",
    "\n",
    "# Libtune to tune model, get different metric scores\n",
    "from sklearn import metrics\n",
    "from sklearn.metrics import confusion_matrix, classification_report, accuracy_score, precision_score, recall_score, f1_score, roc_auc_score\n",
    "from sklearn.model_selection import GridSearchCV\n",
    "\n",
    "# cross validation\n",
    "from sklearn.model_selection import cross_val_score, KFold\n",
    "\n",
    "# oversampling and undersampling\n",
    "from imblearn.over_sampling import SMOTE\n",
    "from imblearn.under_sampling import RandomUnderSampler\n",
    "from imblearn.combine import SMOTEENN, SMOTETomek\n",
    "\n",
    "#warnings\n",
    "import warnings\n",
    "warnings.filterwarnings('ignore')  \n"
   ]
  },
  {
   "cell_type": "markdown",
   "id": "OS2VAv465IZa",
   "metadata": {
    "id": "OS2VAv465IZa"
   },
   "source": [
    "**Note**: *After running the above cell, kindly restart the notebook kernel and run all cells sequentially from the below.*"
   ]
  },
  {
   "cell_type": "markdown",
   "id": "thorough-passion",
   "metadata": {
    "id": "thorough-passion"
   },
   "source": [
    "## Import Dataset"
   ]
  },
  {
   "cell_type": "code",
   "execution_count": 2,
   "id": "q_MqHR8tN8mz",
   "metadata": {
    "id": "q_MqHR8tN8mz"
   },
   "outputs": [],
   "source": [
    "# Load the dataset\n",
    "data = pd.read_csv('EasyVisa.csv')"
   ]
  },
  {
   "cell_type": "markdown",
   "id": "mq-1s9p-_aKl",
   "metadata": {
    "id": "mq-1s9p-_aKl"
   },
   "source": [
    "## Overview of the Dataset"
   ]
  },
  {
   "cell_type": "markdown",
   "id": "aboriginal-wrist",
   "metadata": {
    "id": "aboriginal-wrist"
   },
   "source": [
    "#### View the first and last 5 rows of the dataset"
   ]
  },
  {
   "cell_type": "code",
   "execution_count": 3,
   "id": "cVzRbi7oN6br",
   "metadata": {
    "id": "cVzRbi7oN6br"
   },
   "outputs": [
    {
     "name": "stdout",
     "output_type": "stream",
     "text": [
      "First 5 rows of the dataset:\n",
      "  case_id continent education_of_employee has_job_experience  \\\n",
      "0  EZYV01      Asia           High School                  N   \n",
      "1  EZYV02      Asia              Master's                  Y   \n",
      "2  EZYV03      Asia            Bachelor's                  N   \n",
      "3  EZYV04      Asia            Bachelor's                  N   \n",
      "4  EZYV05    Africa              Master's                  Y   \n",
      "\n",
      "  requires_job_training  no_of_employees  yr_of_estab region_of_employment  \\\n",
      "0                     N            14513         2007                 West   \n",
      "1                     N             2412         2002            Northeast   \n",
      "2                     Y            44444         2008                 West   \n",
      "3                     N               98         1897                 West   \n",
      "4                     N             1082         2005                South   \n",
      "\n",
      "   prevailing_wage unit_of_wage full_time_position case_status  \n",
      "0         592.2029         Hour                  Y      Denied  \n",
      "1       83425.6500         Year                  Y   Certified  \n",
      "2      122996.8600         Year                  Y      Denied  \n",
      "3       83434.0300         Year                  Y      Denied  \n",
      "4      149907.3900         Year                  Y   Certified  \n",
      "\n",
      "\n",
      "\n",
      "Last 5 rows of the dataset:\n",
      "         case_id continent education_of_employee has_job_experience  \\\n",
      "25475  EZYV25476      Asia            Bachelor's                  Y   \n",
      "25476  EZYV25477      Asia           High School                  Y   \n",
      "25477  EZYV25478      Asia              Master's                  Y   \n",
      "25478  EZYV25479      Asia              Master's                  Y   \n",
      "25479  EZYV25480      Asia            Bachelor's                  Y   \n",
      "\n",
      "      requires_job_training  no_of_employees  yr_of_estab  \\\n",
      "25475                     Y             2601         2008   \n",
      "25476                     N             3274         2006   \n",
      "25477                     N             1121         1910   \n",
      "25478                     Y             1918         1887   \n",
      "25479                     N             3195         1960   \n",
      "\n",
      "      region_of_employment  prevailing_wage unit_of_wage full_time_position  \\\n",
      "25475                South         77092.57         Year                  Y   \n",
      "25476            Northeast        279174.79         Year                  Y   \n",
      "25477                South        146298.85         Year                  N   \n",
      "25478                 West         86154.77         Year                  Y   \n",
      "25479              Midwest         70876.91         Year                  Y   \n",
      "\n",
      "      case_status  \n",
      "25475   Certified  \n",
      "25476   Certified  \n",
      "25477   Certified  \n",
      "25478   Certified  \n",
      "25479   Certified  \n"
     ]
    }
   ],
   "source": [
    "print(\"First 5 rows of the dataset:\")\n",
    "print(data.head(5))\n",
    "print (\"\\n\\n\")\n",
    "\n",
    "print(\"Last 5 rows of the dataset:\")\n",
    "print(data.tail(5))\n"
   ]
  },
  {
   "cell_type": "markdown",
   "id": "accessory-camel",
   "metadata": {
    "id": "accessory-camel"
   },
   "source": [
    "#### Understand the shape of the dataset"
   ]
  },
  {
   "cell_type": "code",
   "execution_count": 4,
   "id": "Ym8ApC21N64n",
   "metadata": {
    "id": "Ym8ApC21N64n"
   },
   "outputs": [
    {
     "name": "stdout",
     "output_type": "stream",
     "text": [
      "<class 'pandas.core.frame.DataFrame'>\n",
      "RangeIndex: 25480 entries, 0 to 25479\n",
      "Data columns (total 12 columns):\n",
      " #   Column                 Non-Null Count  Dtype  \n",
      "---  ------                 --------------  -----  \n",
      " 0   case_id                25480 non-null  object \n",
      " 1   continent              25480 non-null  object \n",
      " 2   education_of_employee  25480 non-null  object \n",
      " 3   has_job_experience     25480 non-null  object \n",
      " 4   requires_job_training  25480 non-null  object \n",
      " 5   no_of_employees        25480 non-null  int64  \n",
      " 6   yr_of_estab            25480 non-null  int64  \n",
      " 7   region_of_employment   25480 non-null  object \n",
      " 8   prevailing_wage        25480 non-null  float64\n",
      " 9   unit_of_wage           25480 non-null  object \n",
      " 10  full_time_position     25480 non-null  object \n",
      " 11  case_status            25480 non-null  object \n",
      "dtypes: float64(1), int64(2), object(9)\n",
      "memory usage: 2.3+ MB\n",
      "None\n",
      "Shape of the dataset,  total rows 25480 and columns 12 \n"
     ]
    }
   ],
   "source": [
    "print (data.info())\n",
    "print(\"Shape of the dataset,  total rows {0} and columns {1} \".format(data.shape[0], data.shape[1]))  # (rows, columns)"
   ]
  },
  {
   "cell_type": "markdown",
   "id": "assigned-berkeley",
   "metadata": {
    "id": "assigned-berkeley"
   },
   "source": [
    "#### Check the data types of the columns for the dataset"
   ]
  },
  {
   "cell_type": "code",
   "execution_count": 5,
   "id": "ekk0QEpXN7im",
   "metadata": {
    "id": "ekk0QEpXN7im"
   },
   "outputs": [
    {
     "name": "stdout",
     "output_type": "stream",
     "text": [
      "\n",
      "Data types and null values in each column:\n",
      "\n",
      "Column: case_id is a categorical variable, and there are 0 null values.\n",
      "\n",
      "Unique values in case_id: ['EZYV01' 'EZYV02' 'EZYV03' ... 'EZYV25478' 'EZYV25479' 'EZYV25480']\n",
      "\n",
      "Column: continent is a categorical variable, and there are 0 null values.\n",
      "\n",
      "Unique values in continent: ['Asia' 'Africa' 'North America' 'Europe' 'South America' 'Oceania']\n",
      "\n",
      "Column: education_of_employee is a categorical variable, and there are 0 null values.\n",
      "\n",
      "Unique values in education_of_employee: ['High School' \"Master's\" \"Bachelor's\" 'Doctorate']\n",
      "\n",
      "Column: has_job_experience is a categorical variable, and there are 0 null values.\n",
      "\n",
      "Unique values in has_job_experience: ['N' 'Y']\n",
      "\n",
      "Column: requires_job_training is a categorical variable, and there are 0 null values.\n",
      "\n",
      "Unique values in requires_job_training: ['N' 'Y']\n",
      "\n",
      "Column: no_of_employees is a numerical variable, and there are 0 null values.\n",
      "\n",
      "Column: yr_of_estab is a numerical variable, and there are 0 null values.\n",
      "\n",
      "Column: region_of_employment is a categorical variable, and there are 0 null values.\n",
      "\n",
      "Unique values in region_of_employment: ['West' 'Northeast' 'South' 'Midwest' 'Island']\n",
      "\n",
      "Column: prevailing_wage is a numerical variable, and there are 0 null values.\n",
      "\n",
      "Column: unit_of_wage is a categorical variable, and there are 0 null values.\n",
      "\n",
      "Unique values in unit_of_wage: ['Hour' 'Year' 'Week' 'Month']\n",
      "\n",
      "Column: full_time_position is a categorical variable, and there are 0 null values.\n",
      "\n",
      "Unique values in full_time_position: ['Y' 'N']\n",
      "\n",
      "Column: case_status is a categorical variable, and there are 0 null values.\n",
      "\n",
      "Unique values in case_status: ['Denied' 'Certified']\n",
      "\n",
      "\n",
      "\n",
      "\n",
      "Checking for duplicate rows in the dataset:\n",
      "No duplicate rows found.\n",
      "\n",
      "\n"
     ]
    }
   ],
   "source": [
    "# Data sanity checks \n",
    "\n",
    "# Check for categorical and numerical variables and count of null values in each column\n",
    "\n",
    "print (\"\\nData types and null values in each column:\\n\")  \n",
    "for col in data.columns:\n",
    "    if data[col].dtype == 'object':\n",
    "        print(f\"Column: {col} is a categorical variable, and there are {data[col].isnull().sum()} null values.\\n\")\n",
    "        print(f\"Unique values in {col}: {data[col].unique()}\\n\")\n",
    "    elif data[col].dtype in ['int64', 'float64']:\n",
    "        print(f\"Column: {col} is a numerical variable, and there are {data[col].isnull().sum()} null values.\\n\")\n",
    "\n",
    "print (\"\\n\")\n",
    "\n",
    "# Check for duplicate rows\n",
    "print(\"\\nChecking for duplicate rows in the dataset:\")\n",
    "duplicate_rows = data.duplicated()\n",
    "num_duplicate_rows = duplicate_rows.sum()\n",
    "#print(f\"Number of duplicate rows: {num_duplicate_rows}\")\n",
    "if num_duplicate_rows > 0:\n",
    "    print(\"Duplicate rows found:\")\n",
    "    print(data[duplicate_rows])\n",
    "    print(\"Removing duplicate rows.\")\n",
    "    data = data.drop_duplicates()\n",
    "    print(f\"New shape of the dataset after removing duplicates: {data.shape}\")  \n",
    "else:\n",
    "    print(\"No duplicate rows found.\")   \n",
    "\n",
    "print (\"\\n\")\n",
    "\n",
    "\n"
   ]
  },
  {
   "cell_type": "markdown",
   "id": "67ee811e",
   "metadata": {},
   "source": [
    "**Observations after sanity checks**\n",
    " - There are 3 numerical columns and the rest as 'Object' data types\n",
    " -  Total rows 25480 and columns 12\n",
    " - There are NO duplicate rows\n",
    " - There are NO NULL values in any of the columns \n",
    "---"
   ]
  },
  {
   "cell_type": "markdown",
   "id": "standing-horizontal",
   "metadata": {
    "id": "standing-horizontal"
   },
   "source": [
    "## Exploratory Data Analysis (EDA)"
   ]
  },
  {
   "cell_type": "markdown",
   "id": "american-venue",
   "metadata": {
    "id": "american-venue"
   },
   "source": [
    "#### Let's check the statistical summary of the data"
   ]
  },
  {
   "cell_type": "code",
   "execution_count": 6,
   "id": "PsJ9MaHRN4U5",
   "metadata": {
    "id": "PsJ9MaHRN4U5"
   },
   "outputs": [
    {
     "data": {
      "application/vnd.microsoft.datawrangler.viewer.v0+json": {
       "columns": [
        {
         "name": "index",
         "rawType": "object",
         "type": "string"
        },
        {
         "name": "count",
         "rawType": "object",
         "type": "unknown"
        },
        {
         "name": "unique",
         "rawType": "object",
         "type": "unknown"
        },
        {
         "name": "top",
         "rawType": "object",
         "type": "unknown"
        },
        {
         "name": "freq",
         "rawType": "object",
         "type": "unknown"
        },
        {
         "name": "mean",
         "rawType": "object",
         "type": "unknown"
        },
        {
         "name": "std",
         "rawType": "object",
         "type": "unknown"
        },
        {
         "name": "min",
         "rawType": "object",
         "type": "unknown"
        },
        {
         "name": "25%",
         "rawType": "object",
         "type": "unknown"
        },
        {
         "name": "50%",
         "rawType": "object",
         "type": "unknown"
        },
        {
         "name": "75%",
         "rawType": "object",
         "type": "unknown"
        },
        {
         "name": "max",
         "rawType": "object",
         "type": "unknown"
        }
       ],
       "ref": "0f3eb056-2491-4d53-8d9e-bdd5fc2ff1fb",
       "rows": [
        [
         "case_id",
         "25480",
         "25480",
         "EZYV01",
         "1",
         null,
         null,
         null,
         null,
         null,
         null,
         null
        ],
        [
         "continent",
         "25480",
         "6",
         "Asia",
         "16861",
         null,
         null,
         null,
         null,
         null,
         null,
         null
        ],
        [
         "education_of_employee",
         "25480",
         "4",
         "Bachelor's",
         "10234",
         null,
         null,
         null,
         null,
         null,
         null,
         null
        ],
        [
         "has_job_experience",
         "25480",
         "2",
         "Y",
         "14802",
         null,
         null,
         null,
         null,
         null,
         null,
         null
        ],
        [
         "requires_job_training",
         "25480",
         "2",
         "N",
         "22525",
         null,
         null,
         null,
         null,
         null,
         null,
         null
        ],
        [
         "no_of_employees",
         "25480.0",
         null,
         null,
         null,
         "5667.043210361067",
         "22877.928847734398",
         "-26.0",
         "1022.0",
         "2109.0",
         "3504.0",
         "602069.0"
        ],
        [
         "yr_of_estab",
         "25480.0",
         null,
         null,
         null,
         "1979.409929356358",
         "42.366929101569646",
         "1800.0",
         "1976.0",
         "1997.0",
         "2005.0",
         "2016.0"
        ],
        [
         "region_of_employment",
         "25480",
         "5",
         "Northeast",
         "7195",
         null,
         null,
         null,
         null,
         null,
         null,
         null
        ],
        [
         "prevailing_wage",
         "25480.0",
         null,
         null,
         null,
         "74455.81459209183",
         "52815.94232687357",
         "2.1367",
         "34015.479999999996",
         "70308.20999999999",
         "107735.51250000001",
         "319210.27"
        ],
        [
         "unit_of_wage",
         "25480",
         "4",
         "Year",
         "22962",
         null,
         null,
         null,
         null,
         null,
         null,
         null
        ],
        [
         "full_time_position",
         "25480",
         "2",
         "Y",
         "22773",
         null,
         null,
         null,
         null,
         null,
         null,
         null
        ],
        [
         "case_status",
         "25480",
         "2",
         "Certified",
         "17018",
         null,
         null,
         null,
         null,
         null,
         null,
         null
        ]
       ],
       "shape": {
        "columns": 11,
        "rows": 12
       }
      },
      "text/html": [
       "<div>\n",
       "<style scoped>\n",
       "    .dataframe tbody tr th:only-of-type {\n",
       "        vertical-align: middle;\n",
       "    }\n",
       "\n",
       "    .dataframe tbody tr th {\n",
       "        vertical-align: top;\n",
       "    }\n",
       "\n",
       "    .dataframe thead th {\n",
       "        text-align: right;\n",
       "    }\n",
       "</style>\n",
       "<table border=\"1\" class=\"dataframe\">\n",
       "  <thead>\n",
       "    <tr style=\"text-align: right;\">\n",
       "      <th></th>\n",
       "      <th>count</th>\n",
       "      <th>unique</th>\n",
       "      <th>top</th>\n",
       "      <th>freq</th>\n",
       "      <th>mean</th>\n",
       "      <th>std</th>\n",
       "      <th>min</th>\n",
       "      <th>25%</th>\n",
       "      <th>50%</th>\n",
       "      <th>75%</th>\n",
       "      <th>max</th>\n",
       "    </tr>\n",
       "  </thead>\n",
       "  <tbody>\n",
       "    <tr>\n",
       "      <th>case_id</th>\n",
       "      <td>25480</td>\n",
       "      <td>25480</td>\n",
       "      <td>EZYV01</td>\n",
       "      <td>1</td>\n",
       "      <td>NaN</td>\n",
       "      <td>NaN</td>\n",
       "      <td>NaN</td>\n",
       "      <td>NaN</td>\n",
       "      <td>NaN</td>\n",
       "      <td>NaN</td>\n",
       "      <td>NaN</td>\n",
       "    </tr>\n",
       "    <tr>\n",
       "      <th>continent</th>\n",
       "      <td>25480</td>\n",
       "      <td>6</td>\n",
       "      <td>Asia</td>\n",
       "      <td>16861</td>\n",
       "      <td>NaN</td>\n",
       "      <td>NaN</td>\n",
       "      <td>NaN</td>\n",
       "      <td>NaN</td>\n",
       "      <td>NaN</td>\n",
       "      <td>NaN</td>\n",
       "      <td>NaN</td>\n",
       "    </tr>\n",
       "    <tr>\n",
       "      <th>education_of_employee</th>\n",
       "      <td>25480</td>\n",
       "      <td>4</td>\n",
       "      <td>Bachelor's</td>\n",
       "      <td>10234</td>\n",
       "      <td>NaN</td>\n",
       "      <td>NaN</td>\n",
       "      <td>NaN</td>\n",
       "      <td>NaN</td>\n",
       "      <td>NaN</td>\n",
       "      <td>NaN</td>\n",
       "      <td>NaN</td>\n",
       "    </tr>\n",
       "    <tr>\n",
       "      <th>has_job_experience</th>\n",
       "      <td>25480</td>\n",
       "      <td>2</td>\n",
       "      <td>Y</td>\n",
       "      <td>14802</td>\n",
       "      <td>NaN</td>\n",
       "      <td>NaN</td>\n",
       "      <td>NaN</td>\n",
       "      <td>NaN</td>\n",
       "      <td>NaN</td>\n",
       "      <td>NaN</td>\n",
       "      <td>NaN</td>\n",
       "    </tr>\n",
       "    <tr>\n",
       "      <th>requires_job_training</th>\n",
       "      <td>25480</td>\n",
       "      <td>2</td>\n",
       "      <td>N</td>\n",
       "      <td>22525</td>\n",
       "      <td>NaN</td>\n",
       "      <td>NaN</td>\n",
       "      <td>NaN</td>\n",
       "      <td>NaN</td>\n",
       "      <td>NaN</td>\n",
       "      <td>NaN</td>\n",
       "      <td>NaN</td>\n",
       "    </tr>\n",
       "    <tr>\n",
       "      <th>no_of_employees</th>\n",
       "      <td>25480.0</td>\n",
       "      <td>NaN</td>\n",
       "      <td>NaN</td>\n",
       "      <td>NaN</td>\n",
       "      <td>5667.04321</td>\n",
       "      <td>22877.928848</td>\n",
       "      <td>-26.0</td>\n",
       "      <td>1022.0</td>\n",
       "      <td>2109.0</td>\n",
       "      <td>3504.0</td>\n",
       "      <td>602069.0</td>\n",
       "    </tr>\n",
       "    <tr>\n",
       "      <th>yr_of_estab</th>\n",
       "      <td>25480.0</td>\n",
       "      <td>NaN</td>\n",
       "      <td>NaN</td>\n",
       "      <td>NaN</td>\n",
       "      <td>1979.409929</td>\n",
       "      <td>42.366929</td>\n",
       "      <td>1800.0</td>\n",
       "      <td>1976.0</td>\n",
       "      <td>1997.0</td>\n",
       "      <td>2005.0</td>\n",
       "      <td>2016.0</td>\n",
       "    </tr>\n",
       "    <tr>\n",
       "      <th>region_of_employment</th>\n",
       "      <td>25480</td>\n",
       "      <td>5</td>\n",
       "      <td>Northeast</td>\n",
       "      <td>7195</td>\n",
       "      <td>NaN</td>\n",
       "      <td>NaN</td>\n",
       "      <td>NaN</td>\n",
       "      <td>NaN</td>\n",
       "      <td>NaN</td>\n",
       "      <td>NaN</td>\n",
       "      <td>NaN</td>\n",
       "    </tr>\n",
       "    <tr>\n",
       "      <th>prevailing_wage</th>\n",
       "      <td>25480.0</td>\n",
       "      <td>NaN</td>\n",
       "      <td>NaN</td>\n",
       "      <td>NaN</td>\n",
       "      <td>74455.814592</td>\n",
       "      <td>52815.942327</td>\n",
       "      <td>2.1367</td>\n",
       "      <td>34015.48</td>\n",
       "      <td>70308.21</td>\n",
       "      <td>107735.5125</td>\n",
       "      <td>319210.27</td>\n",
       "    </tr>\n",
       "    <tr>\n",
       "      <th>unit_of_wage</th>\n",
       "      <td>25480</td>\n",
       "      <td>4</td>\n",
       "      <td>Year</td>\n",
       "      <td>22962</td>\n",
       "      <td>NaN</td>\n",
       "      <td>NaN</td>\n",
       "      <td>NaN</td>\n",
       "      <td>NaN</td>\n",
       "      <td>NaN</td>\n",
       "      <td>NaN</td>\n",
       "      <td>NaN</td>\n",
       "    </tr>\n",
       "    <tr>\n",
       "      <th>full_time_position</th>\n",
       "      <td>25480</td>\n",
       "      <td>2</td>\n",
       "      <td>Y</td>\n",
       "      <td>22773</td>\n",
       "      <td>NaN</td>\n",
       "      <td>NaN</td>\n",
       "      <td>NaN</td>\n",
       "      <td>NaN</td>\n",
       "      <td>NaN</td>\n",
       "      <td>NaN</td>\n",
       "      <td>NaN</td>\n",
       "    </tr>\n",
       "    <tr>\n",
       "      <th>case_status</th>\n",
       "      <td>25480</td>\n",
       "      <td>2</td>\n",
       "      <td>Certified</td>\n",
       "      <td>17018</td>\n",
       "      <td>NaN</td>\n",
       "      <td>NaN</td>\n",
       "      <td>NaN</td>\n",
       "      <td>NaN</td>\n",
       "      <td>NaN</td>\n",
       "      <td>NaN</td>\n",
       "      <td>NaN</td>\n",
       "    </tr>\n",
       "  </tbody>\n",
       "</table>\n",
       "</div>"
      ],
      "text/plain": [
       "                         count unique         top   freq          mean  \\\n",
       "case_id                  25480  25480      EZYV01      1           NaN   \n",
       "continent                25480      6        Asia  16861           NaN   \n",
       "education_of_employee    25480      4  Bachelor's  10234           NaN   \n",
       "has_job_experience       25480      2           Y  14802           NaN   \n",
       "requires_job_training    25480      2           N  22525           NaN   \n",
       "no_of_employees        25480.0    NaN         NaN    NaN    5667.04321   \n",
       "yr_of_estab            25480.0    NaN         NaN    NaN   1979.409929   \n",
       "region_of_employment     25480      5   Northeast   7195           NaN   \n",
       "prevailing_wage        25480.0    NaN         NaN    NaN  74455.814592   \n",
       "unit_of_wage             25480      4        Year  22962           NaN   \n",
       "full_time_position       25480      2           Y  22773           NaN   \n",
       "case_status              25480      2   Certified  17018           NaN   \n",
       "\n",
       "                                std     min       25%       50%          75%  \\\n",
       "case_id                         NaN     NaN       NaN       NaN          NaN   \n",
       "continent                       NaN     NaN       NaN       NaN          NaN   \n",
       "education_of_employee           NaN     NaN       NaN       NaN          NaN   \n",
       "has_job_experience              NaN     NaN       NaN       NaN          NaN   \n",
       "requires_job_training           NaN     NaN       NaN       NaN          NaN   \n",
       "no_of_employees        22877.928848   -26.0    1022.0    2109.0       3504.0   \n",
       "yr_of_estab               42.366929  1800.0    1976.0    1997.0       2005.0   \n",
       "region_of_employment            NaN     NaN       NaN       NaN          NaN   \n",
       "prevailing_wage        52815.942327  2.1367  34015.48  70308.21  107735.5125   \n",
       "unit_of_wage                    NaN     NaN       NaN       NaN          NaN   \n",
       "full_time_position              NaN     NaN       NaN       NaN          NaN   \n",
       "case_status                     NaN     NaN       NaN       NaN          NaN   \n",
       "\n",
       "                             max  \n",
       "case_id                      NaN  \n",
       "continent                    NaN  \n",
       "education_of_employee        NaN  \n",
       "has_job_experience           NaN  \n",
       "requires_job_training        NaN  \n",
       "no_of_employees         602069.0  \n",
       "yr_of_estab               2016.0  \n",
       "region_of_employment         NaN  \n",
       "prevailing_wage        319210.27  \n",
       "unit_of_wage                 NaN  \n",
       "full_time_position           NaN  \n",
       "case_status                  NaN  "
      ]
     },
     "execution_count": 6,
     "metadata": {},
     "output_type": "execute_result"
    }
   ],
   "source": [
    "data.describe(include='all').T  # statistical summary of numerical columns"
   ]
  },
  {
   "cell_type": "markdown",
   "id": "facc7b19",
   "metadata": {},
   "source": [
    "**Sanity Check - Observations**\n",
    "- case_id -->  count and unique are the same which indicates that its a identifier or ID, this column can be removed as it's not useful for analysis\n",
    "- continent --> There are 6 unique values, shows where the applicats are from \n",
    "- education_of_employee --> There are 4 unique values\n",
    "- has_job_experience --> data is aplit almost evenly \n",
    "- requires_job_training --> most applicants dont need job training\n",
    "- no_of_employees --> min value is a negative value, there cannot be less than 0 employees in a company, this indicates that there are some bad data with less than 0 employees, the bad data needs to be removed\n",
    "- yr_of_estab --> min value is 1800, there are applicants for companies older than 200 years \n",
    "- region_of_employment --> 5 unique regions \n",
    "- prevailing_wage --> comparing 25% and max , the data appears have a wide spread\n",
    "- unit_of_wage --> 4 unique values\n",
    "- full_time_position --> full time job is more preferred \n",
    "- case_status --> This is the dependent variable, applicants certifies is slight more\n",
    "\n"
   ]
  },
  {
   "cell_type": "markdown",
   "id": "competent-timing",
   "metadata": {
    "id": "competent-timing"
   },
   "source": [
    "#### Fixing the negative values in number of employees columns"
   ]
  },
  {
   "cell_type": "code",
   "execution_count": 7,
   "id": "_ltjRQiBN40d",
   "metadata": {
    "id": "_ltjRQiBN40d"
   },
   "outputs": [
    {
     "name": "stdout",
     "output_type": "stream",
     "text": [
      "Column: no_of_employees has 33 negative values.\n",
      "Column: yr_of_estab has no negative values.\n",
      "Column: prevailing_wage has no negative values.\n",
      "Shape of the dataset after removing rows with negative 'no_of_employees': (25447, 12)\n",
      "\n",
      "# statistical summary of numerical columns after cleaning \n",
      "                   count          mean           std        min       25%  \\\n",
      "no_of_employees  25447.0   5674.415334  22891.842245    12.0000   1025.00   \n",
      "yr_of_estab      25447.0   1979.394506     42.385932  1800.0000   1976.00   \n",
      "prevailing_wage  25447.0  74468.281479  52822.177370     2.1367  34039.21   \n",
      "\n",
      "                     50%         75%        max  \n",
      "no_of_employees   2112.0    3506.500  602069.00  \n",
      "yr_of_estab       1997.0    2005.000    2016.00  \n",
      "prevailing_wage  70312.5  107739.505  319210.27  \n"
     ]
    }
   ],
   "source": [
    "#count number row with numberical column value less than 0 \n",
    "for col in data.columns:\n",
    "    if data[col].dtype in ['int64', 'float64']:\n",
    "        if (data[col].min() < 0):\n",
    "            num_negative_values = (data[col] < 0).sum()\n",
    "            print(f\"Column: {col} has {num_negative_values} negative values.\")\n",
    "        else:\n",
    "            print(f\"Column: {col} has no negative values.\")\n",
    "\n",
    "\n",
    "# \"no_of_employees\" has negative values, busines cannot have negative employees, and these rows will be removed\n",
    "data_cleaned = data[data['no_of_employees'] >= 0]\n",
    "print(f\"Shape of the dataset after removing rows with negative 'no_of_employees': {data_cleaned.shape}\\n\")\n",
    "print(\"# statistical summary of numerical columns after cleaning \")\n",
    "print(data_cleaned.describe().T)  # statistical summary of numerical columns after cleaning \n"
   ]
  },
  {
   "cell_type": "markdown",
   "id": "9567d3c3",
   "metadata": {},
   "source": [
    "**Fix Negative Vaules**\n",
    "- reviewed the numerical columns no_of_employees ,yr_of_estab ,prevailing_wage \n",
    "- no_of_employees has 33 negative values, a company does not have negative employees and it's considered bad data, the rows with negative employees has been removed\n",
    "- after removing 33 rows, there are 25447 rows"
   ]
  },
  {
   "cell_type": "markdown",
   "id": "cutting-bookmark",
   "metadata": {
    "id": "cutting-bookmark"
   },
   "source": [
    "#### Let's check the count of each unique category in each of the categorical variables"
   ]
  },
  {
   "cell_type": "code",
   "execution_count": 8,
   "id": "tjT97Rc9N5SC",
   "metadata": {
    "id": "tjT97Rc9N5SC"
   },
   "outputs": [
    {
     "name": "stdout",
     "output_type": "stream",
     "text": [
      "**Unique values and value counts displayed for all categorical columns**\n",
      "There are NO inconsistent Labels.\n",
      "- case_id: Unique values ['EZYV01' 'EZYV02' 'EZYV03' ... 'EZYV25478' 'EZYV25479' 'EZYV25480']\n",
      "- case_id: Value counts case_id\n",
      "EZYV01       1\n",
      "EZYV16994    1\n",
      "EZYV16992    1\n",
      "EZYV16991    1\n",
      "EZYV16990    1\n",
      "            ..\n",
      "EZYV8491     1\n",
      "EZYV8490     1\n",
      "EZYV8489     1\n",
      "EZYV8488     1\n",
      "EZYV25480    1\n",
      "Name: count, Length: 25447, dtype: int64\n",
      "\n",
      "- continent: Unique values ['Asia' 'Africa' 'North America' 'Europe' 'South America' 'Oceania']\n",
      "- continent: Value counts continent\n",
      "Asia             16840\n",
      "Europe            3727\n",
      "North America     3287\n",
      "South America      851\n",
      "Africa             550\n",
      "Oceania            192\n",
      "Name: count, dtype: int64\n",
      "\n",
      "- education_of_employee: Unique values ['High School' \"Master's\" \"Bachelor's\" 'Doctorate']\n",
      "- education_of_employee: Value counts education_of_employee\n",
      "Bachelor's     10220\n",
      "Master's        9622\n",
      "High School     3416\n",
      "Doctorate       2189\n",
      "Name: count, dtype: int64\n",
      "\n",
      "- has_job_experience: Unique values ['N' 'Y']\n",
      "- has_job_experience: Value counts has_job_experience\n",
      "Y    14786\n",
      "N    10661\n",
      "Name: count, dtype: int64\n",
      "\n",
      "- requires_job_training: Unique values ['N' 'Y']\n",
      "- requires_job_training: Value counts requires_job_training\n",
      "N    22498\n",
      "Y     2949\n",
      "Name: count, dtype: int64\n",
      "\n",
      "- region_of_employment: Unique values ['West' 'Northeast' 'South' 'Midwest' 'Island']\n",
      "- region_of_employment: Value counts region_of_employment\n",
      "Northeast    7189\n",
      "South        7006\n",
      "West         6578\n",
      "Midwest      4299\n",
      "Island        375\n",
      "Name: count, dtype: int64\n",
      "\n",
      "- unit_of_wage: Unique values ['Hour' 'Year' 'Week' 'Month']\n",
      "- unit_of_wage: Value counts unit_of_wage\n",
      "Year     22933\n",
      "Hour      2153\n",
      "Week       272\n",
      "Month       89\n",
      "Name: count, dtype: int64\n",
      "\n",
      "- full_time_position: Unique values ['Y' 'N']\n",
      "- full_time_position: Value counts full_time_position\n",
      "Y    22741\n",
      "N     2706\n",
      "Name: count, dtype: int64\n",
      "\n",
      "- case_status: Unique values ['Denied' 'Certified']\n",
      "- case_status: Value counts case_status\n",
      "Certified    17001\n",
      "Denied        8446\n",
      "Name: count, dtype: int64\n",
      "\n"
     ]
    }
   ],
   "source": [
    "print(\"**Unique values and value counts displayed for all categorical columns**\\n\" \\\n",
    "      \"There are NO inconsistent Labels.\" \n",
    ")\n",
    "\n",
    "#unique values in categorical columns\n",
    "for col in data_cleaned.columns:\n",
    "    if data_cleaned[col].dtype == 'object':\n",
    "        print(f\"- {col}: Unique values {data_cleaned[col].unique()}\")\n",
    "        print(f\"- {col}: Value counts {data_cleaned[col].value_counts()}\\n\")\n",
    "\n"
   ]
  },
  {
   "cell_type": "markdown",
   "id": "wooden-christian",
   "metadata": {
    "id": "wooden-christian"
   },
   "source": [
    "### Univariate Analysis"
   ]
  },
  {
   "cell_type": "code",
   "execution_count": 9,
   "id": "superb-springfield",
   "metadata": {
    "id": "superb-springfield"
   },
   "outputs": [],
   "source": [
    "def histogram_boxplot(data, feature, figsize=(15, 10), kde=False, bins=None):\n",
    "    \"\"\"\n",
    "    Boxplot and histogram combined\n",
    "\n",
    "    data: dataframe\n",
    "    feature: dataframe column\n",
    "    figsize: size of figure (default (15,10))\n",
    "    kde: whether to show the density curve (default False)\n",
    "    bins: number of bins for histogram (default None)\n",
    "    \"\"\"\n",
    "    f2, (ax_box2, ax_hist2) = plt.subplots(\n",
    "        nrows=2,  # Number of rows of the subplot grid= 2\n",
    "        sharex=True,  # x-axis will be shared among all subplots\n",
    "        gridspec_kw={\"height_ratios\": (0.25, 0.75)},\n",
    "        figsize=figsize,\n",
    "    )  # creating the 2 subplots\n",
    "    sns.boxplot(\n",
    "        data=data, x=feature, ax=ax_box2, showmeans=True, color=\"violet\"\n",
    "    )  # boxplot will be created and a triangle will indicate the mean value of the column\n",
    "    sns.histplot(\n",
    "        data=data, x=feature, kde=kde, ax=ax_hist2, bins=bins\n",
    "    ) if bins else sns.histplot(\n",
    "        data=data, x=feature, kde=kde, ax=ax_hist2\n",
    "    )  # For histogram\n",
    "    ax_hist2.axvline(\n",
    "        data[feature].mean(), color=\"green\", linestyle=\"--\"\n",
    "    )  # Add mean to the histogram\n",
    "    ax_hist2.axvline(\n",
    "        data[feature].median(), color=\"black\", linestyle=\"-\"\n",
    "    )  # Add median to the histogram\n",
    "\n",
    "\n",
    "# started with this code and it was harder to read the output, left the code here to illustrate looping was attempted \n",
    "# for col in data_cleaned.columns:\n",
    "#     if data_cleaned[col].dtype in ['int64', 'float64']:\n",
    "#         print(f\"Distribution of numerical column: {col}\")\n",
    "#         histogram_boxplot(data_cleaned, col, kde=True, bins=30)\n",
    "#         plt.show()  \n",
    "\n",
    "\n",
    "#started with this code and Markdown was much easier to read, so left the code here for reference\n",
    "\n",
    "# print(\"# Univariate Analysis of Numerical Columns - observations\" \\\n",
    "#       \"\\n1. 'no_of_employees' has a few negative values which have been removed earlier.\" \\\n",
    "#       \"  \\n   - There some outliers on the higher side, indicating some companies have a very high number of employees.\" \\\n",
    "#       \"\\n2. 'year_founded' has some outliers on the lower side (left skewed), indicating some companies have existed for over a century.\" \\\n",
    "#       \"  \\n   - There are high number of companies founded in the last 75 years.\" \\\n",
    "#       \"\\n3. 'prevailing_wage' has few high wages which makes the data right skewed.\" \\\n",
    "#         \"\\n   - Most of the wages are concentrated between 0 and 150000.\" \\\n",
    "\n",
    "# )\n"
   ]
  },
  {
   "cell_type": "markdown",
   "id": "6e4dfb4d",
   "metadata": {},
   "source": [
    "# Univariate Analysis of Numerical Columns - observations\n",
    "1. 'no_of_employees' has a few negative values which have been removed earlier.  \n",
    "   - There some outliers on the higher side, indicating some companies have a very high number of employees.\n",
    "2. 'year_founded' has some outliers on the lower side (left skewed), indicating some companies have existed for over a century.  \n",
    "   - There are high number of companies founded in the last 75 years.\n",
    "3. 'prevailing_wage' has few high wages which makes the data right skewed.\n",
    "   - Most of the wages are concentrated between 0 and 150000."
   ]
  },
  {
   "cell_type": "code",
   "execution_count": 10,
   "id": "R59VWoa5Wdbx",
   "metadata": {
    "id": "R59VWoa5Wdbx"
   },
   "outputs": [],
   "source": [
    "# function to create labeled barplots\n",
    "\n",
    "\n",
    "def labeled_barplot(data, feature, perc=False, n=None):\n",
    "    \"\"\"\n",
    "    Barplot with percentage at the top\n",
    "\n",
    "    data: dataframe\n",
    "    feature: dataframe column\n",
    "    perc: whether to display percentages instead of count (default is False)\n",
    "    n: displays the top n category levels (default is None, i.e., display all levels)\n",
    "    \"\"\"\n",
    "\n",
    "    total = len(data[feature])  # length of the column\n",
    "    count = data[feature].nunique()\n",
    "    if n is None:\n",
    "        plt.figure(figsize=(count + 1, 5))\n",
    "        order = data[feature].value_counts().index\n",
    "    else:\n",
    "        plt.figure(figsize=(n + 1, 5))\n",
    "        order = data[feature].value_counts().index[:n]\n",
    "\n",
    "    plt.xticks(rotation=90, fontsize=15)\n",
    "    ax = sns.countplot(\n",
    "        data=data,\n",
    "        x=feature,\n",
    "        palette=\"Paired\",\n",
    "        order=order,\n",
    "    )\n",
    "\n",
    "    for p in ax.patches:\n",
    "        if perc == True:\n",
    "            label = \"{:.1f}%\".format(\n",
    "                100 * p.get_height() / total\n",
    "            )  # percentage of each class of the category\n",
    "        else:\n",
    "            label = p.get_height()  # count of each level of the category\n",
    "\n",
    "        x = p.get_x() + p.get_width() / 2  # width of the plot\n",
    "        y = p.get_height()  # height of the plot\n",
    "\n",
    "        ax.annotate(\n",
    "            label,\n",
    "            (x, y),\n",
    "            ha=\"center\",\n",
    "            va=\"center\",\n",
    "            size=12,\n",
    "            xytext=(0, 5),\n",
    "            textcoords=\"offset points\",\n",
    "        )  # annotate the percentage\n",
    "\n",
    "    plt.show()  # show the plot\n",
    "\n",
    "# started with this code and it was harder to read the output, left the code here to illustrate looping was attempted \n",
    "\n",
    "# # Barplots for categorical columns\n",
    "# for col in data_cleaned.columns:\n",
    "#     if data_cleaned[col].dtype == 'object':\n",
    "#         print(f\"Distribution of categorical column: {col}\")\n",
    "#         labeled_barplot(data_cleaned, col, perc=True, n=None)  # top 5 levels\n",
    "\n",
    "\n",
    "\n",
    "\n"
   ]
  },
  {
   "cell_type": "code",
   "execution_count": 11,
   "id": "3ceffb80",
   "metadata": {},
   "outputs": [],
   "source": [
    "#started with this code and Markdown was much easier to read, so left the code here for reference\n",
    "\n",
    "# # Observations for categorical columns:\n",
    "# print(\"# Univariate Analysis of categorical Columns - observations\" \\\n",
    "# \"\\n1. case_id is a sequence and is unique for each row, so it will not be useful for modeling.\" \\\n",
    "# \"\\n2. Continent Asia has the highest number of applicants about 66%, which is 300% more than the next highest continent Europe at about 14%  \" \\\n",
    "# \"\\n3. education_of_employee  most applicants have some form of higher education bachelors, Master's or Doctorate this data makes up almost 80% of the data \" \\\n",
    "# \"\\n4. has_job_experience most of the applicants have job experience about 58% \" \\\n",
    "# \"\\n5. has_job_training most of the applicants have job training about 70% \" \\\n",
    "# \"\\n6. region_of_employment applicants are close to evenly distributed between Northeast , south, west. Midwest and island had lower applicants compared to other regions.\" \\\n",
    "# \"\\n7. unit_of_age most applicants were paid annualy about 90% \" \\\n",
    "# \"\\n8. full_time_position most applicants were for full time position about 90%\" \\\n",
    "# \"\\n9. case_status is the dependent variable  about 66% of the applicants were certified\" \\\n",
    "# )"
   ]
  },
  {
   "cell_type": "markdown",
   "id": "95f3ff0a",
   "metadata": {},
   "source": [
    "# Univariate Analysis of categorical Columns - observations\n",
    "1. case_id is a sequence and is unique for each row, so it will not be useful for modeling.\n",
    "2. Continent Asia has the highest number of applicants about 66%, which is 300% more than the next highest continent Europe at about 14%  \n",
    "3. education_of_employee  most applicants have some form of higher education bachelors, Master's or Doctorate this data makes up almost 80% of the data \n",
    "4. has_job_experience most of the applicants have job experience about 58% \n",
    "5. has_job_training most of the applicants have job training about 70% \n",
    "6. region_of_employment applicants are close to evenly distributed between Northeast , south, west. Midwest and island had lower applicants compared to other regions.\n",
    "7. unit_of_age most applicants were paid annualy about 90% \n",
    "8. full_time_position most applicants were for full time position about 90%\n",
    "9. case_status is the dependent variable  about 66% of the applicants were certified)"
   ]
  },
  {
   "cell_type": "markdown",
   "id": "editorial-command",
   "metadata": {
    "id": "editorial-command"
   },
   "source": [
    "#### Observations on education of employee"
   ]
  },
  {
   "cell_type": "code",
   "execution_count": 12,
   "id": "8PjkMDRiN1lA",
   "metadata": {
    "id": "8PjkMDRiN1lA"
   },
   "outputs": [
    {
     "data": {
      "image/png": "[encoded data removed]",
      "text/plain": [
       "<Figure size 500x500 with 1 Axes>"
      ]
     },
     "metadata": {},
     "output_type": "display_data"
    }
   ],
   "source": [
    "labeled_barplot(data_cleaned, 'education_of_employee', perc=True, n=None)  "
   ]
  },
  {
   "cell_type": "markdown",
   "id": "ce075134",
   "metadata": {},
   "source": [
    "**education_of_employee**\n",
    "- Most applicants about 90% have some form of higher education degree \n",
    "- There are more bachelor's 40% degree holders than Masters at 37.8\n",
    "- Least number of applicants have Doctorate"
   ]
  },
  {
   "cell_type": "markdown",
   "id": "attempted-burlington",
   "metadata": {
    "id": "attempted-burlington"
   },
   "source": [
    "#### Observations on region of employment"
   ]
  },
  {
   "cell_type": "code",
   "execution_count": 13,
   "id": "_eEpcxf4N2GY",
   "metadata": {
    "id": "_eEpcxf4N2GY"
   },
   "outputs": [
    {
     "data": {
      "image/png": "[encoded data removed]",
      "text/plain": [
       "<Figure size 600x500 with 1 Axes>"
      ]
     },
     "metadata": {},
     "output_type": "display_data"
    }
   ],
   "source": [
    "labeled_barplot(data_cleaned, 'region_of_employment', perc=True, n=None)  \n"
   ]
  },
  {
   "cell_type": "markdown",
   "id": "817c4c25",
   "metadata": {},
   "source": [
    "**region_of_employment**\n",
    "- Applicants are almost evenly distributed between Northeast,south and west.\n",
    "- Regions Midwest and island had lower applicants compared to other regions.\n",
    "- About 1.5% of the applicants are from the island region\n",
    "- Northeast,south and west are more prefered regions by the applicants \n"
   ]
  },
  {
   "cell_type": "markdown",
   "id": "forbidden-kidney",
   "metadata": {
    "id": "forbidden-kidney"
   },
   "source": [
    "#### Observations on job experience"
   ]
  },
  {
   "cell_type": "code",
   "execution_count": 14,
   "id": "W2OyS2efN2mw",
   "metadata": {
    "id": "W2OyS2efN2mw"
   },
   "outputs": [
    {
     "data": {
      "image/png": "[encoded data removed]",
      "text/plain": [
       "<Figure size 300x500 with 1 Axes>"
      ]
     },
     "metadata": {},
     "output_type": "display_data"
    }
   ],
   "source": [
    "labeled_barplot(data_cleaned, 'has_job_experience', perc=True, n=None)  \n"
   ]
  },
  {
   "cell_type": "markdown",
   "id": "80dca90f",
   "metadata": {},
   "source": [
    "**has_job_experience**\n",
    "- More than half about 58% of the applicats are experienced\n",
    "- about 41% applicants have no job experience"
   ]
  },
  {
   "cell_type": "markdown",
   "id": "stunning-surrey",
   "metadata": {
    "id": "stunning-surrey"
   },
   "source": [
    "#### Observations on case status"
   ]
  },
  {
   "cell_type": "code",
   "execution_count": 15,
   "id": "0kaXC-PhN3IU",
   "metadata": {
    "id": "0kaXC-PhN3IU"
   },
   "outputs": [
    {
     "data": {
      "image/png": "[encoded data removed]",
      "text/plain": [
       "<Figure size 300x500 with 1 Axes>"
      ]
     },
     "metadata": {},
     "output_type": "display_data"
    }
   ],
   "source": [
    "labeled_barplot(data_cleaned, 'case_status', perc=True, n=None)  "
   ]
  },
  {
   "cell_type": "markdown",
   "id": "42eab2da",
   "metadata": {},
   "source": [
    "**case_status**\n",
    "- case status is the dependent variable \n",
    "- about 67% of the applicants were certified"
   ]
  },
  {
   "cell_type": "markdown",
   "id": "equivalent-aging",
   "metadata": {
    "id": "equivalent-aging"
   },
   "source": [
    "### Bivariate Analysis"
   ]
  },
  {
   "cell_type": "markdown",
   "id": "blond-convertible",
   "metadata": {
    "id": "blond-convertible"
   },
   "source": [
    "**Creating functions that will help us with further analysis.**"
   ]
  },
  {
   "cell_type": "code",
   "execution_count": 16,
   "id": "adaptive-recipient",
   "metadata": {
    "id": "adaptive-recipient"
   },
   "outputs": [],
   "source": [
    "### function to plot distributions wrt target\n",
    "\n",
    "\n",
    "def distribution_plot_wrt_target(data, predictor, target):\n",
    "\n",
    "    fig, axs = plt.subplots(2, 2, figsize=(12, 10))\n",
    "\n",
    "    target_uniq = data[target].unique()\n",
    "\n",
    "    axs[0, 0].set_title(\"Distribution of target for target=\" + str(target_uniq[0]))\n",
    "    sns.histplot(\n",
    "        data=data[data[target] == target_uniq[0]],\n",
    "        x=predictor,\n",
    "        kde=True,\n",
    "        ax=axs[0, 0],\n",
    "        color=\"teal\",\n",
    "        stat=\"density\",\n",
    "    )\n",
    "\n",
    "    axs[0, 1].set_title(\"Distribution of target for target=\" + str(target_uniq[1]))\n",
    "    sns.histplot(\n",
    "        data=data[data[target] == target_uniq[1]],\n",
    "        x=predictor,\n",
    "        kde=True,\n",
    "        ax=axs[0, 1],\n",
    "        color=\"orange\",\n",
    "        stat=\"density\",\n",
    "    )\n",
    "\n",
    "    axs[1, 0].set_title(\"Boxplot w.r.t target\")\n",
    "    sns.boxplot(data=data, x=target, y=predictor, ax=axs[1, 0], palette=\"gist_rainbow\")\n",
    "\n",
    "    axs[1, 1].set_title(\"Boxplot (without outliers) w.r.t target\")\n",
    "    sns.boxplot(\n",
    "        data=data,\n",
    "        x=target,\n",
    "        y=predictor,\n",
    "        ax=axs[1, 1],\n",
    "        showfliers=False,\n",
    "        palette=\"gist_rainbow\",\n",
    "    )\n",
    "\n",
    "    plt.tight_layout()\n",
    "    plt.show()\n",
    "\n",
    "# started with this code and it was harder to read the output, left the code here to illustrate looping was attempted \n",
    "\n",
    "# target_col = 'case_status'\n",
    "# for col in data_cleaned.columns:\n",
    "#     if data_cleaned[col].dtype in ['int64', 'float64']:\n",
    "#         print(f\"Distribution of numerical column: {col} w.r.t target column: {target_col}\")\n",
    "#         distribution_plot_wrt_target(data_cleaned, col, target_col)  # distribution wrt target  \n",
    "\n"
   ]
  },
  {
   "cell_type": "code",
   "execution_count": 17,
   "id": "third-sheriff",
   "metadata": {
    "id": "third-sheriff"
   },
   "outputs": [],
   "source": [
    "def stacked_barplot(data, predictor, target):\n",
    "    \"\"\"\n",
    "    Print the category counts and plot a stacked bar chart\n",
    "\n",
    "    data: dataframe\n",
    "    predictor: independent variable\n",
    "    target: target variable\n",
    "    \"\"\"\n",
    "    count = data[predictor].nunique()\n",
    "    sorter = data[target].value_counts().index[-1]\n",
    "    tab1 = pd.crosstab(data[predictor], data[target], margins=True).sort_values(\n",
    "        by=sorter, ascending=False\n",
    "    )\n",
    "    print(tab1)\n",
    "    print(\"-\" * 120)\n",
    "    tab = pd.crosstab(data[predictor], data[target], normalize=\"index\").sort_values(\n",
    "        by=sorter, ascending=False\n",
    "    )\n",
    "    tab.plot(kind=\"bar\", stacked=True, figsize=(count + 5, 5))\n",
    "    plt.legend(\n",
    "        loc=\"lower left\", frameon=False,\n",
    "    )\n",
    "    plt.legend(loc=\"upper left\", bbox_to_anchor=(1, 1))\n",
    "    plt.show()\n",
    "\n",
    "\n",
    "# started with this code and it was harder to read the output, left the code here to illustrate looping was attempted \n",
    "# target_col = 'case_status'\n",
    "# for col in data_cleaned.columns:\n",
    "#     if data_cleaned[col].dtype == 'object':\n",
    "#         print(f\"Stacked barplot of categorical column: {col} w.r.t target column: {target_col}\")\n",
    "#         stacked_barplot(data_cleaned, col, target_col)  # stacked barplot wrt target"
   ]
  },
  {
   "cell_type": "markdown",
   "id": "dressed-excuse",
   "metadata": {
    "id": "dressed-excuse"
   },
   "source": [
    "#### Does higher education increase the chances of visa certification for well-paid jobs abroad?"
   ]
  },
  {
   "cell_type": "code",
   "execution_count": 18,
   "id": "VtZ978lDNxfu",
   "metadata": {
    "id": "VtZ978lDNxfu"
   },
   "outputs": [
    {
     "name": "stdout",
     "output_type": "stream",
     "text": [
      "case_status            Certified  Denied    All\n",
      "education_of_employee                          \n",
      "All                        17001    8446  25447\n",
      "Bachelor's                  6362    3858  10220\n",
      "High School                 1164    2252   3416\n",
      "Master's                    7565    2057   9622\n",
      "Doctorate                   1910     279   2189\n",
      "------------------------------------------------------------------------------------------------------------------------\n"
     ]
    },
    {
     "data": {
      "image/png": "[encoded data removed]",
      "text/plain": [
       "<Figure size 900x500 with 1 Axes>"
      ]
     },
     "metadata": {},
     "output_type": "display_data"
    }
   ],
   "source": [
    "stacked_barplot(data_cleaned, 'education_of_employee', 'case_status')"
   ]
  },
  {
   "cell_type": "markdown",
   "id": "3c6f659e",
   "metadata": {},
   "source": [
    "\n",
    "**education_of_employee**\n",
    "- **YES Higher education increases the certification chances** \n",
    "- Higher education Levels like Doctorate and Masters have higher certification rates compared to lower education levels like Bachelors and High School\n",
    "- Doctorate certification is almost 50% higher than High School\n"
   ]
  },
  {
   "cell_type": "markdown",
   "id": "attended-current",
   "metadata": {
    "id": "attended-current"
   },
   "source": [
    "#### How does visa status vary across different continents?"
   ]
  },
  {
   "cell_type": "code",
   "execution_count": 19,
   "id": "evbNlj4XNyBe",
   "metadata": {
    "id": "evbNlj4XNyBe"
   },
   "outputs": [
    {
     "name": "stdout",
     "output_type": "stream",
     "text": [
      "case_status    Certified  Denied    All\n",
      "continent                              \n",
      "All                17001    8446  25447\n",
      "Asia               11001    5839  16840\n",
      "North America       2037    1250   3287\n",
      "Europe              2953     774   3727\n",
      "South America        492     359    851\n",
      "Africa               396     154    550\n",
      "Oceania              122      70    192\n",
      "------------------------------------------------------------------------------------------------------------------------\n"
     ]
    },
    {
     "data": {
      "image/png": "[encoded data removed]",
      "text/plain": [
       "<Figure size 1100x500 with 1 Axes>"
      ]
     },
     "metadata": {},
     "output_type": "display_data"
    }
   ],
   "source": [
    "stacked_barplot(data_cleaned, 'continent', 'case_status')\n"
   ]
  },
  {
   "cell_type": "markdown",
   "id": "5383e09d",
   "metadata": {},
   "source": [
    "**continent**\n",
    "- Europe has the highest rate of approval total applicants 3727, 2953 got approved which is about 79% **approval rate**\n",
    "- Africa has 550 applicants and 396 got approved which has **approval rate** 72%\n",
    "- Asia has the highest number of applicants 16840 and third highest **approval rate** which is little over 60%"
   ]
  },
  {
   "cell_type": "markdown",
   "id": "macro-decrease",
   "metadata": {
    "id": "macro-decrease"
   },
   "source": [
    "#### Does having prior work experience influence the chances of visa certification for career opportunities abroad?"
   ]
  },
  {
   "cell_type": "code",
   "execution_count": 20,
   "id": "d3fcf_oGNyfo",
   "metadata": {
    "id": "d3fcf_oGNyfo"
   },
   "outputs": [
    {
     "name": "stdout",
     "output_type": "stream",
     "text": [
      "case_status         Certified  Denied    All\n",
      "has_job_experience                          \n",
      "All                     17001    8446  25447\n",
      "N                        5986    4675  10661\n",
      "Y                       11015    3771  14786\n",
      "------------------------------------------------------------------------------------------------------------------------\n"
     ]
    },
    {
     "data": {
      "image/png": "[encoded data removed]",
      "text/plain": [
       "<Figure size 700x500 with 1 Axes>"
      ]
     },
     "metadata": {},
     "output_type": "display_data"
    }
   ],
   "source": [
    "stacked_barplot(data_cleaned, 'has_job_experience', 'case_status')\n",
    "\n"
   ]
  },
  {
   "cell_type": "markdown",
   "id": "9e2ff680",
   "metadata": {},
   "source": [
    "**has_job_experience**\n",
    "- **Yes**, having prior job experience has a higher rate of certification about 70% \n",
    "- without experience certification is about 60%"
   ]
  },
  {
   "cell_type": "markdown",
   "id": "changing-kansas",
   "metadata": {
    "id": "changing-kansas"
   },
   "source": [
    "#### Is the prevailing wage consistent across all regions of the US?"
   ]
  },
  {
   "cell_type": "code",
   "execution_count": 21,
   "id": "0FYdlpG5NzEe",
   "metadata": {
    "id": "0FYdlpG5NzEe"
   },
   "outputs": [
    {
     "data": {
      "image/png": "[encoded data removed]",
      "text/plain": [
       "<Figure size 1200x1000 with 4 Axes>"
      ]
     },
     "metadata": {},
     "output_type": "display_data"
    }
   ],
   "source": [
    "distribution_plot_wrt_target(data_cleaned, 'prevailing_wage', 'region_of_employment')"
   ]
  },
  {
   "cell_type": "markdown",
   "id": "80e59045",
   "metadata": {},
   "source": [
    "**is prevailing_wages consistent accross all regions?**\n",
    "- **NO** prevailing wages is not consistent accross regions, the median value is much higher for midwest and Island when compared to west, Northeast and South "
   ]
  },
  {
   "cell_type": "markdown",
   "id": "lesser-bacteria",
   "metadata": {
    "id": "lesser-bacteria"
   },
   "source": [
    "#### Does visa status vary with changes in the prevailing wage set to protect both local talent and foreign workers?"
   ]
  },
  {
   "cell_type": "code",
   "execution_count": 22,
   "id": "HIr2VsTGNzhA",
   "metadata": {
    "id": "HIr2VsTGNzhA"
   },
   "outputs": [
    {
     "data": {
      "image/png": "[encoded data removed]",
      "text/plain": [
       "<Figure size 1200x1000 with 4 Axes>"
      ]
     },
     "metadata": {},
     "output_type": "display_data"
    }
   ],
   "source": [
    "distribution_plot_wrt_target(data_cleaned, 'prevailing_wage', 'case_status')"
   ]
  },
  {
   "cell_type": "markdown",
   "id": "5046242f",
   "metadata": {},
   "source": [
    "**Does visa status vary with changes in the prevailing wage set to protect both local talent and foreign workers?**\n",
    "- visa status is almost evenly distributed with changes in prevailing wages\n",
    "- both certified and denied have large number of prevailing wage ouliers and the outliers are in the same wage range, this supports the previos observation"
   ]
  },
  {
   "cell_type": "markdown",
   "id": "suspected-asthma",
   "metadata": {
    "id": "suspected-asthma"
   },
   "source": [
    "#### Does the unit of prevailing wage (Hourly, Weekly, etc.) have any impact on the likelihood of visa application certification?"
   ]
  },
  {
   "cell_type": "code",
   "execution_count": 23,
   "id": "KgXcBCf0N0IA",
   "metadata": {
    "id": "KgXcBCf0N0IA"
   },
   "outputs": [
    {
     "name": "stdout",
     "output_type": "stream",
     "text": [
      "case_status   Certified  Denied    All\n",
      "unit_of_wage                          \n",
      "All               17001    8446  25447\n",
      "Year              16030    6903  22933\n",
      "Hour                747    1406   2153\n",
      "Week                169     103    272\n",
      "Month                55      34     89\n",
      "------------------------------------------------------------------------------------------------------------------------\n"
     ]
    },
    {
     "data": {
      "image/png": "[encoded data removed]",
      "text/plain": [
       "<Figure size 900x500 with 1 Axes>"
      ]
     },
     "metadata": {},
     "output_type": "display_data"
    }
   ],
   "source": [
    "stacked_barplot(data_cleaned, 'unit_of_wage', 'case_status')\n"
   ]
  },
  {
   "cell_type": "markdown",
   "id": "87414cf7",
   "metadata": {},
   "source": [
    "- Hourly wages are less likely to get certified compared to monthly , weekly and annualy wages\n",
    "- month, week and year uint of wage have real close certification rate"
   ]
  },
  {
   "cell_type": "markdown",
   "id": "qBWlk20UBUAx",
   "metadata": {
    "id": "qBWlk20UBUAx"
   },
   "source": [
    "## Data Pre-processing"
   ]
  },
  {
   "cell_type": "markdown",
   "id": "8cc8457d",
   "metadata": {},
   "source": [
    "**Pre-Processing - usual steps**\n",
    "- Missing values - complete (this check was complete in previous steps)\n",
    "- oulier treatment - \n",
    "- remove invalid data - like negative employee count - Complete\n",
    "- univariate and bivariate analysis - complete\n",
    "- remove duplicate data \n"
   ]
  },
  {
   "cell_type": "markdown",
   "id": "allied-association",
   "metadata": {
    "id": "allied-association"
   },
   "source": [
    "### Outlier Check"
   ]
  },
  {
   "cell_type": "code",
   "execution_count": 24,
   "id": "H76eABeDCJWY",
   "metadata": {
    "id": "H76eABeDCJWY"
   },
   "outputs": [
    {
     "data": {
      "image/png": "[encoded data removed]",
      "text/plain": [
       "<Figure size 1500x1500 with 3 Axes>"
      ]
     },
     "metadata": {},
     "output_type": "display_data"
    }
   ],
   "source": [
    "# Box plots for all numerical columns in data_cleaned\n",
    "numerical_cols = data_cleaned.select_dtypes(include=['int64', 'float64']).columns\n",
    "\n",
    "plt.figure(figsize=(15, 5 * len(numerical_cols)))\n",
    "for i, col in enumerate(numerical_cols, 1):\n",
    "    plt.subplot(len(numerical_cols), 1, i)\n",
    "    sns.boxplot(x=data_cleaned[col], color=\"skyblue\", showmeans=True)\n",
    "    plt.title(f'Box plot of {col}')\n",
    "plt.tight_layout()\n",
    "plt.show()"
   ]
  },
  {
   "cell_type": "markdown",
   "id": "c46f9320",
   "metadata": {},
   "source": [
    "**outliers** - no outlier data has been removed, due to large number of outlier, the can be valid data\n",
    "- no_of_employees has a large number for outliers, the outliers can be valid data points \n",
    "- yr_of_estab has a large number for outliers, the outliers can be valid data points \n",
    "- prevailing_wage has a large number for outliers, the outliers can be valid data points "
   ]
  },
  {
   "cell_type": "markdown",
   "id": "d496c300",
   "metadata": {},
   "source": [
    "# check for  duplicates"
   ]
  },
  {
   "cell_type": "code",
   "execution_count": 25,
   "id": "5257e14c",
   "metadata": {},
   "outputs": [
    {
     "name": "stdout",
     "output_type": "stream",
     "text": [
      "No duplicate rows found.\n"
     ]
    }
   ],
   "source": [
    "#check for duplicates \n",
    "duplicate_rows = data_cleaned.duplicated()\n",
    "num_duplicate_rows = duplicate_rows.sum()\n",
    "if num_duplicate_rows > 0:\n",
    "    print(f\"Number of duplicate rows: {num_duplicate_rows}\")\n",
    "    print(\"Duplicate rows found:\")\n",
    "    print(data_cleaned[duplicate_rows])\n",
    "    print(\"Removing duplicate rows.\")\n",
    "    data_cleaned = data_cleaned.drop_duplicates()\n",
    "    print(f\"New shape of the dataset after removing duplicates: {data_cleaned.shape}\")\n",
    "else:\n",
    "    print(\"No duplicate rows found.\")"
   ]
  },
  {
   "cell_type": "markdown",
   "id": "fc66bff2",
   "metadata": {},
   "source": [
    "- Dataset does not have duplicates"
   ]
  },
  {
   "cell_type": "markdown",
   "id": "flexible-independence",
   "metadata": {
    "id": "flexible-independence"
   },
   "source": [
    "### Data Preparation for modeling"
   ]
  },
  {
   "cell_type": "markdown",
   "id": "50a144d0",
   "metadata": {},
   "source": [
    "**Steps**\n",
    "- remove unique column \"case_id\", it has been established in the previous steps, that the case_id us unique and is not useful\n",
    "- define target varible and do the conversion \n",
    "- split data as needed \n",
    "- categorical variable transformation "
   ]
  },
  {
   "cell_type": "code",
   "execution_count": 26,
   "id": "YsRIntveCJ9_",
   "metadata": {
    "id": "YsRIntveCJ9_"
   },
   "outputs": [
    {
     "name": "stdout",
     "output_type": "stream",
     "text": [
      "Shape of the dataset after removing 'case_id': (25447, 11)\n",
      "Columns in the dataset after removing 'case_id': ['continent', 'education_of_employee', 'has_job_experience', 'requires_job_training', 'no_of_employees', 'yr_of_estab', 'region_of_employment', 'prevailing_wage', 'unit_of_wage', 'full_time_position', 'case_status']\n"
     ]
    }
   ],
   "source": [
    "#Remove unique column \"case_id\"\n",
    "data_cleaned = data_cleaned.drop(columns=[\"case_id\"], axis=1)\n",
    "print(\"Shape of the dataset after removing 'case_id':\", data_cleaned.shape)\n",
    "print(\"Columns in the dataset after removing 'case_id':\", data_cleaned.columns.tolist())"
   ]
  },
  {
   "cell_type": "code",
   "execution_count": 27,
   "id": "682fde1a",
   "metadata": {},
   "outputs": [
    {
     "data": {
      "application/vnd.microsoft.datawrangler.viewer.v0+json": {
       "columns": [
        {
         "name": "index",
         "rawType": "int64",
         "type": "integer"
        },
        {
         "name": "continent",
         "rawType": "object",
         "type": "string"
        },
        {
         "name": "education_of_employee",
         "rawType": "object",
         "type": "string"
        },
        {
         "name": "has_job_experience",
         "rawType": "object",
         "type": "string"
        },
        {
         "name": "requires_job_training",
         "rawType": "object",
         "type": "string"
        },
        {
         "name": "no_of_employees",
         "rawType": "int64",
         "type": "integer"
        },
        {
         "name": "yr_of_estab",
         "rawType": "int64",
         "type": "integer"
        },
        {
         "name": "region_of_employment",
         "rawType": "object",
         "type": "string"
        },
        {
         "name": "prevailing_wage",
         "rawType": "float64",
         "type": "float"
        },
        {
         "name": "unit_of_wage",
         "rawType": "object",
         "type": "string"
        },
        {
         "name": "full_time_position",
         "rawType": "object",
         "type": "string"
        },
        {
         "name": "target",
         "rawType": "int32",
         "type": "integer"
        }
       ],
       "ref": "0b9c011d-6f85-4692-8ecf-02a46f5abdbb",
       "rows": [
        [
         "0",
         "Asia",
         "High School",
         "N",
         "N",
         "14513",
         "2007",
         "West",
         "592.2029",
         "Hour",
         "Y",
         "0"
        ],
        [
         "1",
         "Asia",
         "Master's",
         "Y",
         "N",
         "2412",
         "2002",
         "Northeast",
         "83425.65",
         "Year",
         "Y",
         "1"
        ],
        [
         "2",
         "Asia",
         "Bachelor's",
         "N",
         "Y",
         "44444",
         "2008",
         "West",
         "122996.86",
         "Year",
         "Y",
         "0"
        ],
        [
         "3",
         "Asia",
         "Bachelor's",
         "N",
         "N",
         "98",
         "1897",
         "West",
         "83434.03",
         "Year",
         "Y",
         "0"
        ],
        [
         "4",
         "Africa",
         "Master's",
         "Y",
         "N",
         "1082",
         "2005",
         "South",
         "149907.39",
         "Year",
         "Y",
         "1"
        ]
       ],
       "shape": {
        "columns": 11,
        "rows": 5
       }
      },
      "text/html": [
       "<div>\n",
       "<style scoped>\n",
       "    .dataframe tbody tr th:only-of-type {\n",
       "        vertical-align: middle;\n",
       "    }\n",
       "\n",
       "    .dataframe tbody tr th {\n",
       "        vertical-align: top;\n",
       "    }\n",
       "\n",
       "    .dataframe thead th {\n",
       "        text-align: right;\n",
       "    }\n",
       "</style>\n",
       "<table border=\"1\" class=\"dataframe\">\n",
       "  <thead>\n",
       "    <tr style=\"text-align: right;\">\n",
       "      <th></th>\n",
       "      <th>continent</th>\n",
       "      <th>education_of_employee</th>\n",
       "      <th>has_job_experience</th>\n",
       "      <th>requires_job_training</th>\n",
       "      <th>no_of_employees</th>\n",
       "      <th>yr_of_estab</th>\n",
       "      <th>region_of_employment</th>\n",
       "      <th>prevailing_wage</th>\n",
       "      <th>unit_of_wage</th>\n",
       "      <th>full_time_position</th>\n",
       "      <th>target</th>\n",
       "    </tr>\n",
       "  </thead>\n",
       "  <tbody>\n",
       "    <tr>\n",
       "      <th>0</th>\n",
       "      <td>Asia</td>\n",
       "      <td>High School</td>\n",
       "      <td>N</td>\n",
       "      <td>N</td>\n",
       "      <td>14513</td>\n",
       "      <td>2007</td>\n",
       "      <td>West</td>\n",
       "      <td>592.2029</td>\n",
       "      <td>Hour</td>\n",
       "      <td>Y</td>\n",
       "      <td>0</td>\n",
       "    </tr>\n",
       "    <tr>\n",
       "      <th>1</th>\n",
       "      <td>Asia</td>\n",
       "      <td>Master's</td>\n",
       "      <td>Y</td>\n",
       "      <td>N</td>\n",
       "      <td>2412</td>\n",
       "      <td>2002</td>\n",
       "      <td>Northeast</td>\n",
       "      <td>83425.6500</td>\n",
       "      <td>Year</td>\n",
       "      <td>Y</td>\n",
       "      <td>1</td>\n",
       "    </tr>\n",
       "    <tr>\n",
       "      <th>2</th>\n",
       "      <td>Asia</td>\n",
       "      <td>Bachelor's</td>\n",
       "      <td>N</td>\n",
       "      <td>Y</td>\n",
       "      <td>44444</td>\n",
       "      <td>2008</td>\n",
       "      <td>West</td>\n",
       "      <td>122996.8600</td>\n",
       "      <td>Year</td>\n",
       "      <td>Y</td>\n",
       "      <td>0</td>\n",
       "    </tr>\n",
       "    <tr>\n",
       "      <th>3</th>\n",
       "      <td>Asia</td>\n",
       "      <td>Bachelor's</td>\n",
       "      <td>N</td>\n",
       "      <td>N</td>\n",
       "      <td>98</td>\n",
       "      <td>1897</td>\n",
       "      <td>West</td>\n",
       "      <td>83434.0300</td>\n",
       "      <td>Year</td>\n",
       "      <td>Y</td>\n",
       "      <td>0</td>\n",
       "    </tr>\n",
       "    <tr>\n",
       "      <th>4</th>\n",
       "      <td>Africa</td>\n",
       "      <td>Master's</td>\n",
       "      <td>Y</td>\n",
       "      <td>N</td>\n",
       "      <td>1082</td>\n",
       "      <td>2005</td>\n",
       "      <td>South</td>\n",
       "      <td>149907.3900</td>\n",
       "      <td>Year</td>\n",
       "      <td>Y</td>\n",
       "      <td>1</td>\n",
       "    </tr>\n",
       "  </tbody>\n",
       "</table>\n",
       "</div>"
      ],
      "text/plain": [
       "  continent education_of_employee has_job_experience requires_job_training  \\\n",
       "0      Asia           High School                  N                     N   \n",
       "1      Asia              Master's                  Y                     N   \n",
       "2      Asia            Bachelor's                  N                     Y   \n",
       "3      Asia            Bachelor's                  N                     N   \n",
       "4    Africa              Master's                  Y                     N   \n",
       "\n",
       "   no_of_employees  yr_of_estab region_of_employment  prevailing_wage  \\\n",
       "0            14513         2007                 West         592.2029   \n",
       "1             2412         2002            Northeast       83425.6500   \n",
       "2            44444         2008                 West      122996.8600   \n",
       "3               98         1897                 West       83434.0300   \n",
       "4             1082         2005                South      149907.3900   \n",
       "\n",
       "  unit_of_wage full_time_position  target  \n",
       "0         Hour                  Y       0  \n",
       "1         Year                  Y       1  \n",
       "2         Year                  Y       0  \n",
       "3         Year                  Y       0  \n",
       "4         Year                  Y       1  "
      ]
     },
     "execution_count": 27,
     "metadata": {},
     "output_type": "execute_result"
    }
   ],
   "source": [
    "# target variable case_status conversion\n",
    "# create a new column 'target' with 1 for 'Certified' and 0 for 'Denied'\n",
    "# convert target variable to integer type\n",
    "# drop column 'case_status'\n",
    "\n",
    "data_cleaned['target'] = data_cleaned['case_status'].map({'Certified': 1, 'Denied': 0})\n",
    "data_cleaned['target'] = data_cleaned['target'].astype(int)\n",
    "data_cleaned.drop(columns=['case_status'], axis=1, inplace=True)  # drop original case_status column\n",
    "data_cleaned.head()\n"
   ]
  },
  {
   "cell_type": "markdown",
   "id": "2bbc7794",
   "metadata": {},
   "source": [
    "**Split the Data**\n",
    "- three sets of data aee needed \n",
    "    - Test, train and validation\n",
    "- step1: split data temp (80%), test(20%)\n",
    "- step2: split temp data into train (80%) and validation(20%)"
   ]
  },
  {
   "cell_type": "code",
   "execution_count": 28,
   "id": "0ad02220",
   "metadata": {},
   "outputs": [
    {
     "name": "stdout",
     "output_type": "stream",
     "text": [
      "Shape of training data: (16285, 10) (16285,)\n",
      "Shape of validation data: (4072, 10) (4072,)\n",
      "Shape of test data: (5090, 10) (5090,)\n"
     ]
    }
   ],
   "source": [
    "#X - features, y - target variable\n",
    "X=data_cleaned.drop(columns=['target'], axis=1)  # features\n",
    "y=data_cleaned['target']  # target variable\n",
    "\n",
    "#step1\n",
    "# split data into temp (80%) and test (20%)\n",
    "X_temp, X_test, y_temp, y_test = train_test_split(X, y, test_size=0.2, random_state=42, stratify=y)\n",
    "\n",
    "#step2\n",
    "# further split temp data into train (80%) and validation (20%)\n",
    "X_train, X_val, y_train, y_val = train_test_split(X_temp, y_temp, test_size=0.2, random_state=42, stratify=y_temp)  \n",
    "# stratify=y_temp to maintain the same proportion of classes in train and validation sets\n",
    "\n",
    "print(\"Shape of training data:\", X_train.shape, y_train.shape)\n",
    "print(\"Shape of validation data:\", X_val.shape, y_val.shape) \n",
    "print(\"Shape of test data:\", X_test.shape, y_test.shape)   \n",
    "\n"
   ]
  },
  {
   "cell_type": "markdown",
   "id": "ccf458cc",
   "metadata": {},
   "source": [
    "**categorical variable transformation**\n",
    "- Step1 X_train transform categorical columns, get_dummies\n",
    "- Step2 X_test transform categorical columns, get_dummies\n",
    "- Step3 X_val transform categorical columns, get_dummies\n"
   ]
  },
  {
   "cell_type": "code",
   "execution_count": 29,
   "id": "7a3c4bb8",
   "metadata": {},
   "outputs": [
    {
     "name": "stdout",
     "output_type": "stream",
     "text": [
      "       no_of_employees  yr_of_estab  prevailing_wage  continent_Asia  \\\n",
      "19552              459         1985        124893.09            True   \n",
      "6963              1773         2006         81611.89           False   \n",
      "23746             4487         1977         10320.92           False   \n",
      "21885             1511         2007        133647.88            True   \n",
      "13078              207         2001         63686.32            True   \n",
      "\n",
      "       continent_Europe  continent_North America  continent_Oceania  \\\n",
      "19552             False                    False              False   \n",
      "6963               True                    False              False   \n",
      "23746             False                     True              False   \n",
      "21885             False                    False              False   \n",
      "13078             False                    False              False   \n",
      "\n",
      "       continent_South America  education_of_employee_Doctorate  \\\n",
      "19552                    False                            False   \n",
      "6963                     False                            False   \n",
      "23746                    False                            False   \n",
      "21885                    False                            False   \n",
      "13078                    False                            False   \n",
      "\n",
      "       education_of_employee_High School  ...  has_job_experience_Y  \\\n",
      "19552                              False  ...                 False   \n",
      "6963                               False  ...                 False   \n",
      "23746                              False  ...                 False   \n",
      "21885                              False  ...                  True   \n",
      "13078                               True  ...                 False   \n",
      "\n",
      "       requires_job_training_Y  region_of_employment_Midwest  \\\n",
      "19552                    False                         False   \n",
      "6963                     False                         False   \n",
      "23746                    False                          True   \n",
      "21885                    False                         False   \n",
      "13078                    False                         False   \n",
      "\n",
      "       region_of_employment_Northeast  region_of_employment_South  \\\n",
      "19552                            True                       False   \n",
      "6963                            False                       False   \n",
      "23746                           False                       False   \n",
      "21885                            True                       False   \n",
      "13078                           False                        True   \n",
      "\n",
      "       region_of_employment_West  unit_of_wage_Month  unit_of_wage_Week  \\\n",
      "19552                      False               False               True   \n",
      "6963                        True               False              False   \n",
      "23746                      False               False              False   \n",
      "21885                      False               False              False   \n",
      "13078                      False               False              False   \n",
      "\n",
      "       unit_of_wage_Year  full_time_position_Y  \n",
      "19552              False                  True  \n",
      "6963                True                  True  \n",
      "23746               True                  True  \n",
      "21885               True                  True  \n",
      "13078               True                  True  \n",
      "\n",
      "[5 rows x 21 columns]\n",
      "       no_of_employees  yr_of_estab  prevailing_wage  continent_Asia  \\\n",
      "9384              1044         2011         61286.32            True   \n",
      "8024              5171         1946         92686.30            True   \n",
      "19365             1845         1954           101.99           False   \n",
      "20013            17270         1971        102835.43           False   \n",
      "19743             2459         1954        204816.64           False   \n",
      "\n",
      "       continent_Europe  continent_North America  continent_Oceania  \\\n",
      "9384              False                    False              False   \n",
      "8024              False                    False              False   \n",
      "19365             False                     True              False   \n",
      "20013             False                     True              False   \n",
      "19743             False                     True              False   \n",
      "\n",
      "       continent_South America  education_of_employee_Doctorate  \\\n",
      "9384                     False                            False   \n",
      "8024                     False                            False   \n",
      "19365                    False                            False   \n",
      "20013                    False                            False   \n",
      "19743                    False                            False   \n",
      "\n",
      "       education_of_employee_High School  ...  has_job_experience_Y  \\\n",
      "9384                               False  ...                 False   \n",
      "8024                               False  ...                  True   \n",
      "19365                              False  ...                  True   \n",
      "20013                              False  ...                  True   \n",
      "19743                              False  ...                 False   \n",
      "\n",
      "       requires_job_training_Y  region_of_employment_Midwest  \\\n",
      "9384                      True                         False   \n",
      "8024                     False                         False   \n",
      "19365                    False                         False   \n",
      "20013                    False                         False   \n",
      "19743                    False                          True   \n",
      "\n",
      "       region_of_employment_Northeast  region_of_employment_South  \\\n",
      "9384                            False                        True   \n",
      "8024                             True                       False   \n",
      "19365                           False                        True   \n",
      "20013                           False                       False   \n",
      "19743                           False                       False   \n",
      "\n",
      "       region_of_employment_West  unit_of_wage_Month  unit_of_wage_Week  \\\n",
      "9384                       False               False              False   \n",
      "8024                       False               False              False   \n",
      "19365                      False               False              False   \n",
      "20013                       True               False              False   \n",
      "19743                      False               False              False   \n",
      "\n",
      "       unit_of_wage_Year  full_time_position_Y  \n",
      "9384                True                  True  \n",
      "8024                True                 False  \n",
      "19365              False                  True  \n",
      "20013               True                  True  \n",
      "19743               True                  True  \n",
      "\n",
      "[5 rows x 21 columns]\n",
      "       no_of_employees  yr_of_estab  prevailing_wage  continent_Asia  \\\n",
      "16669             3675         2008       53517.9600            True   \n",
      "6492             19660         2005       72422.6600            True   \n",
      "22698             3944         1946       75821.3600            True   \n",
      "8917              1851         1999       61122.4400            True   \n",
      "10346             3512         2009         697.5118           False   \n",
      "\n",
      "       continent_Europe  continent_North America  continent_Oceania  \\\n",
      "16669             False                    False              False   \n",
      "6492              False                    False              False   \n",
      "22698             False                    False              False   \n",
      "8917              False                    False              False   \n",
      "10346             False                     True              False   \n",
      "\n",
      "       continent_South America  education_of_employee_Doctorate  \\\n",
      "16669                    False                            False   \n",
      "6492                     False                            False   \n",
      "22698                    False                            False   \n",
      "8917                     False                            False   \n",
      "10346                    False                            False   \n",
      "\n",
      "       education_of_employee_High School  ...  has_job_experience_Y  \\\n",
      "16669                              False  ...                 False   \n",
      "6492                               False  ...                  True   \n",
      "22698                              False  ...                  True   \n",
      "8917                               False  ...                 False   \n",
      "10346                               True  ...                 False   \n",
      "\n",
      "       requires_job_training_Y  region_of_employment_Midwest  \\\n",
      "16669                    False                         False   \n",
      "6492                     False                         False   \n",
      "22698                    False                         False   \n",
      "8917                      True                         False   \n",
      "10346                    False                         False   \n",
      "\n",
      "       region_of_employment_Northeast  region_of_employment_South  \\\n",
      "16669                            True                       False   \n",
      "6492                             True                       False   \n",
      "22698                           False                       False   \n",
      "8917                            False                       False   \n",
      "10346                           False                        True   \n",
      "\n",
      "       region_of_employment_West  unit_of_wage_Month  unit_of_wage_Week  \\\n",
      "16669                      False               False              False   \n",
      "6492                       False               False              False   \n",
      "22698                       True               False              False   \n",
      "8917                        True               False              False   \n",
      "10346                      False               False              False   \n",
      "\n",
      "       unit_of_wage_Year  full_time_position_Y  \n",
      "16669               True                 False  \n",
      "6492                True                  True  \n",
      "22698               True                 False  \n",
      "8917                True                  True  \n",
      "10346              False                  True  \n",
      "\n",
      "[5 rows x 21 columns]\n"
     ]
    }
   ],
   "source": [
    "# categorical variable transformation\n",
    "\n",
    "#step1 X_train transform categorical columns, get_dummies\n",
    "X_train = pd.get_dummies(X_train, drop_first=True)\n",
    "\n",
    "#step2 X_val transform categorical columns, get_dummies\n",
    "X_val = pd.get_dummies(X_val, drop_first=True)\n",
    "\n",
    "#step3 X_test transform categorical columns, get_dummies\n",
    "X_test = pd.get_dummies(X_test, drop_first=True)\n",
    "\n",
    "# Align the columns of validation and test sets to match the training set\n",
    "X_val = X_val.reindex(columns=X_train.columns, fill_value=0)\n",
    "X_test = X_test.reindex(columns=X_train.columns, fill_value=0) \n",
    "\n",
    "# Display the first few rows of the transformed datasets\n",
    "print(X_train.head())\n",
    "print(X_val.head())\n",
    "print(X_test.head())    \n",
    "\n"
   ]
  },
  {
   "cell_type": "markdown",
   "id": "dr7q6-dbfiQB",
   "metadata": {
    "id": "dr7q6-dbfiQB"
   },
   "source": [
    "## Model Building"
   ]
  },
  {
   "cell_type": "markdown",
   "id": "rrlw9AVcqk37",
   "metadata": {
    "id": "rrlw9AVcqk37"
   },
   "source": [
    "### Model Evaluation Criterion"
   ]
  },
  {
   "cell_type": "markdown",
   "id": "vw4vUNvIql3X",
   "metadata": {
    "id": "vw4vUNvIql3X"
   },
   "source": [
    "- Choose the primary metric to evaluate the model on\n",
    "- Elaborate on the rationale behind choosing the metric"
   ]
  },
  {
   "cell_type": "markdown",
   "id": "d14a68be",
   "metadata": {},
   "source": [
    "**Requirement: The increasing number of applicants every year calls for a Machine Learning based solution that can help in shortlisting the candidates having higher chances of VISA approval.**\n",
    "- To meet this requirement, the model needs perform well on \n",
    "    - predicting true positivies\n",
    "    - The **metric precison** focuses on models perfromace identifing True positives , is suitable for this requirement \n",
    "    - Accuracy and F1 score is also helpful \n",
    "\n",
    "**Rationale to use precision**\n",
    "- The requirement focuses on identifinig candiateds with higher chanes of validation, this implies higher TruePositives , **precision** helps to understand the ration of True positive to total predictive positives\n",
    "- higher precision also implies low false positive "
   ]
  },
  {
   "cell_type": "markdown",
   "id": "PepZef6UqpNa",
   "metadata": {
    "id": "PepZef6UqpNa"
   },
   "source": [
    "First, let's create functions to calculate different metrics and confusion matrix so that we don't have to use the same code repeatedly for each model.\n",
    "* The `model_performance_classification_sklearn` function will be used to check the model performance of models.\n",
    "* The `confusion_matrix_sklearn` function will be used to plot the confusion matrix."
   ]
  },
  {
   "cell_type": "code",
   "execution_count": 30,
   "id": "mexican-database",
   "metadata": {
    "id": "mexican-database"
   },
   "outputs": [],
   "source": [
    "# defining a function to compute different metrics to check performance of a classification model built using sklearn\n",
    "\n",
    "\n",
    "def model_performance_classification_sklearn(model, predictors, target):\n",
    "    \"\"\"\n",
    "    Function to compute different metrics to check classification model performance\n",
    "\n",
    "    model: classifier\n",
    "    predictors: independent variables\n",
    "    target: dependent variable\n",
    "    \"\"\"\n",
    "\n",
    "    # predicting using the independent variables\n",
    "    pred = model.predict(predictors)\n",
    "\n",
    "    acc = accuracy_score(target, pred)  # to compute Accuracy\n",
    "    recall = recall_score(target, pred)  # to compute Recall\n",
    "    precision = precision_score(target, pred)  # to compute Precision\n",
    "    f1 = f1_score(target, pred)  # to compute F1-score\n",
    "\n",
    "    # creating a dataframe of metrics\n",
    "    df_perf = pd.DataFrame(\n",
    "        {\"Accuracy\": acc, \"Recall\": recall, \"Precision\": precision, \"F1\": f1,},\n",
    "        index=[0],\n",
    "    )\n",
    "\n",
    "    return df_perf"
   ]
  },
  {
   "cell_type": "code",
   "execution_count": 31,
   "id": "recreational-topic",
   "metadata": {
    "id": "recreational-topic"
   },
   "outputs": [],
   "source": [
    "def confusion_matrix_sklearn(model, predictors, target):\n",
    "    \"\"\"\n",
    "    To plot the confusion_matrix with percentages\n",
    "\n",
    "    model: classifier\n",
    "    predictors: independent variables\n",
    "    target: dependent variable\n",
    "    \"\"\"\n",
    "    y_pred = model.predict(predictors)\n",
    "    cm = confusion_matrix(target, y_pred)\n",
    "    labels = np.asarray(\n",
    "        [\n",
    "            [\"{0:0.0f}\".format(item) + \"\\n{0:.2%}\".format(item / cm.flatten().sum())]\n",
    "            for item in cm.flatten()\n",
    "        ]\n",
    "    ).reshape(2, 2)\n",
    "\n",
    "    plt.figure(figsize=(6, 4))\n",
    "    sns.heatmap(cm, annot=labels, fmt=\"\")\n",
    "    plt.ylabel(\"True label\")\n",
    "    plt.xlabel(\"Predicted label\")"
   ]
  },
  {
   "cell_type": "markdown",
   "id": "0QZZoxoDcoDm",
   "metadata": {
    "id": "0QZZoxoDcoDm"
   },
   "source": [
    "#### Defining scorer to be used for cross-validation and hyperparameter tuning"
   ]
  },
  {
   "cell_type": "markdown",
   "id": "ca9c651b",
   "metadata": {},
   "source": [
    "**Requirement: The increasing number of applicants every year calls for a Machine Learning based solution that can help in shortlisting the candidates having higher chances of VISA approval.**\n",
    "- To meet this requirement, the model needs perform well on \n",
    "    - predicting true positivies\n",
    "    - The **metric precison** focuses on models perfromace identifing True positives , is suitable for this requirement\n",
    "    - Accuracy and F1 score is also helpful \n"
   ]
  },
  {
   "cell_type": "markdown",
   "id": "XWoHuUpjbp0_",
   "metadata": {
    "id": "XWoHuUpjbp0_"
   },
   "source": [
    "**We are now done with pre-processing and evaluation criterion, so let's start building the model.**"
   ]
  },
  {
   "cell_type": "markdown",
   "id": "4fI98GOV0pTY",
   "metadata": {
    "id": "4fI98GOV0pTY"
   },
   "source": [
    "### Model building with Original data"
   ]
  },
  {
   "cell_type": "code",
   "execution_count": 36,
   "id": "vOPuYn7dCGjx",
   "metadata": {
    "id": "vOPuYn7dCGjx"
   },
   "outputs": [
    {
     "name": "stdout",
     "output_type": "stream",
     "text": [
      "Model: Decision Tree\n",
      "Cross-validation precision scores for Decision Tree: [0.7299908  0.73812817 0.75089928 0.7460173  0.72966833] with mean 0.7389407758992441 and std 0.00848320188781283\n",
      "Training set precision for Decision Tree: 1.0\n",
      "Validation set precision for Decision Tree: 0.7324656543745481\n",
      "Test set precision for Decision Tree: 0.7452394691286786\n",
      "Difference in precision between training and validation sets for Decision Tree: 0.26753434562545186\n",
      "Difference in precision between validation and test sets for Decision Tree: 0.01277381475413042\n",
      "\n",
      "\n",
      "\n",
      "Model: Bagging Classifier\n",
      "Cross-validation precision scores for Bagging Classifier: [0.75969342 0.76414234 0.77142857 0.77131072 0.76470588] with mean 0.7662561862294994 and std 0.004522027447316505\n",
      "Training set precision for Bagging Classifier: 0.9904911373707533\n",
      "Validation set precision for Bagging Classifier: 0.7680430879712747\n",
      "Test set precision for Bagging Classifier: 0.7694508009153318\n",
      "Difference in precision between training and validation sets for Bagging Classifier: 0.2224480493994786\n",
      "Difference in precision between validation and test sets for Bagging Classifier: 0.0014077129440570602\n",
      "\n",
      "\n",
      "\n",
      "Model: Random Forest\n",
      "Cross-validation precision scores for Random Forest: [0.75185185 0.76080571 0.76677852 0.765762   0.76259892] with mean 0.7615594007453839 and std 0.005306340956716543\n",
      "Training set precision for Random Forest: 1.0\n",
      "Validation set precision for Random Forest: 0.7696889477167439\n",
      "Test set precision for Random Forest: 0.7664907651715039\n",
      "Difference in precision between training and validation sets for Random Forest: 0.2303110522832561\n",
      "Difference in precision between validation and test sets for Random Forest: 0.003198182545239958\n",
      "\n",
      "\n",
      "\n",
      "Model: AdaBoost\n",
      "Cross-validation precision scores for AdaBoost: [0.75127501 0.75687353 0.75878405 0.7542608  0.76092137] with mean 0.7564229508479711 and std 0.0033820035935854427\n",
      "Training set precision for AdaBoost: 0.7589933733038814\n",
      "Validation set precision for AdaBoost: 0.7610536218250236\n",
      "Test set precision for AdaBoost: 0.7615827698472326\n",
      "Difference in precision between training and validation sets for AdaBoost: 0.0020602485211421717\n",
      "Difference in precision between validation and test sets for AdaBoost: 0.0005291480222090472\n",
      "\n",
      "\n",
      "\n",
      "Model: Gradient Boosting\n",
      "Cross-validation precision scores for Gradient Boosting: [0.76754564 0.77750611 0.78117258 0.77035831 0.77923677] with mean 0.7751638817521195 and std 0.005278449116876876\n",
      "Training set precision for Gradient Boosting: 0.7812960235640648\n",
      "Validation set precision for Gradient Boosting: 0.7807417046193884\n",
      "Test set precision for Gradient Boosting: 0.7805830296720458\n",
      "Difference in precision between training and validation sets for Gradient Boosting: 0.0005543189446763908\n",
      "Difference in precision between validation and test sets for Gradient Boosting: 0.00015867494734256304\n",
      "\n",
      "\n",
      "\n",
      "Model: XGBoost\n",
      "Cross-validation precision scores for XGBoost: [0.75821889 0.77698446 0.77426072 0.76339654 0.76497504] with mean 0.7675671314333665 and std 0.006999894545395624\n",
      "Training set precision for XGBoost: 0.8512278937222362\n",
      "Validation set precision for XGBoost: 0.7702970297029703\n",
      "Test set precision for XGBoost: 0.7697001857256567\n",
      "Difference in precision between training and validation sets for XGBoost: 0.08093086401926586\n",
      "Difference in precision between validation and test sets for XGBoost: 0.0005968439773136325\n",
      "\n",
      "\n",
      "\n"
     ]
    }
   ],
   "source": [
    "#list of models to be built and evaluated\n",
    "models_ls = []\n",
    "models_ls = [\n",
    "    (\"Decision Tree\", DecisionTreeClassifier(random_state=42, class_weight='balanced')),\n",
    "    (\"Bagging Classifier\", BaggingClassifier(estimator=DecisionTreeClassifier(random_state=42, class_weight='balanced'), random_state=42 )),\n",
    "    (\"Random Forest\", RandomForestClassifier(random_state=42, class_weight='balanced')),\n",
    "    (\"AdaBoost\", AdaBoostClassifier(random_state=42)),\n",
    "    (\"Gradient Boosting\", GradientBoostingClassifier(random_state=42)),\n",
    "    (\"XGBoost\", XGBClassifier( random_state=42)),\n",
    "] \n",
    "\n",
    "for name, model in models_ls:\n",
    "    print(f\"Model: {name}\")\n",
    "    cr_validation = cross_val_score(model, X_train, y_train, cv=5, scoring='precision')\n",
    "    print(f\"Cross-validation precision scores for {name}: {cr_validation} with mean {cr_validation.mean()} and std {cr_validation.std()}\")\n",
    "    \n",
    "    # fit the model on training data\n",
    "    model.fit(X_train, y_train)  # fit the model on training data\n",
    "    \n",
    "    #model performance on training data \n",
    "    train_precision = precision_score(y_train, model.predict(X_train))\n",
    "    print(f\"Training set precision for {name}: {train_precision}\")\n",
    "    \n",
    "    #model performance on validation data\n",
    "    validation_precision = precision_score(y_val, model.predict(X_val))\n",
    "    print(f\"Validation set precision for {name}: {validation_precision}\")\n",
    "    \n",
    "    #model performance on test data\n",
    "    test_precision = precision_score(y_test, model.predict(X_test))\n",
    "    print(f\"Test set precision for {name}: {test_precision}\")\n",
    "    diff_train_val = abs(train_precision - validation_precision)\n",
    "    diff_val_test = abs(validation_precision - test_precision)\n",
    "    print(f\"Difference in precision between training and validation sets for {name}: {diff_train_val}\")\n",
    "    print(f\"Difference in precision between validation and test sets for {name}: {diff_val_test}\")\n",
    "    print(\"\\n\\n\")\n",
    "    \n"
   ]
  },
  {
   "cell_type": "markdown",
   "id": "0d21fc05",
   "metadata": {},
   "source": [
    "**Original Data**\n",
    "**Least difference in precision between training and validation data are the best performing models**\n",
    "- Based on the results\n",
    "- **1st choice Gradient Boosting with differnce 0.0005**\n",
    "- 2nd choice AdaBoost with difference 0.002"
   ]
  },
  {
   "cell_type": "markdown",
   "id": "C91_6Swtbp1A",
   "metadata": {
    "id": "C91_6Swtbp1A"
   },
   "source": [
    "### Model Building with Oversampled data"
   ]
  },
  {
   "cell_type": "code",
   "execution_count": 41,
   "id": "PzWwDZrwCHJJ",
   "metadata": {
    "id": "PzWwDZrwCHJJ"
   },
   "outputs": [
    {
     "name": "stdout",
     "output_type": "stream",
     "text": [
      "Training data target variable distribution before oversampling:\n",
      "target\n",
      "1    10880\n",
      "0     5405\n",
      "Name: count, dtype: int64\n",
      "\n",
      "\n",
      "\n",
      "Training data target variable distribution after oversampling:\n",
      "target\n",
      "1    10880\n",
      "0    10880\n",
      "Name: count, dtype: int64\n",
      "\n",
      "\n",
      "\n",
      "Model: Decision Tree\n",
      "Cross-validation precision scores for Decision Tree: [0.58652813 0.59552992 0.73496762 0.91965389 0.91388401] with mean 0.7501127140218606 and std 0.14591119162461225\n",
      "Training set precision for Decision Tree: 1.0\n",
      "Validation set precision for Decision Tree: 0.7444187836797537\n",
      "Test set precision for Decision Tree: 0.7457932692307693\n",
      "Difference in precision between training and validation sets for Decision Tree: 0.25558121632024633\n",
      "Difference in precision between validation and test sets for Decision Tree: 0.0013744855510156029\n",
      "\n",
      "\n",
      "\n",
      "Model: Bagging Classifier\n",
      "Cross-validation precision scores for Bagging Classifier: [0.62158221 0.6287796  0.76034959 0.95015576 0.94854309] with mean 0.7818820490405054 and std 0.14539050197677247\n",
      "Training set precision for Bagging Classifier: 0.9910143584993052\n",
      "Validation set precision for Bagging Classifier: 0.7676426426426426\n",
      "Test set precision for Bagging Classifier: 0.7722171671216257\n",
      "Difference in precision between training and validation sets for Bagging Classifier: 0.2233717158566626\n",
      "Difference in precision between validation and test sets for Bagging Classifier: 0.0045745244789831\n",
      "\n",
      "\n",
      "\n",
      "Model: Random Forest\n",
      "Cross-validation precision scores for Random Forest: [0.61715621 0.62200472 0.77017008 0.95027933 0.95835678] with mean 0.7835934253560378 and std 0.14987919311163247\n",
      "Training set precision for Random Forest: 1.0\n",
      "Validation set precision for Random Forest: 0.7771607080874696\n",
      "Test set precision for Random Forest: 0.7752560199280376\n",
      "Difference in precision between training and validation sets for Random Forest: 0.22283929191253038\n",
      "Difference in precision between validation and test sets for Random Forest: 0.0019046881594320109\n",
      "\n",
      "\n",
      "\n",
      "Model: AdaBoost\n",
      "Cross-validation precision scores for AdaBoost: [0.59347362 0.59324659 0.7515176  0.91560752 0.9205    ] with mean 0.7548690681361191 and std 0.14522534524572525\n",
      "Training set precision for AdaBoost: 0.7448638318203535\n",
      "Validation set precision for AdaBoost: 0.7749918593292088\n",
      "Test set precision for AdaBoost: 0.7739334027055151\n",
      "Difference in precision between training and validation sets for AdaBoost: 0.030128027508855237\n",
      "Difference in precision between validation and test sets for AdaBoost: 0.0010584566236936377\n",
      "\n",
      "\n",
      "\n",
      "Model: Gradient Boosting\n",
      "Cross-validation precision scores for Gradient Boosting: [0.60006139 0.59832766 0.76137761 0.9235443  0.9242116 ] with mean 0.7615045115400646 and std 0.14520404590823233\n",
      "Training set precision for Gradient Boosting: 0.7595257563368766\n",
      "Validation set precision for Gradient Boosting: 0.7851876675603218\n",
      "Test set precision for Gradient Boosting: 0.7851437699680511\n",
      "Difference in precision between training and validation sets for Gradient Boosting: 0.02566191122344519\n",
      "Difference in precision between validation and test sets for Gradient Boosting: 4.389759227063639e-05\n",
      "\n",
      "\n",
      "\n",
      "Model: XGBoost\n",
      "Cross-validation precision scores for XGBoost: [0.60576923 0.61190168 0.76365152 0.93912123 0.9474824 ] with mean 0.7735852132114301 and std 0.14969626028216795\n",
      "Training set precision for XGBoost: 0.8257147606382979\n",
      "Validation set precision for XGBoost: 0.7762938230383973\n",
      "Test set precision for XGBoost: 0.7745847614025837\n",
      "Difference in precision between training and validation sets for XGBoost: 0.049420937599900516\n",
      "Difference in precision between validation and test sets for XGBoost: 0.0017090616358136357\n",
      "\n",
      "\n",
      "\n"
     ]
    }
   ],
   "source": [
    "#training data target variable distribution before oversampling\n",
    "print(\"Training data target variable distribution before oversampling:\")\n",
    "print(y_train.value_counts())\n",
    "print (\"\\n\\n\")  \n",
    "\n",
    "# oversampling using SMOTE on training data only\n",
    "smote = SMOTE(sampling_strategy='auto', k_neighbors=5, random_state=42)\n",
    "X_train_oversampled, y_train_oversampled = smote.fit_resample(X_train, y_train)\n",
    "\n",
    "# training data target variable distribution after oversampling\n",
    "print(\"Training data target variable distribution after oversampling:\")\n",
    "print(y_train_oversampled.value_counts())\n",
    "print (\"\\n\\n\")  \n",
    "\n",
    "# evaluate models on resampled training data\n",
    "for name, model in models_ls:\n",
    "    print(f\"Model: {name}\")\n",
    "    cr_validation = cross_val_score(model, X_train_oversampled, y_train_oversampled, cv=5, scoring='precision')\n",
    "    print(f\"Cross-validation precision scores for {name}: {cr_validation} with mean {cr_validation.mean()} and std {cr_validation.std()}\")\n",
    "\n",
    "    # fit the model on training data\n",
    "    model.fit(X_train_oversampled, y_train_oversampled)\n",
    "\n",
    "    # model performance on training data\n",
    "    train_precision = precision_score(y_train_oversampled, model.predict(X_train_oversampled))\n",
    "    print(f\"Training set precision for {name}: {train_precision}\")\n",
    "\n",
    "    # model performance on validation data\n",
    "    validation_precision = precision_score(y_val, model.predict(X_val))\n",
    "    print(f\"Validation set precision for {name}: {validation_precision}\")\n",
    "\n",
    "    # model performance on test data\n",
    "    test_precision = precision_score(y_test, model.predict(X_test))\n",
    "    print(f\"Test set precision for {name}: {test_precision}\")\n",
    "\n",
    "    diff_train_val = abs(train_precision - validation_precision)\n",
    "    diff_val_test = abs(validation_precision - test_precision)\n",
    "    print(f\"Difference in precision between training and validation sets for {name}: {diff_train_val}\")\n",
    "    print(f\"Difference in precision between validation and test sets for {name}: {diff_val_test}\")\n",
    "    print(\"\\n\\n\")\n",
    "\n"
   ]
  },
  {
   "cell_type": "markdown",
   "id": "ea84b011",
   "metadata": {},
   "source": [
    "**Oversampled Data**\n",
    "**Least difference in precision between training and validation data are the best performing models**\n",
    "- Based on the results\n",
    "- **1st choice Gradient Boosting with differnce 0.02**\n",
    "- 2nd choice AdaBoost with difference 0.03"
   ]
  },
  {
   "cell_type": "markdown",
   "id": "fYLfDmHvbp1B",
   "metadata": {
    "id": "fYLfDmHvbp1B"
   },
   "source": [
    "### Model Building with Undersampled data"
   ]
  },
  {
   "cell_type": "code",
   "execution_count": 40,
   "id": "LAvFgREaCHqm",
   "metadata": {
    "id": "LAvFgREaCHqm"
   },
   "outputs": [
    {
     "name": "stdout",
     "output_type": "stream",
     "text": [
      "Training data target variable distribution before undersampling:\n",
      "target\n",
      "1    10880\n",
      "0     5405\n",
      "Name: count, dtype: int64\n",
      "\n",
      "\n",
      "\n",
      "Training data target variable distribution after undersampling:\n",
      "target\n",
      "0    5405\n",
      "1    5405\n",
      "Name: count, dtype: int64\n",
      "\n",
      "\n",
      "\n",
      "Model: Decision Tree\n",
      "Cross-validation precision scores for Decision Tree: [0.61874431 0.61427281 0.62723005 0.63653484 0.63917526] with mean 0.6271914534023151 and std 0.009686665795304576\n",
      "Training set precision for Decision Tree: 1.0\n",
      "Validation set precision for Decision Tree: 0.7656178750569995\n",
      "Test set precision for Decision Tree: 0.7740754302453314\n",
      "Difference in precision between training and validation sets for Decision Tree: 0.23438212494300048\n",
      "Difference in precision between validation and test sets for Decision Tree: 0.008457555188331911\n",
      "\n",
      "\n",
      "\n",
      "Model: Bagging Classifier\n",
      "Cross-validation precision scores for Bagging Classifier: [0.65705458 0.68507157 0.68120805 0.69181722 0.68253968] with mean 0.6795382219010513 and std 0.011821191214685388\n",
      "Training set precision for Bagging Classifier: 0.9914691943127962\n",
      "Validation set precision for Bagging Classifier: 0.8172097759674134\n",
      "Test set precision for Bagging Classifier: 0.8162781509284868\n",
      "Difference in precision between training and validation sets for Bagging Classifier: 0.17425941834538283\n",
      "Difference in precision between validation and test sets for Bagging Classifier: 0.0009316250389266312\n",
      "\n",
      "\n",
      "\n",
      "Model: Random Forest\n",
      "Cross-validation precision scores for Random Forest: [0.66168224 0.69410664 0.68466731 0.69215876 0.69548511] with mean 0.685620013123994 and std 0.012538123591874579\n",
      "Training set precision for Random Forest: 1.0\n",
      "Validation set precision for Random Forest: 0.8163265306122449\n",
      "Test set precision for Random Forest: 0.8168264110756124\n",
      "Difference in precision between training and validation sets for Random Forest: 0.18367346938775508\n",
      "Difference in precision between validation and test sets for Random Forest: 0.0004998804633674636\n",
      "\n",
      "\n",
      "\n",
      "Model: AdaBoost\n",
      "Cross-validation precision scores for AdaBoost: [0.67013889 0.6852518  0.68315018 0.67045455 0.68101933] with mean 0.6780029496432911 and std 0.0064336652734086255\n",
      "Training set precision for AdaBoost: 0.6831333803810868\n",
      "Validation set precision for AdaBoost: 0.8153338829348722\n",
      "Test set precision for AdaBoost: 0.813542361574383\n",
      "Difference in precision between training and validation sets for AdaBoost: 0.13220050255378535\n",
      "Difference in precision between validation and test sets for AdaBoost: 0.0017915213604892122\n",
      "\n",
      "\n",
      "\n",
      "Model: Gradient Boosting\n",
      "Cross-validation precision scores for Gradient Boosting: [0.68066492 0.70973612 0.70257388 0.68727915 0.69883825] with mean 0.6958184641798848 and std 0.010497674364036823\n",
      "Training set precision for Gradient Boosting: 0.7149051490514905\n",
      "Validation set precision for Gradient Boosting: 0.82375\n",
      "Test set precision for Gradient Boosting: 0.8278660804869801\n",
      "Difference in precision between training and validation sets for Gradient Boosting: 0.10884485094850949\n",
      "Difference in precision between validation and test sets for Gradient Boosting: 0.004116080486980089\n",
      "\n",
      "\n",
      "\n",
      "Model: XGBoost\n",
      "Cross-validation precision scores for XGBoost: [0.66969147 0.69952153 0.68901846 0.66727108 0.68173258] with mean 0.6814470249194103 and std 0.012027023984231448\n",
      "Training set precision for XGBoost: 0.8678892215568862\n",
      "Validation set precision for XGBoost: 0.8146532926297427\n",
      "Test set precision for XGBoost: 0.8208798882681564\n",
      "Difference in precision between training and validation sets for XGBoost: 0.05323592892714346\n",
      "Difference in precision between validation and test sets for XGBoost: 0.006226595638413657\n",
      "\n",
      "\n",
      "\n"
     ]
    }
   ],
   "source": [
    "#training data target variable distribution before undersampling\n",
    "print(\"Training data target variable distribution before undersampling:\")\n",
    "print(y_train.value_counts())\n",
    "print (\"\\n\\n\") \n",
    "\n",
    "# undersampling using RandomUnderSampler on training data only\n",
    "rus = RandomUnderSampler(sampling_strategy='auto', random_state=42)\n",
    "X_train_resampled, y_train_resampled = rus.fit_resample(X_train, y_train)\n",
    "\n",
    "# training data target variable distribution after undersampling\n",
    "print(\"Training data target variable distribution after undersampling:\")\n",
    "print(y_train_resampled.value_counts())\n",
    "print (\"\\n\\n\") \n",
    "\n",
    "# evaluate models on resampled training data\n",
    "for name, model in models_ls:\n",
    "    print(f\"Model: {name}\")\n",
    "    cr_validation = cross_val_score(model, X_train_resampled, y_train_resampled, cv=5, scoring='precision')\n",
    "    print(f\"Cross-validation precision scores for {name}: {cr_validation} with mean {cr_validation.mean()} and std {cr_validation.std()}\")\n",
    "\n",
    "    # fit the model on training data\n",
    "    model.fit(X_train_resampled, y_train_resampled)\n",
    "\n",
    "    # model performance on training data\n",
    "    train_precision = precision_score(y_train_resampled, model.predict(X_train_resampled))\n",
    "    print(f\"Training set precision for {name}: {train_precision}\")\n",
    "\n",
    "    # model performance on validation data\n",
    "    validation_precision = precision_score(y_val, model.predict(X_val))\n",
    "    print(f\"Validation set precision for {name}: {validation_precision}\")\n",
    "\n",
    "    # model performance on test data\n",
    "    test_precision = precision_score(y_test, model.predict(X_test))\n",
    "    print(f\"Test set precision for {name}: {test_precision}\")\n",
    "\n",
    "    diff_train_val = abs(train_precision - validation_precision)\n",
    "    diff_val_test = abs(validation_precision - test_precision)\n",
    "    print(f\"Difference in precision between training and validation sets for {name}: {diff_train_val}\")\n",
    "    print(f\"Difference in precision between validation and test sets for {name}: {diff_val_test}\")\n",
    "    print(\"\\n\\n\")\n",
    "\n"
   ]
  },
  {
   "cell_type": "markdown",
   "id": "61cd4a28",
   "metadata": {},
   "source": [
    "**UnderSampled Data**\n",
    "**Least difference in precision between training and validation data are the best performing models**\n",
    "- Based on the results\n",
    "- **1st choice XGBoosting with differnce 0.05**\n",
    "- 2nd choice Gradinent Boosting with difference 0.10"
   ]
  },
  {
   "cell_type": "markdown",
   "id": "efae498c",
   "metadata": {},
   "source": [
    "# These are the top three best performing models\n",
    "\n",
    "**Least difference in precision between training and validation data**\n",
    "\n",
    "- **1st choice Original Data    - Gradient Boosting with differnce 0.0005**\n",
    "- **2nd choice Original Data    - AdaBoost with difference 0.002**\n",
    "- **3rd choice Oversampled Data - Gradient Boosting with differnce 0.02**\n",
    "\n"
   ]
  },
  {
   "cell_type": "markdown",
   "id": "Cg_OREBD1NOy",
   "metadata": {
    "id": "Cg_OREBD1NOy"
   },
   "source": [
    "## Hyperparameter Tuning"
   ]
  },
  {
   "cell_type": "markdown",
   "id": "nVuzJqcU8cd0",
   "metadata": {
    "id": "nVuzJqcU8cd0"
   },
   "source": [
    "**Best practices for hyperparameter tuning in AdaBoost:**\n",
    "\n",
    "`n_estimators`:\n",
    "\n",
    "- Start with a specific number (50 is used in general) and increase in steps: 50, 75, 85, 100\n",
    "\n",
    "- Use fewer estimators (e.g., 50 to 100) if using complex base learners (like deeper decision trees)\n",
    "\n",
    "- Use more estimators (e.g., 100 to 150) when learning rate is low (e.g., 0.1 or lower)\n",
    "\n",
    "- Avoid very high values unless performance keeps improving on validation\n",
    "\n",
    "`learning_rate`:\n",
    "\n",
    "- Common values to try: 1.0, 0.5, 0.1, 0.01\n",
    "\n",
    "- Use 1.0 for faster training, suitable for fewer estimators\n",
    "\n",
    "- Use 0.1 or 0.01 when using more estimators to improve generalization\n",
    "\n",
    "- Avoid very small values (< 0.01) unless you plan to use many estimators (e.g., >500) and have sufficient data\n",
    "\n",
    "\n",
    "---"
   ]
  },
  {
   "cell_type": "markdown",
   "id": "cciBaj3v8dSs",
   "metadata": {
    "id": "cciBaj3v8dSs"
   },
   "source": [
    "**Best practices for hyperparameter tuning in Random Forest:**\n",
    "\n",
    "\n",
    "`n_estimators`:\n",
    "\n",
    "* Start with a specific number (50 is used in general) and increase in steps: 50, 75, 100, 125\n",
    "* Higher values generally improve performance but increase training time\n",
    "* Use 100-150 for large datasets or when variance is high\n",
    "\n",
    "\n",
    "`min_samples_leaf`:\n",
    "\n",
    "* Try values like: 1, 2, 4, 5, 10\n",
    "* Higher values reduce model complexity and help prevent overfitting\n",
    "* Use 1–2 for low-bias models, higher (like 5 or 10) for more regularized models\n",
    "* Works well in noisy datasets to smooth predictions\n",
    "\n",
    "\n",
    "`max_features`:\n",
    "\n",
    "* Try values: `\"sqrt\"` (default for classification), `\"log2\"`, `None`, or float values (e.g., `0.3`, `0.5`)\n",
    "* `\"sqrt\"` balances between diversity and performance for classification tasks\n",
    "* Lower values (e.g., `0.3`) increase tree diversity, reducing overfitting\n",
    "* Higher values (closer to `1.0`) may capture more interactions but risk overfitting\n",
    "\n",
    "\n",
    "`max_samples` (for bootstrap sampling):\n",
    "\n",
    "* Try float values between `0.5` to `1.0` or fixed integers\n",
    "* Use `0.6–0.9` to introduce randomness and reduce overfitting\n",
    "* Smaller values increase diversity between trees, improving generalization\n",
    "\n",
    "---"
   ]
  },
  {
   "cell_type": "markdown",
   "id": "EvIBMJe-8gEm",
   "metadata": {
    "id": "EvIBMJe-8gEm"
   },
   "source": [
    "**Best practices for hyperparameter tuning in Gradient Boosting:**\n",
    "\n",
    "`n_estimators`:\n",
    "\n",
    "* Start with 100 (default) and increase: 100, 200, 300, 500\n",
    "* Typically, higher values lead to better performance, but they also increase training time\n",
    "* Use 200–500 for larger datasets or complex problems\n",
    "* Monitor validation performance to avoid overfitting, as too many estimators can degrade generalization\n",
    "\n",
    "\n",
    "`learning_rate`:\n",
    "\n",
    "* Common values to try: 0.1, 0.05, 0.01, 0.005\n",
    "* Use lower values (e.g., 0.01 or 0.005) if you are using many estimators (e.g., > 200)\n",
    "* Higher learning rates (e.g., 0.1) can be used with fewer estimators for faster convergence\n",
    "* Always balance the learning rate with `n_estimators` to prevent overfitting or underfitting\n",
    "\n",
    "\n",
    "`subsample`:\n",
    "\n",
    "* Common values: 0.7, 0.8, 0.9, 1.0\n",
    "* Use a value between `0.7` and `0.9` for improved generalization by introducing randomness\n",
    "* `1.0` uses the full dataset for each boosting round, potentially leading to overfitting\n",
    "* Reducing `subsample` can help reduce overfitting, especially in smaller datasets\n",
    "\n",
    "\n",
    "`max_features`:\n",
    "\n",
    "* Common values: `\"sqrt\"`, `\"log2\"`, or float (e.g., `0.3`, `0.5`)\n",
    "* `\"sqrt\"` (default) works well for classification tasks\n",
    "* Lower values (e.g., `0.3`) help reduce overfitting by limiting the number of features considered at each split\n",
    "\n",
    "---"
   ]
  },
  {
   "cell_type": "markdown",
   "id": "A17AkKJU8iuM",
   "metadata": {
    "id": "A17AkKJU8iuM"
   },
   "source": [
    "**Best practices for hyperparameter tuning in XGBoost:**\n",
    "\n",
    "`n_estimators`:\n",
    "\n",
    "* Start with 50 and increase in steps: 50,75,100,125.\n",
    "* Use more estimators (e.g., 150-250) when using lower learning rates\n",
    "* Monitor validation performance\n",
    "* High values improve learning but increase training time\n",
    "\n",
    "`subsample`:\n",
    "\n",
    "* Common values: 0.5, 0.7, 0.8, 1.0\n",
    "* Use `0.7–0.9` to introduce randomness and reduce overfitting\n",
    "* `1.0` uses the full dataset in each boosting round; may overfit on small datasets\n",
    "* Values < 0.5 are rarely useful unless dataset is very large\n",
    "\n",
    "`gamma`:\n",
    "\n",
    "* Try values: 0 (default), 1, 3, 5, 8\n",
    "* Controls minimum loss reduction needed for a split\n",
    "* Higher values make the algorithm more conservative (i.e., fewer splits)\n",
    "* Use values > 0 to regularize and reduce overfitting, especially on noisy data\n",
    "\n",
    "\n",
    "`colsample_bytree`:\n",
    "\n",
    "* Try values: 0.3, 0.5, 0.7, 1.0\n",
    "* Fraction of features sampled per tree\n",
    "* Lower values (e.g., 0.3 or 0.5) increase randomness and improve generalization\n",
    "* Use `1.0` when you want all features considered for every tree\n",
    "\n",
    "\n",
    "`colsample_bylevel`:\n",
    "\n",
    "* Try values: 0.3, 0.5, 0.7, 1.0\n",
    "* Fraction of features sampled at each tree level (i.e., per split depth)\n",
    "* Lower values help in regularization and reducing overfitting\n",
    "* Often used in combination with `colsample_bytree` for fine control over feature sampling\n",
    "\n",
    "---"
   ]
  },
  {
   "cell_type": "code",
   "execution_count": 43,
   "id": "Wyi8RcInCDDE",
   "metadata": {
    "id": "Wyi8RcInCDDE"
   },
   "outputs": [
    {
     "name": "stdout",
     "output_type": "stream",
     "text": [
      "Gradient Boosting - original data tuning results\n",
      "Best parameters found:  {'learning_rate': 0.2, 'max_features': 'sqrt', 'n_estimators': 300, 'subsample': 0.9}\n",
      "Gradient Boosting - original data performance on test data\n",
      "Precision:  0.7778067205001302\n",
      "Recall:  0.8779770655689503\n",
      "F1 Score:  0.8248618784530387\n",
      "\n",
      "\n",
      "\n",
      "AdaBoost - original data tuning results\n",
      "Best parameters found:  {'learning_rate': 0.2, 'n_estimators': 85}\n",
      "AdaBoost - original data performance on test data\n",
      "Precision:  0.7637141419224962\n",
      "Recall:  0.8923845927668332\n",
      "F1 Score:  0.8230508474576271\n",
      "\n",
      "\n",
      "\n",
      "Gradient Boosting - oversampled data tuning results\n",
      "Best parameters found:  {'learning_rate': 0.2, 'max_features': 'sqrt', 'n_estimators': 300, 'subsample': 0.7}\n",
      "Gradient Boosting - oversampled data performance on test data\n",
      "Precision:  0.7793489861259338\n",
      "Recall:  0.8588650396942076\n",
      "F1 Score:  0.8171772275842776\n",
      "\n",
      "\n",
      "\n"
     ]
    }
   ],
   "source": [
    "# **1st choice Original Data    - Gradient Boosting with differnce 0.0005**\n",
    "# - **2nd choice Original Data    - AdaBoost with difference 0.002**\n",
    "# - **3rd choice Oversampled Data - Gradient Boosting with differnce 0.02**\n",
    "\n",
    "\n",
    "scorer = metrics.make_scorer(precision_score)   \n",
    "\n",
    "\n",
    "#model tuning Gradient Boosting Classifier using original data\n",
    "param_grid = {\n",
    "    'n_estimators': [100, 200, 300],\n",
    "    'learning_rate': [0.01, 0.1, 0.2],\n",
    "    'subsample': [0.7, 0.8, 0.9],\n",
    "    'max_features': ['sqrt', 'log2']\n",
    "}\n",
    "\n",
    "grid_search = GridSearchCV(GradientBoostingClassifier(random_state=42), param_grid, cv=5, scoring=scorer)\n",
    "grid_search.fit(X_train, y_train)\n",
    "\n",
    "print (\"Gradient Boosting - original data tuning results\")\n",
    "print(\"Best parameters found: \", grid_search.best_params_)\n",
    "gb_tuned = grid_search.best_estimator_\n",
    "gb_tuned.fit(X_train, y_train)\n",
    "print(\"Gradient Boosting - original data performance on test data\")\n",
    "print(\"Precision: \", precision_score(y_test, gb_tuned.predict(X_test)))\n",
    "print(\"Recall: \", recall_score(y_test, gb_tuned.predict(X_test)))\n",
    "print(\"F1 Score: \", f1_score(y_test, gb_tuned.predict(X_test)))\n",
    "print(\"\\n\\n\")\n",
    "\n",
    "\n",
    "#model tuning AdaBoost Classifier using original data\n",
    "param_grid = {\n",
    "    'n_estimators': [50, 75, 85, 100],\n",
    "    'learning_rate': [0.01, 0.1, 0.2]\n",
    "}\n",
    "\n",
    "grid_search = GridSearchCV(AdaBoostClassifier(random_state=42), param_grid, cv=5, scoring=scorer)\n",
    "grid_search.fit(X_train, y_train)\n",
    "print (\"AdaBoost - original data tuning results\")\n",
    "print(\"Best parameters found: \", grid_search.best_params_)\n",
    "ada_tuned = grid_search.best_estimator_\n",
    "ada_tuned.fit(X_train, y_train)\n",
    "print(\"AdaBoost - original data performance on test data\")\n",
    "print(\"Precision: \", precision_score(y_test, ada_tuned.predict(X_test)))\n",
    "print(\"Recall: \", recall_score(y_test, ada_tuned.predict(X_test)))\n",
    "print(\"F1 Score: \", f1_score(y_test, ada_tuned.predict(X_test)))\n",
    "print(\"\\n\\n\")\n",
    "\n",
    "#model tuning Gradient Boosting Classifier using oversampled data\n",
    "param_grid = {\n",
    "    'n_estimators': [100, 200, 300],\n",
    "    'learning_rate': [0.01, 0.1, 0.2],\n",
    "    'subsample': [0.7, 0.8, 0.9],\n",
    "    'max_features': ['sqrt', 'log2']\n",
    "}\n",
    "grid_search = GridSearchCV(GradientBoostingClassifier(random_state=42), param_grid, cv=5, scoring=scorer)\n",
    "grid_search.fit(X_train_oversampled, y_train_oversampled)\n",
    "\n",
    "print(\"Gradient Boosting - oversampled data tuning results\")\n",
    "print(\"Best parameters found: \", grid_search.best_params_)\n",
    "gb_tuned = grid_search.best_estimator_\n",
    "gb_tuned.fit(X_train_oversampled, y_train_oversampled)\n",
    "print(\"Gradient Boosting - oversampled data performance on test data\")\n",
    "print(\"Precision: \", precision_score(y_test, gb_tuned.predict(X_test)))\n",
    "print(\"Recall: \", recall_score(y_test, gb_tuned.predict(X_test)))\n",
    "print(\"F1 Score: \", f1_score(y_test, gb_tuned.predict(X_test)))\n",
    "print(\"\\n\\n\")\n"
   ]
  },
  {
   "cell_type": "markdown",
   "id": "D9JNnpxa4jau",
   "metadata": {
    "id": "D9JNnpxa4jau"
   },
   "source": [
    "## Model Performance Summary and Final Model Selection"
   ]
  },
  {
   "cell_type": "code",
   "execution_count": null,
   "id": "jYiaUm-UCB_y",
   "metadata": {
    "id": "jYiaUm-UCB_y"
   },
   "outputs": [
    {
     "name": "stdout",
     "output_type": "stream",
     "text": [
      "Comparing model performance of tuned models on test data:\n",
      "\n",
      "Model: Gradient Boosting - Original Data\n",
      "Precision:  0.7793489861259338\n",
      "Recall:  0.8588650396942076\n",
      "F1 Score:  0.8171772275842776\n",
      "\n",
      "\n",
      "\n",
      "Model: AdaBoost - Original Data\n",
      "Precision:  0.7637141419224962\n",
      "Recall:  0.8923845927668332\n",
      "F1 Score:  0.8230508474576271\n",
      "\n",
      "\n",
      "\n",
      "Model: Gradient Boosting - Oversampled Data\n",
      "Precision:  0.7793489861259338\n",
      "Recall:  0.8588650396942076\n",
      "F1 Score:  0.8171772275842776\n",
      "\n",
      "\n",
      "\n"
     ]
    }
   ],
   "source": [
    "#compare model performance of tuned models on test data\n",
    "print(\"Comparing model performance of tuned models on test data:\\n\")\n",
    "\n",
    "models = {\n",
    "    \"Gradient Boosting - Original Data\": gb_tuned,\n",
    "    \"AdaBoost - Original Data\": ada_tuned,\n",
    "    \"Gradient Boosting - Oversampled Data\": gb_tuned\n",
    "}\n",
    "\n",
    "for name, model in models.items():\n",
    "    print(f\"Model: {name}\")\n",
    "    print(\"Precision: \", precision_score(y_test, model.predict(X_test)))\n",
    "    print(\"Recall: \", recall_score(y_test, model.predict(X_test)))\n",
    "    print(\"F1 Score: \", f1_score(y_test, model.predict(X_test)))\n",
    "    print(\"\\n\\n\")\n",
    "\n",
    "\n",
    "\n"
   ]
  },
  {
   "cell_type": "markdown",
   "id": "f2e4fe2c",
   "metadata": {},
   "source": [
    "# Model Performance\n",
    "\n",
    "# AdaBoost is the selected model\n",
    "- Precision score is slightly .01 lower than Gradient Boosting\n",
    "- Recall score is slightly higher .04 higher than Gradient Boosting, which shows model performs well in identifiing True positives\n",
    "- F1 score is slightly higher .01 higher than Gradient Boosting, which shows model overall performs well\n",
    "- Since the Recall score is better than Gradient boosting, this model is expected to meet the requirements \n",
    "\n",
    "**Requirement: The increasing number of applicants every year calls for a Machine Learning based solution that can help in shortlisting the candidates having higher chances of VISA approval.**\n",
    "\n",
    "# Features used in the AdaBoosting\n"
   ]
  },
  {
   "cell_type": "code",
   "execution_count": 47,
   "id": "e33aee57",
   "metadata": {},
   "outputs": [
    {
     "data": {
      "image/png": "[encoded data removed]",
      "text/plain": [
       "<Figure size 1000x600 with 1 Axes>"
      ]
     },
     "metadata": {},
     "output_type": "display_data"
    }
   ],
   "source": [
    "# Feature importance from the best model - Ada Boosting on original data\n",
    "feature_importances = ada_tuned.feature_importances_\n",
    "features = X_train.columns\n",
    "importance_df = pd.DataFrame({'Feature': features, 'Importance': feature_importances})\n",
    "importance_df = importance_df.sort_values(by='Importance', ascending=False) \n",
    "plt.figure(figsize=(10, 6))\n",
    "sns.barplot(x='Importance', y='Feature', data=importance_df)\n",
    "plt.title('Feature Importance from AdaBoost Classifier')\n",
    "plt.show()"
   ]
  },
  {
   "cell_type": "markdown",
   "id": "congressional-knock",
   "metadata": {
    "id": "congressional-knock"
   },
   "source": [
    "## Actionable Insights and Recommendations"
   ]
  },
  {
   "cell_type": "markdown",
   "id": "3564798b",
   "metadata": {},
   "source": [
    "# Actionable Insights\n",
    "\n",
    "## Features\n",
    "1. Applicants with Masters degree are most likely to get the Visa certified, about 80% of the applicants got approved\n",
    "2. Applicants with prior job experience are most likely to get the visa certified, about 80% of the applicants got approved\n",
    "3. Midwest has about 17% applicants, and they are most likely to get approved\n",
    "\n",
    "# Model selection\n",
    "1. oversampling and undersampling of data had no significant impact\n",
    "\n",
    "# Data \n",
    "1. total data 25480 rows \n",
    "2. there were some bad data like companies with negative employee count\n",
    "3. two century old companies are still functioning and have applicants\n",
    "4. there are more newer companies about 50 years old compared to older companies\n",
    "5. Northeast, south and west are regions of empoyment is more preferred\n",
    "6. Applicants from europe had most visa approval percentage\n",
    "7. Master and doctorates with job experience had the most visa approvals\n",
    "\n",
    "\n",
    "# Recommendations\n",
    "1. Adaptive Boosting Model is the recommended model\n",
    "2. Applicants with Masters degree and job experience as most likely get the visa approved\n",
    "3. Optimize resource usage, better service by \n",
    "    - streamlining the process (quick approval) for  applicants most likely to get visa approved ( see recomendation 2 )\n",
    "    - normal process for applicants most likely to get rejected\n",
    "4. Model: data changes over time, newer patterns emerge, review the model, perform similar exercise and determine the suitable model\n",
    "5. Model review is recomended for 20 to 30 % data increase\n"
   ]
  },
  {
   "cell_type": "markdown",
   "id": "Y2HdXLmSJi8K",
   "metadata": {
    "id": "Y2HdXLmSJi8K"
   },
   "source": [
    "<font size=6 color='blue'>Power Ahead</font>\n",
    "___"
   ]
  }
 ],
 "metadata": {
  "colab": {
   "collapsed_sections": [
    "yZvo8CHcetWN",
    "empty-shanghai",
    "Lm7obbsV_RUT",
    "thorough-passion",
    "mq-1s9p-_aKl",
    "wooden-christian",
    "qBWlk20UBUAx",
    "D9JNnpxa4jau",
    "congressional-knock"
   ],
   "provenance": []
  },
  "kernelspec": {
   "display_name": "base",
   "language": "python",
   "name": "python3"
  },
  "language_info": {
   "codemirror_mode": {
    "name": "ipython",
    "version": 3
   },
   "file_extension": ".py",
   "mimetype": "text/x-python",
   "name": "python",
   "nbconvert_exporter": "python",
   "pygments_lexer": "ipython3",
   "version": "3.12.7"
  }
 },
 "nbformat": 4,
 "nbformat_minor": 5
}
