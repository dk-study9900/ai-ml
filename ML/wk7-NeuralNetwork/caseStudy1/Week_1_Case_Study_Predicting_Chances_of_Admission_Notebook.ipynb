{
  "cells": [
    {
      "cell_type": "markdown",
      "metadata": {
        "id": "IIfOydFLJIaI"
      },
      "source": [
        "# **Predicting Chances of Admission**"
      ]
    },
    {
      "cell_type": "markdown",
      "source": [
        "## **Context**"
      ],
      "metadata": {
        "id": "KEWCXoWXrrHl"
      }
    },
    {
      "cell_type": "markdown",
      "source": [
        "The world is developing rapidly and continuously looking for the best knowledge and experience among people. This motivates people all around the world to stand out in their jobs and look for higher degrees that can help them in improving their skills and knowledge. As a result, the number of students applying for Master's programs has increased substantially.\n",
        "\n",
        "The current admission dataset was created for the prediction of admissions into the University of California, Los Angeles (UCLA). It was built to help students in shortlisting universities based on their profiles. The predicted output gives them a fair idea about their chances of getting accepted."
      ],
      "metadata": {
        "id": "NKltCUOKrtxk"
      }
    },
    {
      "cell_type": "markdown",
      "source": [
        "## **Objective**"
      ],
      "metadata": {
        "id": "m_UcxKpZrpE7"
      }
    },
    {
      "cell_type": "markdown",
      "source": [
        "We need to build a classification model using neural networks to predict a student's chances of admission into UCLA."
      ],
      "metadata": {
        "id": "av1StTtyrwV2"
      }
    },
    {
      "cell_type": "markdown",
      "source": [
        "## **Data Dictionary**"
      ],
      "metadata": {
        "id": "tSfGMyhZrm1N"
      }
    },
    {
      "cell_type": "markdown",
      "source": [
        "The dataset contains several features which are considered important during the application for Masters Programs.\n",
        "The features included are:\n",
        "\n",
        "- **GRE Scores:** (out of 340)\n",
        "\n",
        "- **TOEFL Scores:** (out of 120)\n",
        "\n",
        "- **University Rating:**  It indicates the Bachelor University ranking (out of 5)\n",
        "\n",
        "- **Statement of Purpose Strength:** (out of 5)\n",
        "\n",
        "- **Letter of Recommendation Strength:** (out of 5)\n",
        "\n",
        "- **Undergraduate GPA:** (out of 10)\n",
        "\n",
        "- **Research Experience:** (either 0 or 1)\n",
        "\n",
        "- **Chance of Admit:** (ranging from 0 to 1)"
      ],
      "metadata": {
        "id": "YDRz0kG5ryYQ"
      }
    },
    {
      "cell_type": "markdown",
      "metadata": {
        "id": "RUNw9Lh-mZHQ"
      },
      "source": [
        "## **Installing and Importing the necessary libraries**"
      ]
    },
    {
      "cell_type": "code",
      "source": [
        "# Installing the libraries with the specified version\n",
        "!pip install --no-deps tensorflow==2.18.0 scikit-learn==1.3.2 matplotlib===3.8.3 seaborn==0.13.2 numpy==1.26.4 pandas==2.2.2 -q --user --no-warn-script-location"
      ],
      "metadata": {
        "id": "1rXu9wOGq8xG",
        "colab": {
          "base_uri": "https://localhost:8080/"
        },
        "outputId": "13a98b03-44cd-4901-db4c-049492457d34"
      },
      "execution_count": null,
      "outputs": [
        {
          "output_type": "stream",
          "name": "stdout",
          "text": [
            "\u001b[2K     \u001b[90m━━━━━━━━━━━━━━━━━━━━━━━━━━━━━━━━━━━━━━━\u001b[0m \u001b[32m61.0/61.0 kB\u001b[0m \u001b[31m423.2 kB/s\u001b[0m eta \u001b[36m0:00:00\u001b[0m\n",
            "\u001b[2K   \u001b[90m━━━━━━━━━━━━━━━━━━━━━━━━━━━━━━━━━━━━━━━━\u001b[0m \u001b[32m10.9/10.9 MB\u001b[0m \u001b[31m19.5 MB/s\u001b[0m eta \u001b[36m0:00:00\u001b[0m\n",
            "\u001b[2K   \u001b[90m━━━━━━━━━━━━━━━━━━━━━━━━━━━━━━━━━━━━━━━━\u001b[0m \u001b[32m11.6/11.6 MB\u001b[0m \u001b[31m14.2 MB/s\u001b[0m eta \u001b[36m0:00:00\u001b[0m\n",
            "\u001b[2K   \u001b[90m━━━━━━━━━━━━━━━━━━━━━━━━━━━━━━━━━━━━━━━━\u001b[0m \u001b[32m18.3/18.3 MB\u001b[0m \u001b[31m32.0 MB/s\u001b[0m eta \u001b[36m0:00:00\u001b[0m\n",
            "\u001b[?25h"
          ]
        }
      ]
    },
    {
      "cell_type": "markdown",
      "source": [
        "**Note**:\n",
        "- After running the above cell, kindly restart the runtime (for Google Colab) or notebook kernel (for Jupyter Notebook), and run all cells sequentially from the next cell.\n",
        "- On executing the above line of code, you might see a warning regarding package dependencies. This error message can be ignored as the above code ensures that all necessary libraries and their dependencies are maintained to successfully execute the code in ***this notebook***."
      ],
      "metadata": {
        "id": "E4-hmm7PlfYB"
      }
    },
    {
      "cell_type": "code",
      "execution_count": null,
      "metadata": {
        "id": "CK_nbUDBmX2E"
      },
      "outputs": [],
      "source": [
        "import numpy as np\n",
        "import pandas as pd\n",
        "import matplotlib.pyplot as plt\n",
        "import seaborn as sns\n",
        "\n",
        "from sklearn.model_selection import train_test_split\n",
        "from sklearn.preprocessing import MinMaxScaler\n",
        "\n",
        "import tensorflow as tf\n",
        "from tensorflow.keras.models import Sequential\n",
        "from tensorflow.keras.layers import Dense, Dropout, Activation"
      ]
    },
    {
      "cell_type": "markdown",
      "source": [
        "## **Loading the Data**"
      ],
      "metadata": {
        "id": "54ogEcPxrDQf"
      }
    },
    {
      "cell_type": "code",
      "source": [
        "# uncomment and run the below code snippets if the dataset is present in the Google Drive\n",
        "# from google.colab import drive\n",
        "# drive.mount('/content/drive')"
      ],
      "metadata": {
        "id": "tJr-VdnssAgA"
      },
      "execution_count": null,
      "outputs": []
    },
    {
      "cell_type": "code",
      "execution_count": null,
      "metadata": {
        "id": "cF6d_Z6B2CpB"
      },
      "outputs": [],
      "source": [
        "# Importing the dataset\n",
        "data = pd.read_csv('Admission_Predict.csv')"
      ]
    },
    {
      "cell_type": "markdown",
      "source": [
        "## **Data Overview**"
      ],
      "metadata": {
        "id": "U-t3oxsrrQw6"
      }
    },
    {
      "cell_type": "code",
      "source": [
        "# Check the top five records of the data\n",
        "data.head()"
      ],
      "metadata": {
        "colab": {
          "base_uri": "https://localhost:8080/",
          "height": 206
        },
        "id": "sXKw7g69rU5O",
        "outputId": "d6661f62-f3eb-4d0f-a39d-33673b2df4f8"
      },
      "execution_count": null,
      "outputs": [
        {
          "output_type": "execute_result",
          "data": {
            "text/plain": [
              "   Serial No.  GRE Score  TOEFL Score  University Rating  SOP  LOR   CGPA  \\\n",
              "0           1        337          118                  4  4.5   4.5  9.65   \n",
              "1           2        324          107                  4  4.0   4.5  8.87   \n",
              "2           3        316          104                  3  3.0   3.5  8.00   \n",
              "3           4        322          110                  3  3.5   2.5  8.67   \n",
              "4           5        314          103                  2  2.0   3.0  8.21   \n",
              "\n",
              "   Research  Chance of Admit   \n",
              "0         1              0.92  \n",
              "1         1              0.76  \n",
              "2         1              0.72  \n",
              "3         1              0.80  \n",
              "4         0              0.65  "
            ],
            "text/html": [
              "\n",
              "  <div id=\"df-cc059bfc-caa8-422d-ad13-b44b01848432\" class=\"colab-df-container\">\n",
              "    <div>\n",
              "<style scoped>\n",
              "    .dataframe tbody tr th:only-of-type {\n",
              "        vertical-align: middle;\n",
              "    }\n",
              "\n",
              "    .dataframe tbody tr th {\n",
              "        vertical-align: top;\n",
              "    }\n",
              "\n",
              "    .dataframe thead th {\n",
              "        text-align: right;\n",
              "    }\n",
              "</style>\n",
              "<table border=\"1\" class=\"dataframe\">\n",
              "  <thead>\n",
              "    <tr style=\"text-align: right;\">\n",
              "      <th></th>\n",
              "      <th>Serial No.</th>\n",
              "      <th>GRE Score</th>\n",
              "      <th>TOEFL Score</th>\n",
              "      <th>University Rating</th>\n",
              "      <th>SOP</th>\n",
              "      <th>LOR</th>\n",
              "      <th>CGPA</th>\n",
              "      <th>Research</th>\n",
              "      <th>Chance of Admit</th>\n",
              "    </tr>\n",
              "  </thead>\n",
              "  <tbody>\n",
              "    <tr>\n",
              "      <th>0</th>\n",
              "      <td>1</td>\n",
              "      <td>337</td>\n",
              "      <td>118</td>\n",
              "      <td>4</td>\n",
              "      <td>4.5</td>\n",
              "      <td>4.5</td>\n",
              "      <td>9.65</td>\n",
              "      <td>1</td>\n",
              "      <td>0.92</td>\n",
              "    </tr>\n",
              "    <tr>\n",
              "      <th>1</th>\n",
              "      <td>2</td>\n",
              "      <td>324</td>\n",
              "      <td>107</td>\n",
              "      <td>4</td>\n",
              "      <td>4.0</td>\n",
              "      <td>4.5</td>\n",
              "      <td>8.87</td>\n",
              "      <td>1</td>\n",
              "      <td>0.76</td>\n",
              "    </tr>\n",
              "    <tr>\n",
              "      <th>2</th>\n",
              "      <td>3</td>\n",
              "      <td>316</td>\n",
              "      <td>104</td>\n",
              "      <td>3</td>\n",
              "      <td>3.0</td>\n",
              "      <td>3.5</td>\n",
              "      <td>8.00</td>\n",
              "      <td>1</td>\n",
              "      <td>0.72</td>\n",
              "    </tr>\n",
              "    <tr>\n",
              "      <th>3</th>\n",
              "      <td>4</td>\n",
              "      <td>322</td>\n",
              "      <td>110</td>\n",
              "      <td>3</td>\n",
              "      <td>3.5</td>\n",
              "      <td>2.5</td>\n",
              "      <td>8.67</td>\n",
              "      <td>1</td>\n",
              "      <td>0.80</td>\n",
              "    </tr>\n",
              "    <tr>\n",
              "      <th>4</th>\n",
              "      <td>5</td>\n",
              "      <td>314</td>\n",
              "      <td>103</td>\n",
              "      <td>2</td>\n",
              "      <td>2.0</td>\n",
              "      <td>3.0</td>\n",
              "      <td>8.21</td>\n",
              "      <td>0</td>\n",
              "      <td>0.65</td>\n",
              "    </tr>\n",
              "  </tbody>\n",
              "</table>\n",
              "</div>\n",
              "    <div class=\"colab-df-buttons\">\n",
              "\n",
              "  <div class=\"colab-df-container\">\n",
              "    <button class=\"colab-df-convert\" onclick=\"convertToInteractive('df-cc059bfc-caa8-422d-ad13-b44b01848432')\"\n",
              "            title=\"Convert this dataframe to an interactive table.\"\n",
              "            style=\"display:none;\">\n",
              "\n",
              "  <svg xmlns=\"http://www.w3.org/2000/svg\" height=\"24px\" viewBox=\"0 -960 960 960\">\n",
              "    <path d=\"M120-120v-720h720v720H120Zm60-500h600v-160H180v160Zm220 220h160v-160H400v160Zm0 220h160v-160H400v160ZM180-400h160v-160H180v160Zm440 0h160v-160H620v160ZM180-180h160v-160H180v160Zm440 0h160v-160H620v160Z\"/>\n",
              "  </svg>\n",
              "    </button>\n",
              "\n",
              "  <style>\n",
              "    .colab-df-container {\n",
              "      display:flex;\n",
              "      gap: 12px;\n",
              "    }\n",
              "\n",
              "    .colab-df-convert {\n",
              "      background-color: #E8F0FE;\n",
              "      border: none;\n",
              "      border-radius: 50%;\n",
              "      cursor: pointer;\n",
              "      display: none;\n",
              "      fill: #1967D2;\n",
              "      height: 32px;\n",
              "      padding: 0 0 0 0;\n",
              "      width: 32px;\n",
              "    }\n",
              "\n",
              "    .colab-df-convert:hover {\n",
              "      background-color: #E2EBFA;\n",
              "      box-shadow: 0px 1px 2px rgba(60, 64, 67, 0.3), 0px 1px 3px 1px rgba(60, 64, 67, 0.15);\n",
              "      fill: #174EA6;\n",
              "    }\n",
              "\n",
              "    .colab-df-buttons div {\n",
              "      margin-bottom: 4px;\n",
              "    }\n",
              "\n",
              "    [theme=dark] .colab-df-convert {\n",
              "      background-color: #3B4455;\n",
              "      fill: #D2E3FC;\n",
              "    }\n",
              "\n",
              "    [theme=dark] .colab-df-convert:hover {\n",
              "      background-color: #434B5C;\n",
              "      box-shadow: 0px 1px 3px 1px rgba(0, 0, 0, 0.15);\n",
              "      filter: drop-shadow(0px 1px 2px rgba(0, 0, 0, 0.3));\n",
              "      fill: #FFFFFF;\n",
              "    }\n",
              "  </style>\n",
              "\n",
              "    <script>\n",
              "      const buttonEl =\n",
              "        document.querySelector('#df-cc059bfc-caa8-422d-ad13-b44b01848432 button.colab-df-convert');\n",
              "      buttonEl.style.display =\n",
              "        google.colab.kernel.accessAllowed ? 'block' : 'none';\n",
              "\n",
              "      async function convertToInteractive(key) {\n",
              "        const element = document.querySelector('#df-cc059bfc-caa8-422d-ad13-b44b01848432');\n",
              "        const dataTable =\n",
              "          await google.colab.kernel.invokeFunction('convertToInteractive',\n",
              "                                                    [key], {});\n",
              "        if (!dataTable) return;\n",
              "\n",
              "        const docLinkHtml = 'Like what you see? Visit the ' +\n",
              "          '<a target=\"_blank\" href=https://colab.research.google.com/notebooks/data_table.ipynb>data table notebook</a>'\n",
              "          + ' to learn more about interactive tables.';\n",
              "        element.innerHTML = '';\n",
              "        dataTable['output_type'] = 'display_data';\n",
              "        await google.colab.output.renderOutput(dataTable, element);\n",
              "        const docLink = document.createElement('div');\n",
              "        docLink.innerHTML = docLinkHtml;\n",
              "        element.appendChild(docLink);\n",
              "      }\n",
              "    </script>\n",
              "  </div>\n",
              "\n",
              "\n",
              "    <div id=\"df-32be465c-54d6-4069-a669-88e993d54bad\">\n",
              "      <button class=\"colab-df-quickchart\" onclick=\"quickchart('df-32be465c-54d6-4069-a669-88e993d54bad')\"\n",
              "                title=\"Suggest charts\"\n",
              "                style=\"display:none;\">\n",
              "\n",
              "<svg xmlns=\"http://www.w3.org/2000/svg\" height=\"24px\"viewBox=\"0 0 24 24\"\n",
              "     width=\"24px\">\n",
              "    <g>\n",
              "        <path d=\"M19 3H5c-1.1 0-2 .9-2 2v14c0 1.1.9 2 2 2h14c1.1 0 2-.9 2-2V5c0-1.1-.9-2-2-2zM9 17H7v-7h2v7zm4 0h-2V7h2v10zm4 0h-2v-4h2v4z\"/>\n",
              "    </g>\n",
              "</svg>\n",
              "      </button>\n",
              "\n",
              "<style>\n",
              "  .colab-df-quickchart {\n",
              "      --bg-color: #E8F0FE;\n",
              "      --fill-color: #1967D2;\n",
              "      --hover-bg-color: #E2EBFA;\n",
              "      --hover-fill-color: #174EA6;\n",
              "      --disabled-fill-color: #AAA;\n",
              "      --disabled-bg-color: #DDD;\n",
              "  }\n",
              "\n",
              "  [theme=dark] .colab-df-quickchart {\n",
              "      --bg-color: #3B4455;\n",
              "      --fill-color: #D2E3FC;\n",
              "      --hover-bg-color: #434B5C;\n",
              "      --hover-fill-color: #FFFFFF;\n",
              "      --disabled-bg-color: #3B4455;\n",
              "      --disabled-fill-color: #666;\n",
              "  }\n",
              "\n",
              "  .colab-df-quickchart {\n",
              "    background-color: var(--bg-color);\n",
              "    border: none;\n",
              "    border-radius: 50%;\n",
              "    cursor: pointer;\n",
              "    display: none;\n",
              "    fill: var(--fill-color);\n",
              "    height: 32px;\n",
              "    padding: 0;\n",
              "    width: 32px;\n",
              "  }\n",
              "\n",
              "  .colab-df-quickchart:hover {\n",
              "    background-color: var(--hover-bg-color);\n",
              "    box-shadow: 0 1px 2px rgba(60, 64, 67, 0.3), 0 1px 3px 1px rgba(60, 64, 67, 0.15);\n",
              "    fill: var(--button-hover-fill-color);\n",
              "  }\n",
              "\n",
              "  .colab-df-quickchart-complete:disabled,\n",
              "  .colab-df-quickchart-complete:disabled:hover {\n",
              "    background-color: var(--disabled-bg-color);\n",
              "    fill: var(--disabled-fill-color);\n",
              "    box-shadow: none;\n",
              "  }\n",
              "\n",
              "  .colab-df-spinner {\n",
              "    border: 2px solid var(--fill-color);\n",
              "    border-color: transparent;\n",
              "    border-bottom-color: var(--fill-color);\n",
              "    animation:\n",
              "      spin 1s steps(1) infinite;\n",
              "  }\n",
              "\n",
              "  @keyframes spin {\n",
              "    0% {\n",
              "      border-color: transparent;\n",
              "      border-bottom-color: var(--fill-color);\n",
              "      border-left-color: var(--fill-color);\n",
              "    }\n",
              "    20% {\n",
              "      border-color: transparent;\n",
              "      border-left-color: var(--fill-color);\n",
              "      border-top-color: var(--fill-color);\n",
              "    }\n",
              "    30% {\n",
              "      border-color: transparent;\n",
              "      border-left-color: var(--fill-color);\n",
              "      border-top-color: var(--fill-color);\n",
              "      border-right-color: var(--fill-color);\n",
              "    }\n",
              "    40% {\n",
              "      border-color: transparent;\n",
              "      border-right-color: var(--fill-color);\n",
              "      border-top-color: var(--fill-color);\n",
              "    }\n",
              "    60% {\n",
              "      border-color: transparent;\n",
              "      border-right-color: var(--fill-color);\n",
              "    }\n",
              "    80% {\n",
              "      border-color: transparent;\n",
              "      border-right-color: var(--fill-color);\n",
              "      border-bottom-color: var(--fill-color);\n",
              "    }\n",
              "    90% {\n",
              "      border-color: transparent;\n",
              "      border-bottom-color: var(--fill-color);\n",
              "    }\n",
              "  }\n",
              "</style>\n",
              "\n",
              "      <script>\n",
              "        async function quickchart(key) {\n",
              "          const quickchartButtonEl =\n",
              "            document.querySelector('#' + key + ' button');\n",
              "          quickchartButtonEl.disabled = true;  // To prevent multiple clicks.\n",
              "          quickchartButtonEl.classList.add('colab-df-spinner');\n",
              "          try {\n",
              "            const charts = await google.colab.kernel.invokeFunction(\n",
              "                'suggestCharts', [key], {});\n",
              "          } catch (error) {\n",
              "            console.error('Error during call to suggestCharts:', error);\n",
              "          }\n",
              "          quickchartButtonEl.classList.remove('colab-df-spinner');\n",
              "          quickchartButtonEl.classList.add('colab-df-quickchart-complete');\n",
              "        }\n",
              "        (() => {\n",
              "          let quickchartButtonEl =\n",
              "            document.querySelector('#df-32be465c-54d6-4069-a669-88e993d54bad button');\n",
              "          quickchartButtonEl.style.display =\n",
              "            google.colab.kernel.accessAllowed ? 'block' : 'none';\n",
              "        })();\n",
              "      </script>\n",
              "    </div>\n",
              "\n",
              "    </div>\n",
              "  </div>\n"
            ],
            "application/vnd.google.colaboratory.intrinsic+json": {
              "type": "dataframe",
              "variable_name": "data",
              "summary": "{\n  \"name\": \"data\",\n  \"rows\": 500,\n  \"fields\": [\n    {\n      \"column\": \"Serial No.\",\n      \"properties\": {\n        \"dtype\": \"number\",\n        \"std\": 144,\n        \"min\": 1,\n        \"max\": 500,\n        \"num_unique_values\": 500,\n        \"samples\": [\n          362,\n          74,\n          375\n        ],\n        \"semantic_type\": \"\",\n        \"description\": \"\"\n      }\n    },\n    {\n      \"column\": \"GRE Score\",\n      \"properties\": {\n        \"dtype\": \"number\",\n        \"std\": 11,\n        \"min\": 290,\n        \"max\": 340,\n        \"num_unique_values\": 49,\n        \"samples\": [\n          307,\n          335,\n          297\n        ],\n        \"semantic_type\": \"\",\n        \"description\": \"\"\n      }\n    },\n    {\n      \"column\": \"TOEFL Score\",\n      \"properties\": {\n        \"dtype\": \"number\",\n        \"std\": 6,\n        \"min\": 92,\n        \"max\": 120,\n        \"num_unique_values\": 29,\n        \"samples\": [\n          94,\n          119,\n          112\n        ],\n        \"semantic_type\": \"\",\n        \"description\": \"\"\n      }\n    },\n    {\n      \"column\": \"University Rating\",\n      \"properties\": {\n        \"dtype\": \"number\",\n        \"std\": 1,\n        \"min\": 1,\n        \"max\": 5,\n        \"num_unique_values\": 5,\n        \"samples\": [\n          3,\n          1,\n          2\n        ],\n        \"semantic_type\": \"\",\n        \"description\": \"\"\n      }\n    },\n    {\n      \"column\": \"SOP\",\n      \"properties\": {\n        \"dtype\": \"number\",\n        \"std\": 0.9910036207566069,\n        \"min\": 1.0,\n        \"max\": 5.0,\n        \"num_unique_values\": 9,\n        \"samples\": [\n          1.0,\n          4.0,\n          5.0\n        ],\n        \"semantic_type\": \"\",\n        \"description\": \"\"\n      }\n    },\n    {\n      \"column\": \"LOR \",\n      \"properties\": {\n        \"dtype\": \"number\",\n        \"std\": 0.9254495738978181,\n        \"min\": 1.0,\n        \"max\": 5.0,\n        \"num_unique_values\": 9,\n        \"samples\": [\n          5.0,\n          3.5,\n          1.5\n        ],\n        \"semantic_type\": \"\",\n        \"description\": \"\"\n      }\n    },\n    {\n      \"column\": \"CGPA\",\n      \"properties\": {\n        \"dtype\": \"number\",\n        \"std\": 0.6048128003332052,\n        \"min\": 6.8,\n        \"max\": 9.92,\n        \"num_unique_values\": 184,\n        \"samples\": [\n          9.6,\n          8.9,\n          8.24\n        ],\n        \"semantic_type\": \"\",\n        \"description\": \"\"\n      }\n    },\n    {\n      \"column\": \"Research\",\n      \"properties\": {\n        \"dtype\": \"number\",\n        \"std\": 0,\n        \"min\": 0,\n        \"max\": 1,\n        \"num_unique_values\": 2,\n        \"samples\": [\n          0,\n          1\n        ],\n        \"semantic_type\": \"\",\n        \"description\": \"\"\n      }\n    },\n    {\n      \"column\": \"Chance of Admit \",\n      \"properties\": {\n        \"dtype\": \"number\",\n        \"std\": 0.1411404039503023,\n        \"min\": 0.34,\n        \"max\": 0.97,\n        \"num_unique_values\": 61,\n        \"samples\": [\n          0.92,\n          0.9\n        ],\n        \"semantic_type\": \"\",\n        \"description\": \"\"\n      }\n    }\n  ]\n}"
            }
          },
          "metadata": {},
          "execution_count": 4
        }
      ]
    },
    {
      "cell_type": "markdown",
      "metadata": {
        "id": "yVsWWzVw2brU"
      },
      "source": [
        "**Observations:**\n",
        "\n",
        "- In the above dataset, the target variable is **Chance of Admit**.\n",
        "- To make this a classification task, let's convert the target variable into a categorical variable by using a threshold of 80%.\n",
        "- We are assuming that if **Chance of Admit** is more than 80% then **Admit** would be 1 (i.e. yes), otherwise, it would be 0 (i.e. no)."
      ]
    },
    {
      "cell_type": "markdown",
      "source": [
        "## **Data Preprocessing**"
      ],
      "metadata": {
        "id": "JzPviEvfrYo4"
      }
    },
    {
      "cell_type": "code",
      "execution_count": null,
      "metadata": {
        "id": "HLxtOrbw2ZLS"
      },
      "outputs": [],
      "source": [
        "# Converting the target variable into a categorical variable\n",
        "\n",
        "data['Admit'] = data['Chance of Admit '].apply(lambda x: 1 if x > 0.8 else 0)"
      ]
    },
    {
      "cell_type": "markdown",
      "metadata": {
        "id": "CY4KERF63aAY"
      },
      "source": [
        "Now that we have created a new target variable, we can remove the column - **Chance of Admit** from the dataset. We can also remove the column - **Serial No.** as it would not add any value to our analysis."
      ]
    },
    {
      "cell_type": "code",
      "execution_count": null,
      "metadata": {
        "colab": {
          "base_uri": "https://localhost:8080/",
          "height": 206
        },
        "id": "XGCid1us3jRJ",
        "outputId": "54f6d677-295e-4740-c2b2-f5121d418ede"
      },
      "outputs": [
        {
          "output_type": "execute_result",
          "data": {
            "text/plain": [
              "   GRE Score  TOEFL Score  University Rating  SOP  LOR   CGPA  Research  Admit\n",
              "0        337          118                  4  4.5   4.5  9.65         1      1\n",
              "1        324          107                  4  4.0   4.5  8.87         1      0\n",
              "2        316          104                  3  3.0   3.5  8.00         1      0\n",
              "3        322          110                  3  3.5   2.5  8.67         1      0\n",
              "4        314          103                  2  2.0   3.0  8.21         0      0"
            ],
            "text/html": [
              "\n",
              "  <div id=\"df-da54e242-4b2a-4f4a-ae15-97c4ab58b42f\" class=\"colab-df-container\">\n",
              "    <div>\n",
              "<style scoped>\n",
              "    .dataframe tbody tr th:only-of-type {\n",
              "        vertical-align: middle;\n",
              "    }\n",
              "\n",
              "    .dataframe tbody tr th {\n",
              "        vertical-align: top;\n",
              "    }\n",
              "\n",
              "    .dataframe thead th {\n",
              "        text-align: right;\n",
              "    }\n",
              "</style>\n",
              "<table border=\"1\" class=\"dataframe\">\n",
              "  <thead>\n",
              "    <tr style=\"text-align: right;\">\n",
              "      <th></th>\n",
              "      <th>GRE Score</th>\n",
              "      <th>TOEFL Score</th>\n",
              "      <th>University Rating</th>\n",
              "      <th>SOP</th>\n",
              "      <th>LOR</th>\n",
              "      <th>CGPA</th>\n",
              "      <th>Research</th>\n",
              "      <th>Admit</th>\n",
              "    </tr>\n",
              "  </thead>\n",
              "  <tbody>\n",
              "    <tr>\n",
              "      <th>0</th>\n",
              "      <td>337</td>\n",
              "      <td>118</td>\n",
              "      <td>4</td>\n",
              "      <td>4.5</td>\n",
              "      <td>4.5</td>\n",
              "      <td>9.65</td>\n",
              "      <td>1</td>\n",
              "      <td>1</td>\n",
              "    </tr>\n",
              "    <tr>\n",
              "      <th>1</th>\n",
              "      <td>324</td>\n",
              "      <td>107</td>\n",
              "      <td>4</td>\n",
              "      <td>4.0</td>\n",
              "      <td>4.5</td>\n",
              "      <td>8.87</td>\n",
              "      <td>1</td>\n",
              "      <td>0</td>\n",
              "    </tr>\n",
              "    <tr>\n",
              "      <th>2</th>\n",
              "      <td>316</td>\n",
              "      <td>104</td>\n",
              "      <td>3</td>\n",
              "      <td>3.0</td>\n",
              "      <td>3.5</td>\n",
              "      <td>8.00</td>\n",
              "      <td>1</td>\n",
              "      <td>0</td>\n",
              "    </tr>\n",
              "    <tr>\n",
              "      <th>3</th>\n",
              "      <td>322</td>\n",
              "      <td>110</td>\n",
              "      <td>3</td>\n",
              "      <td>3.5</td>\n",
              "      <td>2.5</td>\n",
              "      <td>8.67</td>\n",
              "      <td>1</td>\n",
              "      <td>0</td>\n",
              "    </tr>\n",
              "    <tr>\n",
              "      <th>4</th>\n",
              "      <td>314</td>\n",
              "      <td>103</td>\n",
              "      <td>2</td>\n",
              "      <td>2.0</td>\n",
              "      <td>3.0</td>\n",
              "      <td>8.21</td>\n",
              "      <td>0</td>\n",
              "      <td>0</td>\n",
              "    </tr>\n",
              "  </tbody>\n",
              "</table>\n",
              "</div>\n",
              "    <div class=\"colab-df-buttons\">\n",
              "\n",
              "  <div class=\"colab-df-container\">\n",
              "    <button class=\"colab-df-convert\" onclick=\"convertToInteractive('df-da54e242-4b2a-4f4a-ae15-97c4ab58b42f')\"\n",
              "            title=\"Convert this dataframe to an interactive table.\"\n",
              "            style=\"display:none;\">\n",
              "\n",
              "  <svg xmlns=\"http://www.w3.org/2000/svg\" height=\"24px\" viewBox=\"0 -960 960 960\">\n",
              "    <path d=\"M120-120v-720h720v720H120Zm60-500h600v-160H180v160Zm220 220h160v-160H400v160Zm0 220h160v-160H400v160ZM180-400h160v-160H180v160Zm440 0h160v-160H620v160ZM180-180h160v-160H180v160Zm440 0h160v-160H620v160Z\"/>\n",
              "  </svg>\n",
              "    </button>\n",
              "\n",
              "  <style>\n",
              "    .colab-df-container {\n",
              "      display:flex;\n",
              "      gap: 12px;\n",
              "    }\n",
              "\n",
              "    .colab-df-convert {\n",
              "      background-color: #E8F0FE;\n",
              "      border: none;\n",
              "      border-radius: 50%;\n",
              "      cursor: pointer;\n",
              "      display: none;\n",
              "      fill: #1967D2;\n",
              "      height: 32px;\n",
              "      padding: 0 0 0 0;\n",
              "      width: 32px;\n",
              "    }\n",
              "\n",
              "    .colab-df-convert:hover {\n",
              "      background-color: #E2EBFA;\n",
              "      box-shadow: 0px 1px 2px rgba(60, 64, 67, 0.3), 0px 1px 3px 1px rgba(60, 64, 67, 0.15);\n",
              "      fill: #174EA6;\n",
              "    }\n",
              "\n",
              "    .colab-df-buttons div {\n",
              "      margin-bottom: 4px;\n",
              "    }\n",
              "\n",
              "    [theme=dark] .colab-df-convert {\n",
              "      background-color: #3B4455;\n",
              "      fill: #D2E3FC;\n",
              "    }\n",
              "\n",
              "    [theme=dark] .colab-df-convert:hover {\n",
              "      background-color: #434B5C;\n",
              "      box-shadow: 0px 1px 3px 1px rgba(0, 0, 0, 0.15);\n",
              "      filter: drop-shadow(0px 1px 2px rgba(0, 0, 0, 0.3));\n",
              "      fill: #FFFFFF;\n",
              "    }\n",
              "  </style>\n",
              "\n",
              "    <script>\n",
              "      const buttonEl =\n",
              "        document.querySelector('#df-da54e242-4b2a-4f4a-ae15-97c4ab58b42f button.colab-df-convert');\n",
              "      buttonEl.style.display =\n",
              "        google.colab.kernel.accessAllowed ? 'block' : 'none';\n",
              "\n",
              "      async function convertToInteractive(key) {\n",
              "        const element = document.querySelector('#df-da54e242-4b2a-4f4a-ae15-97c4ab58b42f');\n",
              "        const dataTable =\n",
              "          await google.colab.kernel.invokeFunction('convertToInteractive',\n",
              "                                                    [key], {});\n",
              "        if (!dataTable) return;\n",
              "\n",
              "        const docLinkHtml = 'Like what you see? Visit the ' +\n",
              "          '<a target=\"_blank\" href=https://colab.research.google.com/notebooks/data_table.ipynb>data table notebook</a>'\n",
              "          + ' to learn more about interactive tables.';\n",
              "        element.innerHTML = '';\n",
              "        dataTable['output_type'] = 'display_data';\n",
              "        await google.colab.output.renderOutput(dataTable, element);\n",
              "        const docLink = document.createElement('div');\n",
              "        docLink.innerHTML = docLinkHtml;\n",
              "        element.appendChild(docLink);\n",
              "      }\n",
              "    </script>\n",
              "  </div>\n",
              "\n",
              "\n",
              "    <div id=\"df-7fac8140-b3ad-40f4-80b8-c2b6440b3b9e\">\n",
              "      <button class=\"colab-df-quickchart\" onclick=\"quickchart('df-7fac8140-b3ad-40f4-80b8-c2b6440b3b9e')\"\n",
              "                title=\"Suggest charts\"\n",
              "                style=\"display:none;\">\n",
              "\n",
              "<svg xmlns=\"http://www.w3.org/2000/svg\" height=\"24px\"viewBox=\"0 0 24 24\"\n",
              "     width=\"24px\">\n",
              "    <g>\n",
              "        <path d=\"M19 3H5c-1.1 0-2 .9-2 2v14c0 1.1.9 2 2 2h14c1.1 0 2-.9 2-2V5c0-1.1-.9-2-2-2zM9 17H7v-7h2v7zm4 0h-2V7h2v10zm4 0h-2v-4h2v4z\"/>\n",
              "    </g>\n",
              "</svg>\n",
              "      </button>\n",
              "\n",
              "<style>\n",
              "  .colab-df-quickchart {\n",
              "      --bg-color: #E8F0FE;\n",
              "      --fill-color: #1967D2;\n",
              "      --hover-bg-color: #E2EBFA;\n",
              "      --hover-fill-color: #174EA6;\n",
              "      --disabled-fill-color: #AAA;\n",
              "      --disabled-bg-color: #DDD;\n",
              "  }\n",
              "\n",
              "  [theme=dark] .colab-df-quickchart {\n",
              "      --bg-color: #3B4455;\n",
              "      --fill-color: #D2E3FC;\n",
              "      --hover-bg-color: #434B5C;\n",
              "      --hover-fill-color: #FFFFFF;\n",
              "      --disabled-bg-color: #3B4455;\n",
              "      --disabled-fill-color: #666;\n",
              "  }\n",
              "\n",
              "  .colab-df-quickchart {\n",
              "    background-color: var(--bg-color);\n",
              "    border: none;\n",
              "    border-radius: 50%;\n",
              "    cursor: pointer;\n",
              "    display: none;\n",
              "    fill: var(--fill-color);\n",
              "    height: 32px;\n",
              "    padding: 0;\n",
              "    width: 32px;\n",
              "  }\n",
              "\n",
              "  .colab-df-quickchart:hover {\n",
              "    background-color: var(--hover-bg-color);\n",
              "    box-shadow: 0 1px 2px rgba(60, 64, 67, 0.3), 0 1px 3px 1px rgba(60, 64, 67, 0.15);\n",
              "    fill: var(--button-hover-fill-color);\n",
              "  }\n",
              "\n",
              "  .colab-df-quickchart-complete:disabled,\n",
              "  .colab-df-quickchart-complete:disabled:hover {\n",
              "    background-color: var(--disabled-bg-color);\n",
              "    fill: var(--disabled-fill-color);\n",
              "    box-shadow: none;\n",
              "  }\n",
              "\n",
              "  .colab-df-spinner {\n",
              "    border: 2px solid var(--fill-color);\n",
              "    border-color: transparent;\n",
              "    border-bottom-color: var(--fill-color);\n",
              "    animation:\n",
              "      spin 1s steps(1) infinite;\n",
              "  }\n",
              "\n",
              "  @keyframes spin {\n",
              "    0% {\n",
              "      border-color: transparent;\n",
              "      border-bottom-color: var(--fill-color);\n",
              "      border-left-color: var(--fill-color);\n",
              "    }\n",
              "    20% {\n",
              "      border-color: transparent;\n",
              "      border-left-color: var(--fill-color);\n",
              "      border-top-color: var(--fill-color);\n",
              "    }\n",
              "    30% {\n",
              "      border-color: transparent;\n",
              "      border-left-color: var(--fill-color);\n",
              "      border-top-color: var(--fill-color);\n",
              "      border-right-color: var(--fill-color);\n",
              "    }\n",
              "    40% {\n",
              "      border-color: transparent;\n",
              "      border-right-color: var(--fill-color);\n",
              "      border-top-color: var(--fill-color);\n",
              "    }\n",
              "    60% {\n",
              "      border-color: transparent;\n",
              "      border-right-color: var(--fill-color);\n",
              "    }\n",
              "    80% {\n",
              "      border-color: transparent;\n",
              "      border-right-color: var(--fill-color);\n",
              "      border-bottom-color: var(--fill-color);\n",
              "    }\n",
              "    90% {\n",
              "      border-color: transparent;\n",
              "      border-bottom-color: var(--fill-color);\n",
              "    }\n",
              "  }\n",
              "</style>\n",
              "\n",
              "      <script>\n",
              "        async function quickchart(key) {\n",
              "          const quickchartButtonEl =\n",
              "            document.querySelector('#' + key + ' button');\n",
              "          quickchartButtonEl.disabled = true;  // To prevent multiple clicks.\n",
              "          quickchartButtonEl.classList.add('colab-df-spinner');\n",
              "          try {\n",
              "            const charts = await google.colab.kernel.invokeFunction(\n",
              "                'suggestCharts', [key], {});\n",
              "          } catch (error) {\n",
              "            console.error('Error during call to suggestCharts:', error);\n",
              "          }\n",
              "          quickchartButtonEl.classList.remove('colab-df-spinner');\n",
              "          quickchartButtonEl.classList.add('colab-df-quickchart-complete');\n",
              "        }\n",
              "        (() => {\n",
              "          let quickchartButtonEl =\n",
              "            document.querySelector('#df-7fac8140-b3ad-40f4-80b8-c2b6440b3b9e button');\n",
              "          quickchartButtonEl.style.display =\n",
              "            google.colab.kernel.accessAllowed ? 'block' : 'none';\n",
              "        })();\n",
              "      </script>\n",
              "    </div>\n",
              "\n",
              "    </div>\n",
              "  </div>\n"
            ],
            "application/vnd.google.colaboratory.intrinsic+json": {
              "type": "dataframe",
              "variable_name": "data",
              "summary": "{\n  \"name\": \"data\",\n  \"rows\": 500,\n  \"fields\": [\n    {\n      \"column\": \"GRE Score\",\n      \"properties\": {\n        \"dtype\": \"number\",\n        \"std\": 11,\n        \"min\": 290,\n        \"max\": 340,\n        \"num_unique_values\": 49,\n        \"samples\": [\n          307,\n          335,\n          297\n        ],\n        \"semantic_type\": \"\",\n        \"description\": \"\"\n      }\n    },\n    {\n      \"column\": \"TOEFL Score\",\n      \"properties\": {\n        \"dtype\": \"number\",\n        \"std\": 6,\n        \"min\": 92,\n        \"max\": 120,\n        \"num_unique_values\": 29,\n        \"samples\": [\n          94,\n          119,\n          112\n        ],\n        \"semantic_type\": \"\",\n        \"description\": \"\"\n      }\n    },\n    {\n      \"column\": \"University Rating\",\n      \"properties\": {\n        \"dtype\": \"number\",\n        \"std\": 1,\n        \"min\": 1,\n        \"max\": 5,\n        \"num_unique_values\": 5,\n        \"samples\": [\n          3,\n          1,\n          2\n        ],\n        \"semantic_type\": \"\",\n        \"description\": \"\"\n      }\n    },\n    {\n      \"column\": \"SOP\",\n      \"properties\": {\n        \"dtype\": \"number\",\n        \"std\": 0.9910036207566069,\n        \"min\": 1.0,\n        \"max\": 5.0,\n        \"num_unique_values\": 9,\n        \"samples\": [\n          1.0,\n          4.0,\n          5.0\n        ],\n        \"semantic_type\": \"\",\n        \"description\": \"\"\n      }\n    },\n    {\n      \"column\": \"LOR \",\n      \"properties\": {\n        \"dtype\": \"number\",\n        \"std\": 0.9254495738978181,\n        \"min\": 1.0,\n        \"max\": 5.0,\n        \"num_unique_values\": 9,\n        \"samples\": [\n          5.0,\n          3.5,\n          1.5\n        ],\n        \"semantic_type\": \"\",\n        \"description\": \"\"\n      }\n    },\n    {\n      \"column\": \"CGPA\",\n      \"properties\": {\n        \"dtype\": \"number\",\n        \"std\": 0.6048128003332052,\n        \"min\": 6.8,\n        \"max\": 9.92,\n        \"num_unique_values\": 184,\n        \"samples\": [\n          9.6,\n          8.9,\n          8.24\n        ],\n        \"semantic_type\": \"\",\n        \"description\": \"\"\n      }\n    },\n    {\n      \"column\": \"Research\",\n      \"properties\": {\n        \"dtype\": \"number\",\n        \"std\": 0,\n        \"min\": 0,\n        \"max\": 1,\n        \"num_unique_values\": 2,\n        \"samples\": [\n          0,\n          1\n        ],\n        \"semantic_type\": \"\",\n        \"description\": \"\"\n      }\n    },\n    {\n      \"column\": \"Admit\",\n      \"properties\": {\n        \"dtype\": \"number\",\n        \"std\": 0,\n        \"min\": 0,\n        \"max\": 1,\n        \"num_unique_values\": 2,\n        \"samples\": [\n          0,\n          1\n        ],\n        \"semantic_type\": \"\",\n        \"description\": \"\"\n      }\n    }\n  ]\n}"
            }
          },
          "metadata": {},
          "execution_count": 6
        }
      ],
      "source": [
        "# Dropping columns\n",
        "data = data.drop(['Serial No.', 'Chance of Admit '], axis=1)\n",
        "data.head()"
      ]
    },
    {
      "cell_type": "markdown",
      "source": [
        "## **Exploratory Data Analysis**"
      ],
      "metadata": {
        "id": "x5hMhtRugy5K"
      }
    },
    {
      "cell_type": "markdown",
      "metadata": {
        "id": "VxPbTdpkC-ax"
      },
      "source": [
        "**Let's check the info of the data**"
      ]
    },
    {
      "cell_type": "code",
      "execution_count": null,
      "metadata": {
        "colab": {
          "base_uri": "https://localhost:8080/"
        },
        "id": "Y5wPX0lb3wRU",
        "outputId": "de153ff6-3fb8-4db0-b3e5-ecfbf0fb06cc"
      },
      "outputs": [
        {
          "output_type": "stream",
          "name": "stdout",
          "text": [
            "<class 'pandas.core.frame.DataFrame'>\n",
            "RangeIndex: 500 entries, 0 to 499\n",
            "Data columns (total 8 columns):\n",
            " #   Column             Non-Null Count  Dtype  \n",
            "---  ------             --------------  -----  \n",
            " 0   GRE Score          500 non-null    int64  \n",
            " 1   TOEFL Score        500 non-null    int64  \n",
            " 2   University Rating  500 non-null    int64  \n",
            " 3   SOP                500 non-null    float64\n",
            " 4   LOR                500 non-null    float64\n",
            " 5   CGPA               500 non-null    float64\n",
            " 6   Research           500 non-null    int64  \n",
            " 7   Admit              500 non-null    int64  \n",
            "dtypes: float64(3), int64(5)\n",
            "memory usage: 31.4 KB\n"
          ]
        }
      ],
      "source": [
        "# Let's check the info of the data\n",
        "data.info()"
      ]
    },
    {
      "cell_type": "markdown",
      "metadata": {
        "id": "cBQS9b56DC2_"
      },
      "source": [
        "**Observations:**\n",
        "\n",
        "- There are **500 observations and 8 columns** in the data.\n",
        "- All the columns are of **numeric data** type.\n",
        "- There are **no missing values** in the data."
      ]
    },
    {
      "cell_type": "markdown",
      "source": [
        "### **Summary Statistics**"
      ],
      "metadata": {
        "id": "kd8maHDRg423"
      }
    },
    {
      "cell_type": "code",
      "execution_count": null,
      "metadata": {
        "colab": {
          "base_uri": "https://localhost:8080/",
          "height": 301
        },
        "id": "WpdM4iC0DwPJ",
        "outputId": "1ec7f592-27a1-445f-fca3-d89b5ec89eae"
      },
      "outputs": [
        {
          "output_type": "execute_result",
          "data": {
            "text/plain": [
              "                   count       mean        std    min       25%     50%  \\\n",
              "GRE Score          500.0  316.47200  11.295148  290.0  308.0000  317.00   \n",
              "TOEFL Score        500.0  107.19200   6.081868   92.0  103.0000  107.00   \n",
              "University Rating  500.0    3.11400   1.143512    1.0    2.0000    3.00   \n",
              "SOP                500.0    3.37400   0.991004    1.0    2.5000    3.50   \n",
              "LOR                500.0    3.48400   0.925450    1.0    3.0000    3.50   \n",
              "CGPA               500.0    8.57644   0.604813    6.8    8.1275    8.56   \n",
              "Research           500.0    0.56000   0.496884    0.0    0.0000    1.00   \n",
              "Admit              500.0    0.28400   0.451388    0.0    0.0000    0.00   \n",
              "\n",
              "                      75%     max  \n",
              "GRE Score          325.00  340.00  \n",
              "TOEFL Score        112.00  120.00  \n",
              "University Rating    4.00    5.00  \n",
              "SOP                  4.00    5.00  \n",
              "LOR                  4.00    5.00  \n",
              "CGPA                 9.04    9.92  \n",
              "Research             1.00    1.00  \n",
              "Admit                1.00    1.00  "
            ],
            "text/html": [
              "\n",
              "  <div id=\"df-13a2c7b6-5b4f-45f6-8ccf-efba7dab0a30\" class=\"colab-df-container\">\n",
              "    <div>\n",
              "<style scoped>\n",
              "    .dataframe tbody tr th:only-of-type {\n",
              "        vertical-align: middle;\n",
              "    }\n",
              "\n",
              "    .dataframe tbody tr th {\n",
              "        vertical-align: top;\n",
              "    }\n",
              "\n",
              "    .dataframe thead th {\n",
              "        text-align: right;\n",
              "    }\n",
              "</style>\n",
              "<table border=\"1\" class=\"dataframe\">\n",
              "  <thead>\n",
              "    <tr style=\"text-align: right;\">\n",
              "      <th></th>\n",
              "      <th>count</th>\n",
              "      <th>mean</th>\n",
              "      <th>std</th>\n",
              "      <th>min</th>\n",
              "      <th>25%</th>\n",
              "      <th>50%</th>\n",
              "      <th>75%</th>\n",
              "      <th>max</th>\n",
              "    </tr>\n",
              "  </thead>\n",
              "  <tbody>\n",
              "    <tr>\n",
              "      <th>GRE Score</th>\n",
              "      <td>500.0</td>\n",
              "      <td>316.47200</td>\n",
              "      <td>11.295148</td>\n",
              "      <td>290.0</td>\n",
              "      <td>308.0000</td>\n",
              "      <td>317.00</td>\n",
              "      <td>325.00</td>\n",
              "      <td>340.00</td>\n",
              "    </tr>\n",
              "    <tr>\n",
              "      <th>TOEFL Score</th>\n",
              "      <td>500.0</td>\n",
              "      <td>107.19200</td>\n",
              "      <td>6.081868</td>\n",
              "      <td>92.0</td>\n",
              "      <td>103.0000</td>\n",
              "      <td>107.00</td>\n",
              "      <td>112.00</td>\n",
              "      <td>120.00</td>\n",
              "    </tr>\n",
              "    <tr>\n",
              "      <th>University Rating</th>\n",
              "      <td>500.0</td>\n",
              "      <td>3.11400</td>\n",
              "      <td>1.143512</td>\n",
              "      <td>1.0</td>\n",
              "      <td>2.0000</td>\n",
              "      <td>3.00</td>\n",
              "      <td>4.00</td>\n",
              "      <td>5.00</td>\n",
              "    </tr>\n",
              "    <tr>\n",
              "      <th>SOP</th>\n",
              "      <td>500.0</td>\n",
              "      <td>3.37400</td>\n",
              "      <td>0.991004</td>\n",
              "      <td>1.0</td>\n",
              "      <td>2.5000</td>\n",
              "      <td>3.50</td>\n",
              "      <td>4.00</td>\n",
              "      <td>5.00</td>\n",
              "    </tr>\n",
              "    <tr>\n",
              "      <th>LOR</th>\n",
              "      <td>500.0</td>\n",
              "      <td>3.48400</td>\n",
              "      <td>0.925450</td>\n",
              "      <td>1.0</td>\n",
              "      <td>3.0000</td>\n",
              "      <td>3.50</td>\n",
              "      <td>4.00</td>\n",
              "      <td>5.00</td>\n",
              "    </tr>\n",
              "    <tr>\n",
              "      <th>CGPA</th>\n",
              "      <td>500.0</td>\n",
              "      <td>8.57644</td>\n",
              "      <td>0.604813</td>\n",
              "      <td>6.8</td>\n",
              "      <td>8.1275</td>\n",
              "      <td>8.56</td>\n",
              "      <td>9.04</td>\n",
              "      <td>9.92</td>\n",
              "    </tr>\n",
              "    <tr>\n",
              "      <th>Research</th>\n",
              "      <td>500.0</td>\n",
              "      <td>0.56000</td>\n",
              "      <td>0.496884</td>\n",
              "      <td>0.0</td>\n",
              "      <td>0.0000</td>\n",
              "      <td>1.00</td>\n",
              "      <td>1.00</td>\n",
              "      <td>1.00</td>\n",
              "    </tr>\n",
              "    <tr>\n",
              "      <th>Admit</th>\n",
              "      <td>500.0</td>\n",
              "      <td>0.28400</td>\n",
              "      <td>0.451388</td>\n",
              "      <td>0.0</td>\n",
              "      <td>0.0000</td>\n",
              "      <td>0.00</td>\n",
              "      <td>1.00</td>\n",
              "      <td>1.00</td>\n",
              "    </tr>\n",
              "  </tbody>\n",
              "</table>\n",
              "</div>\n",
              "    <div class=\"colab-df-buttons\">\n",
              "\n",
              "  <div class=\"colab-df-container\">\n",
              "    <button class=\"colab-df-convert\" onclick=\"convertToInteractive('df-13a2c7b6-5b4f-45f6-8ccf-efba7dab0a30')\"\n",
              "            title=\"Convert this dataframe to an interactive table.\"\n",
              "            style=\"display:none;\">\n",
              "\n",
              "  <svg xmlns=\"http://www.w3.org/2000/svg\" height=\"24px\" viewBox=\"0 -960 960 960\">\n",
              "    <path d=\"M120-120v-720h720v720H120Zm60-500h600v-160H180v160Zm220 220h160v-160H400v160Zm0 220h160v-160H400v160ZM180-400h160v-160H180v160Zm440 0h160v-160H620v160ZM180-180h160v-160H180v160Zm440 0h160v-160H620v160Z\"/>\n",
              "  </svg>\n",
              "    </button>\n",
              "\n",
              "  <style>\n",
              "    .colab-df-container {\n",
              "      display:flex;\n",
              "      gap: 12px;\n",
              "    }\n",
              "\n",
              "    .colab-df-convert {\n",
              "      background-color: #E8F0FE;\n",
              "      border: none;\n",
              "      border-radius: 50%;\n",
              "      cursor: pointer;\n",
              "      display: none;\n",
              "      fill: #1967D2;\n",
              "      height: 32px;\n",
              "      padding: 0 0 0 0;\n",
              "      width: 32px;\n",
              "    }\n",
              "\n",
              "    .colab-df-convert:hover {\n",
              "      background-color: #E2EBFA;\n",
              "      box-shadow: 0px 1px 2px rgba(60, 64, 67, 0.3), 0px 1px 3px 1px rgba(60, 64, 67, 0.15);\n",
              "      fill: #174EA6;\n",
              "    }\n",
              "\n",
              "    .colab-df-buttons div {\n",
              "      margin-bottom: 4px;\n",
              "    }\n",
              "\n",
              "    [theme=dark] .colab-df-convert {\n",
              "      background-color: #3B4455;\n",
              "      fill: #D2E3FC;\n",
              "    }\n",
              "\n",
              "    [theme=dark] .colab-df-convert:hover {\n",
              "      background-color: #434B5C;\n",
              "      box-shadow: 0px 1px 3px 1px rgba(0, 0, 0, 0.15);\n",
              "      filter: drop-shadow(0px 1px 2px rgba(0, 0, 0, 0.3));\n",
              "      fill: #FFFFFF;\n",
              "    }\n",
              "  </style>\n",
              "\n",
              "    <script>\n",
              "      const buttonEl =\n",
              "        document.querySelector('#df-13a2c7b6-5b4f-45f6-8ccf-efba7dab0a30 button.colab-df-convert');\n",
              "      buttonEl.style.display =\n",
              "        google.colab.kernel.accessAllowed ? 'block' : 'none';\n",
              "\n",
              "      async function convertToInteractive(key) {\n",
              "        const element = document.querySelector('#df-13a2c7b6-5b4f-45f6-8ccf-efba7dab0a30');\n",
              "        const dataTable =\n",
              "          await google.colab.kernel.invokeFunction('convertToInteractive',\n",
              "                                                    [key], {});\n",
              "        if (!dataTable) return;\n",
              "\n",
              "        const docLinkHtml = 'Like what you see? Visit the ' +\n",
              "          '<a target=\"_blank\" href=https://colab.research.google.com/notebooks/data_table.ipynb>data table notebook</a>'\n",
              "          + ' to learn more about interactive tables.';\n",
              "        element.innerHTML = '';\n",
              "        dataTable['output_type'] = 'display_data';\n",
              "        await google.colab.output.renderOutput(dataTable, element);\n",
              "        const docLink = document.createElement('div');\n",
              "        docLink.innerHTML = docLinkHtml;\n",
              "        element.appendChild(docLink);\n",
              "      }\n",
              "    </script>\n",
              "  </div>\n",
              "\n",
              "\n",
              "    <div id=\"df-ac2a7124-4190-4f23-87b8-8d6f0f6e1301\">\n",
              "      <button class=\"colab-df-quickchart\" onclick=\"quickchart('df-ac2a7124-4190-4f23-87b8-8d6f0f6e1301')\"\n",
              "                title=\"Suggest charts\"\n",
              "                style=\"display:none;\">\n",
              "\n",
              "<svg xmlns=\"http://www.w3.org/2000/svg\" height=\"24px\"viewBox=\"0 0 24 24\"\n",
              "     width=\"24px\">\n",
              "    <g>\n",
              "        <path d=\"M19 3H5c-1.1 0-2 .9-2 2v14c0 1.1.9 2 2 2h14c1.1 0 2-.9 2-2V5c0-1.1-.9-2-2-2zM9 17H7v-7h2v7zm4 0h-2V7h2v10zm4 0h-2v-4h2v4z\"/>\n",
              "    </g>\n",
              "</svg>\n",
              "      </button>\n",
              "\n",
              "<style>\n",
              "  .colab-df-quickchart {\n",
              "      --bg-color: #E8F0FE;\n",
              "      --fill-color: #1967D2;\n",
              "      --hover-bg-color: #E2EBFA;\n",
              "      --hover-fill-color: #174EA6;\n",
              "      --disabled-fill-color: #AAA;\n",
              "      --disabled-bg-color: #DDD;\n",
              "  }\n",
              "\n",
              "  [theme=dark] .colab-df-quickchart {\n",
              "      --bg-color: #3B4455;\n",
              "      --fill-color: #D2E3FC;\n",
              "      --hover-bg-color: #434B5C;\n",
              "      --hover-fill-color: #FFFFFF;\n",
              "      --disabled-bg-color: #3B4455;\n",
              "      --disabled-fill-color: #666;\n",
              "  }\n",
              "\n",
              "  .colab-df-quickchart {\n",
              "    background-color: var(--bg-color);\n",
              "    border: none;\n",
              "    border-radius: 50%;\n",
              "    cursor: pointer;\n",
              "    display: none;\n",
              "    fill: var(--fill-color);\n",
              "    height: 32px;\n",
              "    padding: 0;\n",
              "    width: 32px;\n",
              "  }\n",
              "\n",
              "  .colab-df-quickchart:hover {\n",
              "    background-color: var(--hover-bg-color);\n",
              "    box-shadow: 0 1px 2px rgba(60, 64, 67, 0.3), 0 1px 3px 1px rgba(60, 64, 67, 0.15);\n",
              "    fill: var(--button-hover-fill-color);\n",
              "  }\n",
              "\n",
              "  .colab-df-quickchart-complete:disabled,\n",
              "  .colab-df-quickchart-complete:disabled:hover {\n",
              "    background-color: var(--disabled-bg-color);\n",
              "    fill: var(--disabled-fill-color);\n",
              "    box-shadow: none;\n",
              "  }\n",
              "\n",
              "  .colab-df-spinner {\n",
              "    border: 2px solid var(--fill-color);\n",
              "    border-color: transparent;\n",
              "    border-bottom-color: var(--fill-color);\n",
              "    animation:\n",
              "      spin 1s steps(1) infinite;\n",
              "  }\n",
              "\n",
              "  @keyframes spin {\n",
              "    0% {\n",
              "      border-color: transparent;\n",
              "      border-bottom-color: var(--fill-color);\n",
              "      border-left-color: var(--fill-color);\n",
              "    }\n",
              "    20% {\n",
              "      border-color: transparent;\n",
              "      border-left-color: var(--fill-color);\n",
              "      border-top-color: var(--fill-color);\n",
              "    }\n",
              "    30% {\n",
              "      border-color: transparent;\n",
              "      border-left-color: var(--fill-color);\n",
              "      border-top-color: var(--fill-color);\n",
              "      border-right-color: var(--fill-color);\n",
              "    }\n",
              "    40% {\n",
              "      border-color: transparent;\n",
              "      border-right-color: var(--fill-color);\n",
              "      border-top-color: var(--fill-color);\n",
              "    }\n",
              "    60% {\n",
              "      border-color: transparent;\n",
              "      border-right-color: var(--fill-color);\n",
              "    }\n",
              "    80% {\n",
              "      border-color: transparent;\n",
              "      border-right-color: var(--fill-color);\n",
              "      border-bottom-color: var(--fill-color);\n",
              "    }\n",
              "    90% {\n",
              "      border-color: transparent;\n",
              "      border-bottom-color: var(--fill-color);\n",
              "    }\n",
              "  }\n",
              "</style>\n",
              "\n",
              "      <script>\n",
              "        async function quickchart(key) {\n",
              "          const quickchartButtonEl =\n",
              "            document.querySelector('#' + key + ' button');\n",
              "          quickchartButtonEl.disabled = true;  // To prevent multiple clicks.\n",
              "          quickchartButtonEl.classList.add('colab-df-spinner');\n",
              "          try {\n",
              "            const charts = await google.colab.kernel.invokeFunction(\n",
              "                'suggestCharts', [key], {});\n",
              "          } catch (error) {\n",
              "            console.error('Error during call to suggestCharts:', error);\n",
              "          }\n",
              "          quickchartButtonEl.classList.remove('colab-df-spinner');\n",
              "          quickchartButtonEl.classList.add('colab-df-quickchart-complete');\n",
              "        }\n",
              "        (() => {\n",
              "          let quickchartButtonEl =\n",
              "            document.querySelector('#df-ac2a7124-4190-4f23-87b8-8d6f0f6e1301 button');\n",
              "          quickchartButtonEl.style.display =\n",
              "            google.colab.kernel.accessAllowed ? 'block' : 'none';\n",
              "        })();\n",
              "      </script>\n",
              "    </div>\n",
              "\n",
              "    </div>\n",
              "  </div>\n"
            ],
            "application/vnd.google.colaboratory.intrinsic+json": {
              "type": "dataframe",
              "summary": "{\n  \"name\": \"data\",\n  \"rows\": 8,\n  \"fields\": [\n    {\n      \"column\": \"count\",\n      \"properties\": {\n        \"dtype\": \"number\",\n        \"std\": 0.0,\n        \"min\": 500.0,\n        \"max\": 500.0,\n        \"num_unique_values\": 1,\n        \"samples\": [\n          500.0\n        ],\n        \"semantic_type\": \"\",\n        \"description\": \"\"\n      }\n    },\n    {\n      \"column\": \"mean\",\n      \"properties\": {\n        \"dtype\": \"number\",\n        \"std\": 111.6208148963582,\n        \"min\": 0.284,\n        \"max\": 316.472,\n        \"num_unique_values\": 8,\n        \"samples\": [\n          107.192\n        ],\n        \"semantic_type\": \"\",\n        \"description\": \"\"\n      }\n    },\n    {\n      \"column\": \"std\",\n      \"properties\": {\n        \"dtype\": \"number\",\n        \"std\": 3.9294987323333395,\n        \"min\": 0.45138841700470533,\n        \"max\": 11.295148372354694,\n        \"num_unique_values\": 8,\n        \"samples\": [\n          6.081867659564522\n        ],\n        \"semantic_type\": \"\",\n        \"description\": \"\"\n      }\n    },\n    {\n      \"column\": \"min\",\n      \"properties\": {\n        \"dtype\": \"number\",\n        \"std\": 102.41709887932359,\n        \"min\": 0.0,\n        \"max\": 290.0,\n        \"num_unique_values\": 5,\n        \"samples\": [\n          92.0\n        ],\n        \"semantic_type\": \"\",\n        \"description\": \"\"\n      }\n    },\n    {\n      \"column\": \"25%\",\n      \"properties\": {\n        \"dtype\": \"number\",\n        \"std\": 108.76378617819887,\n        \"min\": 0.0,\n        \"max\": 308.0,\n        \"num_unique_values\": 7,\n        \"samples\": [\n          308.0\n        ],\n        \"semantic_type\": \"\",\n        \"description\": \"\"\n      }\n    },\n    {\n      \"column\": \"50%\",\n      \"properties\": {\n        \"dtype\": \"number\",\n        \"std\": 111.77310524962103,\n        \"min\": 0.0,\n        \"max\": 317.0,\n        \"num_unique_values\": 7,\n        \"samples\": [\n          317.0\n        ],\n        \"semantic_type\": \"\",\n        \"description\": \"\"\n      }\n    },\n    {\n      \"column\": \"75%\",\n      \"properties\": {\n        \"dtype\": \"number\",\n        \"std\": 114.54638573832999,\n        \"min\": 1.0,\n        \"max\": 325.0,\n        \"num_unique_values\": 5,\n        \"samples\": [\n          112.0\n        ],\n        \"semantic_type\": \"\",\n        \"description\": \"\"\n      }\n    },\n    {\n      \"column\": \"max\",\n      \"properties\": {\n        \"dtype\": \"number\",\n        \"std\": 119.84455443853686,\n        \"min\": 1.0,\n        \"max\": 340.0,\n        \"num_unique_values\": 5,\n        \"samples\": [\n          120.0\n        ],\n        \"semantic_type\": \"\",\n        \"description\": \"\"\n      }\n    }\n  ]\n}"
            }
          },
          "metadata": {},
          "execution_count": 8
        }
      ],
      "source": [
        "# Let's check the summary statistics of the data\n",
        "data.describe().T"
      ]
    },
    {
      "cell_type": "markdown",
      "metadata": {
        "id": "Dwro2RclD222"
      },
      "source": [
        "**Observations:**\n",
        "\n",
        "- The average GRE score of students applying for UCLA is ~316 out of 340. Some students scored full marks on GRE.\n",
        "-  The average TOEFL score of students applying for UCLA is ~107 out of 120. Some students scored full marks on TOEFL.\n",
        "- There are students with all kinds of ratings for bachelor's University, SOP, and LOR - ratings ranging from 1 to 5.\n",
        "-  The average CGPA of students applying for UCLA is 8.57.\n",
        "- Majority of students (~56%) have research experience.\n",
        "- As per our assumption, on average 28.4% of students would get admission to UCLA."
      ]
    },
    {
      "cell_type": "markdown",
      "metadata": {
        "id": "fhotGVGD4hgT"
      },
      "source": [
        "### **Let's visualize the dataset to see some patterns**"
      ]
    },
    {
      "cell_type": "code",
      "execution_count": null,
      "metadata": {
        "colab": {
          "base_uri": "https://localhost:8080/",
          "height": 696
        },
        "id": "vwTqs3205Zk6",
        "outputId": "2a9f0aca-9039-4163-f84b-fb4bdfd5708d"
      },
      "outputs": [
        {
          "output_type": "display_data",
          "data": {
            "text/plain": [
              "<Figure size 1500x800 with 1 Axes>"
            ],
            "image/png": "[encoded data removed]"
          },
          "metadata": {}
        }
      ],
      "source": [
        "plt.figure(figsize=(15,8))\n",
        "sns.scatterplot(data=data,\n",
        "           x='GRE Score',\n",
        "           y='TOEFL Score',\n",
        "           hue='Admit',\n",
        "           size='SOP');"
      ]
    },
    {
      "cell_type": "markdown",
      "metadata": {
        "id": "csxwJUu4Kmj4"
      },
      "source": [
        "**Observations:**\n",
        "\n",
        "- There is a linear relationship between GRE and TOEFL scores. This implies that students scoring high one of them would score high in the other as well.\n",
        "- With the increase in GRE and TOEFL scores, the strength of SOP increases.\n",
        "- We can see a distinction between students who were admitted (denoted by orange) vs those who were not admitted (denoted by blue). We can see that majority of students who were admitted have GRE score greater than 320, TOEFL score greater than 105, and SOP of 4 or higher."
      ]
    },
    {
      "cell_type": "code",
      "execution_count": null,
      "metadata": {
        "colab": {
          "base_uri": "https://localhost:8080/",
          "height": 641
        },
        "id": "cEOrIzXp4m4L",
        "outputId": "add3c53c-92ee-4f2b-bd2f-b8823e1844d7"
      },
      "outputs": [
        {
          "output_type": "display_data",
          "data": {
            "text/plain": [
              "<Figure size 1000x700 with 1 Axes>"
            ],
            "image/png": "[encoded data removed]"
          },
          "metadata": {}
        }
      ],
      "source": [
        "plt.figure(figsize=(10,7))\n",
        "sns.boxplot(data=data,\n",
        "             x='University Rating',\n",
        "             y='CGPA',\n",
        "             hue='Admit')\n",
        "plt.title('Relationship between different University Rating and CGPA')\n",
        "plt.show()"
      ]
    },
    {
      "cell_type": "markdown",
      "metadata": {
        "id": "qphs_7DPMb05"
      },
      "source": [
        "**Observations:**\n",
        "\n",
        "- We can see that, with increasing university ratings, the CGPA is also increasing, and also the chances of getting admitted to UCLA have increased.\n",
        "- The CGPA of students getting admission to UCLA is higher as compared to students not getting admission to UCLA which makes sense."
      ]
    },
    {
      "cell_type": "markdown",
      "metadata": {
        "id": "ZZP_r2sD7B0P"
      },
      "source": [
        "## **Data Preparation**"
      ]
    },
    {
      "cell_type": "markdown",
      "metadata": {
        "id": "5N2uA8r4MwX6"
      },
      "source": [
        "This dataset contains both numerical and categorical variables. We need to treat them first before we pass them onto the neural network. We will perform the below pre-processing steps:\n",
        "*   One hot encoding of categorical variables\n",
        "*   Scaling numerical variables\n",
        "\n",
        "An important point to remember: Before we scale numerical variables, we would first split the dataset into train and test datasets and perform scaling separately. Otherwise, we would be leaking information from the test data to the train data and the resulting model might give a false sense of good performance. This is known as **data leakage** which we would like to avoid."
      ]
    },
    {
      "cell_type": "markdown",
      "metadata": {
        "id": "M3O6DOWXOWkn"
      },
      "source": [
        "Now, let's split the dataset into train and test datasets. To do that, we would be extracting all the **independent variables** and save them into a variable **features**. And the target variable **Admit** would be saved into a variable **target**. These two variables will be used to split the parent dataset into train and test datasets."
      ]
    },
    {
      "cell_type": "code",
      "execution_count": null,
      "metadata": {
        "id": "7MQ2juQB8IuT"
      },
      "outputs": [],
      "source": [
        "features = data.drop(['Admit'], axis=1)\n",
        "\n",
        "target = data['Admit']"
      ]
    },
    {
      "cell_type": "markdown",
      "metadata": {
        "id": "NuYQ0t2WcBLG"
      },
      "source": [
        "The size of the dataset is small and the Keras implementation provides an argument for selecting some percentage of training data as validation data to check the accuracy of the model. Therefore, we will split the data into an 80:20 ratio."
      ]
    },
    {
      "cell_type": "code",
      "execution_count": null,
      "metadata": {
        "id": "I8fE8aF_7hJY"
      },
      "outputs": [],
      "source": [
        "# Splitting the dataset into train and test data\n",
        "X_train, X_test, y_train, y_test =  train_test_split(features, target, test_size=0.2, random_state=42)"
      ]
    },
    {
      "cell_type": "markdown",
      "metadata": {
        "id": "U883DzGZOwpp"
      },
      "source": [
        "Now, we will perform scaling on the numerical variables separately for train and test sets. We will perform **fit** and **transform** on the train data and then only we will perform **transform** on the test data."
      ]
    },
    {
      "cell_type": "code",
      "execution_count": null,
      "metadata": {
        "id": "mVdTFnkb8dfQ"
      },
      "outputs": [],
      "source": [
        "scaler = MinMaxScaler()\n",
        "\n",
        "# Here, we are passing all the features (numerical and categorical), that's okay as min-max scaler will not change values of categorical variables\n",
        "X_train_normalized = scaler.fit_transform(X_train)"
      ]
    },
    {
      "cell_type": "code",
      "execution_count": null,
      "metadata": {
        "id": "2VLYxAVu953T"
      },
      "outputs": [],
      "source": [
        "X_test_normalized = scaler.transform(X_test)"
      ]
    },
    {
      "cell_type": "markdown",
      "metadata": {
        "id": "X7VT_t5f9bwR"
      },
      "source": [
        "## **Model Building**"
      ]
    },
    {
      "cell_type": "markdown",
      "metadata": {
        "id": "hbltijMlPVVP"
      },
      "source": [
        "In neural networks, there are so many hyper-parameters that you can play around with and tune the network to get the best results. Some of them are -\n",
        "\n",
        "\n",
        "\n",
        "1.   Number of hidden layers\n",
        "2.   Number of neurons in each hidden layer\n",
        "3.   Activation functions in hidden layers\n",
        "4.   Optimizers\n",
        "5.   Random initialization of weights and biases\n",
        "6.   Batch size\n",
        "7.   Learning rate\n",
        "8.   Early stopping\n",
        "9.   L1 and L2 Regularization\n",
        "10.  Dropout\n",
        "11.  Momentum\n",
        "\n",
        "and so on..."
      ]
    },
    {
      "cell_type": "markdown",
      "metadata": {
        "id": "9YFaopNE_lpw"
      },
      "source": [
        "First, let's set the seed for random number generators in NumPy, Python, and TensorFlow to be able to reproduce the same results everytime we run the code."
      ]
    },
    {
      "cell_type": "code",
      "execution_count": null,
      "metadata": {
        "id": "VTVs7lmH_hXx"
      },
      "outputs": [],
      "source": [
        "# Fixing the seed for random number generators\n",
        "np.random.seed(42)\n",
        "\n",
        "import random\n",
        "random.seed(42)\n",
        "\n",
        "tf.random.set_seed(42)"
      ]
    },
    {
      "cell_type": "markdown",
      "metadata": {
        "id": "tLsxcmgPQ_cG"
      },
      "source": [
        "**Let's build a feed forward neural network with 2 hidden layers and the output layer.**"
      ]
    },
    {
      "cell_type": "code",
      "execution_count": null,
      "metadata": {
        "id": "ytCsjy93BKbK",
        "colab": {
          "base_uri": "https://localhost:8080/"
        },
        "outputId": "42451ab4-67d5-45d9-f259-091579381dbd"
      },
      "outputs": [
        {
          "output_type": "stream",
          "name": "stderr",
          "text": [
            "/usr/local/lib/python3.11/dist-packages/keras/src/layers/core/dense.py:87: UserWarning: Do not pass an `input_shape`/`input_dim` argument to a layer. When using Sequential models, prefer using an `Input(shape)` object as the first layer in the model instead.\n",
            "  super().__init__(activity_regularizer=activity_regularizer, **kwargs)\n"
          ]
        }
      ],
      "source": [
        "# We will be adding the layers sequentially\n",
        "model_1 = Sequential()\n",
        "\n",
        "# First hidden layer with 128 neurons and relu activation function, the input shape tuple denotes number of independent variables\n",
        "model_1.add(Dense(128, activation='relu', input_shape=(7,)))\n",
        "\n",
        "# We will be switching 20% of neurons off randomly at each iteration to avoid overfitting\n",
        "model_1.add(Dropout(0.2))\n",
        "\n",
        "# Second hidden layer with 64 neurons and relu activation function\n",
        "model_1.add(Dense(64, activation='relu'))\n",
        "\n",
        "# We will be switching 10% of neurons off randomly at each iteration to avoid overfitting\n",
        "model_1.add(Dropout(0.1))\n",
        "\n",
        "# Output layer with only one neuron and sigmoid as activation function will give the probability of students getting admitted into UCLA\n",
        "model_1.add(Dense(1, activation='sigmoid'))"
      ]
    },
    {
      "cell_type": "markdown",
      "metadata": {
        "id": "FvBhQn8ZR_HW"
      },
      "source": [
        "Once we are done with the model architecture, we need to compile the model, where we need to provide the loss function that we want to optimize, the optimization algorithm, and the evaluation metric that we are interested in to evaluate the model."
      ]
    },
    {
      "cell_type": "markdown",
      "metadata": {
        "id": "GAP99treSW_4"
      },
      "source": [
        "Since this is a binary classification task, we will be minimizing the **binary_crossentropy** and we can choose one optimizer out of\n",
        "1.   SGD\n",
        "2.   RMSprop\n",
        "3.   Adam\n",
        "4.   Adadelta\n",
        "5.   Adagrad\n",
        "6.   Adamax\n",
        "7.   Nadam\n",
        "8.   Ftrl\n",
        "\n",
        "This is a hyper-parameter. You can play around with these optimizers to check which one performs better with a particular data.\n",
        "\n",
        "For now, let's try **adamax** optimizer with **accuracy** as the metric and see the model's summary."
      ]
    },
    {
      "cell_type": "code",
      "execution_count": null,
      "metadata": {
        "colab": {
          "base_uri": "https://localhost:8080/",
          "height": 312
        },
        "id": "2REFSaSx9RBi",
        "outputId": "975fa465-ee13-4fa5-bc3d-c47cf3cf66db"
      },
      "outputs": [
        {
          "output_type": "display_data",
          "data": {
            "text/plain": [
              "\u001b[1mModel: \"sequential\"\u001b[0m\n"
            ],
            "text/html": [
              "<pre style=\"white-space:pre;overflow-x:auto;line-height:normal;font-family:Menlo,'DejaVu Sans Mono',consolas,'Courier New',monospace\"><span style=\"font-weight: bold\">Model: \"sequential\"</span>\n",
              "</pre>\n"
            ]
          },
          "metadata": {}
        },
        {
          "output_type": "display_data",
          "data": {
            "text/plain": [
              "┏━━━━━━━━━━━━━━━━━━━━━━━━━━━━━━━━━┳━━━━━━━━━━━━━━━━━━━━━━━━┳━━━━━━━━━━━━━━━┓\n",
              "┃\u001b[1m \u001b[0m\u001b[1mLayer (type)                   \u001b[0m\u001b[1m \u001b[0m┃\u001b[1m \u001b[0m\u001b[1mOutput Shape          \u001b[0m\u001b[1m \u001b[0m┃\u001b[1m \u001b[0m\u001b[1m      Param #\u001b[0m\u001b[1m \u001b[0m┃\n",
              "┡━━━━━━━━━━━━━━━━━━━━━━━━━━━━━━━━━╇━━━━━━━━━━━━━━━━━━━━━━━━╇━━━━━━━━━━━━━━━┩\n",
              "│ dense (\u001b[38;5;33mDense\u001b[0m)                   │ (\u001b[38;5;45mNone\u001b[0m, \u001b[38;5;34m128\u001b[0m)            │         \u001b[38;5;34m1,024\u001b[0m │\n",
              "├─────────────────────────────────┼────────────────────────┼───────────────┤\n",
              "│ dropout (\u001b[38;5;33mDropout\u001b[0m)               │ (\u001b[38;5;45mNone\u001b[0m, \u001b[38;5;34m128\u001b[0m)            │             \u001b[38;5;34m0\u001b[0m │\n",
              "├─────────────────────────────────┼────────────────────────┼───────────────┤\n",
              "│ dense_1 (\u001b[38;5;33mDense\u001b[0m)                 │ (\u001b[38;5;45mNone\u001b[0m, \u001b[38;5;34m64\u001b[0m)             │         \u001b[38;5;34m8,256\u001b[0m │\n",
              "├─────────────────────────────────┼────────────────────────┼───────────────┤\n",
              "│ dropout_1 (\u001b[38;5;33mDropout\u001b[0m)             │ (\u001b[38;5;45mNone\u001b[0m, \u001b[38;5;34m64\u001b[0m)             │             \u001b[38;5;34m0\u001b[0m │\n",
              "├─────────────────────────────────┼────────────────────────┼───────────────┤\n",
              "│ dense_2 (\u001b[38;5;33mDense\u001b[0m)                 │ (\u001b[38;5;45mNone\u001b[0m, \u001b[38;5;34m1\u001b[0m)              │            \u001b[38;5;34m65\u001b[0m │\n",
              "└─────────────────────────────────┴────────────────────────┴───────────────┘\n"
            ],
            "text/html": [
              "<pre style=\"white-space:pre;overflow-x:auto;line-height:normal;font-family:Menlo,'DejaVu Sans Mono',consolas,'Courier New',monospace\">┏━━━━━━━━━━━━━━━━━━━━━━━━━━━━━━━━━┳━━━━━━━━━━━━━━━━━━━━━━━━┳━━━━━━━━━━━━━━━┓\n",
              "┃<span style=\"font-weight: bold\"> Layer (type)                    </span>┃<span style=\"font-weight: bold\"> Output Shape           </span>┃<span style=\"font-weight: bold\">       Param # </span>┃\n",
              "┡━━━━━━━━━━━━━━━━━━━━━━━━━━━━━━━━━╇━━━━━━━━━━━━━━━━━━━━━━━━╇━━━━━━━━━━━━━━━┩\n",
              "│ dense (<span style=\"color: #0087ff; text-decoration-color: #0087ff\">Dense</span>)                   │ (<span style=\"color: #00d7ff; text-decoration-color: #00d7ff\">None</span>, <span style=\"color: #00af00; text-decoration-color: #00af00\">128</span>)            │         <span style=\"color: #00af00; text-decoration-color: #00af00\">1,024</span> │\n",
              "├─────────────────────────────────┼────────────────────────┼───────────────┤\n",
              "│ dropout (<span style=\"color: #0087ff; text-decoration-color: #0087ff\">Dropout</span>)               │ (<span style=\"color: #00d7ff; text-decoration-color: #00d7ff\">None</span>, <span style=\"color: #00af00; text-decoration-color: #00af00\">128</span>)            │             <span style=\"color: #00af00; text-decoration-color: #00af00\">0</span> │\n",
              "├─────────────────────────────────┼────────────────────────┼───────────────┤\n",
              "│ dense_1 (<span style=\"color: #0087ff; text-decoration-color: #0087ff\">Dense</span>)                 │ (<span style=\"color: #00d7ff; text-decoration-color: #00d7ff\">None</span>, <span style=\"color: #00af00; text-decoration-color: #00af00\">64</span>)             │         <span style=\"color: #00af00; text-decoration-color: #00af00\">8,256</span> │\n",
              "├─────────────────────────────────┼────────────────────────┼───────────────┤\n",
              "│ dropout_1 (<span style=\"color: #0087ff; text-decoration-color: #0087ff\">Dropout</span>)             │ (<span style=\"color: #00d7ff; text-decoration-color: #00d7ff\">None</span>, <span style=\"color: #00af00; text-decoration-color: #00af00\">64</span>)             │             <span style=\"color: #00af00; text-decoration-color: #00af00\">0</span> │\n",
              "├─────────────────────────────────┼────────────────────────┼───────────────┤\n",
              "│ dense_2 (<span style=\"color: #0087ff; text-decoration-color: #0087ff\">Dense</span>)                 │ (<span style=\"color: #00d7ff; text-decoration-color: #00d7ff\">None</span>, <span style=\"color: #00af00; text-decoration-color: #00af00\">1</span>)              │            <span style=\"color: #00af00; text-decoration-color: #00af00\">65</span> │\n",
              "└─────────────────────────────────┴────────────────────────┴───────────────┘\n",
              "</pre>\n"
            ]
          },
          "metadata": {}
        },
        {
          "output_type": "display_data",
          "data": {
            "text/plain": [
              "\u001b[1m Total params: \u001b[0m\u001b[38;5;34m9,345\u001b[0m (36.50 KB)\n"
            ],
            "text/html": [
              "<pre style=\"white-space:pre;overflow-x:auto;line-height:normal;font-family:Menlo,'DejaVu Sans Mono',consolas,'Courier New',monospace\"><span style=\"font-weight: bold\"> Total params: </span><span style=\"color: #00af00; text-decoration-color: #00af00\">9,345</span> (36.50 KB)\n",
              "</pre>\n"
            ]
          },
          "metadata": {}
        },
        {
          "output_type": "display_data",
          "data": {
            "text/plain": [
              "\u001b[1m Trainable params: \u001b[0m\u001b[38;5;34m9,345\u001b[0m (36.50 KB)\n"
            ],
            "text/html": [
              "<pre style=\"white-space:pre;overflow-x:auto;line-height:normal;font-family:Menlo,'DejaVu Sans Mono',consolas,'Courier New',monospace\"><span style=\"font-weight: bold\"> Trainable params: </span><span style=\"color: #00af00; text-decoration-color: #00af00\">9,345</span> (36.50 KB)\n",
              "</pre>\n"
            ]
          },
          "metadata": {}
        },
        {
          "output_type": "display_data",
          "data": {
            "text/plain": [
              "\u001b[1m Non-trainable params: \u001b[0m\u001b[38;5;34m0\u001b[0m (0.00 B)\n"
            ],
            "text/html": [
              "<pre style=\"white-space:pre;overflow-x:auto;line-height:normal;font-family:Menlo,'DejaVu Sans Mono',consolas,'Courier New',monospace\"><span style=\"font-weight: bold\"> Non-trainable params: </span><span style=\"color: #00af00; text-decoration-color: #00af00\">0</span> (0.00 B)\n",
              "</pre>\n"
            ]
          },
          "metadata": {}
        }
      ],
      "source": [
        "model_1.compile(loss = 'binary_crossentropy', optimizer='adamax', metrics=['accuracy'])\n",
        "\n",
        "model_1.summary()"
      ]
    },
    {
      "cell_type": "markdown",
      "metadata": {
        "id": "C7W9EYZnTP1P"
      },
      "source": [
        "From the above summary, we can see that this architecture will train a total of **9,857** parameters i.e. weights and biases in the network."
      ]
    },
    {
      "cell_type": "markdown",
      "metadata": {
        "id": "4N6XAn6mA_BD"
      },
      "source": [
        "### **Training the model**"
      ]
    },
    {
      "cell_type": "markdown",
      "metadata": {
        "id": "hmZ5ZSIlUSVH"
      },
      "source": [
        "Let's now train the model using the below piece of code. We will keep the 10% of the training data for validation."
      ]
    },
    {
      "cell_type": "code",
      "execution_count": null,
      "metadata": {
        "colab": {
          "base_uri": "https://localhost:8080/"
        },
        "id": "hkeCQ_K99nob",
        "outputId": "d42a6310-ad80-4b28-c2ed-bd385e602d6f"
      },
      "outputs": [
        {
          "output_type": "stream",
          "name": "stdout",
          "text": [
            "Epoch 1/150\n",
            "12/12 - 2s - 134ms/step - accuracy: 0.6583 - loss: 0.6754 - val_accuracy: 0.5750 - val_loss: 0.7008\n",
            "Epoch 2/150\n",
            "12/12 - 0s - 8ms/step - accuracy: 0.7278 - loss: 0.6415 - val_accuracy: 0.5750 - val_loss: 0.7036\n",
            "Epoch 3/150\n",
            "12/12 - 0s - 36ms/step - accuracy: 0.7278 - loss: 0.6248 - val_accuracy: 0.5750 - val_loss: 0.6944\n",
            "Epoch 4/150\n",
            "12/12 - 0s - 13ms/step - accuracy: 0.7278 - loss: 0.6030 - val_accuracy: 0.5750 - val_loss: 0.6806\n",
            "Epoch 5/150\n",
            "12/12 - 0s - 8ms/step - accuracy: 0.7278 - loss: 0.5845 - val_accuracy: 0.5750 - val_loss: 0.6605\n",
            "Epoch 6/150\n",
            "12/12 - 0s - 8ms/step - accuracy: 0.7278 - loss: 0.5645 - val_accuracy: 0.5750 - val_loss: 0.6399\n",
            "Epoch 7/150\n",
            "12/12 - 0s - 11ms/step - accuracy: 0.7278 - loss: 0.5453 - val_accuracy: 0.5750 - val_loss: 0.6210\n",
            "Epoch 8/150\n",
            "12/12 - 0s - 35ms/step - accuracy: 0.7361 - loss: 0.5242 - val_accuracy: 0.5750 - val_loss: 0.5989\n",
            "Epoch 9/150\n",
            "12/12 - 0s - 27ms/step - accuracy: 0.7583 - loss: 0.5102 - val_accuracy: 0.7000 - val_loss: 0.5791\n",
            "Epoch 10/150\n",
            "12/12 - 0s - 16ms/step - accuracy: 0.7806 - loss: 0.4924 - val_accuracy: 0.8000 - val_loss: 0.5592\n",
            "Epoch 11/150\n",
            "12/12 - 0s - 14ms/step - accuracy: 0.8194 - loss: 0.4719 - val_accuracy: 0.9250 - val_loss: 0.5379\n",
            "Epoch 12/150\n",
            "12/12 - 0s - 15ms/step - accuracy: 0.8472 - loss: 0.4480 - val_accuracy: 0.9250 - val_loss: 0.5160\n",
            "Epoch 13/150\n",
            "12/12 - 0s - 26ms/step - accuracy: 0.8556 - loss: 0.4385 - val_accuracy: 0.9250 - val_loss: 0.4957\n",
            "Epoch 14/150\n",
            "12/12 - 0s - 22ms/step - accuracy: 0.8917 - loss: 0.4085 - val_accuracy: 0.9250 - val_loss: 0.4798\n",
            "Epoch 15/150\n",
            "12/12 - 0s - 27ms/step - accuracy: 0.8722 - loss: 0.4029 - val_accuracy: 0.9250 - val_loss: 0.4600\n",
            "Epoch 16/150\n",
            "12/12 - 0s - 26ms/step - accuracy: 0.8861 - loss: 0.3899 - val_accuracy: 0.9000 - val_loss: 0.4381\n",
            "Epoch 17/150\n",
            "12/12 - 0s - 19ms/step - accuracy: 0.8861 - loss: 0.3745 - val_accuracy: 0.9000 - val_loss: 0.4208\n",
            "Epoch 18/150\n",
            "12/12 - 0s - 9ms/step - accuracy: 0.8806 - loss: 0.3562 - val_accuracy: 0.9000 - val_loss: 0.4023\n",
            "Epoch 19/150\n",
            "12/12 - 0s - 11ms/step - accuracy: 0.8889 - loss: 0.3443 - val_accuracy: 0.9000 - val_loss: 0.3865\n",
            "Epoch 20/150\n",
            "12/12 - 0s - 8ms/step - accuracy: 0.8861 - loss: 0.3402 - val_accuracy: 0.9250 - val_loss: 0.3767\n",
            "Epoch 21/150\n",
            "12/12 - 0s - 12ms/step - accuracy: 0.8917 - loss: 0.3290 - val_accuracy: 0.9250 - val_loss: 0.3627\n",
            "Epoch 22/150\n",
            "12/12 - 0s - 9ms/step - accuracy: 0.8861 - loss: 0.3198 - val_accuracy: 0.9000 - val_loss: 0.3448\n",
            "Epoch 23/150\n",
            "12/12 - 0s - 12ms/step - accuracy: 0.8722 - loss: 0.3189 - val_accuracy: 0.9250 - val_loss: 0.3367\n",
            "Epoch 24/150\n",
            "12/12 - 0s - 21ms/step - accuracy: 0.8889 - loss: 0.2968 - val_accuracy: 0.9250 - val_loss: 0.3332\n",
            "Epoch 25/150\n",
            "12/12 - 0s - 9ms/step - accuracy: 0.8889 - loss: 0.2933 - val_accuracy: 0.9250 - val_loss: 0.3202\n",
            "Epoch 26/150\n",
            "12/12 - 0s - 12ms/step - accuracy: 0.8917 - loss: 0.2865 - val_accuracy: 0.9000 - val_loss: 0.3117\n",
            "Epoch 27/150\n",
            "12/12 - 0s - 23ms/step - accuracy: 0.8972 - loss: 0.2779 - val_accuracy: 0.9000 - val_loss: 0.3038\n",
            "Epoch 28/150\n",
            "12/12 - 0s - 10ms/step - accuracy: 0.8944 - loss: 0.2793 - val_accuracy: 0.9250 - val_loss: 0.3007\n",
            "Epoch 29/150\n",
            "12/12 - 0s - 8ms/step - accuracy: 0.8806 - loss: 0.2738 - val_accuracy: 0.9250 - val_loss: 0.2930\n",
            "Epoch 30/150\n",
            "12/12 - 0s - 12ms/step - accuracy: 0.9028 - loss: 0.2588 - val_accuracy: 0.9000 - val_loss: 0.2843\n",
            "Epoch 31/150\n",
            "12/12 - 0s - 8ms/step - accuracy: 0.9000 - loss: 0.2499 - val_accuracy: 0.9000 - val_loss: 0.2818\n",
            "Epoch 32/150\n",
            "12/12 - 0s - 12ms/step - accuracy: 0.9111 - loss: 0.2446 - val_accuracy: 0.9000 - val_loss: 0.2789\n",
            "Epoch 33/150\n",
            "12/12 - 0s - 12ms/step - accuracy: 0.9111 - loss: 0.2420 - val_accuracy: 0.9250 - val_loss: 0.2785\n",
            "Epoch 34/150\n",
            "12/12 - 0s - 13ms/step - accuracy: 0.9111 - loss: 0.2362 - val_accuracy: 0.9000 - val_loss: 0.2711\n",
            "Epoch 35/150\n",
            "12/12 - 0s - 10ms/step - accuracy: 0.9056 - loss: 0.2468 - val_accuracy: 0.9000 - val_loss: 0.2695\n",
            "Epoch 36/150\n",
            "12/12 - 0s - 14ms/step - accuracy: 0.9056 - loss: 0.2430 - val_accuracy: 0.9000 - val_loss: 0.2662\n",
            "Epoch 37/150\n",
            "12/12 - 0s - 21ms/step - accuracy: 0.9028 - loss: 0.2224 - val_accuracy: 0.9000 - val_loss: 0.2607\n",
            "Epoch 38/150\n",
            "12/12 - 0s - 11ms/step - accuracy: 0.9083 - loss: 0.2385 - val_accuracy: 0.9000 - val_loss: 0.2619\n",
            "Epoch 39/150\n",
            "12/12 - 0s - 9ms/step - accuracy: 0.9028 - loss: 0.2308 - val_accuracy: 0.9000 - val_loss: 0.2620\n",
            "Epoch 40/150\n",
            "12/12 - 0s - 9ms/step - accuracy: 0.9056 - loss: 0.2272 - val_accuracy: 0.9250 - val_loss: 0.2617\n",
            "Epoch 41/150\n",
            "12/12 - 0s - 9ms/step - accuracy: 0.9056 - loss: 0.2167 - val_accuracy: 0.9000 - val_loss: 0.2550\n",
            "Epoch 42/150\n",
            "12/12 - 0s - 13ms/step - accuracy: 0.9056 - loss: 0.2251 - val_accuracy: 0.9000 - val_loss: 0.2549\n",
            "Epoch 43/150\n",
            "12/12 - 0s - 12ms/step - accuracy: 0.9111 - loss: 0.2207 - val_accuracy: 0.9000 - val_loss: 0.2550\n",
            "Epoch 44/150\n",
            "12/12 - 0s - 25ms/step - accuracy: 0.9056 - loss: 0.2077 - val_accuracy: 0.9000 - val_loss: 0.2503\n",
            "Epoch 45/150\n",
            "12/12 - 0s - 13ms/step - accuracy: 0.9139 - loss: 0.2344 - val_accuracy: 0.9000 - val_loss: 0.2523\n",
            "Epoch 46/150\n",
            "12/12 - 0s - 22ms/step - accuracy: 0.9167 - loss: 0.2173 - val_accuracy: 0.9000 - val_loss: 0.2506\n",
            "Epoch 47/150\n",
            "12/12 - 0s - 12ms/step - accuracy: 0.9056 - loss: 0.2159 - val_accuracy: 0.9000 - val_loss: 0.2470\n",
            "Epoch 48/150\n",
            "12/12 - 0s - 22ms/step - accuracy: 0.9083 - loss: 0.2250 - val_accuracy: 0.9000 - val_loss: 0.2458\n",
            "Epoch 49/150\n",
            "12/12 - 0s - 11ms/step - accuracy: 0.9250 - loss: 0.2084 - val_accuracy: 0.9000 - val_loss: 0.2445\n",
            "Epoch 50/150\n",
            "12/12 - 0s - 9ms/step - accuracy: 0.9000 - loss: 0.2150 - val_accuracy: 0.9000 - val_loss: 0.2416\n",
            "Epoch 51/150\n",
            "12/12 - 0s - 11ms/step - accuracy: 0.9167 - loss: 0.2190 - val_accuracy: 0.9000 - val_loss: 0.2411\n",
            "Epoch 52/150\n",
            "12/12 - 0s - 9ms/step - accuracy: 0.9333 - loss: 0.1921 - val_accuracy: 0.9000 - val_loss: 0.2480\n",
            "Epoch 53/150\n",
            "12/12 - 0s - 9ms/step - accuracy: 0.8944 - loss: 0.2261 - val_accuracy: 0.9000 - val_loss: 0.2449\n",
            "Epoch 54/150\n",
            "12/12 - 0s - 9ms/step - accuracy: 0.9083 - loss: 0.2147 - val_accuracy: 0.9000 - val_loss: 0.2413\n",
            "Epoch 55/150\n",
            "12/12 - 0s - 9ms/step - accuracy: 0.9194 - loss: 0.2096 - val_accuracy: 0.9000 - val_loss: 0.2374\n",
            "Epoch 56/150\n",
            "12/12 - 0s - 9ms/step - accuracy: 0.9056 - loss: 0.2035 - val_accuracy: 0.9000 - val_loss: 0.2426\n",
            "Epoch 57/150\n",
            "12/12 - 0s - 11ms/step - accuracy: 0.9194 - loss: 0.1963 - val_accuracy: 0.9000 - val_loss: 0.2434\n",
            "Epoch 58/150\n",
            "12/12 - 0s - 12ms/step - accuracy: 0.9056 - loss: 0.2100 - val_accuracy: 0.9000 - val_loss: 0.2447\n",
            "Epoch 59/150\n",
            "12/12 - 0s - 9ms/step - accuracy: 0.9056 - loss: 0.2088 - val_accuracy: 0.9000 - val_loss: 0.2432\n",
            "Epoch 60/150\n",
            "12/12 - 0s - 9ms/step - accuracy: 0.9056 - loss: 0.2107 - val_accuracy: 0.9000 - val_loss: 0.2389\n",
            "Epoch 61/150\n",
            "12/12 - 0s - 9ms/step - accuracy: 0.9139 - loss: 0.1918 - val_accuracy: 0.9000 - val_loss: 0.2445\n",
            "Epoch 62/150\n",
            "12/12 - 0s - 12ms/step - accuracy: 0.9028 - loss: 0.2218 - val_accuracy: 0.9000 - val_loss: 0.2454\n",
            "Epoch 63/150\n",
            "12/12 - 0s - 10ms/step - accuracy: 0.9056 - loss: 0.2148 - val_accuracy: 0.9000 - val_loss: 0.2461\n",
            "Epoch 64/150\n",
            "12/12 - 0s - 8ms/step - accuracy: 0.9194 - loss: 0.1917 - val_accuracy: 0.9000 - val_loss: 0.2416\n",
            "Epoch 65/150\n",
            "12/12 - 0s - 8ms/step - accuracy: 0.9056 - loss: 0.2029 - val_accuracy: 0.9000 - val_loss: 0.2436\n",
            "Epoch 66/150\n",
            "12/12 - 0s - 12ms/step - accuracy: 0.9056 - loss: 0.2107 - val_accuracy: 0.9000 - val_loss: 0.2437\n",
            "Epoch 67/150\n",
            "12/12 - 0s - 9ms/step - accuracy: 0.9111 - loss: 0.1957 - val_accuracy: 0.9000 - val_loss: 0.2424\n",
            "Epoch 68/150\n",
            "12/12 - 0s - 12ms/step - accuracy: 0.9278 - loss: 0.1892 - val_accuracy: 0.9000 - val_loss: 0.2431\n",
            "Epoch 69/150\n",
            "12/12 - 0s - 11ms/step - accuracy: 0.9167 - loss: 0.2047 - val_accuracy: 0.9000 - val_loss: 0.2401\n",
            "Epoch 70/150\n",
            "12/12 - 0s - 12ms/step - accuracy: 0.9278 - loss: 0.1805 - val_accuracy: 0.9000 - val_loss: 0.2456\n",
            "Epoch 71/150\n",
            "12/12 - 0s - 12ms/step - accuracy: 0.9167 - loss: 0.1934 - val_accuracy: 0.9000 - val_loss: 0.2382\n",
            "Epoch 72/150\n",
            "12/12 - 0s - 8ms/step - accuracy: 0.9111 - loss: 0.1949 - val_accuracy: 0.9000 - val_loss: 0.2391\n",
            "Epoch 73/150\n",
            "12/12 - 0s - 12ms/step - accuracy: 0.9333 - loss: 0.1817 - val_accuracy: 0.9000 - val_loss: 0.2421\n",
            "Epoch 74/150\n",
            "12/12 - 0s - 12ms/step - accuracy: 0.9056 - loss: 0.1884 - val_accuracy: 0.9000 - val_loss: 0.2400\n",
            "Epoch 75/150\n",
            "12/12 - 0s - 11ms/step - accuracy: 0.9111 - loss: 0.2003 - val_accuracy: 0.9000 - val_loss: 0.2391\n",
            "Epoch 76/150\n",
            "12/12 - 0s - 9ms/step - accuracy: 0.9222 - loss: 0.1862 - val_accuracy: 0.9000 - val_loss: 0.2465\n",
            "Epoch 77/150\n",
            "12/12 - 0s - 8ms/step - accuracy: 0.9167 - loss: 0.1953 - val_accuracy: 0.9000 - val_loss: 0.2437\n",
            "Epoch 78/150\n",
            "12/12 - 0s - 9ms/step - accuracy: 0.9250 - loss: 0.1871 - val_accuracy: 0.9000 - val_loss: 0.2392\n",
            "Epoch 79/150\n",
            "12/12 - 0s - 10ms/step - accuracy: 0.9194 - loss: 0.1954 - val_accuracy: 0.9000 - val_loss: 0.2392\n",
            "Epoch 80/150\n",
            "12/12 - 0s - 11ms/step - accuracy: 0.9222 - loss: 0.1781 - val_accuracy: 0.9000 - val_loss: 0.2379\n",
            "Epoch 81/150\n",
            "12/12 - 0s - 12ms/step - accuracy: 0.9139 - loss: 0.1934 - val_accuracy: 0.9000 - val_loss: 0.2424\n",
            "Epoch 82/150\n",
            "12/12 - 0s - 8ms/step - accuracy: 0.9194 - loss: 0.1852 - val_accuracy: 0.9000 - val_loss: 0.2444\n",
            "Epoch 83/150\n",
            "12/12 - 0s - 9ms/step - accuracy: 0.9111 - loss: 0.2018 - val_accuracy: 0.9000 - val_loss: 0.2456\n",
            "Epoch 84/150\n",
            "12/12 - 0s - 9ms/step - accuracy: 0.9167 - loss: 0.1891 - val_accuracy: 0.9000 - val_loss: 0.2463\n",
            "Epoch 85/150\n",
            "12/12 - 0s - 12ms/step - accuracy: 0.9139 - loss: 0.1940 - val_accuracy: 0.9000 - val_loss: 0.2457\n",
            "Epoch 86/150\n",
            "12/12 - 0s - 12ms/step - accuracy: 0.9250 - loss: 0.1880 - val_accuracy: 0.9000 - val_loss: 0.2477\n",
            "Epoch 87/150\n",
            "12/12 - 0s - 12ms/step - accuracy: 0.9194 - loss: 0.1938 - val_accuracy: 0.9000 - val_loss: 0.2423\n",
            "Epoch 88/150\n",
            "12/12 - 0s - 12ms/step - accuracy: 0.9111 - loss: 0.2047 - val_accuracy: 0.9000 - val_loss: 0.2468\n",
            "Epoch 89/150\n",
            "12/12 - 0s - 16ms/step - accuracy: 0.9278 - loss: 0.1973 - val_accuracy: 0.9000 - val_loss: 0.2464\n",
            "Epoch 90/150\n",
            "12/12 - 0s - 24ms/step - accuracy: 0.9306 - loss: 0.1851 - val_accuracy: 0.9000 - val_loss: 0.2460\n",
            "Epoch 91/150\n",
            "12/12 - 0s - 23ms/step - accuracy: 0.9222 - loss: 0.1834 - val_accuracy: 0.9000 - val_loss: 0.2477\n",
            "Epoch 92/150\n",
            "12/12 - 0s - 24ms/step - accuracy: 0.9389 - loss: 0.1742 - val_accuracy: 0.9000 - val_loss: 0.2446\n",
            "Epoch 93/150\n",
            "12/12 - 0s - 28ms/step - accuracy: 0.9167 - loss: 0.1863 - val_accuracy: 0.9000 - val_loss: 0.2467\n",
            "Epoch 94/150\n",
            "12/12 - 0s - 13ms/step - accuracy: 0.9222 - loss: 0.1800 - val_accuracy: 0.9000 - val_loss: 0.2454\n",
            "Epoch 95/150\n",
            "12/12 - 0s - 28ms/step - accuracy: 0.9278 - loss: 0.1806 - val_accuracy: 0.9000 - val_loss: 0.2449\n",
            "Epoch 96/150\n",
            "12/12 - 0s - 9ms/step - accuracy: 0.9194 - loss: 0.1909 - val_accuracy: 0.9000 - val_loss: 0.2483\n",
            "Epoch 97/150\n",
            "12/12 - 0s - 8ms/step - accuracy: 0.9250 - loss: 0.1924 - val_accuracy: 0.9000 - val_loss: 0.2463\n",
            "Epoch 98/150\n",
            "12/12 - 0s - 12ms/step - accuracy: 0.9139 - loss: 0.1910 - val_accuracy: 0.9000 - val_loss: 0.2454\n",
            "Epoch 99/150\n",
            "12/12 - 0s - 9ms/step - accuracy: 0.9194 - loss: 0.1813 - val_accuracy: 0.9000 - val_loss: 0.2496\n",
            "Epoch 100/150\n",
            "12/12 - 0s - 12ms/step - accuracy: 0.9111 - loss: 0.1897 - val_accuracy: 0.9000 - val_loss: 0.2506\n",
            "Epoch 101/150\n",
            "12/12 - 0s - 11ms/step - accuracy: 0.9167 - loss: 0.1906 - val_accuracy: 0.9000 - val_loss: 0.2518\n",
            "Epoch 102/150\n",
            "12/12 - 0s - 9ms/step - accuracy: 0.9250 - loss: 0.1874 - val_accuracy: 0.9000 - val_loss: 0.2541\n",
            "Epoch 103/150\n",
            "12/12 - 0s - 12ms/step - accuracy: 0.9083 - loss: 0.1980 - val_accuracy: 0.9000 - val_loss: 0.2515\n",
            "Epoch 104/150\n",
            "12/12 - 0s - 12ms/step - accuracy: 0.9306 - loss: 0.1657 - val_accuracy: 0.9000 - val_loss: 0.2512\n",
            "Epoch 105/150\n",
            "12/12 - 0s - 25ms/step - accuracy: 0.9167 - loss: 0.1871 - val_accuracy: 0.9000 - val_loss: 0.2507\n",
            "Epoch 106/150\n",
            "12/12 - 0s - 8ms/step - accuracy: 0.9083 - loss: 0.1998 - val_accuracy: 0.9000 - val_loss: 0.2527\n",
            "Epoch 107/150\n",
            "12/12 - 0s - 12ms/step - accuracy: 0.9306 - loss: 0.1809 - val_accuracy: 0.9000 - val_loss: 0.2507\n",
            "Epoch 108/150\n",
            "12/12 - 0s - 11ms/step - accuracy: 0.9167 - loss: 0.1852 - val_accuracy: 0.9000 - val_loss: 0.2534\n",
            "Epoch 109/150\n",
            "12/12 - 0s - 12ms/step - accuracy: 0.9194 - loss: 0.1845 - val_accuracy: 0.9000 - val_loss: 0.2533\n",
            "Epoch 110/150\n",
            "12/12 - 0s - 9ms/step - accuracy: 0.9250 - loss: 0.1829 - val_accuracy: 0.9000 - val_loss: 0.2514\n",
            "Epoch 111/150\n",
            "12/12 - 0s - 12ms/step - accuracy: 0.9083 - loss: 0.1876 - val_accuracy: 0.9000 - val_loss: 0.2489\n",
            "Epoch 112/150\n",
            "12/12 - 0s - 11ms/step - accuracy: 0.9139 - loss: 0.1827 - val_accuracy: 0.9000 - val_loss: 0.2553\n",
            "Epoch 113/150\n",
            "12/12 - 0s - 12ms/step - accuracy: 0.9194 - loss: 0.1763 - val_accuracy: 0.9000 - val_loss: 0.2561\n",
            "Epoch 114/150\n",
            "12/12 - 0s - 11ms/step - accuracy: 0.9194 - loss: 0.1913 - val_accuracy: 0.9000 - val_loss: 0.2541\n",
            "Epoch 115/150\n",
            "12/12 - 0s - 9ms/step - accuracy: 0.9250 - loss: 0.1736 - val_accuracy: 0.9000 - val_loss: 0.2541\n",
            "Epoch 116/150\n",
            "12/12 - 0s - 8ms/step - accuracy: 0.9111 - loss: 0.2004 - val_accuracy: 0.9000 - val_loss: 0.2570\n",
            "Epoch 117/150\n",
            "12/12 - 0s - 15ms/step - accuracy: 0.9167 - loss: 0.1686 - val_accuracy: 0.9000 - val_loss: 0.2560\n",
            "Epoch 118/150\n",
            "12/12 - 0s - 9ms/step - accuracy: 0.9194 - loss: 0.1799 - val_accuracy: 0.9000 - val_loss: 0.2610\n",
            "Epoch 119/150\n",
            "12/12 - 0s - 9ms/step - accuracy: 0.9333 - loss: 0.1792 - val_accuracy: 0.9000 - val_loss: 0.2577\n",
            "Epoch 120/150\n",
            "12/12 - 0s - 9ms/step - accuracy: 0.9083 - loss: 0.1831 - val_accuracy: 0.9000 - val_loss: 0.2585\n",
            "Epoch 121/150\n",
            "12/12 - 0s - 11ms/step - accuracy: 0.9250 - loss: 0.1853 - val_accuracy: 0.9000 - val_loss: 0.2567\n",
            "Epoch 122/150\n",
            "12/12 - 0s - 11ms/step - accuracy: 0.9306 - loss: 0.1734 - val_accuracy: 0.9000 - val_loss: 0.2585\n",
            "Epoch 123/150\n",
            "12/12 - 0s - 8ms/step - accuracy: 0.9222 - loss: 0.1618 - val_accuracy: 0.9000 - val_loss: 0.2574\n",
            "Epoch 124/150\n",
            "12/12 - 0s - 8ms/step - accuracy: 0.9194 - loss: 0.1699 - val_accuracy: 0.9000 - val_loss: 0.2577\n",
            "Epoch 125/150\n",
            "12/12 - 0s - 8ms/step - accuracy: 0.9250 - loss: 0.1765 - val_accuracy: 0.9000 - val_loss: 0.2591\n",
            "Epoch 126/150\n",
            "12/12 - 0s - 9ms/step - accuracy: 0.9139 - loss: 0.1962 - val_accuracy: 0.9000 - val_loss: 0.2569\n",
            "Epoch 127/150\n",
            "12/12 - 0s - 9ms/step - accuracy: 0.9056 - loss: 0.1766 - val_accuracy: 0.9000 - val_loss: 0.2577\n",
            "Epoch 128/150\n",
            "12/12 - 0s - 11ms/step - accuracy: 0.9167 - loss: 0.1759 - val_accuracy: 0.9000 - val_loss: 0.2517\n",
            "Epoch 129/150\n",
            "12/12 - 0s - 11ms/step - accuracy: 0.9222 - loss: 0.1784 - val_accuracy: 0.9000 - val_loss: 0.2591\n",
            "Epoch 130/150\n",
            "12/12 - 0s - 12ms/step - accuracy: 0.9194 - loss: 0.1783 - val_accuracy: 0.9000 - val_loss: 0.2580\n",
            "Epoch 131/150\n",
            "12/12 - 0s - 9ms/step - accuracy: 0.9167 - loss: 0.1825 - val_accuracy: 0.9000 - val_loss: 0.2594\n",
            "Epoch 132/150\n",
            "12/12 - 0s - 12ms/step - accuracy: 0.9111 - loss: 0.1923 - val_accuracy: 0.9000 - val_loss: 0.2587\n",
            "Epoch 133/150\n",
            "12/12 - 0s - 11ms/step - accuracy: 0.9111 - loss: 0.1942 - val_accuracy: 0.9000 - val_loss: 0.2577\n",
            "Epoch 134/150\n",
            "12/12 - 0s - 12ms/step - accuracy: 0.9167 - loss: 0.1928 - val_accuracy: 0.9000 - val_loss: 0.2560\n",
            "Epoch 135/150\n",
            "12/12 - 0s - 9ms/step - accuracy: 0.9306 - loss: 0.1684 - val_accuracy: 0.9000 - val_loss: 0.2580\n",
            "Epoch 136/150\n",
            "12/12 - 0s - 11ms/step - accuracy: 0.9278 - loss: 0.1728 - val_accuracy: 0.9000 - val_loss: 0.2647\n",
            "Epoch 137/150\n",
            "12/12 - 0s - 11ms/step - accuracy: 0.9139 - loss: 0.1791 - val_accuracy: 0.9000 - val_loss: 0.2582\n",
            "Epoch 138/150\n",
            "12/12 - 0s - 9ms/step - accuracy: 0.9222 - loss: 0.1791 - val_accuracy: 0.9000 - val_loss: 0.2652\n",
            "Epoch 139/150\n",
            "12/12 - 0s - 9ms/step - accuracy: 0.9361 - loss: 0.1742 - val_accuracy: 0.9000 - val_loss: 0.2686\n",
            "Epoch 140/150\n",
            "12/12 - 0s - 12ms/step - accuracy: 0.9194 - loss: 0.1859 - val_accuracy: 0.9000 - val_loss: 0.2629\n",
            "Epoch 141/150\n",
            "12/12 - 0s - 11ms/step - accuracy: 0.9222 - loss: 0.1795 - val_accuracy: 0.9000 - val_loss: 0.2660\n",
            "Epoch 142/150\n",
            "12/12 - 0s - 12ms/step - accuracy: 0.9167 - loss: 0.1766 - val_accuracy: 0.9000 - val_loss: 0.2642\n",
            "Epoch 143/150\n",
            "12/12 - 0s - 11ms/step - accuracy: 0.9278 - loss: 0.1634 - val_accuracy: 0.9000 - val_loss: 0.2643\n",
            "Epoch 144/150\n",
            "12/12 - 0s - 11ms/step - accuracy: 0.9167 - loss: 0.1778 - val_accuracy: 0.9000 - val_loss: 0.2688\n",
            "Epoch 145/150\n",
            "12/12 - 0s - 8ms/step - accuracy: 0.9333 - loss: 0.1808 - val_accuracy: 0.9000 - val_loss: 0.2645\n",
            "Epoch 146/150\n",
            "12/12 - 0s - 12ms/step - accuracy: 0.9278 - loss: 0.1668 - val_accuracy: 0.9000 - val_loss: 0.2607\n",
            "Epoch 147/150\n",
            "12/12 - 0s - 11ms/step - accuracy: 0.9306 - loss: 0.1723 - val_accuracy: 0.9000 - val_loss: 0.2669\n",
            "Epoch 148/150\n",
            "12/12 - 0s - 8ms/step - accuracy: 0.9111 - loss: 0.1792 - val_accuracy: 0.9000 - val_loss: 0.2688\n",
            "Epoch 149/150\n",
            "12/12 - 0s - 15ms/step - accuracy: 0.9278 - loss: 0.1695 - val_accuracy: 0.9000 - val_loss: 0.2642\n",
            "Epoch 150/150\n",
            "12/12 - 0s - 22ms/step - accuracy: 0.9306 - loss: 0.1656 - val_accuracy: 0.9000 - val_loss: 0.2700\n"
          ]
        }
      ],
      "source": [
        "history_1 = model_1.fit(X_train_normalized,\n",
        "                    y_train,\n",
        "                    validation_split=0.1,\n",
        "                    epochs=150,\n",
        "                    verbose=2)"
      ]
    },
    {
      "cell_type": "markdown",
      "metadata": {
        "id": "EFMmpLAuBC4n"
      },
      "source": [
        "### **Plotting Accuracy vs Epoch Curve**"
      ]
    },
    {
      "cell_type": "code",
      "execution_count": null,
      "metadata": {
        "colab": {
          "base_uri": "https://localhost:8080/",
          "height": 472
        },
        "id": "oe8CUImT-8xf",
        "outputId": "36ff99d9-9046-488c-bf27-8e48397e1521"
      },
      "outputs": [
        {
          "output_type": "display_data",
          "data": {
            "text/plain": [
              "<Figure size 640x480 with 1 Axes>"
            ],
            "image/png": "[encoded data removed]"
          },
          "metadata": {}
        }
      ],
      "source": [
        "plt.plot(history_1.history['accuracy'])\n",
        "plt.plot(history_1.history['val_accuracy'])\n",
        "plt.title('Accuracy vs Epochs')\n",
        "plt.ylabel('Accuracy')\n",
        "plt.xlabel('Epoch')\n",
        "plt.legend(['Train', 'Validation'], loc='lower right')\n",
        "plt.show()"
      ]
    },
    {
      "cell_type": "markdown",
      "metadata": {
        "id": "K8cyNSpIjURF"
      },
      "source": [
        "**Observations:**\n",
        "\n",
        "- The training accuracy is fluctuating but overall it is increasing with the increase in the epochs.\n",
        "- The validation accuracy is constant between ~80 to 150 epochs.\n",
        "- The model is giving good accuracy. After 150 epochs, the accuracy of the model on the training data is about 93% and the validation accuracy is 90%.\n",
        "- The validation accuracy is closer to the training accuracy. This indicates that the model is giving a generalized performance."
      ]
    },
    {
      "cell_type": "markdown",
      "metadata": {
        "id": "e3lV6QFMVqQh"
      },
      "source": [
        "Let's try to increase the model complexity by tuning some of the hyper-parameters mentioned earlier and check if we can improve the model performance. Out of all the options we have, let's try to change the number of hidden layers, the number of neurons in each hidden layer, the activation function in the hidden layer, and the optimizer from **adamax** to **adam**. Also, we have observed that validation accuracy became constant after some epochs, let's try less number of epochs which would also reduce the computation time."
      ]
    },
    {
      "cell_type": "markdown",
      "metadata": {
        "id": "TcLYYkZo6PaW"
      },
      "source": [
        "First, we need to clear the previous model's history from the session. In Keras, we need special command to clear the model's history otherwise the previous model history remains in the backend.\n",
        "Also, let's fix the seed again after clearing the backend."
      ]
    },
    {
      "cell_type": "code",
      "execution_count": null,
      "metadata": {
        "id": "_GQu0Mv56_IH"
      },
      "outputs": [],
      "source": [
        "# Clearing backend\n",
        "from tensorflow.keras import backend\n",
        "backend.clear_session()"
      ]
    },
    {
      "cell_type": "code",
      "execution_count": null,
      "metadata": {
        "id": "7PIxvVI0LqbV"
      },
      "outputs": [],
      "source": [
        "# Fixing the seed for random number generators\n",
        "np.random.seed(42)\n",
        "\n",
        "import random\n",
        "random.seed(42)\n",
        "\n",
        "tf.random.set_seed(42)"
      ]
    },
    {
      "cell_type": "code",
      "execution_count": null,
      "metadata": {
        "id": "S23oRyS2XJZW"
      },
      "outputs": [],
      "source": [
        "model_2 = Sequential()\n",
        "model_2.add(Dense(128, activation='tanh', input_shape=(7,)))\n",
        "model_2.add(Dropout(0.1))\n",
        "model_2.add(Dense(64, activation='tanh'))\n",
        "model_2.add(Dropout(0.1))\n",
        "model_2.add(Dense(32, activation='tanh'))\n",
        "model_2.add(Dense(1, activation='sigmoid'))"
      ]
    },
    {
      "cell_type": "code",
      "execution_count": null,
      "metadata": {
        "colab": {
          "base_uri": "https://localhost:8080/",
          "height": 346
        },
        "id": "DT1QFebrV9ZC",
        "outputId": "70742e10-2f91-4d06-dc80-c6e47049188e"
      },
      "outputs": [
        {
          "output_type": "display_data",
          "data": {
            "text/plain": [
              "\u001b[1mModel: \"sequential\"\u001b[0m\n"
            ],
            "text/html": [
              "<pre style=\"white-space:pre;overflow-x:auto;line-height:normal;font-family:Menlo,'DejaVu Sans Mono',consolas,'Courier New',monospace\"><span style=\"font-weight: bold\">Model: \"sequential\"</span>\n",
              "</pre>\n"
            ]
          },
          "metadata": {}
        },
        {
          "output_type": "display_data",
          "data": {
            "text/plain": [
              "┏━━━━━━━━━━━━━━━━━━━━━━━━━━━━━━━━━┳━━━━━━━━━━━━━━━━━━━━━━━━┳━━━━━━━━━━━━━━━┓\n",
              "┃\u001b[1m \u001b[0m\u001b[1mLayer (type)                   \u001b[0m\u001b[1m \u001b[0m┃\u001b[1m \u001b[0m\u001b[1mOutput Shape          \u001b[0m\u001b[1m \u001b[0m┃\u001b[1m \u001b[0m\u001b[1m      Param #\u001b[0m\u001b[1m \u001b[0m┃\n",
              "┡━━━━━━━━━━━━━━━━━━━━━━━━━━━━━━━━━╇━━━━━━━━━━━━━━━━━━━━━━━━╇━━━━━━━━━━━━━━━┩\n",
              "│ dense (\u001b[38;5;33mDense\u001b[0m)                   │ (\u001b[38;5;45mNone\u001b[0m, \u001b[38;5;34m128\u001b[0m)            │         \u001b[38;5;34m1,024\u001b[0m │\n",
              "├─────────────────────────────────┼────────────────────────┼───────────────┤\n",
              "│ dropout (\u001b[38;5;33mDropout\u001b[0m)               │ (\u001b[38;5;45mNone\u001b[0m, \u001b[38;5;34m128\u001b[0m)            │             \u001b[38;5;34m0\u001b[0m │\n",
              "├─────────────────────────────────┼────────────────────────┼───────────────┤\n",
              "│ dense_1 (\u001b[38;5;33mDense\u001b[0m)                 │ (\u001b[38;5;45mNone\u001b[0m, \u001b[38;5;34m64\u001b[0m)             │         \u001b[38;5;34m8,256\u001b[0m │\n",
              "├─────────────────────────────────┼────────────────────────┼───────────────┤\n",
              "│ dropout_1 (\u001b[38;5;33mDropout\u001b[0m)             │ (\u001b[38;5;45mNone\u001b[0m, \u001b[38;5;34m64\u001b[0m)             │             \u001b[38;5;34m0\u001b[0m │\n",
              "├─────────────────────────────────┼────────────────────────┼───────────────┤\n",
              "│ dense_2 (\u001b[38;5;33mDense\u001b[0m)                 │ (\u001b[38;5;45mNone\u001b[0m, \u001b[38;5;34m32\u001b[0m)             │         \u001b[38;5;34m2,080\u001b[0m │\n",
              "├─────────────────────────────────┼────────────────────────┼───────────────┤\n",
              "│ dense_3 (\u001b[38;5;33mDense\u001b[0m)                 │ (\u001b[38;5;45mNone\u001b[0m, \u001b[38;5;34m1\u001b[0m)              │            \u001b[38;5;34m33\u001b[0m │\n",
              "└─────────────────────────────────┴────────────────────────┴───────────────┘\n"
            ],
            "text/html": [
              "<pre style=\"white-space:pre;overflow-x:auto;line-height:normal;font-family:Menlo,'DejaVu Sans Mono',consolas,'Courier New',monospace\">┏━━━━━━━━━━━━━━━━━━━━━━━━━━━━━━━━━┳━━━━━━━━━━━━━━━━━━━━━━━━┳━━━━━━━━━━━━━━━┓\n",
              "┃<span style=\"font-weight: bold\"> Layer (type)                    </span>┃<span style=\"font-weight: bold\"> Output Shape           </span>┃<span style=\"font-weight: bold\">       Param # </span>┃\n",
              "┡━━━━━━━━━━━━━━━━━━━━━━━━━━━━━━━━━╇━━━━━━━━━━━━━━━━━━━━━━━━╇━━━━━━━━━━━━━━━┩\n",
              "│ dense (<span style=\"color: #0087ff; text-decoration-color: #0087ff\">Dense</span>)                   │ (<span style=\"color: #00d7ff; text-decoration-color: #00d7ff\">None</span>, <span style=\"color: #00af00; text-decoration-color: #00af00\">128</span>)            │         <span style=\"color: #00af00; text-decoration-color: #00af00\">1,024</span> │\n",
              "├─────────────────────────────────┼────────────────────────┼───────────────┤\n",
              "│ dropout (<span style=\"color: #0087ff; text-decoration-color: #0087ff\">Dropout</span>)               │ (<span style=\"color: #00d7ff; text-decoration-color: #00d7ff\">None</span>, <span style=\"color: #00af00; text-decoration-color: #00af00\">128</span>)            │             <span style=\"color: #00af00; text-decoration-color: #00af00\">0</span> │\n",
              "├─────────────────────────────────┼────────────────────────┼───────────────┤\n",
              "│ dense_1 (<span style=\"color: #0087ff; text-decoration-color: #0087ff\">Dense</span>)                 │ (<span style=\"color: #00d7ff; text-decoration-color: #00d7ff\">None</span>, <span style=\"color: #00af00; text-decoration-color: #00af00\">64</span>)             │         <span style=\"color: #00af00; text-decoration-color: #00af00\">8,256</span> │\n",
              "├─────────────────────────────────┼────────────────────────┼───────────────┤\n",
              "│ dropout_1 (<span style=\"color: #0087ff; text-decoration-color: #0087ff\">Dropout</span>)             │ (<span style=\"color: #00d7ff; text-decoration-color: #00d7ff\">None</span>, <span style=\"color: #00af00; text-decoration-color: #00af00\">64</span>)             │             <span style=\"color: #00af00; text-decoration-color: #00af00\">0</span> │\n",
              "├─────────────────────────────────┼────────────────────────┼───────────────┤\n",
              "│ dense_2 (<span style=\"color: #0087ff; text-decoration-color: #0087ff\">Dense</span>)                 │ (<span style=\"color: #00d7ff; text-decoration-color: #00d7ff\">None</span>, <span style=\"color: #00af00; text-decoration-color: #00af00\">32</span>)             │         <span style=\"color: #00af00; text-decoration-color: #00af00\">2,080</span> │\n",
              "├─────────────────────────────────┼────────────────────────┼───────────────┤\n",
              "│ dense_3 (<span style=\"color: #0087ff; text-decoration-color: #0087ff\">Dense</span>)                 │ (<span style=\"color: #00d7ff; text-decoration-color: #00d7ff\">None</span>, <span style=\"color: #00af00; text-decoration-color: #00af00\">1</span>)              │            <span style=\"color: #00af00; text-decoration-color: #00af00\">33</span> │\n",
              "└─────────────────────────────────┴────────────────────────┴───────────────┘\n",
              "</pre>\n"
            ]
          },
          "metadata": {}
        },
        {
          "output_type": "display_data",
          "data": {
            "text/plain": [
              "\u001b[1m Total params: \u001b[0m\u001b[38;5;34m11,393\u001b[0m (44.50 KB)\n"
            ],
            "text/html": [
              "<pre style=\"white-space:pre;overflow-x:auto;line-height:normal;font-family:Menlo,'DejaVu Sans Mono',consolas,'Courier New',monospace\"><span style=\"font-weight: bold\"> Total params: </span><span style=\"color: #00af00; text-decoration-color: #00af00\">11,393</span> (44.50 KB)\n",
              "</pre>\n"
            ]
          },
          "metadata": {}
        },
        {
          "output_type": "display_data",
          "data": {
            "text/plain": [
              "\u001b[1m Trainable params: \u001b[0m\u001b[38;5;34m11,393\u001b[0m (44.50 KB)\n"
            ],
            "text/html": [
              "<pre style=\"white-space:pre;overflow-x:auto;line-height:normal;font-family:Menlo,'DejaVu Sans Mono',consolas,'Courier New',monospace\"><span style=\"font-weight: bold\"> Trainable params: </span><span style=\"color: #00af00; text-decoration-color: #00af00\">11,393</span> (44.50 KB)\n",
              "</pre>\n"
            ]
          },
          "metadata": {}
        },
        {
          "output_type": "display_data",
          "data": {
            "text/plain": [
              "\u001b[1m Non-trainable params: \u001b[0m\u001b[38;5;34m0\u001b[0m (0.00 B)\n"
            ],
            "text/html": [
              "<pre style=\"white-space:pre;overflow-x:auto;line-height:normal;font-family:Menlo,'DejaVu Sans Mono',consolas,'Courier New',monospace\"><span style=\"font-weight: bold\"> Non-trainable params: </span><span style=\"color: #00af00; text-decoration-color: #00af00\">0</span> (0.00 B)\n",
              "</pre>\n"
            ]
          },
          "metadata": {}
        }
      ],
      "source": [
        "model_2.compile(loss = 'binary_crossentropy', optimizer='adam', metrics=['accuracy'])\n",
        "model_2.summary()"
      ]
    },
    {
      "cell_type": "code",
      "execution_count": null,
      "metadata": {
        "colab": {
          "base_uri": "https://localhost:8080/"
        },
        "id": "d0mHas6KV9f9",
        "outputId": "c27cbf74-4d1e-4271-ed71-4bb333e82127"
      },
      "outputs": [
        {
          "output_type": "stream",
          "name": "stdout",
          "text": [
            "Epoch 1/100\n",
            "12/12 - 2s - 151ms/step - accuracy: 0.6694 - loss: 0.6643 - val_accuracy: 0.5750 - val_loss: 0.7036\n",
            "Epoch 2/100\n",
            "12/12 - 0s - 13ms/step - accuracy: 0.6778 - loss: 0.5760 - val_accuracy: 0.5250 - val_loss: 0.6427\n",
            "Epoch 3/100\n",
            "12/12 - 0s - 16ms/step - accuracy: 0.7056 - loss: 0.5239 - val_accuracy: 0.7000 - val_loss: 0.5895\n",
            "Epoch 4/100\n",
            "12/12 - 0s - 13ms/step - accuracy: 0.7250 - loss: 0.4859 - val_accuracy: 0.8000 - val_loss: 0.5374\n",
            "Epoch 5/100\n",
            "12/12 - 0s - 15ms/step - accuracy: 0.7444 - loss: 0.4521 - val_accuracy: 0.8500 - val_loss: 0.4716\n",
            "Epoch 6/100\n",
            "12/12 - 0s - 25ms/step - accuracy: 0.8278 - loss: 0.4162 - val_accuracy: 0.9250 - val_loss: 0.4263\n",
            "Epoch 7/100\n",
            "12/12 - 0s - 22ms/step - accuracy: 0.8556 - loss: 0.3658 - val_accuracy: 0.9000 - val_loss: 0.3691\n",
            "Epoch 8/100\n",
            "12/12 - 0s - 29ms/step - accuracy: 0.8611 - loss: 0.3388 - val_accuracy: 0.9000 - val_loss: 0.3272\n",
            "Epoch 9/100\n",
            "12/12 - 0s - 16ms/step - accuracy: 0.8694 - loss: 0.3098 - val_accuracy: 0.9000 - val_loss: 0.2972\n",
            "Epoch 10/100\n",
            "12/12 - 0s - 15ms/step - accuracy: 0.8778 - loss: 0.2983 - val_accuracy: 0.8750 - val_loss: 0.2693\n",
            "Epoch 11/100\n",
            "12/12 - 0s - 19ms/step - accuracy: 0.8639 - loss: 0.2775 - val_accuracy: 0.8750 - val_loss: 0.2552\n",
            "Epoch 12/100\n",
            "12/12 - 0s - 8ms/step - accuracy: 0.8917 - loss: 0.2439 - val_accuracy: 0.9000 - val_loss: 0.2520\n",
            "Epoch 13/100\n",
            "12/12 - 0s - 12ms/step - accuracy: 0.8833 - loss: 0.2578 - val_accuracy: 0.9000 - val_loss: 0.2463\n",
            "Epoch 14/100\n",
            "12/12 - 0s - 9ms/step - accuracy: 0.8778 - loss: 0.2524 - val_accuracy: 0.9000 - val_loss: 0.2355\n",
            "Epoch 15/100\n",
            "12/12 - 0s - 11ms/step - accuracy: 0.9000 - loss: 0.2256 - val_accuracy: 0.9000 - val_loss: 0.2332\n",
            "Epoch 16/100\n",
            "12/12 - 0s - 8ms/step - accuracy: 0.9056 - loss: 0.2143 - val_accuracy: 0.9250 - val_loss: 0.2345\n",
            "Epoch 17/100\n",
            "12/12 - 0s - 9ms/step - accuracy: 0.9111 - loss: 0.2182 - val_accuracy: 0.9250 - val_loss: 0.2314\n",
            "Epoch 18/100\n",
            "12/12 - 0s - 8ms/step - accuracy: 0.9000 - loss: 0.2192 - val_accuracy: 0.9250 - val_loss: 0.2304\n",
            "Epoch 19/100\n",
            "12/12 - 0s - 12ms/step - accuracy: 0.9000 - loss: 0.2077 - val_accuracy: 0.9250 - val_loss: 0.2327\n",
            "Epoch 20/100\n",
            "12/12 - 0s - 12ms/step - accuracy: 0.9083 - loss: 0.2134 - val_accuracy: 0.9250 - val_loss: 0.2330\n",
            "Epoch 21/100\n",
            "12/12 - 0s - 21ms/step - accuracy: 0.9056 - loss: 0.1985 - val_accuracy: 0.9250 - val_loss: 0.2317\n",
            "Epoch 22/100\n",
            "12/12 - 0s - 9ms/step - accuracy: 0.9111 - loss: 0.1934 - val_accuracy: 0.9250 - val_loss: 0.2321\n",
            "Epoch 23/100\n",
            "12/12 - 0s - 8ms/step - accuracy: 0.8944 - loss: 0.2122 - val_accuracy: 0.9250 - val_loss: 0.2332\n",
            "Epoch 24/100\n",
            "12/12 - 0s - 12ms/step - accuracy: 0.9000 - loss: 0.1992 - val_accuracy: 0.9500 - val_loss: 0.2332\n",
            "Epoch 25/100\n",
            "12/12 - 0s - 8ms/step - accuracy: 0.9083 - loss: 0.2024 - val_accuracy: 0.9500 - val_loss: 0.2327\n",
            "Epoch 26/100\n",
            "12/12 - 0s - 12ms/step - accuracy: 0.9194 - loss: 0.1882 - val_accuracy: 0.9500 - val_loss: 0.2336\n",
            "Epoch 27/100\n",
            "12/12 - 0s - 12ms/step - accuracy: 0.9167 - loss: 0.1933 - val_accuracy: 0.9500 - val_loss: 0.2346\n",
            "Epoch 28/100\n",
            "12/12 - 0s - 10ms/step - accuracy: 0.9083 - loss: 0.1886 - val_accuracy: 0.9500 - val_loss: 0.2352\n",
            "Epoch 29/100\n",
            "12/12 - 0s - 9ms/step - accuracy: 0.9278 - loss: 0.1788 - val_accuracy: 0.9500 - val_loss: 0.2370\n",
            "Epoch 30/100\n",
            "12/12 - 0s - 11ms/step - accuracy: 0.9028 - loss: 0.1979 - val_accuracy: 0.9500 - val_loss: 0.2373\n",
            "Epoch 31/100\n",
            "12/12 - 0s - 11ms/step - accuracy: 0.8944 - loss: 0.1957 - val_accuracy: 0.9500 - val_loss: 0.2352\n",
            "Epoch 32/100\n",
            "12/12 - 0s - 12ms/step - accuracy: 0.9028 - loss: 0.1951 - val_accuracy: 0.9500 - val_loss: 0.2343\n",
            "Epoch 33/100\n",
            "12/12 - 0s - 8ms/step - accuracy: 0.9222 - loss: 0.1875 - val_accuracy: 0.9500 - val_loss: 0.2326\n",
            "Epoch 34/100\n",
            "12/12 - 0s - 8ms/step - accuracy: 0.9000 - loss: 0.1876 - val_accuracy: 0.9500 - val_loss: 0.2312\n",
            "Epoch 35/100\n",
            "12/12 - 0s - 12ms/step - accuracy: 0.9111 - loss: 0.1874 - val_accuracy: 0.9250 - val_loss: 0.2336\n",
            "Epoch 36/100\n",
            "12/12 - 0s - 10ms/step - accuracy: 0.9167 - loss: 0.1885 - val_accuracy: 0.9250 - val_loss: 0.2324\n",
            "Epoch 37/100\n",
            "12/12 - 0s - 10ms/step - accuracy: 0.9056 - loss: 0.1819 - val_accuracy: 0.9500 - val_loss: 0.2315\n",
            "Epoch 38/100\n",
            "12/12 - 0s - 9ms/step - accuracy: 0.9000 - loss: 0.1910 - val_accuracy: 0.9250 - val_loss: 0.2394\n",
            "Epoch 39/100\n",
            "12/12 - 0s - 9ms/step - accuracy: 0.9194 - loss: 0.1798 - val_accuracy: 0.9500 - val_loss: 0.2350\n",
            "Epoch 40/100\n",
            "12/12 - 0s - 12ms/step - accuracy: 0.9083 - loss: 0.1850 - val_accuracy: 0.9500 - val_loss: 0.2343\n",
            "Epoch 41/100\n",
            "12/12 - 0s - 12ms/step - accuracy: 0.8972 - loss: 0.1861 - val_accuracy: 0.9250 - val_loss: 0.2392\n",
            "Epoch 42/100\n",
            "12/12 - 0s - 9ms/step - accuracy: 0.9194 - loss: 0.1709 - val_accuracy: 0.9500 - val_loss: 0.2372\n",
            "Epoch 43/100\n",
            "12/12 - 0s - 12ms/step - accuracy: 0.9000 - loss: 0.1876 - val_accuracy: 0.9250 - val_loss: 0.2404\n",
            "Epoch 44/100\n",
            "12/12 - 0s - 13ms/step - accuracy: 0.9194 - loss: 0.1748 - val_accuracy: 0.9250 - val_loss: 0.2400\n",
            "Epoch 45/100\n",
            "12/12 - 0s - 9ms/step - accuracy: 0.9056 - loss: 0.1820 - val_accuracy: 0.9500 - val_loss: 0.2403\n",
            "Epoch 46/100\n",
            "12/12 - 0s - 11ms/step - accuracy: 0.9194 - loss: 0.1820 - val_accuracy: 0.9250 - val_loss: 0.2397\n",
            "Epoch 47/100\n",
            "12/12 - 0s - 12ms/step - accuracy: 0.9222 - loss: 0.1705 - val_accuracy: 0.9250 - val_loss: 0.2390\n",
            "Epoch 48/100\n",
            "12/12 - 0s - 11ms/step - accuracy: 0.9306 - loss: 0.1653 - val_accuracy: 0.9250 - val_loss: 0.2433\n",
            "Epoch 49/100\n",
            "12/12 - 0s - 12ms/step - accuracy: 0.9167 - loss: 0.1705 - val_accuracy: 0.9250 - val_loss: 0.2439\n",
            "Epoch 50/100\n",
            "12/12 - 0s - 12ms/step - accuracy: 0.9000 - loss: 0.1978 - val_accuracy: 0.9250 - val_loss: 0.2391\n",
            "Epoch 51/100\n",
            "12/12 - 0s - 12ms/step - accuracy: 0.9111 - loss: 0.1741 - val_accuracy: 0.9250 - val_loss: 0.2401\n",
            "Epoch 52/100\n",
            "12/12 - 0s - 9ms/step - accuracy: 0.9194 - loss: 0.1869 - val_accuracy: 0.9250 - val_loss: 0.2393\n",
            "Epoch 53/100\n",
            "12/12 - 0s - 12ms/step - accuracy: 0.9139 - loss: 0.1747 - val_accuracy: 0.9250 - val_loss: 0.2392\n",
            "Epoch 54/100\n",
            "12/12 - 0s - 11ms/step - accuracy: 0.9306 - loss: 0.1610 - val_accuracy: 0.9250 - val_loss: 0.2435\n",
            "Epoch 55/100\n",
            "12/12 - 0s - 11ms/step - accuracy: 0.9139 - loss: 0.1901 - val_accuracy: 0.9250 - val_loss: 0.2436\n",
            "Epoch 56/100\n",
            "12/12 - 0s - 9ms/step - accuracy: 0.9028 - loss: 0.1913 - val_accuracy: 0.9250 - val_loss: 0.2394\n",
            "Epoch 57/100\n",
            "12/12 - 0s - 9ms/step - accuracy: 0.9139 - loss: 0.1820 - val_accuracy: 0.9250 - val_loss: 0.2378\n",
            "Epoch 58/100\n",
            "12/12 - 0s - 10ms/step - accuracy: 0.9000 - loss: 0.1842 - val_accuracy: 0.9500 - val_loss: 0.2346\n",
            "Epoch 59/100\n",
            "12/12 - 0s - 12ms/step - accuracy: 0.9306 - loss: 0.1591 - val_accuracy: 0.9250 - val_loss: 0.2401\n",
            "Epoch 60/100\n",
            "12/12 - 0s - 9ms/step - accuracy: 0.9222 - loss: 0.1701 - val_accuracy: 0.9250 - val_loss: 0.2442\n",
            "Epoch 61/100\n",
            "12/12 - 0s - 11ms/step - accuracy: 0.9167 - loss: 0.1804 - val_accuracy: 0.9250 - val_loss: 0.2409\n",
            "Epoch 62/100\n",
            "12/12 - 0s - 12ms/step - accuracy: 0.9111 - loss: 0.1778 - val_accuracy: 0.9250 - val_loss: 0.2422\n",
            "Epoch 63/100\n",
            "12/12 - 0s - 8ms/step - accuracy: 0.9222 - loss: 0.1777 - val_accuracy: 0.9250 - val_loss: 0.2390\n",
            "Epoch 64/100\n",
            "12/12 - 0s - 12ms/step - accuracy: 0.9167 - loss: 0.1670 - val_accuracy: 0.9250 - val_loss: 0.2376\n",
            "Epoch 65/100\n",
            "12/12 - 0s - 12ms/step - accuracy: 0.9222 - loss: 0.1673 - val_accuracy: 0.9250 - val_loss: 0.2400\n",
            "Epoch 66/100\n",
            "12/12 - 0s - 9ms/step - accuracy: 0.9333 - loss: 0.1570 - val_accuracy: 0.9250 - val_loss: 0.2400\n",
            "Epoch 67/100\n",
            "12/12 - 0s - 13ms/step - accuracy: 0.9361 - loss: 0.1638 - val_accuracy: 0.9250 - val_loss: 0.2428\n",
            "Epoch 68/100\n",
            "12/12 - 0s - 11ms/step - accuracy: 0.9278 - loss: 0.1766 - val_accuracy: 0.9250 - val_loss: 0.2409\n",
            "Epoch 69/100\n",
            "12/12 - 0s - 14ms/step - accuracy: 0.9306 - loss: 0.1588 - val_accuracy: 0.9250 - val_loss: 0.2359\n",
            "Epoch 70/100\n",
            "12/12 - 0s - 9ms/step - accuracy: 0.9139 - loss: 0.1806 - val_accuracy: 0.9250 - val_loss: 0.2379\n",
            "Epoch 71/100\n",
            "12/12 - 0s - 9ms/step - accuracy: 0.9139 - loss: 0.1773 - val_accuracy: 0.9250 - val_loss: 0.2388\n",
            "Epoch 72/100\n",
            "12/12 - 0s - 13ms/step - accuracy: 0.9194 - loss: 0.1803 - val_accuracy: 0.9250 - val_loss: 0.2366\n",
            "Epoch 73/100\n",
            "12/12 - 0s - 9ms/step - accuracy: 0.9278 - loss: 0.1720 - val_accuracy: 0.9250 - val_loss: 0.2389\n",
            "Epoch 74/100\n",
            "12/12 - 0s - 9ms/step - accuracy: 0.9278 - loss: 0.1703 - val_accuracy: 0.9250 - val_loss: 0.2404\n",
            "Epoch 75/100\n",
            "12/12 - 0s - 13ms/step - accuracy: 0.9194 - loss: 0.1738 - val_accuracy: 0.9250 - val_loss: 0.2338\n",
            "Epoch 76/100\n",
            "12/12 - 0s - 10ms/step - accuracy: 0.9194 - loss: 0.1705 - val_accuracy: 0.9250 - val_loss: 0.2387\n",
            "Epoch 77/100\n",
            "12/12 - 0s - 12ms/step - accuracy: 0.9222 - loss: 0.1580 - val_accuracy: 0.9250 - val_loss: 0.2437\n",
            "Epoch 78/100\n",
            "12/12 - 0s - 11ms/step - accuracy: 0.9222 - loss: 0.1687 - val_accuracy: 0.9250 - val_loss: 0.2388\n",
            "Epoch 79/100\n",
            "12/12 - 0s - 9ms/step - accuracy: 0.9194 - loss: 0.1829 - val_accuracy: 0.9250 - val_loss: 0.2429\n",
            "Epoch 80/100\n",
            "12/12 - 0s - 12ms/step - accuracy: 0.9194 - loss: 0.1690 - val_accuracy: 0.9250 - val_loss: 0.2374\n",
            "Epoch 81/100\n",
            "12/12 - 0s - 11ms/step - accuracy: 0.9361 - loss: 0.1682 - val_accuracy: 0.9250 - val_loss: 0.2358\n",
            "Epoch 82/100\n",
            "12/12 - 0s - 9ms/step - accuracy: 0.9083 - loss: 0.1809 - val_accuracy: 0.9250 - val_loss: 0.2367\n",
            "Epoch 83/100\n",
            "12/12 - 0s - 9ms/step - accuracy: 0.9167 - loss: 0.1717 - val_accuracy: 0.9250 - val_loss: 0.2361\n",
            "Epoch 84/100\n",
            "12/12 - 0s - 9ms/step - accuracy: 0.9139 - loss: 0.1707 - val_accuracy: 0.9250 - val_loss: 0.2353\n",
            "Epoch 85/100\n",
            "12/12 - 0s - 9ms/step - accuracy: 0.9139 - loss: 0.1685 - val_accuracy: 0.9250 - val_loss: 0.2398\n",
            "Epoch 86/100\n",
            "12/12 - 0s - 13ms/step - accuracy: 0.9361 - loss: 0.1627 - val_accuracy: 0.9000 - val_loss: 0.2435\n",
            "Epoch 87/100\n",
            "12/12 - 0s - 17ms/step - accuracy: 0.9278 - loss: 0.1621 - val_accuracy: 0.9250 - val_loss: 0.2388\n",
            "Epoch 88/100\n",
            "12/12 - 0s - 16ms/step - accuracy: 0.9167 - loss: 0.1654 - val_accuracy: 0.9250 - val_loss: 0.2386\n",
            "Epoch 89/100\n",
            "12/12 - 0s - 14ms/step - accuracy: 0.9250 - loss: 0.1684 - val_accuracy: 0.9250 - val_loss: 0.2432\n",
            "Epoch 90/100\n",
            "12/12 - 0s - 15ms/step - accuracy: 0.9194 - loss: 0.1763 - val_accuracy: 0.9250 - val_loss: 0.2438\n",
            "Epoch 91/100\n",
            "12/12 - 0s - 16ms/step - accuracy: 0.9139 - loss: 0.1738 - val_accuracy: 0.9250 - val_loss: 0.2410\n",
            "Epoch 92/100\n",
            "12/12 - 0s - 16ms/step - accuracy: 0.9278 - loss: 0.1649 - val_accuracy: 0.9250 - val_loss: 0.2411\n",
            "Epoch 93/100\n",
            "12/12 - 0s - 15ms/step - accuracy: 0.9222 - loss: 0.1713 - val_accuracy: 0.9250 - val_loss: 0.2383\n",
            "Epoch 94/100\n",
            "12/12 - 0s - 16ms/step - accuracy: 0.9250 - loss: 0.1702 - val_accuracy: 0.9250 - val_loss: 0.2378\n",
            "Epoch 95/100\n",
            "12/12 - 0s - 23ms/step - accuracy: 0.9278 - loss: 0.1665 - val_accuracy: 0.9250 - val_loss: 0.2392\n",
            "Epoch 96/100\n",
            "12/12 - 0s - 23ms/step - accuracy: 0.9222 - loss: 0.1699 - val_accuracy: 0.9250 - val_loss: 0.2398\n",
            "Epoch 97/100\n",
            "12/12 - 0s - 9ms/step - accuracy: 0.9306 - loss: 0.1581 - val_accuracy: 0.9000 - val_loss: 0.2443\n",
            "Epoch 98/100\n",
            "12/12 - 0s - 14ms/step - accuracy: 0.9167 - loss: 0.1683 - val_accuracy: 0.9250 - val_loss: 0.2364\n",
            "Epoch 99/100\n",
            "12/12 - 0s - 12ms/step - accuracy: 0.9250 - loss: 0.1633 - val_accuracy: 0.9250 - val_loss: 0.2363\n",
            "Epoch 100/100\n",
            "12/12 - 0s - 22ms/step - accuracy: 0.9139 - loss: 0.1595 - val_accuracy: 0.9250 - val_loss: 0.2393\n"
          ]
        }
      ],
      "source": [
        "history_2 = model_2.fit(X_train_normalized,\n",
        "                    y_train,\n",
        "                    validation_split=0.1,\n",
        "                    epochs=100,\n",
        "                    verbose=2)"
      ]
    },
    {
      "cell_type": "code",
      "execution_count": null,
      "metadata": {
        "colab": {
          "base_uri": "https://localhost:8080/",
          "height": 472
        },
        "id": "i96cw1viV9om",
        "outputId": "f9693427-b6ce-42db-e611-347bc5de0e3c"
      },
      "outputs": [
        {
          "output_type": "display_data",
          "data": {
            "text/plain": [
              "<Figure size 640x480 with 1 Axes>"
            ],
            "image/png": "[encoded data removed]"
          },
          "metadata": {}
        }
      ],
      "source": [
        "plt.plot(history_2.history['accuracy'])\n",
        "plt.plot(history_2.history['val_accuracy'])\n",
        "plt.title('Accuracy vs Epochs')\n",
        "plt.ylabel('Accuracy')\n",
        "plt.xlabel('Epoch')\n",
        "plt.legend(['Train', 'Validation'], loc='lower right')\n",
        "plt.show()"
      ]
    },
    {
      "cell_type": "markdown",
      "metadata": {
        "id": "Iu0UbJjKAi8z"
      },
      "source": [
        "**Observations:**\n",
        "\n",
        "- We are able to slightly improve the model performance on the training data but the validation accuracy has increased by 5%.\n",
        "- The validation accuracy is higher than the training accuracy. This might due to the small size of the validation set and the model is able is to correctly classify the data points in the validation set."
      ]
    },
    {
      "cell_type": "markdown",
      "metadata": {
        "id": "TLXYwazvu0jQ"
      },
      "source": [
        "**Let's try to further tune some of the hyper-parameters and check if we can improve the model performance.**\n",
        "\n",
        "We will use learning_rate = 0.001 for the optimizer in the training process and increase the model complexity by further increasing the number of layers, the number of nodes in each layer, and the epochs."
      ]
    },
    {
      "cell_type": "code",
      "execution_count": null,
      "metadata": {
        "id": "N7aNw91z_wgD"
      },
      "outputs": [],
      "source": [
        "# Clearing the backend\n",
        "from tensorflow.keras import backend\n",
        "backend.clear_session()"
      ]
    },
    {
      "cell_type": "code",
      "execution_count": null,
      "metadata": {
        "id": "1HMdf0uSO3uw"
      },
      "outputs": [],
      "source": [
        "# Fixing the seed for random number generators\n",
        "np.random.seed(42)\n",
        "\n",
        "import random\n",
        "random.seed(42)\n",
        "\n",
        "tf.random.set_seed(42)"
      ]
    },
    {
      "cell_type": "code",
      "execution_count": null,
      "metadata": {
        "id": "xRpBpRf_vXJO"
      },
      "outputs": [],
      "source": [
        "model_3 = Sequential()\n",
        "model_3.add(Dense(256, activation='tanh', input_shape=(7,)))\n",
        "model_3.add(Dropout(0.1))\n",
        "model_3.add(Dense(128, activation='tanh'))\n",
        "model_3.add(Dropout(0.1))\n",
        "model_3.add(Dense(64, activation='tanh'))\n",
        "model_3.add(Dropout(0.1))\n",
        "model_3.add(Dense(32, activation='tanh'))\n",
        "model_3.add(Dense(1, activation='sigmoid'))"
      ]
    },
    {
      "cell_type": "code",
      "execution_count": null,
      "metadata": {
        "colab": {
          "base_uri": "https://localhost:8080/",
          "height": 416
        },
        "id": "_kUFccLDy48t",
        "outputId": "15581429-8abb-421d-94a2-fd5f9ca38f25"
      },
      "outputs": [
        {
          "output_type": "display_data",
          "data": {
            "text/plain": [
              "\u001b[1mModel: \"sequential\"\u001b[0m\n"
            ],
            "text/html": [
              "<pre style=\"white-space:pre;overflow-x:auto;line-height:normal;font-family:Menlo,'DejaVu Sans Mono',consolas,'Courier New',monospace\"><span style=\"font-weight: bold\">Model: \"sequential\"</span>\n",
              "</pre>\n"
            ]
          },
          "metadata": {}
        },
        {
          "output_type": "display_data",
          "data": {
            "text/plain": [
              "┏━━━━━━━━━━━━━━━━━━━━━━━━━━━━━━━━━┳━━━━━━━━━━━━━━━━━━━━━━━━┳━━━━━━━━━━━━━━━┓\n",
              "┃\u001b[1m \u001b[0m\u001b[1mLayer (type)                   \u001b[0m\u001b[1m \u001b[0m┃\u001b[1m \u001b[0m\u001b[1mOutput Shape          \u001b[0m\u001b[1m \u001b[0m┃\u001b[1m \u001b[0m\u001b[1m      Param #\u001b[0m\u001b[1m \u001b[0m┃\n",
              "┡━━━━━━━━━━━━━━━━━━━━━━━━━━━━━━━━━╇━━━━━━━━━━━━━━━━━━━━━━━━╇━━━━━━━━━━━━━━━┩\n",
              "│ dense (\u001b[38;5;33mDense\u001b[0m)                   │ (\u001b[38;5;45mNone\u001b[0m, \u001b[38;5;34m256\u001b[0m)            │         \u001b[38;5;34m2,048\u001b[0m │\n",
              "├─────────────────────────────────┼────────────────────────┼───────────────┤\n",
              "│ dropout (\u001b[38;5;33mDropout\u001b[0m)               │ (\u001b[38;5;45mNone\u001b[0m, \u001b[38;5;34m256\u001b[0m)            │             \u001b[38;5;34m0\u001b[0m │\n",
              "├─────────────────────────────────┼────────────────────────┼───────────────┤\n",
              "│ dense_1 (\u001b[38;5;33mDense\u001b[0m)                 │ (\u001b[38;5;45mNone\u001b[0m, \u001b[38;5;34m128\u001b[0m)            │        \u001b[38;5;34m32,896\u001b[0m │\n",
              "├─────────────────────────────────┼────────────────────────┼───────────────┤\n",
              "│ dropout_1 (\u001b[38;5;33mDropout\u001b[0m)             │ (\u001b[38;5;45mNone\u001b[0m, \u001b[38;5;34m128\u001b[0m)            │             \u001b[38;5;34m0\u001b[0m │\n",
              "├─────────────────────────────────┼────────────────────────┼───────────────┤\n",
              "│ dense_2 (\u001b[38;5;33mDense\u001b[0m)                 │ (\u001b[38;5;45mNone\u001b[0m, \u001b[38;5;34m64\u001b[0m)             │         \u001b[38;5;34m8,256\u001b[0m │\n",
              "├─────────────────────────────────┼────────────────────────┼───────────────┤\n",
              "│ dropout_2 (\u001b[38;5;33mDropout\u001b[0m)             │ (\u001b[38;5;45mNone\u001b[0m, \u001b[38;5;34m64\u001b[0m)             │             \u001b[38;5;34m0\u001b[0m │\n",
              "├─────────────────────────────────┼────────────────────────┼───────────────┤\n",
              "│ dense_3 (\u001b[38;5;33mDense\u001b[0m)                 │ (\u001b[38;5;45mNone\u001b[0m, \u001b[38;5;34m32\u001b[0m)             │         \u001b[38;5;34m2,080\u001b[0m │\n",
              "├─────────────────────────────────┼────────────────────────┼───────────────┤\n",
              "│ dense_4 (\u001b[38;5;33mDense\u001b[0m)                 │ (\u001b[38;5;45mNone\u001b[0m, \u001b[38;5;34m1\u001b[0m)              │            \u001b[38;5;34m33\u001b[0m │\n",
              "└─────────────────────────────────┴────────────────────────┴───────────────┘\n"
            ],
            "text/html": [
              "<pre style=\"white-space:pre;overflow-x:auto;line-height:normal;font-family:Menlo,'DejaVu Sans Mono',consolas,'Courier New',monospace\">┏━━━━━━━━━━━━━━━━━━━━━━━━━━━━━━━━━┳━━━━━━━━━━━━━━━━━━━━━━━━┳━━━━━━━━━━━━━━━┓\n",
              "┃<span style=\"font-weight: bold\"> Layer (type)                    </span>┃<span style=\"font-weight: bold\"> Output Shape           </span>┃<span style=\"font-weight: bold\">       Param # </span>┃\n",
              "┡━━━━━━━━━━━━━━━━━━━━━━━━━━━━━━━━━╇━━━━━━━━━━━━━━━━━━━━━━━━╇━━━━━━━━━━━━━━━┩\n",
              "│ dense (<span style=\"color: #0087ff; text-decoration-color: #0087ff\">Dense</span>)                   │ (<span style=\"color: #00d7ff; text-decoration-color: #00d7ff\">None</span>, <span style=\"color: #00af00; text-decoration-color: #00af00\">256</span>)            │         <span style=\"color: #00af00; text-decoration-color: #00af00\">2,048</span> │\n",
              "├─────────────────────────────────┼────────────────────────┼───────────────┤\n",
              "│ dropout (<span style=\"color: #0087ff; text-decoration-color: #0087ff\">Dropout</span>)               │ (<span style=\"color: #00d7ff; text-decoration-color: #00d7ff\">None</span>, <span style=\"color: #00af00; text-decoration-color: #00af00\">256</span>)            │             <span style=\"color: #00af00; text-decoration-color: #00af00\">0</span> │\n",
              "├─────────────────────────────────┼────────────────────────┼───────────────┤\n",
              "│ dense_1 (<span style=\"color: #0087ff; text-decoration-color: #0087ff\">Dense</span>)                 │ (<span style=\"color: #00d7ff; text-decoration-color: #00d7ff\">None</span>, <span style=\"color: #00af00; text-decoration-color: #00af00\">128</span>)            │        <span style=\"color: #00af00; text-decoration-color: #00af00\">32,896</span> │\n",
              "├─────────────────────────────────┼────────────────────────┼───────────────┤\n",
              "│ dropout_1 (<span style=\"color: #0087ff; text-decoration-color: #0087ff\">Dropout</span>)             │ (<span style=\"color: #00d7ff; text-decoration-color: #00d7ff\">None</span>, <span style=\"color: #00af00; text-decoration-color: #00af00\">128</span>)            │             <span style=\"color: #00af00; text-decoration-color: #00af00\">0</span> │\n",
              "├─────────────────────────────────┼────────────────────────┼───────────────┤\n",
              "│ dense_2 (<span style=\"color: #0087ff; text-decoration-color: #0087ff\">Dense</span>)                 │ (<span style=\"color: #00d7ff; text-decoration-color: #00d7ff\">None</span>, <span style=\"color: #00af00; text-decoration-color: #00af00\">64</span>)             │         <span style=\"color: #00af00; text-decoration-color: #00af00\">8,256</span> │\n",
              "├─────────────────────────────────┼────────────────────────┼───────────────┤\n",
              "│ dropout_2 (<span style=\"color: #0087ff; text-decoration-color: #0087ff\">Dropout</span>)             │ (<span style=\"color: #00d7ff; text-decoration-color: #00d7ff\">None</span>, <span style=\"color: #00af00; text-decoration-color: #00af00\">64</span>)             │             <span style=\"color: #00af00; text-decoration-color: #00af00\">0</span> │\n",
              "├─────────────────────────────────┼────────────────────────┼───────────────┤\n",
              "│ dense_3 (<span style=\"color: #0087ff; text-decoration-color: #0087ff\">Dense</span>)                 │ (<span style=\"color: #00d7ff; text-decoration-color: #00d7ff\">None</span>, <span style=\"color: #00af00; text-decoration-color: #00af00\">32</span>)             │         <span style=\"color: #00af00; text-decoration-color: #00af00\">2,080</span> │\n",
              "├─────────────────────────────────┼────────────────────────┼───────────────┤\n",
              "│ dense_4 (<span style=\"color: #0087ff; text-decoration-color: #0087ff\">Dense</span>)                 │ (<span style=\"color: #00d7ff; text-decoration-color: #00d7ff\">None</span>, <span style=\"color: #00af00; text-decoration-color: #00af00\">1</span>)              │            <span style=\"color: #00af00; text-decoration-color: #00af00\">33</span> │\n",
              "└─────────────────────────────────┴────────────────────────┴───────────────┘\n",
              "</pre>\n"
            ]
          },
          "metadata": {}
        },
        {
          "output_type": "display_data",
          "data": {
            "text/plain": [
              "\u001b[1m Total params: \u001b[0m\u001b[38;5;34m45,313\u001b[0m (177.00 KB)\n"
            ],
            "text/html": [
              "<pre style=\"white-space:pre;overflow-x:auto;line-height:normal;font-family:Menlo,'DejaVu Sans Mono',consolas,'Courier New',monospace\"><span style=\"font-weight: bold\"> Total params: </span><span style=\"color: #00af00; text-decoration-color: #00af00\">45,313</span> (177.00 KB)\n",
              "</pre>\n"
            ]
          },
          "metadata": {}
        },
        {
          "output_type": "display_data",
          "data": {
            "text/plain": [
              "\u001b[1m Trainable params: \u001b[0m\u001b[38;5;34m45,313\u001b[0m (177.00 KB)\n"
            ],
            "text/html": [
              "<pre style=\"white-space:pre;overflow-x:auto;line-height:normal;font-family:Menlo,'DejaVu Sans Mono',consolas,'Courier New',monospace\"><span style=\"font-weight: bold\"> Trainable params: </span><span style=\"color: #00af00; text-decoration-color: #00af00\">45,313</span> (177.00 KB)\n",
              "</pre>\n"
            ]
          },
          "metadata": {}
        },
        {
          "output_type": "display_data",
          "data": {
            "text/plain": [
              "\u001b[1m Non-trainable params: \u001b[0m\u001b[38;5;34m0\u001b[0m (0.00 B)\n"
            ],
            "text/html": [
              "<pre style=\"white-space:pre;overflow-x:auto;line-height:normal;font-family:Menlo,'DejaVu Sans Mono',consolas,'Courier New',monospace\"><span style=\"font-weight: bold\"> Non-trainable params: </span><span style=\"color: #00af00; text-decoration-color: #00af00\">0</span> (0.00 B)\n",
              "</pre>\n"
            ]
          },
          "metadata": {}
        }
      ],
      "source": [
        "model_3.compile(loss = 'binary_crossentropy', optimizer=tf.keras.optimizers.Adam(learning_rate=0.001), metrics=['accuracy'])\n",
        "model_3.summary()"
      ]
    },
    {
      "cell_type": "markdown",
      "metadata": {
        "id": "8LBADqBprJ7J"
      },
      "source": [
        "- Notice that the number of trainable parameters has increased substantially as compared to previous models."
      ]
    },
    {
      "cell_type": "code",
      "execution_count": null,
      "metadata": {
        "colab": {
          "base_uri": "https://localhost:8080/"
        },
        "id": "OLN7jZWmy_fb",
        "outputId": "9f9fa18e-8d6e-4d42-bd43-106639dcadcf"
      },
      "outputs": [
        {
          "output_type": "stream",
          "name": "stdout",
          "text": [
            "Epoch 1/200\n",
            "12/12 - 2s - 180ms/step - accuracy: 0.6694 - loss: 0.6487 - val_accuracy: 0.5000 - val_loss: 0.6506\n",
            "Epoch 2/200\n",
            "12/12 - 0s - 12ms/step - accuracy: 0.7111 - loss: 0.5449 - val_accuracy: 0.7250 - val_loss: 0.5716\n",
            "Epoch 3/200\n",
            "12/12 - 0s - 9ms/step - accuracy: 0.7750 - loss: 0.4655 - val_accuracy: 0.6000 - val_loss: 0.5713\n",
            "Epoch 4/200\n",
            "12/12 - 0s - 12ms/step - accuracy: 0.7667 - loss: 0.4413 - val_accuracy: 0.8250 - val_loss: 0.4739\n",
            "Epoch 5/200\n",
            "12/12 - 0s - 9ms/step - accuracy: 0.8000 - loss: 0.4074 - val_accuracy: 0.8750 - val_loss: 0.4151\n",
            "Epoch 6/200\n",
            "12/12 - 0s - 13ms/step - accuracy: 0.8306 - loss: 0.3707 - val_accuracy: 0.9250 - val_loss: 0.3683\n",
            "Epoch 7/200\n",
            "12/12 - 0s - 9ms/step - accuracy: 0.8417 - loss: 0.3407 - val_accuracy: 0.9250 - val_loss: 0.3454\n",
            "Epoch 8/200\n",
            "12/12 - 0s - 9ms/step - accuracy: 0.8694 - loss: 0.3158 - val_accuracy: 0.9250 - val_loss: 0.3110\n",
            "Epoch 9/200\n",
            "12/12 - 0s - 12ms/step - accuracy: 0.8667 - loss: 0.3078 - val_accuracy: 0.9250 - val_loss: 0.2836\n",
            "Epoch 10/200\n",
            "12/12 - 0s - 13ms/step - accuracy: 0.8694 - loss: 0.2825 - val_accuracy: 0.8750 - val_loss: 0.2639\n",
            "Epoch 11/200\n",
            "12/12 - 0s - 9ms/step - accuracy: 0.8750 - loss: 0.2776 - val_accuracy: 0.9000 - val_loss: 0.2558\n",
            "Epoch 12/200\n",
            "12/12 - 0s - 10ms/step - accuracy: 0.8750 - loss: 0.2551 - val_accuracy: 0.8750 - val_loss: 0.2546\n",
            "Epoch 13/200\n",
            "12/12 - 0s - 11ms/step - accuracy: 0.8917 - loss: 0.2363 - val_accuracy: 0.9250 - val_loss: 0.2507\n",
            "Epoch 14/200\n",
            "12/12 - 0s - 12ms/step - accuracy: 0.8750 - loss: 0.2550 - val_accuracy: 0.9250 - val_loss: 0.2468\n",
            "Epoch 15/200\n",
            "12/12 - 0s - 12ms/step - accuracy: 0.8750 - loss: 0.2453 - val_accuracy: 0.9250 - val_loss: 0.2473\n",
            "Epoch 16/200\n",
            "12/12 - 0s - 11ms/step - accuracy: 0.8806 - loss: 0.2392 - val_accuracy: 0.9250 - val_loss: 0.2501\n",
            "Epoch 17/200\n",
            "12/12 - 0s - 12ms/step - accuracy: 0.9056 - loss: 0.2096 - val_accuracy: 0.9250 - val_loss: 0.2442\n",
            "Epoch 18/200\n",
            "12/12 - 0s - 10ms/step - accuracy: 0.9000 - loss: 0.2067 - val_accuracy: 0.9250 - val_loss: 0.2412\n",
            "Epoch 19/200\n",
            "12/12 - 0s - 12ms/step - accuracy: 0.8972 - loss: 0.2040 - val_accuracy: 0.9250 - val_loss: 0.2438\n",
            "Epoch 20/200\n",
            "12/12 - 0s - 9ms/step - accuracy: 0.9139 - loss: 0.2145 - val_accuracy: 0.9250 - val_loss: 0.2502\n",
            "Epoch 21/200\n",
            "12/12 - 0s - 12ms/step - accuracy: 0.9000 - loss: 0.2207 - val_accuracy: 0.9250 - val_loss: 0.2480\n",
            "Epoch 22/200\n",
            "12/12 - 0s - 10ms/step - accuracy: 0.8889 - loss: 0.2272 - val_accuracy: 0.9250 - val_loss: 0.2530\n",
            "Epoch 23/200\n",
            "12/12 - 0s - 9ms/step - accuracy: 0.9139 - loss: 0.2089 - val_accuracy: 0.9250 - val_loss: 0.2377\n",
            "Epoch 24/200\n",
            "12/12 - 0s - 9ms/step - accuracy: 0.9056 - loss: 0.1896 - val_accuracy: 0.9000 - val_loss: 0.2525\n",
            "Epoch 25/200\n",
            "12/12 - 0s - 9ms/step - accuracy: 0.9194 - loss: 0.1911 - val_accuracy: 0.9250 - val_loss: 0.2456\n",
            "Epoch 26/200\n",
            "12/12 - 0s - 12ms/step - accuracy: 0.9250 - loss: 0.1876 - val_accuracy: 0.9500 - val_loss: 0.2408\n",
            "Epoch 27/200\n",
            "12/12 - 0s - 11ms/step - accuracy: 0.9083 - loss: 0.1912 - val_accuracy: 0.9500 - val_loss: 0.2379\n",
            "Epoch 28/200\n",
            "12/12 - 0s - 9ms/step - accuracy: 0.9000 - loss: 0.1878 - val_accuracy: 0.9250 - val_loss: 0.2483\n",
            "Epoch 29/200\n",
            "12/12 - 0s - 12ms/step - accuracy: 0.8944 - loss: 0.2148 - val_accuracy: 0.9250 - val_loss: 0.2458\n",
            "Epoch 30/200\n",
            "12/12 - 0s - 9ms/step - accuracy: 0.9056 - loss: 0.1981 - val_accuracy: 0.9500 - val_loss: 0.2420\n",
            "Epoch 31/200\n",
            "12/12 - 0s - 9ms/step - accuracy: 0.9000 - loss: 0.1948 - val_accuracy: 0.9500 - val_loss: 0.2411\n",
            "Epoch 32/200\n",
            "12/12 - 0s - 11ms/step - accuracy: 0.9278 - loss: 0.1765 - val_accuracy: 0.9500 - val_loss: 0.2402\n",
            "Epoch 33/200\n",
            "12/12 - 0s - 15ms/step - accuracy: 0.9028 - loss: 0.1828 - val_accuracy: 0.9250 - val_loss: 0.2448\n",
            "Epoch 34/200\n",
            "12/12 - 0s - 9ms/step - accuracy: 0.9194 - loss: 0.1893 - val_accuracy: 0.9500 - val_loss: 0.2422\n",
            "Epoch 35/200\n",
            "12/12 - 0s - 12ms/step - accuracy: 0.9250 - loss: 0.1731 - val_accuracy: 0.9500 - val_loss: 0.2391\n",
            "Epoch 36/200\n",
            "12/12 - 0s - 12ms/step - accuracy: 0.9194 - loss: 0.1756 - val_accuracy: 0.9250 - val_loss: 0.2473\n",
            "Epoch 37/200\n",
            "12/12 - 0s - 10ms/step - accuracy: 0.9167 - loss: 0.1836 - val_accuracy: 0.9000 - val_loss: 0.2533\n",
            "Epoch 38/200\n",
            "12/12 - 0s - 9ms/step - accuracy: 0.9139 - loss: 0.1867 - val_accuracy: 0.9500 - val_loss: 0.2447\n",
            "Epoch 39/200\n",
            "12/12 - 0s - 12ms/step - accuracy: 0.9139 - loss: 0.1934 - val_accuracy: 0.9250 - val_loss: 0.2391\n",
            "Epoch 40/200\n",
            "12/12 - 0s - 11ms/step - accuracy: 0.9167 - loss: 0.1669 - val_accuracy: 0.9250 - val_loss: 0.2460\n",
            "Epoch 41/200\n",
            "12/12 - 0s - 10ms/step - accuracy: 0.9194 - loss: 0.1828 - val_accuracy: 0.9250 - val_loss: 0.2386\n",
            "Epoch 42/200\n",
            "12/12 - 0s - 10ms/step - accuracy: 0.9306 - loss: 0.1814 - val_accuracy: 0.9250 - val_loss: 0.2346\n",
            "Epoch 43/200\n",
            "12/12 - 0s - 12ms/step - accuracy: 0.9111 - loss: 0.1910 - val_accuracy: 0.9250 - val_loss: 0.2390\n",
            "Epoch 44/200\n",
            "12/12 - 0s - 9ms/step - accuracy: 0.9250 - loss: 0.1732 - val_accuracy: 0.9500 - val_loss: 0.2398\n",
            "Epoch 45/200\n",
            "12/12 - 0s - 11ms/step - accuracy: 0.9111 - loss: 0.1781 - val_accuracy: 0.9250 - val_loss: 0.2376\n",
            "Epoch 46/200\n",
            "12/12 - 0s - 11ms/step - accuracy: 0.9167 - loss: 0.1664 - val_accuracy: 0.9250 - val_loss: 0.2402\n",
            "Epoch 47/200\n",
            "12/12 - 0s - 13ms/step - accuracy: 0.9194 - loss: 0.1714 - val_accuracy: 0.9250 - val_loss: 0.2461\n",
            "Epoch 48/200\n",
            "12/12 - 0s - 9ms/step - accuracy: 0.9111 - loss: 0.1799 - val_accuracy: 0.9250 - val_loss: 0.2423\n",
            "Epoch 49/200\n",
            "12/12 - 0s - 10ms/step - accuracy: 0.9278 - loss: 0.1660 - val_accuracy: 0.9250 - val_loss: 0.2400\n",
            "Epoch 50/200\n",
            "12/12 - 0s - 15ms/step - accuracy: 0.9167 - loss: 0.1652 - val_accuracy: 0.9250 - val_loss: 0.2406\n",
            "Epoch 51/200\n",
            "12/12 - 0s - 16ms/step - accuracy: 0.9222 - loss: 0.1698 - val_accuracy: 0.9250 - val_loss: 0.2377\n",
            "Epoch 52/200\n",
            "12/12 - 0s - 17ms/step - accuracy: 0.9194 - loss: 0.1569 - val_accuracy: 0.9250 - val_loss: 0.2419\n",
            "Epoch 53/200\n",
            "12/12 - 0s - 16ms/step - accuracy: 0.9250 - loss: 0.1737 - val_accuracy: 0.9250 - val_loss: 0.2426\n",
            "Epoch 54/200\n",
            "12/12 - 0s - 16ms/step - accuracy: 0.9278 - loss: 0.1648 - val_accuracy: 0.9250 - val_loss: 0.2353\n",
            "Epoch 55/200\n",
            "12/12 - 0s - 16ms/step - accuracy: 0.9222 - loss: 0.1721 - val_accuracy: 0.9250 - val_loss: 0.2410\n",
            "Epoch 56/200\n",
            "12/12 - 0s - 17ms/step - accuracy: 0.9306 - loss: 0.1638 - val_accuracy: 0.9250 - val_loss: 0.2359\n",
            "Epoch 57/200\n",
            "12/12 - 0s - 14ms/step - accuracy: 0.9194 - loss: 0.1646 - val_accuracy: 0.9500 - val_loss: 0.2374\n",
            "Epoch 58/200\n",
            "12/12 - 0s - 26ms/step - accuracy: 0.9278 - loss: 0.1656 - val_accuracy: 0.9250 - val_loss: 0.2328\n",
            "Epoch 59/200\n",
            "12/12 - 0s - 16ms/step - accuracy: 0.9139 - loss: 0.1753 - val_accuracy: 0.9250 - val_loss: 0.2330\n",
            "Epoch 60/200\n",
            "12/12 - 0s - 19ms/step - accuracy: 0.9222 - loss: 0.1589 - val_accuracy: 0.9500 - val_loss: 0.2360\n",
            "Epoch 61/200\n",
            "12/12 - 0s - 9ms/step - accuracy: 0.9250 - loss: 0.1571 - val_accuracy: 0.9250 - val_loss: 0.2347\n",
            "Epoch 62/200\n",
            "12/12 - 0s - 13ms/step - accuracy: 0.9222 - loss: 0.1635 - val_accuracy: 0.9500 - val_loss: 0.2277\n",
            "Epoch 63/200\n",
            "12/12 - 0s - 9ms/step - accuracy: 0.9222 - loss: 0.1586 - val_accuracy: 0.9500 - val_loss: 0.2281\n",
            "Epoch 64/200\n",
            "12/12 - 0s - 15ms/step - accuracy: 0.9194 - loss: 0.1582 - val_accuracy: 0.9500 - val_loss: 0.2382\n",
            "Epoch 65/200\n",
            "12/12 - 0s - 9ms/step - accuracy: 0.9250 - loss: 0.1560 - val_accuracy: 0.9500 - val_loss: 0.2388\n",
            "Epoch 66/200\n",
            "12/12 - 0s - 12ms/step - accuracy: 0.9306 - loss: 0.1635 - val_accuracy: 0.9250 - val_loss: 0.2284\n",
            "Epoch 67/200\n",
            "12/12 - 0s - 10ms/step - accuracy: 0.9250 - loss: 0.1584 - val_accuracy: 0.9500 - val_loss: 0.2284\n",
            "Epoch 68/200\n",
            "12/12 - 0s - 14ms/step - accuracy: 0.9222 - loss: 0.1577 - val_accuracy: 0.9500 - val_loss: 0.2252\n",
            "Epoch 69/200\n",
            "12/12 - 0s - 9ms/step - accuracy: 0.9389 - loss: 0.1486 - val_accuracy: 0.9500 - val_loss: 0.2249\n",
            "Epoch 70/200\n",
            "12/12 - 0s - 9ms/step - accuracy: 0.9333 - loss: 0.1517 - val_accuracy: 0.9500 - val_loss: 0.2301\n",
            "Epoch 71/200\n",
            "12/12 - 0s - 12ms/step - accuracy: 0.9333 - loss: 0.1531 - val_accuracy: 0.9500 - val_loss: 0.2318\n",
            "Epoch 72/200\n",
            "12/12 - 0s - 11ms/step - accuracy: 0.9306 - loss: 0.1446 - val_accuracy: 0.9250 - val_loss: 0.2350\n",
            "Epoch 73/200\n",
            "12/12 - 0s - 13ms/step - accuracy: 0.9389 - loss: 0.1600 - val_accuracy: 0.9500 - val_loss: 0.2226\n",
            "Epoch 74/200\n",
            "12/12 - 0s - 10ms/step - accuracy: 0.9361 - loss: 0.1569 - val_accuracy: 0.9500 - val_loss: 0.2238\n",
            "Epoch 75/200\n",
            "12/12 - 0s - 9ms/step - accuracy: 0.9278 - loss: 0.1650 - val_accuracy: 0.9500 - val_loss: 0.2198\n",
            "Epoch 76/200\n",
            "12/12 - 0s - 9ms/step - accuracy: 0.9361 - loss: 0.1537 - val_accuracy: 0.9500 - val_loss: 0.2277\n",
            "Epoch 77/200\n",
            "12/12 - 0s - 11ms/step - accuracy: 0.9194 - loss: 0.1548 - val_accuracy: 0.9500 - val_loss: 0.2333\n",
            "Epoch 78/200\n",
            "12/12 - 0s - 9ms/step - accuracy: 0.9194 - loss: 0.1489 - val_accuracy: 0.9250 - val_loss: 0.2341\n",
            "Epoch 79/200\n",
            "12/12 - 0s - 9ms/step - accuracy: 0.9361 - loss: 0.1558 - val_accuracy: 0.9500 - val_loss: 0.2230\n",
            "Epoch 80/200\n",
            "12/12 - 0s - 9ms/step - accuracy: 0.9250 - loss: 0.1516 - val_accuracy: 0.9500 - val_loss: 0.2316\n",
            "Epoch 81/200\n",
            "12/12 - 0s - 9ms/step - accuracy: 0.9361 - loss: 0.1488 - val_accuracy: 0.9500 - val_loss: 0.2349\n",
            "Epoch 82/200\n",
            "12/12 - 0s - 10ms/step - accuracy: 0.9333 - loss: 0.1538 - val_accuracy: 0.9500 - val_loss: 0.2337\n",
            "Epoch 83/200\n",
            "12/12 - 0s - 11ms/step - accuracy: 0.9333 - loss: 0.1452 - val_accuracy: 0.9500 - val_loss: 0.2312\n",
            "Epoch 84/200\n",
            "12/12 - 0s - 9ms/step - accuracy: 0.9361 - loss: 0.1506 - val_accuracy: 0.9500 - val_loss: 0.2416\n",
            "Epoch 85/200\n",
            "12/12 - 0s - 12ms/step - accuracy: 0.9306 - loss: 0.1515 - val_accuracy: 0.9500 - val_loss: 0.2295\n",
            "Epoch 86/200\n",
            "12/12 - 0s - 9ms/step - accuracy: 0.9250 - loss: 0.1565 - val_accuracy: 0.9500 - val_loss: 0.2205\n",
            "Epoch 87/200\n",
            "12/12 - 0s - 11ms/step - accuracy: 0.9389 - loss: 0.1558 - val_accuracy: 0.9500 - val_loss: 0.2181\n",
            "Epoch 88/200\n",
            "12/12 - 0s - 10ms/step - accuracy: 0.9333 - loss: 0.1473 - val_accuracy: 0.9250 - val_loss: 0.2526\n",
            "Epoch 89/200\n",
            "12/12 - 0s - 9ms/step - accuracy: 0.9306 - loss: 0.1526 - val_accuracy: 0.9500 - val_loss: 0.2209\n",
            "Epoch 90/200\n",
            "12/12 - 0s - 12ms/step - accuracy: 0.9306 - loss: 0.1580 - val_accuracy: 0.9500 - val_loss: 0.2111\n",
            "Epoch 91/200\n",
            "12/12 - 0s - 12ms/step - accuracy: 0.9417 - loss: 0.1413 - val_accuracy: 0.9500 - val_loss: 0.2263\n",
            "Epoch 92/200\n",
            "12/12 - 0s - 10ms/step - accuracy: 0.9361 - loss: 0.1446 - val_accuracy: 0.9500 - val_loss: 0.2343\n",
            "Epoch 93/200\n",
            "12/12 - 0s - 12ms/step - accuracy: 0.9250 - loss: 0.1572 - val_accuracy: 0.9500 - val_loss: 0.2277\n",
            "Epoch 94/200\n",
            "12/12 - 0s - 13ms/step - accuracy: 0.9333 - loss: 0.1594 - val_accuracy: 0.9500 - val_loss: 0.2164\n",
            "Epoch 95/200\n",
            "12/12 - 0s - 9ms/step - accuracy: 0.9250 - loss: 0.1602 - val_accuracy: 0.9500 - val_loss: 0.2227\n",
            "Epoch 96/200\n",
            "12/12 - 0s - 13ms/step - accuracy: 0.9222 - loss: 0.1532 - val_accuracy: 0.9250 - val_loss: 0.2427\n",
            "Epoch 97/200\n",
            "12/12 - 0s - 22ms/step - accuracy: 0.9333 - loss: 0.1505 - val_accuracy: 0.9500 - val_loss: 0.2220\n",
            "Epoch 98/200\n",
            "12/12 - 0s - 9ms/step - accuracy: 0.9306 - loss: 0.1543 - val_accuracy: 0.9500 - val_loss: 0.2161\n",
            "Epoch 99/200\n",
            "12/12 - 0s - 12ms/step - accuracy: 0.9444 - loss: 0.1367 - val_accuracy: 0.9250 - val_loss: 0.2402\n",
            "Epoch 100/200\n",
            "12/12 - 0s - 12ms/step - accuracy: 0.9167 - loss: 0.1607 - val_accuracy: 0.9500 - val_loss: 0.2233\n",
            "Epoch 101/200\n",
            "12/12 - 0s - 11ms/step - accuracy: 0.9333 - loss: 0.1464 - val_accuracy: 0.9500 - val_loss: 0.2185\n",
            "Epoch 102/200\n",
            "12/12 - 0s - 12ms/step - accuracy: 0.9389 - loss: 0.1502 - val_accuracy: 0.9500 - val_loss: 0.2146\n",
            "Epoch 103/200\n",
            "12/12 - 0s - 10ms/step - accuracy: 0.9306 - loss: 0.1471 - val_accuracy: 0.9500 - val_loss: 0.2204\n",
            "Epoch 104/200\n",
            "12/12 - 0s - 12ms/step - accuracy: 0.9389 - loss: 0.1395 - val_accuracy: 0.9500 - val_loss: 0.2127\n",
            "Epoch 105/200\n",
            "12/12 - 0s - 10ms/step - accuracy: 0.9444 - loss: 0.1415 - val_accuracy: 0.9500 - val_loss: 0.2201\n",
            "Epoch 106/200\n",
            "12/12 - 0s - 9ms/step - accuracy: 0.9333 - loss: 0.1451 - val_accuracy: 0.9500 - val_loss: 0.2244\n",
            "Epoch 107/200\n",
            "12/12 - 0s - 12ms/step - accuracy: 0.9333 - loss: 0.1477 - val_accuracy: 0.9500 - val_loss: 0.2201\n",
            "Epoch 108/200\n",
            "12/12 - 0s - 11ms/step - accuracy: 0.9306 - loss: 0.1470 - val_accuracy: 0.9500 - val_loss: 0.2248\n",
            "Epoch 109/200\n",
            "12/12 - 0s - 12ms/step - accuracy: 0.9306 - loss: 0.1497 - val_accuracy: 0.9500 - val_loss: 0.2220\n",
            "Epoch 110/200\n",
            "12/12 - 0s - 9ms/step - accuracy: 0.9361 - loss: 0.1444 - val_accuracy: 0.9500 - val_loss: 0.2214\n",
            "Epoch 111/200\n",
            "12/12 - 0s - 13ms/step - accuracy: 0.9361 - loss: 0.1480 - val_accuracy: 0.9500 - val_loss: 0.2314\n",
            "Epoch 112/200\n",
            "12/12 - 0s - 10ms/step - accuracy: 0.9333 - loss: 0.1456 - val_accuracy: 0.9500 - val_loss: 0.2380\n",
            "Epoch 113/200\n",
            "12/12 - 0s - 11ms/step - accuracy: 0.9417 - loss: 0.1417 - val_accuracy: 0.9500 - val_loss: 0.2299\n",
            "Epoch 114/200\n",
            "12/12 - 0s - 12ms/step - accuracy: 0.9361 - loss: 0.1493 - val_accuracy: 0.9500 - val_loss: 0.2418\n",
            "Epoch 115/200\n",
            "12/12 - 0s - 12ms/step - accuracy: 0.9417 - loss: 0.1446 - val_accuracy: 0.9500 - val_loss: 0.2235\n",
            "Epoch 116/200\n",
            "12/12 - 0s - 11ms/step - accuracy: 0.9389 - loss: 0.1436 - val_accuracy: 0.9500 - val_loss: 0.2225\n",
            "Epoch 117/200\n",
            "12/12 - 0s - 9ms/step - accuracy: 0.9417 - loss: 0.1441 - val_accuracy: 0.9500 - val_loss: 0.2382\n",
            "Epoch 118/200\n",
            "12/12 - 0s - 12ms/step - accuracy: 0.9333 - loss: 0.1469 - val_accuracy: 0.9500 - val_loss: 0.2381\n",
            "Epoch 119/200\n",
            "12/12 - 0s - 15ms/step - accuracy: 0.9389 - loss: 0.1440 - val_accuracy: 0.9500 - val_loss: 0.2316\n",
            "Epoch 120/200\n",
            "12/12 - 0s - 9ms/step - accuracy: 0.9472 - loss: 0.1482 - val_accuracy: 0.9500 - val_loss: 0.2319\n",
            "Epoch 121/200\n",
            "12/12 - 0s - 9ms/step - accuracy: 0.9361 - loss: 0.1436 - val_accuracy: 0.9500 - val_loss: 0.2340\n",
            "Epoch 122/200\n",
            "12/12 - 0s - 9ms/step - accuracy: 0.9417 - loss: 0.1350 - val_accuracy: 0.9500 - val_loss: 0.2397\n",
            "Epoch 123/200\n",
            "12/12 - 0s - 9ms/step - accuracy: 0.9250 - loss: 0.1452 - val_accuracy: 0.9500 - val_loss: 0.2236\n",
            "Epoch 124/200\n",
            "12/12 - 0s - 11ms/step - accuracy: 0.9444 - loss: 0.1353 - val_accuracy: 0.9500 - val_loss: 0.2321\n",
            "Epoch 125/200\n",
            "12/12 - 0s - 12ms/step - accuracy: 0.9417 - loss: 0.1376 - val_accuracy: 0.9500 - val_loss: 0.2283\n",
            "Epoch 126/200\n",
            "12/12 - 0s - 15ms/step - accuracy: 0.9333 - loss: 0.1459 - val_accuracy: 0.9500 - val_loss: 0.2224\n",
            "Epoch 127/200\n",
            "12/12 - 0s - 21ms/step - accuracy: 0.9444 - loss: 0.1428 - val_accuracy: 0.9500 - val_loss: 0.2321\n",
            "Epoch 128/200\n",
            "12/12 - 0s - 9ms/step - accuracy: 0.9306 - loss: 0.1382 - val_accuracy: 0.9250 - val_loss: 0.2375\n",
            "Epoch 129/200\n",
            "12/12 - 0s - 10ms/step - accuracy: 0.9361 - loss: 0.1428 - val_accuracy: 0.9500 - val_loss: 0.2233\n",
            "Epoch 130/200\n",
            "12/12 - 0s - 10ms/step - accuracy: 0.9417 - loss: 0.1425 - val_accuracy: 0.9500 - val_loss: 0.2186\n",
            "Epoch 131/200\n",
            "12/12 - 0s - 9ms/step - accuracy: 0.9444 - loss: 0.1445 - val_accuracy: 0.9500 - val_loss: 0.2245\n",
            "Epoch 132/200\n",
            "12/12 - 0s - 9ms/step - accuracy: 0.9361 - loss: 0.1410 - val_accuracy: 0.9500 - val_loss: 0.2274\n",
            "Epoch 133/200\n",
            "12/12 - 0s - 18ms/step - accuracy: 0.9389 - loss: 0.1383 - val_accuracy: 0.9500 - val_loss: 0.2282\n",
            "Epoch 134/200\n",
            "12/12 - 0s - 16ms/step - accuracy: 0.9472 - loss: 0.1470 - val_accuracy: 0.9500 - val_loss: 0.2252\n",
            "Epoch 135/200\n",
            "12/12 - 0s - 24ms/step - accuracy: 0.9389 - loss: 0.1416 - val_accuracy: 0.9500 - val_loss: 0.2228\n",
            "Epoch 136/200\n",
            "12/12 - 0s - 22ms/step - accuracy: 0.9333 - loss: 0.1598 - val_accuracy: 0.9500 - val_loss: 0.2190\n",
            "Epoch 137/200\n",
            "12/12 - 0s - 28ms/step - accuracy: 0.9333 - loss: 0.1466 - val_accuracy: 0.9500 - val_loss: 0.2100\n",
            "Epoch 138/200\n",
            "12/12 - 0s - 24ms/step - accuracy: 0.9389 - loss: 0.1410 - val_accuracy: 0.9500 - val_loss: 0.2111\n",
            "Epoch 139/200\n",
            "12/12 - 0s - 23ms/step - accuracy: 0.9306 - loss: 0.1417 - val_accuracy: 0.9500 - val_loss: 0.2072\n",
            "Epoch 140/200\n",
            "12/12 - 0s - 13ms/step - accuracy: 0.9417 - loss: 0.1331 - val_accuracy: 0.9500 - val_loss: 0.2137\n",
            "Epoch 141/200\n",
            "12/12 - 0s - 13ms/step - accuracy: 0.9472 - loss: 0.1330 - val_accuracy: 0.9500 - val_loss: 0.2188\n",
            "Epoch 142/200\n",
            "12/12 - 0s - 21ms/step - accuracy: 0.9306 - loss: 0.1336 - val_accuracy: 0.9500 - val_loss: 0.2171\n",
            "Epoch 143/200\n",
            "12/12 - 0s - 12ms/step - accuracy: 0.9417 - loss: 0.1421 - val_accuracy: 0.9500 - val_loss: 0.2104\n",
            "Epoch 144/200\n",
            "12/12 - 0s - 15ms/step - accuracy: 0.9417 - loss: 0.1343 - val_accuracy: 0.9500 - val_loss: 0.2025\n",
            "Epoch 145/200\n",
            "12/12 - 0s - 9ms/step - accuracy: 0.9389 - loss: 0.1445 - val_accuracy: 0.9500 - val_loss: 0.2100\n",
            "Epoch 146/200\n",
            "12/12 - 0s - 15ms/step - accuracy: 0.9361 - loss: 0.1367 - val_accuracy: 0.9250 - val_loss: 0.2253\n",
            "Epoch 147/200\n",
            "12/12 - 0s - 9ms/step - accuracy: 0.9417 - loss: 0.1351 - val_accuracy: 0.9500 - val_loss: 0.2123\n",
            "Epoch 148/200\n",
            "12/12 - 0s - 14ms/step - accuracy: 0.9472 - loss: 0.1259 - val_accuracy: 0.9500 - val_loss: 0.2175\n",
            "Epoch 149/200\n",
            "12/12 - 0s - 9ms/step - accuracy: 0.9333 - loss: 0.1260 - val_accuracy: 0.9500 - val_loss: 0.2270\n",
            "Epoch 150/200\n",
            "12/12 - 0s - 12ms/step - accuracy: 0.9389 - loss: 0.1462 - val_accuracy: 0.9500 - val_loss: 0.2094\n",
            "Epoch 151/200\n",
            "12/12 - 0s - 9ms/step - accuracy: 0.9472 - loss: 0.1385 - val_accuracy: 0.9500 - val_loss: 0.2174\n",
            "Epoch 152/200\n",
            "12/12 - 0s - 9ms/step - accuracy: 0.9389 - loss: 0.1333 - val_accuracy: 0.9500 - val_loss: 0.2252\n",
            "Epoch 153/200\n",
            "12/12 - 0s - 9ms/step - accuracy: 0.9500 - loss: 0.1245 - val_accuracy: 0.9500 - val_loss: 0.2172\n",
            "Epoch 154/200\n",
            "12/12 - 0s - 11ms/step - accuracy: 0.9444 - loss: 0.1307 - val_accuracy: 0.9500 - val_loss: 0.2277\n",
            "Epoch 155/200\n",
            "12/12 - 0s - 11ms/step - accuracy: 0.9417 - loss: 0.1403 - val_accuracy: 0.9500 - val_loss: 0.2178\n",
            "Epoch 156/200\n",
            "12/12 - 0s - 12ms/step - accuracy: 0.9417 - loss: 0.1445 - val_accuracy: 0.9500 - val_loss: 0.2129\n",
            "Epoch 157/200\n",
            "12/12 - 0s - 22ms/step - accuracy: 0.9472 - loss: 0.1353 - val_accuracy: 0.9500 - val_loss: 0.2186\n",
            "Epoch 158/200\n",
            "12/12 - 0s - 11ms/step - accuracy: 0.9444 - loss: 0.1326 - val_accuracy: 0.9500 - val_loss: 0.2212\n",
            "Epoch 159/200\n",
            "12/12 - 0s - 12ms/step - accuracy: 0.9417 - loss: 0.1315 - val_accuracy: 0.9500 - val_loss: 0.2122\n",
            "Epoch 160/200\n",
            "12/12 - 0s - 12ms/step - accuracy: 0.9250 - loss: 0.1358 - val_accuracy: 0.9500 - val_loss: 0.2057\n",
            "Epoch 161/200\n",
            "12/12 - 0s - 9ms/step - accuracy: 0.9333 - loss: 0.1431 - val_accuracy: 0.9500 - val_loss: 0.2258\n",
            "Epoch 162/200\n",
            "12/12 - 0s - 9ms/step - accuracy: 0.9306 - loss: 0.1377 - val_accuracy: 0.9500 - val_loss: 0.2116\n",
            "Epoch 163/200\n",
            "12/12 - 0s - 12ms/step - accuracy: 0.9444 - loss: 0.1324 - val_accuracy: 0.9500 - val_loss: 0.2121\n",
            "Epoch 164/200\n",
            "12/12 - 0s - 9ms/step - accuracy: 0.9417 - loss: 0.1336 - val_accuracy: 0.9500 - val_loss: 0.2272\n",
            "Epoch 165/200\n",
            "12/12 - 0s - 9ms/step - accuracy: 0.9278 - loss: 0.1373 - val_accuracy: 0.9500 - val_loss: 0.2086\n",
            "Epoch 166/200\n",
            "12/12 - 0s - 9ms/step - accuracy: 0.9389 - loss: 0.1450 - val_accuracy: 0.9500 - val_loss: 0.2035\n",
            "Epoch 167/200\n",
            "12/12 - 0s - 12ms/step - accuracy: 0.9528 - loss: 0.1283 - val_accuracy: 0.9500 - val_loss: 0.2021\n",
            "Epoch 168/200\n",
            "12/12 - 0s - 12ms/step - accuracy: 0.9444 - loss: 0.1245 - val_accuracy: 0.9500 - val_loss: 0.2071\n",
            "Epoch 169/200\n",
            "12/12 - 0s - 11ms/step - accuracy: 0.9444 - loss: 0.1302 - val_accuracy: 0.9500 - val_loss: 0.2138\n",
            "Epoch 170/200\n",
            "12/12 - 0s - 12ms/step - accuracy: 0.9417 - loss: 0.1298 - val_accuracy: 0.9500 - val_loss: 0.2072\n",
            "Epoch 171/200\n",
            "12/12 - 0s - 10ms/step - accuracy: 0.9500 - loss: 0.1230 - val_accuracy: 0.9500 - val_loss: 0.2068\n",
            "Epoch 172/200\n",
            "12/12 - 0s - 9ms/step - accuracy: 0.9444 - loss: 0.1200 - val_accuracy: 0.9500 - val_loss: 0.2159\n",
            "Epoch 173/200\n",
            "12/12 - 0s - 9ms/step - accuracy: 0.9389 - loss: 0.1202 - val_accuracy: 0.9500 - val_loss: 0.2115\n",
            "Epoch 174/200\n",
            "12/12 - 0s - 9ms/step - accuracy: 0.9444 - loss: 0.1297 - val_accuracy: 0.9500 - val_loss: 0.2085\n",
            "Epoch 175/200\n",
            "12/12 - 0s - 12ms/step - accuracy: 0.9389 - loss: 0.1440 - val_accuracy: 0.9500 - val_loss: 0.2147\n",
            "Epoch 176/200\n",
            "12/12 - 0s - 9ms/step - accuracy: 0.9444 - loss: 0.1304 - val_accuracy: 0.9500 - val_loss: 0.2117\n",
            "Epoch 177/200\n",
            "12/12 - 0s - 11ms/step - accuracy: 0.9417 - loss: 0.1336 - val_accuracy: 0.9500 - val_loss: 0.2147\n",
            "Epoch 178/200\n",
            "12/12 - 0s - 12ms/step - accuracy: 0.9472 - loss: 0.1269 - val_accuracy: 0.9500 - val_loss: 0.2075\n",
            "Epoch 179/200\n",
            "12/12 - 0s - 11ms/step - accuracy: 0.9389 - loss: 0.1319 - val_accuracy: 0.9500 - val_loss: 0.2150\n",
            "Epoch 180/200\n",
            "12/12 - 0s - 12ms/step - accuracy: 0.9500 - loss: 0.1248 - val_accuracy: 0.9500 - val_loss: 0.2172\n",
            "Epoch 181/200\n",
            "12/12 - 0s - 11ms/step - accuracy: 0.9417 - loss: 0.1271 - val_accuracy: 0.9500 - val_loss: 0.2094\n",
            "Epoch 182/200\n",
            "12/12 - 0s - 15ms/step - accuracy: 0.9417 - loss: 0.1232 - val_accuracy: 0.9500 - val_loss: 0.2151\n",
            "Epoch 183/200\n",
            "12/12 - 0s - 10ms/step - accuracy: 0.9472 - loss: 0.1289 - val_accuracy: 0.9500 - val_loss: 0.2080\n",
            "Epoch 184/200\n",
            "12/12 - 0s - 9ms/step - accuracy: 0.9361 - loss: 0.1377 - val_accuracy: 0.9500 - val_loss: 0.2059\n",
            "Epoch 185/200\n",
            "12/12 - 0s - 13ms/step - accuracy: 0.9361 - loss: 0.1267 - val_accuracy: 0.9500 - val_loss: 0.2144\n",
            "Epoch 186/200\n",
            "12/12 - 0s - 10ms/step - accuracy: 0.9333 - loss: 0.1259 - val_accuracy: 0.9500 - val_loss: 0.2150\n",
            "Epoch 187/200\n",
            "12/12 - 0s - 10ms/step - accuracy: 0.9361 - loss: 0.1304 - val_accuracy: 0.9500 - val_loss: 0.2164\n",
            "Epoch 188/200\n",
            "12/12 - 0s - 12ms/step - accuracy: 0.9528 - loss: 0.1204 - val_accuracy: 0.9500 - val_loss: 0.2247\n",
            "Epoch 189/200\n",
            "12/12 - 0s - 11ms/step - accuracy: 0.9472 - loss: 0.1232 - val_accuracy: 0.9500 - val_loss: 0.2198\n",
            "Epoch 190/200\n",
            "12/12 - 0s - 12ms/step - accuracy: 0.9500 - loss: 0.1189 - val_accuracy: 0.9500 - val_loss: 0.2250\n",
            "Epoch 191/200\n",
            "12/12 - 0s - 11ms/step - accuracy: 0.9333 - loss: 0.1325 - val_accuracy: 0.9500 - val_loss: 0.2091\n",
            "Epoch 192/200\n",
            "12/12 - 0s - 15ms/step - accuracy: 0.9333 - loss: 0.1280 - val_accuracy: 0.9500 - val_loss: 0.2154\n",
            "Epoch 193/200\n",
            "12/12 - 0s - 10ms/step - accuracy: 0.9417 - loss: 0.1209 - val_accuracy: 0.9500 - val_loss: 0.2280\n",
            "Epoch 194/200\n",
            "12/12 - 0s - 10ms/step - accuracy: 0.9444 - loss: 0.1201 - val_accuracy: 0.9500 - val_loss: 0.2256\n",
            "Epoch 195/200\n",
            "12/12 - 0s - 9ms/step - accuracy: 0.9472 - loss: 0.1151 - val_accuracy: 0.9500 - val_loss: 0.2134\n",
            "Epoch 196/200\n",
            "12/12 - 0s - 9ms/step - accuracy: 0.9444 - loss: 0.1233 - val_accuracy: 0.9500 - val_loss: 0.2192\n",
            "Epoch 197/200\n",
            "12/12 - 0s - 10ms/step - accuracy: 0.9389 - loss: 0.1299 - val_accuracy: 0.9500 - val_loss: 0.2275\n",
            "Epoch 198/200\n",
            "12/12 - 0s - 12ms/step - accuracy: 0.9472 - loss: 0.1255 - val_accuracy: 0.9500 - val_loss: 0.2332\n",
            "Epoch 199/200\n",
            "12/12 - 0s - 11ms/step - accuracy: 0.9444 - loss: 0.1227 - val_accuracy: 0.9500 - val_loss: 0.2282\n",
            "Epoch 200/200\n",
            "12/12 - 0s - 9ms/step - accuracy: 0.9417 - loss: 0.1231 - val_accuracy: 0.9500 - val_loss: 0.2097\n"
          ]
        }
      ],
      "source": [
        "history_3 = model_3.fit(X_train_normalized,\n",
        "                    y_train,\n",
        "                    validation_split=0.1,\n",
        "                    epochs=200,\n",
        "                    verbose=2)"
      ]
    },
    {
      "cell_type": "code",
      "execution_count": null,
      "metadata": {
        "colab": {
          "base_uri": "https://localhost:8080/",
          "height": 472
        },
        "id": "zBvMtn6VzFDJ",
        "outputId": "4195fdfe-b766-40ab-eaf4-c8660fe2c74b"
      },
      "outputs": [
        {
          "output_type": "display_data",
          "data": {
            "text/plain": [
              "<Figure size 640x480 with 1 Axes>"
            ],
            "image/png": "[encoded data removed]"
          },
          "metadata": {}
        }
      ],
      "source": [
        "plt.plot(history_3.history['accuracy'])\n",
        "plt.plot(history_3.history['val_accuracy'])\n",
        "plt.title('Accuracy vs Epochs')\n",
        "plt.ylabel('Accuracy')\n",
        "plt.xlabel('Epoch')\n",
        "plt.legend(['Train', 'Validation'], loc='lower right')\n",
        "plt.show()"
      ]
    },
    {
      "cell_type": "markdown",
      "metadata": {
        "id": "-xfRck7yrbX5"
      },
      "source": [
        "**Observations:**\n",
        "\n",
        "- This model is giving a generalized performance with 94% accuracy on the train data.\n",
        "- One reason for the algorithm not being able to reach higher than 95% even for training data might be due to the optimizer being stuck at some local minima.\n",
        "- One way to resolve that is to further tune the model with some other hyper-parameters.\n",
        "- Among all three models, model 3 has given the best performance. Let's check its performance on the test data."
      ]
    },
    {
      "cell_type": "markdown",
      "metadata": {
        "id": "iSpvgJ_ZPP0f"
      },
      "source": [
        "### **Model evaluation on the test data**"
      ]
    },
    {
      "cell_type": "code",
      "execution_count": null,
      "metadata": {
        "colab": {
          "base_uri": "https://localhost:8080/"
        },
        "id": "VNs-4a67SXNT",
        "outputId": "fe28af60-dfc5-4c31-8b94-283255779eeb"
      },
      "outputs": [
        {
          "output_type": "stream",
          "name": "stdout",
          "text": [
            "\u001b[1m4/4\u001b[0m \u001b[32m━━━━━━━━━━━━━━━━━━━━\u001b[0m\u001b[37m\u001b[0m \u001b[1m0s\u001b[0m 10ms/step - accuracy: 0.9630 - loss: 0.1149\n",
            "\u001b[1m4/4\u001b[0m \u001b[32m━━━━━━━━━━━━━━━━━━━━\u001b[0m\u001b[37m\u001b[0m \u001b[1m0s\u001b[0m 24ms/step\n"
          ]
        }
      ],
      "source": [
        "model_3.evaluate(X_test_normalized, y_test, verbose = 1)\n",
        "test_pred = np.round(model_3.predict(X_test_normalized))"
      ]
    },
    {
      "cell_type": "markdown",
      "metadata": {
        "id": "RldGhjVdxHCx"
      },
      "source": [
        "The test accuracy is coming out to be 96% which implies that our model is able to replicate the performance from the train and validation data on the test (unseen) data."
      ]
    },
    {
      "cell_type": "code",
      "execution_count": null,
      "metadata": {
        "colab": {
          "base_uri": "https://localhost:8080/",
          "height": 626
        },
        "id": "y5fWdjHHPTZh",
        "outputId": "19884bc0-fff6-4c8e-b614-850d539a2aa0"
      },
      "outputs": [
        {
          "output_type": "stream",
          "name": "stdout",
          "text": [
            "              precision    recall  f1-score   support\n",
            "\n",
            "           0       1.00      0.96      0.98        73\n",
            "           1       0.90      1.00      0.95        27\n",
            "\n",
            "    accuracy                           0.97       100\n",
            "   macro avg       0.95      0.98      0.96       100\n",
            "weighted avg       0.97      0.97      0.97       100\n",
            "\n"
          ]
        },
        {
          "output_type": "display_data",
          "data": {
            "text/plain": [
              "<Figure size 800x500 with 2 Axes>"
            ],
            "image/png": "[encoded data removed]"
          },
          "metadata": {}
        }
      ],
      "source": [
        "from sklearn.metrics import classification_report\n",
        "from sklearn.metrics import confusion_matrix\n",
        "\n",
        "print(classification_report(y_test, test_pred))\n",
        "cm = confusion_matrix(y_test, test_pred)\n",
        "plt.figure(figsize=(8,5))\n",
        "sns.heatmap(cm, annot=True,  fmt='.0f',xticklabels=['Not Admitted', 'Admitted'], yticklabels=['Not Admitted', 'Admitted'])\n",
        "plt.ylabel('Actual')\n",
        "plt.xlabel('Predicted')\n",
        "plt.show()"
      ]
    },
    {
      "cell_type": "markdown",
      "metadata": {
        "id": "uk_tuE7LxGC3"
      },
      "source": [
        "**Observations:**\n",
        "\n",
        "- The confusion matrix shows that the model can identify the majority of students who would get admission and who won't get admission to UCLA.\n",
        "- The classification report shows that all the metrics except recall for class 1 are above 90%, which is good."
      ]
    },
    {
      "cell_type": "markdown",
      "metadata": {
        "id": "1bVzop-DYYmv"
      },
      "source": [
        "## **Conclusion:**"
      ]
    },
    {
      "cell_type": "markdown",
      "metadata": {
        "id": "PiMgKE2xYbCW"
      },
      "source": [
        "In this case study,\n",
        "- We have learned how to build a feed-forward neural network for a classification task using Keras.\n",
        "- We have seen different hyper-parameters and how they affect the network.\n",
        "- We also learned about the accuracy vs. epoch curve and how it aids in understanding how the model learns weights.\n",
        "- We were able to get the test accuracy of 96% using the final model.\n",
        "- Interested learners can further analyze the misclassified points and see if there is a pattern or if they were outliers that our model could not identify.\n",
        "- We would highly recommend you to play around with the other hyper-parameters and see for yourself how it affects your model."
      ]
    }
  ],
  "metadata": {
    "colab": {
      "provenance": []
    },
    "kernelspec": {
      "display_name": "Python 3",
      "name": "python3"
    },
    "language_info": {
      "codemirror_mode": {
        "name": "ipython",
        "version": 3
      },
      "file_extension": ".py",
      "mimetype": "text/x-python",
      "name": "python",
      "nbconvert_exporter": "python",
      "pygments_lexer": "ipython3",
      "version": "3.8.3"
    }
  },
  "nbformat": 4,
  "nbformat_minor": 0
}